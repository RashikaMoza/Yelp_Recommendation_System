{
 "cells": [
  {
   "cell_type": "markdown",
   "metadata": {
    "colab_type": "text",
    "id": "9WJ9iQ5e2QKh"
   },
   "source": [
    "**DATA CLEANING AND DATA ANALYSIS NOTEBOOK**\n",
    "\n",
    "**ABSTRACT**\n",
    "\n",
    "Following information for Yelp is analyzed in this jupyter notebook:\n",
    "\n",
    "1) Business: Contains business data like location and categories\n",
    "\n",
    "2) Reviews: Contains review text data like the user_id that wrote the review and the business_id the review is written for\n",
    "\n",
    "3) User: Contains user data including the user's friend mapping\n",
    "\n",
    "4) Tips: Contains tips written by a user on a business\n",
    "\n",
    "use-cases from these datasets are also visualized in this notebook **using seaborn and matplotlib**\n"
   ]
  },
  {
   "cell_type": "code",
   "execution_count": 0,
   "metadata": {
    "colab": {},
    "colab_type": "code",
    "id": "nlAW5emGZ0JS"
   },
   "outputs": [],
   "source": [
    "#imports \n",
    "from pydrive.auth import GoogleAuth\n",
    "from pydrive.drive import GoogleDrive\n",
    "from google.colab import auth\n",
    "from oauth2client.client import  GoogleCredentials"
   ]
  },
  {
   "cell_type": "code",
   "execution_count": 0,
   "metadata": {
    "colab": {},
    "colab_type": "code",
    "id": "gnDVK2FCd9fZ"
   },
   "outputs": [],
   "source": [
    "auth.authenticate_user()\n",
    "gauth = GoogleAuth()\n",
    "gauth.credentials = GoogleCredentials.get_application_default()\n",
    "drive = GoogleDrive(gauth)"
   ]
  },
  {
   "cell_type": "code",
   "execution_count": 0,
   "metadata": {
    "colab": {},
    "colab_type": "code",
    "id": "qNvVhJJFd_5J"
   },
   "outputs": [],
   "source": [
    "file_id = '1q8cR7hj3xuZaVdKJUD2LOE-r5VI6YBk8'\n",
    "downloaded = drive.CreateFile({'id':file_id})\n",
    "#print('Downloaded content\"{}\"'.format(downloaded.GetContentString()))\n",
    "downloaded.GetContentFile('YelpDataset.zip')\n"
   ]
  },
  {
   "cell_type": "code",
   "execution_count": 0,
   "metadata": {
    "colab": {
     "base_uri": "https://localhost:8080/",
     "height": 34
    },
    "colab_type": "code",
    "executionInfo": {
     "elapsed": 3788,
     "status": "ok",
     "timestamp": 1574706387028,
     "user": {
      "displayName": "Abhi Patodi",
      "photoUrl": "",
      "userId": "08749657629535720878"
     },
     "user_tz": 300
    },
    "id": "eheyLy1leiZB",
    "outputId": "33717822-a14f-47ae-b83b-260c11eb52f1"
   },
   "outputs": [
    {
     "name": "stdout",
     "output_type": "stream",
     "text": [
      "adc.json  \u001b[0m\u001b[01;34msample_data\u001b[0m/  YelpDataset.zip\n"
     ]
    }
   ],
   "source": [
    "ls"
   ]
  },
  {
   "cell_type": "code",
   "execution_count": 0,
   "metadata": {
    "colab": {
     "base_uri": "https://localhost:8080/",
     "height": 68
    },
    "colab_type": "code",
    "executionInfo": {
     "elapsed": 6212,
     "status": "ok",
     "timestamp": 1574706397393,
     "user": {
      "displayName": "Abhi Patodi",
      "photoUrl": "",
      "userId": "08749657629535720878"
     },
     "user_tz": 300
    },
    "id": "V_Uwp3D7fV3A",
    "outputId": "64262fd2-22f0-44da-9289-a00757f04eb4"
   },
   "outputs": [
    {
     "name": "stdout",
     "output_type": "stream",
     "text": [
      "extracting zip file\n",
      "CPU times: user 4.07 s, sys: 578 ms, total: 4.65 s\n",
      "Wall time: 4.81 s\n"
     ]
    }
   ],
   "source": [
    "%%time\n",
    "import zipfile\n",
    "with zipfile.ZipFile(\"YelpDataset.zip\",\"r\") as zip_ref:\n",
    "  print('extracting zip file')\n",
    "  zip_ref.extractall(\"targetdir\")"
   ]
  },
  {
   "cell_type": "code",
   "execution_count": 0,
   "metadata": {
    "colab": {
     "base_uri": "https://localhost:8080/",
     "height": 34
    },
    "colab_type": "code",
    "executionInfo": {
     "elapsed": 5541,
     "status": "ok",
     "timestamp": 1574706419274,
     "user": {
      "displayName": "Abhi Patodi",
      "photoUrl": "",
      "userId": "08749657629535720878"
     },
     "user_tz": 300
    },
    "id": "ppdnS1JQh8Io",
    "outputId": "23cf2b82-ae9c-4b27-a561-8118139e3051"
   },
   "outputs": [
    {
     "name": "stdout",
     "output_type": "stream",
     "text": [
      "adc.json  \u001b[0m\u001b[01;34msample_data\u001b[0m/  \u001b[01;34mtargetdir\u001b[0m/  YelpDataset.zip\n"
     ]
    }
   ],
   "source": [
    "ls\n"
   ]
  },
  {
   "cell_type": "code",
   "execution_count": 0,
   "metadata": {
    "colab": {
     "base_uri": "https://localhost:8080/",
     "height": 34
    },
    "colab_type": "code",
    "executionInfo": {
     "elapsed": 985,
     "status": "ok",
     "timestamp": 1574706421718,
     "user": {
      "displayName": "Abhi Patodi",
      "photoUrl": "",
      "userId": "08749657629535720878"
     },
     "user_tz": 300
    },
    "id": "sbTy6L7-iE8A",
    "outputId": "da2a3073-f80d-48ab-a0d0-44faa70f0fe9"
   },
   "outputs": [
    {
     "name": "stdout",
     "output_type": "stream",
     "text": [
      "/content/targetdir\n"
     ]
    }
   ],
   "source": [
    "cd targetdir/"
   ]
  },
  {
   "cell_type": "code",
   "execution_count": 0,
   "metadata": {
    "colab": {
     "base_uri": "https://localhost:8080/",
     "height": 34
    },
    "colab_type": "code",
    "executionInfo": {
     "elapsed": 4285,
     "status": "ok",
     "timestamp": 1574706428187,
     "user": {
      "displayName": "Abhi Patodi",
      "photoUrl": "",
      "userId": "08749657629535720878"
     },
     "user_tz": 300
    },
    "id": "0IHWJ00ViGpw",
    "outputId": "db507db6-544f-4fb8-df6e-f9b2a3bf152d"
   },
   "outputs": [
    {
     "name": "stdout",
     "output_type": "stream",
     "text": [
      "\u001b[0m\u001b[01;34m__MACOSX\u001b[0m/  \u001b[01;34mYelpDataset\u001b[0m/\n"
     ]
    }
   ],
   "source": [
    "ls"
   ]
  },
  {
   "cell_type": "code",
   "execution_count": 0,
   "metadata": {
    "colab": {
     "base_uri": "https://localhost:8080/",
     "height": 34
    },
    "colab_type": "code",
    "executionInfo": {
     "elapsed": 1025,
     "status": "ok",
     "timestamp": 1574706428430,
     "user": {
      "displayName": "Abhi Patodi",
      "photoUrl": "",
      "userId": "08749657629535720878"
     },
     "user_tz": 300
    },
    "id": "Q6h1z0G2iHgQ",
    "outputId": "66bb5b62-2658-4dd1-9a81-69af9b1acd0b"
   },
   "outputs": [
    {
     "name": "stdout",
     "output_type": "stream",
     "text": [
      "/content/targetdir/YelpDataset\n"
     ]
    }
   ],
   "source": [
    "cd YelpDataset/"
   ]
  },
  {
   "cell_type": "code",
   "execution_count": 0,
   "metadata": {
    "colab": {
     "base_uri": "https://localhost:8080/",
     "height": 34
    },
    "colab_type": "code",
    "executionInfo": {
     "elapsed": 4952,
     "status": "ok",
     "timestamp": 1574706435862,
     "user": {
      "displayName": "Abhi Patodi",
      "photoUrl": "",
      "userId": "08749657629535720878"
     },
     "user_tz": 300
    },
    "id": "k9FQOovhiKCX",
    "outputId": "1e892ca8-0f01-492f-ddc7-5935ed334b0f"
   },
   "outputs": [
    {
     "name": "stdout",
     "output_type": "stream",
     "text": [
      "business.json  checkin.json  tip.json  user.json  user_reviews.json\n"
     ]
    }
   ],
   "source": [
    "ls\n"
   ]
  },
  {
   "cell_type": "code",
   "execution_count": 0,
   "metadata": {
    "colab": {},
    "colab_type": "code",
    "id": "_35tfpf0lrNA"
   },
   "outputs": [],
   "source": [
    "# Basic imports\n",
    "import pandas as pd\n",
    "import os, sys\n",
    "import math\n",
    "import itertools\n",
    "import datetime\n",
    "import time\n",
    "import gc\n",
    "import numpy as np\n",
    "from math import sqrt\n",
    "import string\n",
    "import warnings\n",
    "warnings.filterwarnings('ignore')\n",
    "\n",
    "#imports for visualisations\n",
    "import matplotlib.pyplot as plt\n",
    "import seaborn as sns\n",
    "import networkx as nx"
   ]
  },
  {
   "cell_type": "code",
   "execution_count": 0,
   "metadata": {
    "colab": {},
    "colab_type": "code",
    "id": "6ZPG3Pt8mh8I"
   },
   "outputs": [],
   "source": [
    "#reading data from all json files \n",
    "user_ds=pd.read_json('user.json')\n",
    "business_ds=pd.read_json('business.json')\n",
    "checkin_ds=pd.read_json('checkin.json')\n",
    "tip_ds=pd.read_json('tip.json')\n",
    "review_ds=pd.read_json('user_reviews.json')"
   ]
  },
  {
   "cell_type": "code",
   "execution_count": 0,
   "metadata": {
    "colab": {
     "base_uri": "https://localhost:8080/",
     "height": 549
    },
    "colab_type": "code",
    "executionInfo": {
     "elapsed": 1243,
     "status": "ok",
     "timestamp": 1574707078266,
     "user": {
      "displayName": "Abhi Patodi",
      "photoUrl": "",
      "userId": "08749657629535720878"
     },
     "user_tz": 300
    },
    "id": "ynCFXlBO2eQY",
    "outputId": "1e717bf8-bd51-4a8b-ca66-48f0e7899c42"
   },
   "outputs": [
    {
     "data": {
      "text/html": [
       "<div>\n",
       "<style scoped>\n",
       "    .dataframe tbody tr th:only-of-type {\n",
       "        vertical-align: middle;\n",
       "    }\n",
       "\n",
       "    .dataframe tbody tr th {\n",
       "        vertical-align: top;\n",
       "    }\n",
       "\n",
       "    .dataframe thead th {\n",
       "        text-align: right;\n",
       "    }\n",
       "</style>\n",
       "<table border=\"1\" class=\"dataframe\">\n",
       "  <thead>\n",
       "    <tr style=\"text-align: right;\">\n",
       "      <th></th>\n",
       "      <th>user_id</th>\n",
       "      <th>name</th>\n",
       "      <th>review_count</th>\n",
       "      <th>yelping_since</th>\n",
       "      <th>useful</th>\n",
       "      <th>funny</th>\n",
       "      <th>cool</th>\n",
       "      <th>elite</th>\n",
       "      <th>friends</th>\n",
       "      <th>fans</th>\n",
       "      <th>average_stars</th>\n",
       "      <th>compliment_hot</th>\n",
       "      <th>compliment_more</th>\n",
       "      <th>compliment_profile</th>\n",
       "      <th>compliment_cute</th>\n",
       "      <th>compliment_list</th>\n",
       "      <th>compliment_note</th>\n",
       "      <th>compliment_plain</th>\n",
       "      <th>compliment_cool</th>\n",
       "      <th>compliment_funny</th>\n",
       "      <th>compliment_writer</th>\n",
       "      <th>compliment_photos</th>\n",
       "    </tr>\n",
       "  </thead>\n",
       "  <tbody>\n",
       "    <tr>\n",
       "      <th>0</th>\n",
       "      <td>l6BmjZMeQD3rDxWUbiAiow</td>\n",
       "      <td>Rashmi</td>\n",
       "      <td>95</td>\n",
       "      <td>2013-10-08 23:11:33</td>\n",
       "      <td>84</td>\n",
       "      <td>17</td>\n",
       "      <td>25</td>\n",
       "      <td>2015,2016,2017</td>\n",
       "      <td>c78V-rj8NQcQjOI8KP3UEA, alRMgPcngYSCJ5naFRBz5g...</td>\n",
       "      <td>5</td>\n",
       "      <td>4.03</td>\n",
       "      <td>2</td>\n",
       "      <td>0</td>\n",
       "      <td>0</td>\n",
       "      <td>0</td>\n",
       "      <td>0</td>\n",
       "      <td>1</td>\n",
       "      <td>1</td>\n",
       "      <td>1</td>\n",
       "      <td>1</td>\n",
       "      <td>2</td>\n",
       "      <td>0</td>\n",
       "    </tr>\n",
       "    <tr>\n",
       "      <th>1</th>\n",
       "      <td>4XChL029mKr5hydo79Ljxg</td>\n",
       "      <td>Jenna</td>\n",
       "      <td>33</td>\n",
       "      <td>2013-02-21 22:29:06</td>\n",
       "      <td>48</td>\n",
       "      <td>22</td>\n",
       "      <td>16</td>\n",
       "      <td></td>\n",
       "      <td>kEBTgDvFX754S68FllfCaA, aB2DynOxNOJK9st2ZeGTPg...</td>\n",
       "      <td>4</td>\n",
       "      <td>3.63</td>\n",
       "      <td>1</td>\n",
       "      <td>0</td>\n",
       "      <td>0</td>\n",
       "      <td>0</td>\n",
       "      <td>0</td>\n",
       "      <td>0</td>\n",
       "      <td>0</td>\n",
       "      <td>1</td>\n",
       "      <td>1</td>\n",
       "      <td>0</td>\n",
       "      <td>0</td>\n",
       "    </tr>\n",
       "    <tr>\n",
       "      <th>2</th>\n",
       "      <td>bc8C_eETBWL0olvFSJJd0w</td>\n",
       "      <td>David</td>\n",
       "      <td>16</td>\n",
       "      <td>2013-10-04 00:16:10</td>\n",
       "      <td>28</td>\n",
       "      <td>8</td>\n",
       "      <td>10</td>\n",
       "      <td></td>\n",
       "      <td>4N-HU_T32hLENLntsNKNBg, pSY2vwWLgWfGVAAiKQzMng...</td>\n",
       "      <td>0</td>\n",
       "      <td>3.71</td>\n",
       "      <td>0</td>\n",
       "      <td>0</td>\n",
       "      <td>0</td>\n",
       "      <td>0</td>\n",
       "      <td>0</td>\n",
       "      <td>1</td>\n",
       "      <td>0</td>\n",
       "      <td>0</td>\n",
       "      <td>0</td>\n",
       "      <td>0</td>\n",
       "      <td>0</td>\n",
       "    </tr>\n",
       "    <tr>\n",
       "      <th>3</th>\n",
       "      <td>dD0gZpBctWGdWo9WlGuhlA</td>\n",
       "      <td>Angela</td>\n",
       "      <td>17</td>\n",
       "      <td>2014-05-22 15:57:30</td>\n",
       "      <td>30</td>\n",
       "      <td>4</td>\n",
       "      <td>14</td>\n",
       "      <td></td>\n",
       "      <td>RZ6wS38wnlXyj-OOdTzBxA, l5jxZh1KsgI8rMunm-GN6A...</td>\n",
       "      <td>5</td>\n",
       "      <td>4.85</td>\n",
       "      <td>1</td>\n",
       "      <td>0</td>\n",
       "      <td>0</td>\n",
       "      <td>0</td>\n",
       "      <td>0</td>\n",
       "      <td>0</td>\n",
       "      <td>2</td>\n",
       "      <td>0</td>\n",
       "      <td>0</td>\n",
       "      <td>1</td>\n",
       "      <td>0</td>\n",
       "    </tr>\n",
       "    <tr>\n",
       "      <th>4</th>\n",
       "      <td>MM4RJAeH6yuaN8oZDSt0RA</td>\n",
       "      <td>Nancy</td>\n",
       "      <td>361</td>\n",
       "      <td>2013-10-23 07:02:50</td>\n",
       "      <td>1114</td>\n",
       "      <td>279</td>\n",
       "      <td>665</td>\n",
       "      <td>2015,2016,2017,2018</td>\n",
       "      <td>mbwrZ-RS76V1HoJ0bF_Geg, g64lOV39xSLRZO0aQQ6DeQ...</td>\n",
       "      <td>39</td>\n",
       "      <td>4.08</td>\n",
       "      <td>28</td>\n",
       "      <td>1</td>\n",
       "      <td>0</td>\n",
       "      <td>0</td>\n",
       "      <td>1</td>\n",
       "      <td>16</td>\n",
       "      <td>57</td>\n",
       "      <td>80</td>\n",
       "      <td>80</td>\n",
       "      <td>25</td>\n",
       "      <td>5</td>\n",
       "    </tr>\n",
       "    <tr>\n",
       "      <th>5</th>\n",
       "      <td>0rK89TS8xqy1wI4nYI1wfw</td>\n",
       "      <td>Marilyn</td>\n",
       "      <td>214</td>\n",
       "      <td>2011-06-23 08:05:13</td>\n",
       "      <td>3475</td>\n",
       "      <td>2424</td>\n",
       "      <td>3048</td>\n",
       "      <td>2015,2016,2017,2018</td>\n",
       "      <td>AJxDPGVTzefy3vSHWJchvQ, TgveR4qIsr0Q7b4MJK29TA...</td>\n",
       "      <td>186</td>\n",
       "      <td>4.20</td>\n",
       "      <td>350</td>\n",
       "      <td>46</td>\n",
       "      <td>50</td>\n",
       "      <td>44</td>\n",
       "      <td>3</td>\n",
       "      <td>221</td>\n",
       "      <td>404</td>\n",
       "      <td>483</td>\n",
       "      <td>483</td>\n",
       "      <td>149</td>\n",
       "      <td>195</td>\n",
       "    </tr>\n",
       "    <tr>\n",
       "      <th>6</th>\n",
       "      <td>TEtzbpgA2BFBrC0y0sCbfw</td>\n",
       "      <td>Keane</td>\n",
       "      <td>1122</td>\n",
       "      <td>2006-02-15 18:29:35</td>\n",
       "      <td>13311</td>\n",
       "      <td>19356</td>\n",
       "      <td>15319</td>\n",
       "      <td>2006,2007,2008,2009,2010,2011,2012,2013</td>\n",
       "      <td>RJQTcJVlBsJ3_Yo0JSFQQg, GWt_h78k1CBBkE1NpThGfQ...</td>\n",
       "      <td>696</td>\n",
       "      <td>4.39</td>\n",
       "      <td>5233</td>\n",
       "      <td>314</td>\n",
       "      <td>333</td>\n",
       "      <td>889</td>\n",
       "      <td>152</td>\n",
       "      <td>1600</td>\n",
       "      <td>3635</td>\n",
       "      <td>4991</td>\n",
       "      <td>4991</td>\n",
       "      <td>1086</td>\n",
       "      <td>428</td>\n",
       "    </tr>\n",
       "    <tr>\n",
       "      <th>7</th>\n",
       "      <td>KGuqerdeNhxzXZEyBaqqSw</td>\n",
       "      <td>Andre</td>\n",
       "      <td>6</td>\n",
       "      <td>2014-06-07 01:50:09</td>\n",
       "      <td>1</td>\n",
       "      <td>0</td>\n",
       "      <td>1</td>\n",
       "      <td></td>\n",
       "      <td>d1z7Xc9RG5TVBkdUPhSbAw, IgsbGFEN8NWshPNOBiNGmg...</td>\n",
       "      <td>0</td>\n",
       "      <td>4.33</td>\n",
       "      <td>0</td>\n",
       "      <td>0</td>\n",
       "      <td>0</td>\n",
       "      <td>0</td>\n",
       "      <td>0</td>\n",
       "      <td>0</td>\n",
       "      <td>0</td>\n",
       "      <td>0</td>\n",
       "      <td>0</td>\n",
       "      <td>0</td>\n",
       "      <td>0</td>\n",
       "    </tr>\n",
       "    <tr>\n",
       "      <th>8</th>\n",
       "      <td>T0gWkTHWRChVUe_Dn1F8nw</td>\n",
       "      <td>Tanya</td>\n",
       "      <td>859</td>\n",
       "      <td>2005-07-20 22:38:17</td>\n",
       "      <td>1630</td>\n",
       "      <td>693</td>\n",
       "      <td>1244</td>\n",
       "      <td>2006,2007,2008,2009,2010,2011,2012</td>\n",
       "      <td>ctr_BlCf3Ogny-vLs8E9tQ, c6HT44PKCaXqzN_BdgKPCw...</td>\n",
       "      <td>57</td>\n",
       "      <td>4.21</td>\n",
       "      <td>60</td>\n",
       "      <td>16</td>\n",
       "      <td>7</td>\n",
       "      <td>7</td>\n",
       "      <td>3</td>\n",
       "      <td>31</td>\n",
       "      <td>72</td>\n",
       "      <td>95</td>\n",
       "      <td>95</td>\n",
       "      <td>34</td>\n",
       "      <td>2</td>\n",
       "    </tr>\n",
       "    <tr>\n",
       "      <th>9</th>\n",
       "      <td>NQffx45eJaeqhFcMadKUQA</td>\n",
       "      <td>Trace</td>\n",
       "      <td>124</td>\n",
       "      <td>2008-12-10 22:59:45</td>\n",
       "      <td>202</td>\n",
       "      <td>70</td>\n",
       "      <td>185</td>\n",
       "      <td></td>\n",
       "      <td>N-xeG3U6rUkjVtQ0o-5YZA, wnO99pBbGqwqOoTQM25iCw...</td>\n",
       "      <td>15</td>\n",
       "      <td>4.53</td>\n",
       "      <td>13</td>\n",
       "      <td>3</td>\n",
       "      <td>0</td>\n",
       "      <td>2</td>\n",
       "      <td>0</td>\n",
       "      <td>12</td>\n",
       "      <td>8</td>\n",
       "      <td>14</td>\n",
       "      <td>14</td>\n",
       "      <td>3</td>\n",
       "      <td>5</td>\n",
       "    </tr>\n",
       "  </tbody>\n",
       "</table>\n",
       "</div>"
      ],
      "text/plain": [
       "                  user_id     name  ...  compliment_writer compliment_photos\n",
       "0  l6BmjZMeQD3rDxWUbiAiow   Rashmi  ...                  2                 0\n",
       "1  4XChL029mKr5hydo79Ljxg    Jenna  ...                  0                 0\n",
       "2  bc8C_eETBWL0olvFSJJd0w    David  ...                  0                 0\n",
       "3  dD0gZpBctWGdWo9WlGuhlA   Angela  ...                  1                 0\n",
       "4  MM4RJAeH6yuaN8oZDSt0RA    Nancy  ...                 25                 5\n",
       "5  0rK89TS8xqy1wI4nYI1wfw  Marilyn  ...                149               195\n",
       "6  TEtzbpgA2BFBrC0y0sCbfw    Keane  ...               1086               428\n",
       "7  KGuqerdeNhxzXZEyBaqqSw    Andre  ...                  0                 0\n",
       "8  T0gWkTHWRChVUe_Dn1F8nw    Tanya  ...                 34                 2\n",
       "9  NQffx45eJaeqhFcMadKUQA    Trace  ...                  3                 5\n",
       "\n",
       "[10 rows x 22 columns]"
      ]
     },
     "execution_count": 14,
     "metadata": {
      "tags": []
     },
     "output_type": "execute_result"
    }
   ],
   "source": [
    "user_ds.head(10)"
   ]
  },
  {
   "cell_type": "markdown",
   "metadata": {
    "colab_type": "text",
    "id": "lMXjVcvt3_GR"
   },
   "source": [
    "# **Overview of all the dataset**"
   ]
  },
  {
   "cell_type": "code",
   "execution_count": 0,
   "metadata": {
    "colab": {
     "base_uri": "https://localhost:8080/",
     "height": 102
    },
    "colab_type": "code",
    "executionInfo": {
     "elapsed": 610,
     "status": "ok",
     "timestamp": 1574707109466,
     "user": {
      "displayName": "Abhi Patodi",
      "photoUrl": "",
      "userId": "08749657629535720878"
     },
     "user_tz": 300
    },
    "id": "zkCoC_0X2x9g",
    "outputId": "7e94f688-a53f-43dd-c864-c2aa9418d831"
   },
   "outputs": [
    {
     "name": "stdout",
     "output_type": "stream",
     "text": [
      "user_ds (100000, 22)\n",
      "business_ds (100000, 14)\n",
      "checkin_ds (100000, 2)\n",
      "tip_ds (100000, 5)\n",
      "review_ds (100000, 9)\n"
     ]
    }
   ],
   "source": [
    "# Finding the shape of each dataset\n",
    "dnames = ['user_ds', 'business_ds', 'checkin_ds', 'tip_ds', 'review_ds']\n",
    "for n, d in zip(dnames, [user_ds, business_ds, checkin_ds, tip_ds, review_ds]):\n",
    "    print(n, d.shape)"
   ]
  },
  {
   "cell_type": "code",
   "execution_count": 0,
   "metadata": {
    "colab": {
     "base_uri": "https://localhost:8080/",
     "height": 1000
    },
    "colab_type": "code",
    "executionInfo": {
     "elapsed": 1610,
     "status": "ok",
     "timestamp": 1574707238677,
     "user": {
      "displayName": "Abhi Patodi",
      "photoUrl": "",
      "userId": "08749657629535720878"
     },
     "user_tz": 300
    },
    "id": "lpoP-Gcm3Hsw",
    "outputId": "3f870d6e-5a91-47f9-c1d0-0397b50deb42"
   },
   "outputs": [
    {
     "name": "stdout",
     "output_type": "stream",
     "text": [
      "-------------------------------------------------user_ds-------------------------------------------------\n",
      "                                                                    0\n",
      "user_id                                        l6BmjZMeQD3rDxWUbiAiow\n",
      "name                                                           Rashmi\n",
      "review_count                                                       95\n",
      "yelping_since                                     2013-10-08 23:11:33\n",
      "useful                                                             84\n",
      "funny                                                              17\n",
      "cool                                                               25\n",
      "elite                                                  2015,2016,2017\n",
      "friends             c78V-rj8NQcQjOI8KP3UEA, alRMgPcngYSCJ5naFRBz5g...\n",
      "fans                                                                5\n",
      "average_stars                                                    4.03\n",
      "compliment_hot                                                      2\n",
      "compliment_more                                                     0\n",
      "compliment_profile                                                  0\n",
      "compliment_cute                                                     0\n",
      "compliment_list                                                     0\n",
      "compliment_note                                                     1\n",
      "compliment_plain                                                    1\n",
      "compliment_cool                                                     1\n",
      "compliment_funny                                                    1\n",
      "compliment_writer                                                   2\n",
      "compliment_photos                                                   0\n",
      "-------------------------------------------------business_ds-------------------------------------------------\n",
      "                                        0\n",
      "business_id        1SWheh84yJXfytovILXOAQ\n",
      "name           Arizona Biltmore Golf Club\n",
      "address       2818 E Camino Acequia Drive\n",
      "city                              Phoenix\n",
      "state                                  AZ\n",
      "postal_code                         85016\n",
      "latitude                          33.5221\n",
      "longitude                        -112.018\n",
      "stars                                   3\n",
      "review_count                            5\n",
      "is_open                                 0\n",
      "attributes       {'GoodForKids': 'False'}\n",
      "categories              Golf, Active Life\n",
      "hours                                None\n",
      "-------------------------------------------------checkin_ds-------------------------------------------------\n",
      "                                                             0\n",
      "business_id                             --1UhMGODdWsrMastO9DZw\n",
      "date         2016-04-26 19:49:16, 2016-08-30 18:36:57, 2016...\n",
      "-------------------------------------------------tip_ds-------------------------------------------------\n",
      "                                                                  0\n",
      "user_id                                      UPw5DWs_b-e2JRBS-t37Ag\n",
      "business_id                                  VaKXUpmWTTWDKbpJ3aQdMw\n",
      "text              Great for watching games, ufc, and whatever el...\n",
      "date                                            2014-03-27 03:51:24\n",
      "compliment_count                                                  0\n",
      "-------------------------------------------------review_ds-------------------------------------------------\n",
      "                                                             0\n",
      "business_id                             ujmEBvifdJM6h6RLv4wQIg\n",
      "cool                                                         0\n",
      "date                                       2013-05-07 04:34:36\n",
      "funny                                                        1\n",
      "review_id                               Q1sbwvVQXV2734tPgoKj4Q\n",
      "stars                                                        1\n",
      "text         Total bill for this horrible service? Over $8G...\n",
      "useful                                                       6\n",
      "user_id                                 hG7b0MtEbXx5QzbzE6C_VA\n"
     ]
    }
   ],
   "source": [
    "# Each dataset with it's columns\n",
    "for n, d in zip(dnames, [user_ds, business_ds, checkin_ds, tip_ds, review_ds]):\n",
    "    print('-------------------------------------------------{0}-------------------------------------------------'.format(n))\n",
    "    print(d.head(1).T)\n",
    "    gc.collect()"
   ]
  },
  {
   "cell_type": "code",
   "execution_count": 0,
   "metadata": {
    "colab": {
     "base_uri": "https://localhost:8080/",
     "height": 483
    },
    "colab_type": "code",
    "executionInfo": {
     "elapsed": 2510,
     "status": "ok",
     "timestamp": 1574707270636,
     "user": {
      "displayName": "Abhi Patodi",
      "photoUrl": "",
      "userId": "08749657629535720878"
     },
     "user_tz": 300
    },
    "id": "s3pBDy_B3fpL",
    "outputId": "343cccb0-ae1c-4008-ebac-da7b39fe3c25"
   },
   "outputs": [
    {
     "data": {
      "image/png": "[encoded data removed]",
      "text/plain": [
       "<Figure size 576x576 with 1 Axes>"
      ]
     },
     "metadata": {
      "tags": []
     },
     "output_type": "display_data"
    },
    {
     "data": {
      "text/plain": [
       "0"
      ]
     },
     "execution_count": 17,
     "metadata": {
      "tags": []
     },
     "output_type": "execute_result"
    }
   ],
   "source": [
    "# graph to understand the relationship between all datasets\n",
    "G = nx.Graph()\n",
    "fig, ax = plt.subplots(figsize=[8,8])\n",
    "for n, d in zip(dnames, [user_ds, business_ds, checkin_ds, tip_ds, review_ds]):\n",
    "    _ = []\n",
    "    for c in np.intersect1d(d.columns, ['business_id', 'user_id']):\n",
    "        _.append([n, c])\n",
    "    G.add_edges_from(_, label=n)\n",
    "nx.draw_networkx(G, ax=ax)\n",
    "plt.show()\n",
    "gc.collect()"
   ]
  },
  {
   "cell_type": "markdown",
   "metadata": {
    "colab_type": "text",
    "id": "i-i8CB2H3qUI"
   },
   "source": [
    "From the above graph, we see that the business_id is connected to business, checkin, review and tip datasets whereas user_id is connected to user, review and tip datasets. This information is further useful while we generate our recommendation system!\n"
   ]
  },
  {
   "cell_type": "markdown",
   "metadata": {
    "colab_type": "text",
    "id": "9TO32Cg54N8-"
   },
   "source": [
    "# **Business Data Set**"
   ]
  },
  {
   "cell_type": "code",
   "execution_count": 0,
   "metadata": {
    "colab": {
     "base_uri": "https://localhost:8080/",
     "height": 530
    },
    "colab_type": "code",
    "executionInfo": {
     "elapsed": 1427,
     "status": "ok",
     "timestamp": 1574707498937,
     "user": {
      "displayName": "Abhi Patodi",
      "photoUrl": "",
      "userId": "08749657629535720878"
     },
     "user_tz": 300
    },
    "id": "KLGeCnMP30Lf",
    "outputId": "33a204be-bfd1-469b-c920-7d7b349f95bb"
   },
   "outputs": [
    {
     "data": {
      "text/html": [
       "<div>\n",
       "<style scoped>\n",
       "    .dataframe tbody tr th:only-of-type {\n",
       "        vertical-align: middle;\n",
       "    }\n",
       "\n",
       "    .dataframe tbody tr th {\n",
       "        vertical-align: top;\n",
       "    }\n",
       "\n",
       "    .dataframe thead th {\n",
       "        text-align: right;\n",
       "    }\n",
       "</style>\n",
       "<table border=\"1\" class=\"dataframe\">\n",
       "  <thead>\n",
       "    <tr style=\"text-align: right;\">\n",
       "      <th></th>\n",
       "      <th>business_id</th>\n",
       "      <th>name</th>\n",
       "      <th>address</th>\n",
       "      <th>city</th>\n",
       "      <th>state</th>\n",
       "      <th>postal_code</th>\n",
       "      <th>latitude</th>\n",
       "      <th>longitude</th>\n",
       "      <th>stars</th>\n",
       "      <th>review_count</th>\n",
       "      <th>is_open</th>\n",
       "      <th>attributes</th>\n",
       "      <th>categories</th>\n",
       "      <th>hours</th>\n",
       "    </tr>\n",
       "  </thead>\n",
       "  <tbody>\n",
       "    <tr>\n",
       "      <th>0</th>\n",
       "      <td>1SWheh84yJXfytovILXOAQ</td>\n",
       "      <td>Arizona Biltmore Golf Club</td>\n",
       "      <td>2818 E Camino Acequia Drive</td>\n",
       "      <td>Phoenix</td>\n",
       "      <td>AZ</td>\n",
       "      <td>85016</td>\n",
       "      <td>33.522143</td>\n",
       "      <td>-112.018481</td>\n",
       "      <td>3.0</td>\n",
       "      <td>5</td>\n",
       "      <td>0</td>\n",
       "      <td>{'GoodForKids': 'False'}</td>\n",
       "      <td>Golf, Active Life</td>\n",
       "      <td>None</td>\n",
       "    </tr>\n",
       "    <tr>\n",
       "      <th>1</th>\n",
       "      <td>QXAEGFB4oINsVuTFxEYKFQ</td>\n",
       "      <td>Emerald Chinese Restaurant</td>\n",
       "      <td>30 Eglinton Avenue W</td>\n",
       "      <td>Mississauga</td>\n",
       "      <td>ON</td>\n",
       "      <td>L5R 3E7</td>\n",
       "      <td>43.605499</td>\n",
       "      <td>-79.652289</td>\n",
       "      <td>2.5</td>\n",
       "      <td>128</td>\n",
       "      <td>1</td>\n",
       "      <td>{'RestaurantsReservations': 'True', 'GoodForMe...</td>\n",
       "      <td>Specialty Food, Restaurants, Dim Sum, Imported...</td>\n",
       "      <td>{'Monday': '9:0-0:0', 'Tuesday': '9:0-0:0', 'W...</td>\n",
       "    </tr>\n",
       "    <tr>\n",
       "      <th>2</th>\n",
       "      <td>gnKjwL_1w79qoiV3IC_xQQ</td>\n",
       "      <td>Musashi Japanese Restaurant</td>\n",
       "      <td>10110 Johnston Rd, Ste 15</td>\n",
       "      <td>Charlotte</td>\n",
       "      <td>NC</td>\n",
       "      <td>28210</td>\n",
       "      <td>35.092564</td>\n",
       "      <td>-80.859132</td>\n",
       "      <td>4.0</td>\n",
       "      <td>170</td>\n",
       "      <td>1</td>\n",
       "      <td>{'GoodForKids': 'True', 'NoiseLevel': 'u'avera...</td>\n",
       "      <td>Sushi Bars, Restaurants, Japanese</td>\n",
       "      <td>{'Monday': '17:30-21:30', 'Wednesday': '17:30-...</td>\n",
       "    </tr>\n",
       "    <tr>\n",
       "      <th>3</th>\n",
       "      <td>xvX2CttrVhyG2z1dFg_0xw</td>\n",
       "      <td>Farmers Insurance - Paul Lorenz</td>\n",
       "      <td>15655 W Roosevelt St, Ste 237</td>\n",
       "      <td>Goodyear</td>\n",
       "      <td>AZ</td>\n",
       "      <td>85338</td>\n",
       "      <td>33.455613</td>\n",
       "      <td>-112.395596</td>\n",
       "      <td>5.0</td>\n",
       "      <td>3</td>\n",
       "      <td>1</td>\n",
       "      <td>None</td>\n",
       "      <td>Insurance, Financial Services</td>\n",
       "      <td>{'Monday': '8:0-17:0', 'Tuesday': '8:0-17:0', ...</td>\n",
       "    </tr>\n",
       "    <tr>\n",
       "      <th>4</th>\n",
       "      <td>HhyxOkGAM07SRYtlQ4wMFQ</td>\n",
       "      <td>Queen City Plumbing</td>\n",
       "      <td>4209 Stuart Andrew Blvd, Ste F</td>\n",
       "      <td>Charlotte</td>\n",
       "      <td>NC</td>\n",
       "      <td>28217</td>\n",
       "      <td>35.190012</td>\n",
       "      <td>-80.887223</td>\n",
       "      <td>4.0</td>\n",
       "      <td>4</td>\n",
       "      <td>1</td>\n",
       "      <td>{'BusinessAcceptsBitcoin': 'False', 'ByAppoint...</td>\n",
       "      <td>Plumbing, Shopping, Local Services, Home Servi...</td>\n",
       "      <td>{'Monday': '7:0-23:0', 'Tuesday': '7:0-23:0', ...</td>\n",
       "    </tr>\n",
       "  </tbody>\n",
       "</table>\n",
       "</div>"
      ],
      "text/plain": [
       "              business_id  ...                                              hours\n",
       "0  1SWheh84yJXfytovILXOAQ  ...                                               None\n",
       "1  QXAEGFB4oINsVuTFxEYKFQ  ...  {'Monday': '9:0-0:0', 'Tuesday': '9:0-0:0', 'W...\n",
       "2  gnKjwL_1w79qoiV3IC_xQQ  ...  {'Monday': '17:30-21:30', 'Wednesday': '17:30-...\n",
       "3  xvX2CttrVhyG2z1dFg_0xw  ...  {'Monday': '8:0-17:0', 'Tuesday': '8:0-17:0', ...\n",
       "4  HhyxOkGAM07SRYtlQ4wMFQ  ...  {'Monday': '7:0-23:0', 'Tuesday': '7:0-23:0', ...\n",
       "\n",
       "[5 rows x 14 columns]"
      ]
     },
     "execution_count": 18,
     "metadata": {
      "tags": []
     },
     "output_type": "execute_result"
    }
   ],
   "source": [
    "business_ds.head(5)"
   ]
  },
  {
   "cell_type": "code",
   "execution_count": 0,
   "metadata": {
    "colab": {
     "base_uri": "https://localhost:8080/",
     "height": 340
    },
    "colab_type": "code",
    "executionInfo": {
     "elapsed": 577,
     "status": "ok",
     "timestamp": 1574707524889,
     "user": {
      "displayName": "Abhi Patodi",
      "photoUrl": "",
      "userId": "08749657629535720878"
     },
     "user_tz": 300
    },
    "id": "IdA_VGpJ4b2O",
    "outputId": "c638471e-6659-4c25-c2bd-b8400ee38360"
   },
   "outputs": [
    {
     "name": "stdout",
     "output_type": "stream",
     "text": [
      "<class 'pandas.core.frame.DataFrame'>\n",
      "Int64Index: 100000 entries, 0 to 99999\n",
      "Data columns (total 14 columns):\n",
      "business_id     100000 non-null object\n",
      "name            100000 non-null object\n",
      "address         100000 non-null object\n",
      "city            100000 non-null object\n",
      "state           100000 non-null object\n",
      "postal_code     100000 non-null object\n",
      "latitude        100000 non-null float64\n",
      "longitude       100000 non-null float64\n",
      "stars           100000 non-null float64\n",
      "review_count    100000 non-null int64\n",
      "is_open         100000 non-null int64\n",
      "attributes      84965 non-null object\n",
      "categories      99749 non-null object\n",
      "hours           76700 non-null object\n",
      "dtypes: float64(3), int64(2), object(9)\n",
      "memory usage: 11.4+ MB\n"
     ]
    }
   ],
   "source": [
    "business_ds.info()"
   ]
  },
  {
   "cell_type": "code",
   "execution_count": 0,
   "metadata": {
    "colab": {
     "base_uri": "https://localhost:8080/",
     "height": 297
    },
    "colab_type": "code",
    "executionInfo": {
     "elapsed": 619,
     "status": "ok",
     "timestamp": 1574707561154,
     "user": {
      "displayName": "Abhi Patodi",
      "photoUrl": "",
      "userId": "08749657629535720878"
     },
     "user_tz": 300
    },
    "id": "nYKbETrG4b_X",
    "outputId": "0cef8d91-57fb-4e41-d4d1-0aee6271151c"
   },
   "outputs": [
    {
     "data": {
      "text/html": [
       "<div>\n",
       "<style scoped>\n",
       "    .dataframe tbody tr th:only-of-type {\n",
       "        vertical-align: middle;\n",
       "    }\n",
       "\n",
       "    .dataframe tbody tr th {\n",
       "        vertical-align: top;\n",
       "    }\n",
       "\n",
       "    .dataframe thead th {\n",
       "        text-align: right;\n",
       "    }\n",
       "</style>\n",
       "<table border=\"1\" class=\"dataframe\">\n",
       "  <thead>\n",
       "    <tr style=\"text-align: right;\">\n",
       "      <th></th>\n",
       "      <th>latitude</th>\n",
       "      <th>longitude</th>\n",
       "      <th>stars</th>\n",
       "      <th>review_count</th>\n",
       "      <th>is_open</th>\n",
       "    </tr>\n",
       "  </thead>\n",
       "  <tbody>\n",
       "    <tr>\n",
       "      <th>count</th>\n",
       "      <td>100000.000000</td>\n",
       "      <td>100000.000000</td>\n",
       "      <td>100000.000000</td>\n",
       "      <td>100000.000000</td>\n",
       "      <td>100000.000000</td>\n",
       "    </tr>\n",
       "    <tr>\n",
       "      <th>mean</th>\n",
       "      <td>38.534036</td>\n",
       "      <td>-97.615596</td>\n",
       "      <td>3.588065</td>\n",
       "      <td>33.419970</td>\n",
       "      <td>0.822120</td>\n",
       "    </tr>\n",
       "    <tr>\n",
       "      <th>std</th>\n",
       "      <td>4.933993</td>\n",
       "      <td>16.689835</td>\n",
       "      <td>1.018986</td>\n",
       "      <td>113.244013</td>\n",
       "      <td>0.382414</td>\n",
       "    </tr>\n",
       "    <tr>\n",
       "      <th>min</th>\n",
       "      <td>33.204863</td>\n",
       "      <td>-115.477519</td>\n",
       "      <td>1.000000</td>\n",
       "      <td>3.000000</td>\n",
       "      <td>0.000000</td>\n",
       "    </tr>\n",
       "    <tr>\n",
       "      <th>25%</th>\n",
       "      <td>33.637066</td>\n",
       "      <td>-112.275332</td>\n",
       "      <td>3.000000</td>\n",
       "      <td>4.000000</td>\n",
       "      <td>1.000000</td>\n",
       "    </tr>\n",
       "    <tr>\n",
       "      <th>50%</th>\n",
       "      <td>36.144765</td>\n",
       "      <td>-111.764169</td>\n",
       "      <td>3.500000</td>\n",
       "      <td>9.000000</td>\n",
       "      <td>1.000000</td>\n",
       "    </tr>\n",
       "    <tr>\n",
       "      <th>75%</th>\n",
       "      <td>43.596350</td>\n",
       "      <td>-79.988363</td>\n",
       "      <td>4.500000</td>\n",
       "      <td>25.000000</td>\n",
       "      <td>1.000000</td>\n",
       "    </tr>\n",
       "    <tr>\n",
       "      <th>max</th>\n",
       "      <td>51.299943</td>\n",
       "      <td>-72.911982</td>\n",
       "      <td>5.000000</td>\n",
       "      <td>8348.000000</td>\n",
       "      <td>1.000000</td>\n",
       "    </tr>\n",
       "  </tbody>\n",
       "</table>\n",
       "</div>"
      ],
      "text/plain": [
       "            latitude      longitude  ...   review_count        is_open\n",
       "count  100000.000000  100000.000000  ...  100000.000000  100000.000000\n",
       "mean       38.534036     -97.615596  ...      33.419970       0.822120\n",
       "std         4.933993      16.689835  ...     113.244013       0.382414\n",
       "min        33.204863    -115.477519  ...       3.000000       0.000000\n",
       "25%        33.637066    -112.275332  ...       4.000000       1.000000\n",
       "50%        36.144765    -111.764169  ...       9.000000       1.000000\n",
       "75%        43.596350     -79.988363  ...      25.000000       1.000000\n",
       "max        51.299943     -72.911982  ...    8348.000000       1.000000\n",
       "\n",
       "[8 rows x 5 columns]"
      ]
     },
     "execution_count": 20,
     "metadata": {
      "tags": []
     },
     "output_type": "execute_result"
    }
   ],
   "source": [
    "# Describing Business Dataset\n",
    "business_ds.describe()"
   ]
  },
  {
   "cell_type": "markdown",
   "metadata": {
    "colab_type": "text",
    "id": "zECt4VCC4w1G"
   },
   "source": [
    "**OBSERVATION**\n",
    "\n",
    "The minimum and maximum values for is_open is 0 and 1 which suggests that it is a boolean value depicting whether a restaurent is open or not\n",
    "\n",
    "The minimum and maximum values of stars for the business is in the range of 1-5 where the average rating for a particular business is 3.58\n",
    "\n",
    "The minimum review_count for a business is 3 with maximum of about 8348 averaging around 33.41"
   ]
  },
  {
   "cell_type": "code",
   "execution_count": 0,
   "metadata": {
    "colab": {
     "base_uri": "https://localhost:8080/",
     "height": 272
    },
    "colab_type": "code",
    "executionInfo": {
     "elapsed": 1576,
     "status": "ok",
     "timestamp": 1574707620360,
     "user": {
      "displayName": "Abhi Patodi",
      "photoUrl": "",
      "userId": "08749657629535720878"
     },
     "user_tz": 300
    },
    "id": "bHTBHSMt4cGK",
    "outputId": "1f3f500b-4f1a-4e4b-b2d0-285d76174f0a"
   },
   "outputs": [
    {
     "data": {
      "text/plain": [
       "business_id     False\n",
       "name            False\n",
       "address         False\n",
       "city            False\n",
       "state           False\n",
       "postal_code     False\n",
       "latitude        False\n",
       "longitude       False\n",
       "stars           False\n",
       "review_count    False\n",
       "is_open         False\n",
       "attributes       True\n",
       "categories       True\n",
       "hours            True\n",
       "dtype: bool"
      ]
     },
     "execution_count": 21,
     "metadata": {
      "tags": []
     },
     "output_type": "execute_result"
    }
   ],
   "source": [
    "# check for NaN's\n",
    "business_ds.isna().any()"
   ]
  },
  {
   "cell_type": "code",
   "execution_count": 0,
   "metadata": {
    "colab": {
     "base_uri": "https://localhost:8080/",
     "height": 1000
    },
    "colab_type": "code",
    "executionInfo": {
     "elapsed": 585,
     "status": "ok",
     "timestamp": 1574707635041,
     "user": {
      "displayName": "Abhi Patodi",
      "photoUrl": "",
      "userId": "08749657629535720878"
     },
     "user_tz": 300
    },
    "id": "vwqqW6rq4cIv",
    "outputId": "72abe62c-3459-4d75-9051-3b3a311c8ff7"
   },
   "outputs": [
    {
     "data": {
      "text/html": [
       "<div>\n",
       "<style scoped>\n",
       "    .dataframe tbody tr th:only-of-type {\n",
       "        vertical-align: middle;\n",
       "    }\n",
       "\n",
       "    .dataframe tbody tr th {\n",
       "        vertical-align: top;\n",
       "    }\n",
       "\n",
       "    .dataframe thead th {\n",
       "        text-align: right;\n",
       "    }\n",
       "</style>\n",
       "<table border=\"1\" class=\"dataframe\">\n",
       "  <thead>\n",
       "    <tr style=\"text-align: right;\">\n",
       "      <th></th>\n",
       "      <th>business_id</th>\n",
       "      <th>name</th>\n",
       "      <th>address</th>\n",
       "      <th>city</th>\n",
       "      <th>state</th>\n",
       "      <th>postal_code</th>\n",
       "      <th>latitude</th>\n",
       "      <th>longitude</th>\n",
       "      <th>stars</th>\n",
       "      <th>review_count</th>\n",
       "      <th>is_open</th>\n",
       "      <th>attributes</th>\n",
       "      <th>categories</th>\n",
       "      <th>hours</th>\n",
       "    </tr>\n",
       "  </thead>\n",
       "  <tbody>\n",
       "    <tr>\n",
       "      <th>0</th>\n",
       "      <td>1SWheh84yJXfytovILXOAQ</td>\n",
       "      <td>Arizona Biltmore Golf Club</td>\n",
       "      <td>2818 E Camino Acequia Drive</td>\n",
       "      <td>Phoenix</td>\n",
       "      <td>AZ</td>\n",
       "      <td>85016</td>\n",
       "      <td>33.522143</td>\n",
       "      <td>-112.018481</td>\n",
       "      <td>3.0</td>\n",
       "      <td>5</td>\n",
       "      <td>0</td>\n",
       "      <td>{'GoodForKids': 'False'}</td>\n",
       "      <td>Golf, Active Life</td>\n",
       "      <td>None</td>\n",
       "    </tr>\n",
       "    <tr>\n",
       "      <th>1</th>\n",
       "      <td>QXAEGFB4oINsVuTFxEYKFQ</td>\n",
       "      <td>Emerald Chinese Restaurant</td>\n",
       "      <td>30 Eglinton Avenue W</td>\n",
       "      <td>Mississauga</td>\n",
       "      <td>ON</td>\n",
       "      <td>L5R 3E7</td>\n",
       "      <td>43.605499</td>\n",
       "      <td>-79.652289</td>\n",
       "      <td>2.5</td>\n",
       "      <td>128</td>\n",
       "      <td>1</td>\n",
       "      <td>{'RestaurantsReservations': 'True', 'GoodForMe...</td>\n",
       "      <td>Specialty Food, Restaurants, Dim Sum, Imported...</td>\n",
       "      <td>{'Monday': '9:0-0:0', 'Tuesday': '9:0-0:0', 'W...</td>\n",
       "    </tr>\n",
       "    <tr>\n",
       "      <th>2</th>\n",
       "      <td>gnKjwL_1w79qoiV3IC_xQQ</td>\n",
       "      <td>Musashi Japanese Restaurant</td>\n",
       "      <td>10110 Johnston Rd, Ste 15</td>\n",
       "      <td>Charlotte</td>\n",
       "      <td>NC</td>\n",
       "      <td>28210</td>\n",
       "      <td>35.092564</td>\n",
       "      <td>-80.859132</td>\n",
       "      <td>4.0</td>\n",
       "      <td>170</td>\n",
       "      <td>1</td>\n",
       "      <td>{'GoodForKids': 'True', 'NoiseLevel': 'u'avera...</td>\n",
       "      <td>Sushi Bars, Restaurants, Japanese</td>\n",
       "      <td>{'Monday': '17:30-21:30', 'Wednesday': '17:30-...</td>\n",
       "    </tr>\n",
       "    <tr>\n",
       "      <th>3</th>\n",
       "      <td>xvX2CttrVhyG2z1dFg_0xw</td>\n",
       "      <td>Farmers Insurance - Paul Lorenz</td>\n",
       "      <td>15655 W Roosevelt St, Ste 237</td>\n",
       "      <td>Goodyear</td>\n",
       "      <td>AZ</td>\n",
       "      <td>85338</td>\n",
       "      <td>33.455613</td>\n",
       "      <td>-112.395596</td>\n",
       "      <td>5.0</td>\n",
       "      <td>3</td>\n",
       "      <td>1</td>\n",
       "      <td>None</td>\n",
       "      <td>Insurance, Financial Services</td>\n",
       "      <td>{'Monday': '8:0-17:0', 'Tuesday': '8:0-17:0', ...</td>\n",
       "    </tr>\n",
       "    <tr>\n",
       "      <th>4</th>\n",
       "      <td>HhyxOkGAM07SRYtlQ4wMFQ</td>\n",
       "      <td>Queen City Plumbing</td>\n",
       "      <td>4209 Stuart Andrew Blvd, Ste F</td>\n",
       "      <td>Charlotte</td>\n",
       "      <td>NC</td>\n",
       "      <td>28217</td>\n",
       "      <td>35.190012</td>\n",
       "      <td>-80.887223</td>\n",
       "      <td>4.0</td>\n",
       "      <td>4</td>\n",
       "      <td>1</td>\n",
       "      <td>{'BusinessAcceptsBitcoin': 'False', 'ByAppoint...</td>\n",
       "      <td>Plumbing, Shopping, Local Services, Home Servi...</td>\n",
       "      <td>{'Monday': '7:0-23:0', 'Tuesday': '7:0-23:0', ...</td>\n",
       "    </tr>\n",
       "    <tr>\n",
       "      <th>...</th>\n",
       "      <td>...</td>\n",
       "      <td>...</td>\n",
       "      <td>...</td>\n",
       "      <td>...</td>\n",
       "      <td>...</td>\n",
       "      <td>...</td>\n",
       "      <td>...</td>\n",
       "      <td>...</td>\n",
       "      <td>...</td>\n",
       "      <td>...</td>\n",
       "      <td>...</td>\n",
       "      <td>...</td>\n",
       "      <td>...</td>\n",
       "      <td>...</td>\n",
       "    </tr>\n",
       "    <tr>\n",
       "      <th>99995</th>\n",
       "      <td>wWV90q48ugyxyXW6gZav8w</td>\n",
       "      <td>Arepas</td>\n",
       "      <td>521 St. Catherine Street W</td>\n",
       "      <td>Montréal</td>\n",
       "      <td>QC</td>\n",
       "      <td>H3B 1A6</td>\n",
       "      <td>45.504597</td>\n",
       "      <td>-73.568456</td>\n",
       "      <td>3.5</td>\n",
       "      <td>15</td>\n",
       "      <td>0</td>\n",
       "      <td>{'Alcohol': 'u'none'', 'RestaurantsAttire': 'u...</td>\n",
       "      <td>Restaurants, Venezuelan, Latin American</td>\n",
       "      <td>None</td>\n",
       "    </tr>\n",
       "    <tr>\n",
       "      <th>99996</th>\n",
       "      <td>phSaT3I_y6To1J2OdeFSUQ</td>\n",
       "      <td>Ed Mirvish Theatre</td>\n",
       "      <td>244 Victoria Street</td>\n",
       "      <td>Toronto</td>\n",
       "      <td>ON</td>\n",
       "      <td>M5B 1V8</td>\n",
       "      <td>43.655290</td>\n",
       "      <td>-79.379541</td>\n",
       "      <td>4.0</td>\n",
       "      <td>58</td>\n",
       "      <td>1</td>\n",
       "      <td>{'GoodForKids': 'True'}</td>\n",
       "      <td>Arts &amp; Entertainment, Performing Arts</td>\n",
       "      <td>None</td>\n",
       "    </tr>\n",
       "    <tr>\n",
       "      <th>99997</th>\n",
       "      <td>oU6Q3ymg1Qsh1EUI6oQwQg</td>\n",
       "      <td>BASIS Ahwatukee</td>\n",
       "      <td>10210 South 50th Pl</td>\n",
       "      <td>Phoenix</td>\n",
       "      <td>AZ</td>\n",
       "      <td>85044</td>\n",
       "      <td>33.354284</td>\n",
       "      <td>-111.975538</td>\n",
       "      <td>2.5</td>\n",
       "      <td>3</td>\n",
       "      <td>1</td>\n",
       "      <td>None</td>\n",
       "      <td>Education, Middle Schools &amp; High Schools</td>\n",
       "      <td>{'Monday': '7:30-17:30', 'Tuesday': '7:30-17:3...</td>\n",
       "    </tr>\n",
       "    <tr>\n",
       "      <th>99998</th>\n",
       "      <td>gdiOk0n7DmNE9w8xeHWkvw</td>\n",
       "      <td>Brows Redefined</td>\n",
       "      <td>6670 S Tenaya Way, Ste 120, The Body Spa</td>\n",
       "      <td>Las Vegas</td>\n",
       "      <td>NV</td>\n",
       "      <td>89113</td>\n",
       "      <td>36.066952</td>\n",
       "      <td>-115.251008</td>\n",
       "      <td>5.0</td>\n",
       "      <td>15</td>\n",
       "      <td>1</td>\n",
       "      <td>{'ByAppointmentOnly': 'True', 'BikeParking': '...</td>\n",
       "      <td>Beauty &amp; Spas, Eyelash Service, Waxing, Esthet...</td>\n",
       "      <td>{'Monday': '0:0-0:0', 'Tuesday': '9:0-19:0', '...</td>\n",
       "    </tr>\n",
       "    <tr>\n",
       "      <th>99999</th>\n",
       "      <td>Rv8s4io4G4mcUpiDbpzy7w</td>\n",
       "      <td>Affordable Estate Planning</td>\n",
       "      <td>14050 N 83rd Ave, Ste 290</td>\n",
       "      <td>Peoria</td>\n",
       "      <td>AZ</td>\n",
       "      <td>85381</td>\n",
       "      <td>33.612226</td>\n",
       "      <td>-112.238145</td>\n",
       "      <td>5.0</td>\n",
       "      <td>3</td>\n",
       "      <td>1</td>\n",
       "      <td>None</td>\n",
       "      <td>Professional Services, Wills, Trusts, &amp; Probat...</td>\n",
       "      <td>{'Monday': '8:0-18:0', 'Tuesday': '8:0-18:0', ...</td>\n",
       "    </tr>\n",
       "  </tbody>\n",
       "</table>\n",
       "<p>100000 rows × 14 columns</p>\n",
       "</div>"
      ],
      "text/plain": [
       "                  business_id  ...                                              hours\n",
       "0      1SWheh84yJXfytovILXOAQ  ...                                               None\n",
       "1      QXAEGFB4oINsVuTFxEYKFQ  ...  {'Monday': '9:0-0:0', 'Tuesday': '9:0-0:0', 'W...\n",
       "2      gnKjwL_1w79qoiV3IC_xQQ  ...  {'Monday': '17:30-21:30', 'Wednesday': '17:30-...\n",
       "3      xvX2CttrVhyG2z1dFg_0xw  ...  {'Monday': '8:0-17:0', 'Tuesday': '8:0-17:0', ...\n",
       "4      HhyxOkGAM07SRYtlQ4wMFQ  ...  {'Monday': '7:0-23:0', 'Tuesday': '7:0-23:0', ...\n",
       "...                       ...  ...                                                ...\n",
       "99995  wWV90q48ugyxyXW6gZav8w  ...                                               None\n",
       "99996  phSaT3I_y6To1J2OdeFSUQ  ...                                               None\n",
       "99997  oU6Q3ymg1Qsh1EUI6oQwQg  ...  {'Monday': '7:30-17:30', 'Tuesday': '7:30-17:3...\n",
       "99998  gdiOk0n7DmNE9w8xeHWkvw  ...  {'Monday': '0:0-0:0', 'Tuesday': '9:0-19:0', '...\n",
       "99999  Rv8s4io4G4mcUpiDbpzy7w  ...  {'Monday': '8:0-18:0', 'Tuesday': '8:0-18:0', ...\n",
       "\n",
       "[100000 rows x 14 columns]"
      ]
     },
     "execution_count": 23,
     "metadata": {
      "tags": []
     },
     "output_type": "execute_result"
    }
   ],
   "source": [
    "# drop columns which have all null values\n",
    "business_ds.dropna(axis=1, how='all')"
   ]
  },
  {
   "cell_type": "code",
   "execution_count": 0,
   "metadata": {
    "colab": {
     "base_uri": "https://localhost:8080/",
     "height": 34
    },
    "colab_type": "code",
    "executionInfo": {
     "elapsed": 1672,
     "status": "ok",
     "timestamp": 1574707670715,
     "user": {
      "displayName": "Abhi Patodi",
      "photoUrl": "",
      "userId": "08749657629535720878"
     },
     "user_tz": 300
    },
    "id": "0af3qJQo4cL_",
    "outputId": "db8e74be-a002-48a1-f2ea-19e9fbff47b1"
   },
   "outputs": [
    {
     "data": {
      "text/plain": [
       "True"
      ]
     },
     "execution_count": 24,
     "metadata": {
      "tags": []
     },
     "output_type": "execute_result"
    }
   ],
   "source": [
    "# Let us check if all business Id's unique\n",
    "business_ds.business_id.is_unique"
   ]
  },
  {
   "cell_type": "code",
   "execution_count": 0,
   "metadata": {
    "colab": {
     "base_uri": "https://localhost:8080/",
     "height": 419
    },
    "colab_type": "code",
    "executionInfo": {
     "elapsed": 1427,
     "status": "ok",
     "timestamp": 1574707888401,
     "user": {
      "displayName": "Abhi Patodi",
      "photoUrl": "",
      "userId": "08749657629535720878"
     },
     "user_tz": 300
    },
    "id": "3Sc48d4p5Rke",
    "outputId": "845885c9-732b-42b7-9e34-05d39983fbe1"
   },
   "outputs": [
    {
     "data": {
      "text/html": [
       "<div>\n",
       "<style scoped>\n",
       "    .dataframe tbody tr th:only-of-type {\n",
       "        vertical-align: middle;\n",
       "    }\n",
       "\n",
       "    .dataframe tbody tr th {\n",
       "        vertical-align: top;\n",
       "    }\n",
       "\n",
       "    .dataframe thead th {\n",
       "        text-align: right;\n",
       "    }\n",
       "</style>\n",
       "<table border=\"1\" class=\"dataframe\">\n",
       "  <thead>\n",
       "    <tr style=\"text-align: right;\">\n",
       "      <th></th>\n",
       "      <th>city</th>\n",
       "    </tr>\n",
       "  </thead>\n",
       "  <tbody>\n",
       "    <tr>\n",
       "      <th>Las Vegas</th>\n",
       "      <td>15244</td>\n",
       "    </tr>\n",
       "    <tr>\n",
       "      <th>Toronto</th>\n",
       "      <td>9781</td>\n",
       "    </tr>\n",
       "    <tr>\n",
       "      <th>Phoenix</th>\n",
       "      <td>9770</td>\n",
       "    </tr>\n",
       "    <tr>\n",
       "      <th>Charlotte</th>\n",
       "      <td>4910</td>\n",
       "    </tr>\n",
       "    <tr>\n",
       "      <th>Scottsdale</th>\n",
       "      <td>4685</td>\n",
       "    </tr>\n",
       "    <tr>\n",
       "      <th>...</th>\n",
       "      <td>...</td>\n",
       "    </tr>\n",
       "    <tr>\n",
       "      <th>Salaberry-De-Valleyfield</th>\n",
       "      <td>1</td>\n",
       "    </tr>\n",
       "    <tr>\n",
       "      <th>Newburgh Heights</th>\n",
       "      <td>1</td>\n",
       "    </tr>\n",
       "    <tr>\n",
       "      <th>NORTH YORK</th>\n",
       "      <td>1</td>\n",
       "    </tr>\n",
       "    <tr>\n",
       "      <th>Mentor-On-The-Lake</th>\n",
       "      <td>1</td>\n",
       "    </tr>\n",
       "    <tr>\n",
       "      <th></th>\n",
       "      <td>1</td>\n",
       "    </tr>\n",
       "  </tbody>\n",
       "</table>\n",
       "<p>895 rows × 1 columns</p>\n",
       "</div>"
      ],
      "text/plain": [
       "                           city\n",
       "Las Vegas                 15244\n",
       "Toronto                    9781\n",
       "Phoenix                    9770\n",
       "Charlotte                  4910\n",
       "Scottsdale                 4685\n",
       "...                         ...\n",
       "Salaberry-De-Valleyfield      1\n",
       "Newburgh Heights              1\n",
       "NORTH YORK                    1\n",
       "Mentor-On-The-Lake            1\n",
       "                              1\n",
       "\n",
       "[895 rows x 1 columns]"
      ]
     },
     "execution_count": 29,
     "metadata": {
      "tags": []
     },
     "output_type": "execute_result"
    }
   ],
   "source": [
    "# Let us count the number of cities where the business is present (Needs fixation)\n",
    "df = pd.DataFrame(business_ds.city.value_counts())\n",
    "df"
   ]
  },
  {
   "cell_type": "code",
   "execution_count": 0,
   "metadata": {
    "colab": {
     "base_uri": "https://localhost:8080/",
     "height": 1000
    },
    "colab_type": "code",
    "executionInfo": {
     "elapsed": 1433,
     "status": "ok",
     "timestamp": 1574707994663,
     "user": {
      "displayName": "Abhi Patodi",
      "photoUrl": "",
      "userId": "08749657629535720878"
     },
     "user_tz": 300
    },
    "id": "qrgx2sur6EMs",
    "outputId": "8732ad7f-2518-45a7-e698-2309a7cf504f"
   },
   "outputs": [
    {
     "data": {
      "text/html": [
       "<div>\n",
       "<style scoped>\n",
       "    .dataframe tbody tr th:only-of-type {\n",
       "        vertical-align: middle;\n",
       "    }\n",
       "\n",
       "    .dataframe tbody tr th {\n",
       "        vertical-align: top;\n",
       "    }\n",
       "\n",
       "    .dataframe thead th {\n",
       "        text-align: right;\n",
       "    }\n",
       "</style>\n",
       "<table border=\"1\" class=\"dataframe\">\n",
       "  <thead>\n",
       "    <tr style=\"text-align: right;\">\n",
       "      <th></th>\n",
       "      <th>name</th>\n",
       "      <th>business_id</th>\n",
       "      <th>review_count</th>\n",
       "      <th>city</th>\n",
       "      <th>stars</th>\n",
       "    </tr>\n",
       "  </thead>\n",
       "  <tbody>\n",
       "    <tr>\n",
       "      <th>82250</th>\n",
       "      <td>Mon Ami Gabi</td>\n",
       "      <td>4JNXUYY8wbaaDmk3BPzlWw</td>\n",
       "      <td>8348</td>\n",
       "      <td>Las Vegas</td>\n",
       "      <td>4.0</td>\n",
       "    </tr>\n",
       "    <tr>\n",
       "      <th>89206</th>\n",
       "      <td>Bacchanal Buffet</td>\n",
       "      <td>RESDUcs7fIiihp38-d6_6g</td>\n",
       "      <td>8339</td>\n",
       "      <td>Las Vegas</td>\n",
       "      <td>4.0</td>\n",
       "    </tr>\n",
       "    <tr>\n",
       "      <th>35199</th>\n",
       "      <td>Wicked Spoon</td>\n",
       "      <td>K7lWdNUhCbcnEvI0NhGewg</td>\n",
       "      <td>6708</td>\n",
       "      <td>Las Vegas</td>\n",
       "      <td>3.5</td>\n",
       "    </tr>\n",
       "    <tr>\n",
       "      <th>58852</th>\n",
       "      <td>Hash House A Go Go</td>\n",
       "      <td>f4x1YBxkLrZg652xt2KR5g</td>\n",
       "      <td>5763</td>\n",
       "      <td>Las Vegas</td>\n",
       "      <td>4.0</td>\n",
       "    </tr>\n",
       "    <tr>\n",
       "      <th>83950</th>\n",
       "      <td>Earl of Sandwich</td>\n",
       "      <td>DkYS3arLOhA8si5uUEmHOw</td>\n",
       "      <td>5075</td>\n",
       "      <td>Las Vegas</td>\n",
       "      <td>4.5</td>\n",
       "    </tr>\n",
       "    <tr>\n",
       "      <th>89437</th>\n",
       "      <td>The Cosmopolitan of Las Vegas</td>\n",
       "      <td>5LNZ67Yw9RD6nf4_UhXOjw</td>\n",
       "      <td>4322</td>\n",
       "      <td>Las Vegas</td>\n",
       "      <td>4.0</td>\n",
       "    </tr>\n",
       "    <tr>\n",
       "      <th>29614</th>\n",
       "      <td>Secret Pizza</td>\n",
       "      <td>iCQpiavjjPzJ5_3gPD5Ebg</td>\n",
       "      <td>4286</td>\n",
       "      <td>Las Vegas</td>\n",
       "      <td>4.0</td>\n",
       "    </tr>\n",
       "    <tr>\n",
       "      <th>1975</th>\n",
       "      <td>The Buffet at Bellagio</td>\n",
       "      <td>ujHiaprwCQ5ewziu0Vi9rw</td>\n",
       "      <td>4227</td>\n",
       "      <td>Las Vegas</td>\n",
       "      <td>3.5</td>\n",
       "    </tr>\n",
       "    <tr>\n",
       "      <th>63010</th>\n",
       "      <td>Bouchon</td>\n",
       "      <td>rcaPajgKOJC2vo_l3xa42A</td>\n",
       "      <td>3859</td>\n",
       "      <td>Las Vegas</td>\n",
       "      <td>4.0</td>\n",
       "    </tr>\n",
       "    <tr>\n",
       "      <th>47512</th>\n",
       "      <td>McCarran International Airport</td>\n",
       "      <td>FaHADZARwnY4yvlvpnsfGA</td>\n",
       "      <td>3627</td>\n",
       "      <td>Las Vegas</td>\n",
       "      <td>3.5</td>\n",
       "    </tr>\n",
       "    <tr>\n",
       "      <th>18785</th>\n",
       "      <td>Yardbird Southern Table &amp; Bar</td>\n",
       "      <td>faPVqws-x-5k2CQKDNtHxw</td>\n",
       "      <td>3576</td>\n",
       "      <td>Las Vegas</td>\n",
       "      <td>4.5</td>\n",
       "    </tr>\n",
       "    <tr>\n",
       "      <th>2640</th>\n",
       "      <td>The Venetian Las Vegas</td>\n",
       "      <td>Wxxvi3LZbHNIDwJ-ZimtnA</td>\n",
       "      <td>3499</td>\n",
       "      <td>Las Vegas</td>\n",
       "      <td>4.0</td>\n",
       "    </tr>\n",
       "    <tr>\n",
       "      <th>48570</th>\n",
       "      <td>Mesa Grill</td>\n",
       "      <td>XZbuPXdyA0ZtTu3AzqtQhg</td>\n",
       "      <td>3268</td>\n",
       "      <td>Las Vegas</td>\n",
       "      <td>4.0</td>\n",
       "    </tr>\n",
       "    <tr>\n",
       "      <th>6051</th>\n",
       "      <td>The Peppermill Restaurant &amp; Fireside Lounge</td>\n",
       "      <td>XXW_OFaYQkkGOGniujZFHg</td>\n",
       "      <td>3260</td>\n",
       "      <td>Las Vegas</td>\n",
       "      <td>4.0</td>\n",
       "    </tr>\n",
       "    <tr>\n",
       "      <th>66424</th>\n",
       "      <td>Tacos El Gordo</td>\n",
       "      <td>RwMLuOkImBIqqYj4SSKSPg</td>\n",
       "      <td>3243</td>\n",
       "      <td>Las Vegas</td>\n",
       "      <td>4.0</td>\n",
       "    </tr>\n",
       "    <tr>\n",
       "      <th>88784</th>\n",
       "      <td>Gordon Ramsay Pub &amp; Grill</td>\n",
       "      <td>YJ8ljUhLsz6CtT_2ORNFmg</td>\n",
       "      <td>3235</td>\n",
       "      <td>Las Vegas</td>\n",
       "      <td>3.5</td>\n",
       "    </tr>\n",
       "    <tr>\n",
       "      <th>14356</th>\n",
       "      <td>Guy Fieri's Vegas Kitchen &amp; Bar</td>\n",
       "      <td>HhVmDybpU7L50Kb5A0jXTg</td>\n",
       "      <td>3222</td>\n",
       "      <td>Las Vegas</td>\n",
       "      <td>3.5</td>\n",
       "    </tr>\n",
       "    <tr>\n",
       "      <th>83877</th>\n",
       "      <td>Bellagio Hotel</td>\n",
       "      <td>na4Th5DrNauOv-c43QQFvA</td>\n",
       "      <td>3187</td>\n",
       "      <td>Las Vegas</td>\n",
       "      <td>3.5</td>\n",
       "    </tr>\n",
       "    <tr>\n",
       "      <th>51114</th>\n",
       "      <td>Holsteins</td>\n",
       "      <td>P7pxQFqr7yBKMMI2J51udw</td>\n",
       "      <td>3159</td>\n",
       "      <td>Las Vegas</td>\n",
       "      <td>4.0</td>\n",
       "    </tr>\n",
       "    <tr>\n",
       "      <th>19762</th>\n",
       "      <td>XS Nightclub</td>\n",
       "      <td>MpmFFw0GE_2iRFPdsRpJbA</td>\n",
       "      <td>3055</td>\n",
       "      <td>Las Vegas</td>\n",
       "      <td>4.0</td>\n",
       "    </tr>\n",
       "  </tbody>\n",
       "</table>\n",
       "</div>"
      ],
      "text/plain": [
       "                                              name  ... stars\n",
       "82250                                 Mon Ami Gabi  ...   4.0\n",
       "89206                             Bacchanal Buffet  ...   4.0\n",
       "35199                                 Wicked Spoon  ...   3.5\n",
       "58852                           Hash House A Go Go  ...   4.0\n",
       "83950                             Earl of Sandwich  ...   4.5\n",
       "89437                The Cosmopolitan of Las Vegas  ...   4.0\n",
       "29614                                 Secret Pizza  ...   4.0\n",
       "1975                        The Buffet at Bellagio  ...   3.5\n",
       "63010                                      Bouchon  ...   4.0\n",
       "47512               McCarran International Airport  ...   3.5\n",
       "18785                Yardbird Southern Table & Bar  ...   4.5\n",
       "2640                        The Venetian Las Vegas  ...   4.0\n",
       "48570                                   Mesa Grill  ...   4.0\n",
       "6051   The Peppermill Restaurant & Fireside Lounge  ...   4.0\n",
       "66424                               Tacos El Gordo  ...   4.0\n",
       "88784                    Gordon Ramsay Pub & Grill  ...   3.5\n",
       "14356              Guy Fieri's Vegas Kitchen & Bar  ...   3.5\n",
       "83877                               Bellagio Hotel  ...   3.5\n",
       "51114                                    Holsteins  ...   4.0\n",
       "19762                                 XS Nightclub  ...   4.0\n",
       "\n",
       "[20 rows x 5 columns]"
      ]
     },
     "execution_count": 31,
     "metadata": {
      "tags": []
     },
     "output_type": "execute_result"
    }
   ],
   "source": [
    "# Let us look at the top 20 reviewed business\n",
    "business_ds[['name','business_id', 'review_count', 'city', 'stars']].sort_values(ascending=False, by=\"review_count\")[0:20]\n"
   ]
  },
  {
   "cell_type": "code",
   "execution_count": 0,
   "metadata": {
    "colab": {
     "base_uri": "https://localhost:8080/",
     "height": 390
    },
    "colab_type": "code",
    "executionInfo": {
     "elapsed": 625,
     "status": "ok",
     "timestamp": 1574708025947,
     "user": {
      "displayName": "Abhi Patodi",
      "photoUrl": "",
      "userId": "08749657629535720878"
     },
     "user_tz": 300
    },
    "id": "2x2F-y5s6X5L",
    "outputId": "a799a19f-c2d7-4f42-f124-c6bad5721580"
   },
   "outputs": [
    {
     "data": {
      "text/html": [
       "<div>\n",
       "<style scoped>\n",
       "    .dataframe tbody tr th:only-of-type {\n",
       "        vertical-align: middle;\n",
       "    }\n",
       "\n",
       "    .dataframe tbody tr th {\n",
       "        vertical-align: top;\n",
       "    }\n",
       "\n",
       "    .dataframe thead th {\n",
       "        text-align: right;\n",
       "    }\n",
       "</style>\n",
       "<table border=\"1\" class=\"dataframe\">\n",
       "  <thead>\n",
       "    <tr style=\"text-align: right;\">\n",
       "      <th></th>\n",
       "      <th>review_count</th>\n",
       "      <th>stars</th>\n",
       "    </tr>\n",
       "    <tr>\n",
       "      <th>city</th>\n",
       "      <th></th>\n",
       "      <th></th>\n",
       "    </tr>\n",
       "  </thead>\n",
       "  <tbody>\n",
       "    <tr>\n",
       "      <th>Las Vegas</th>\n",
       "      <td>1015183</td>\n",
       "      <td>3.689025</td>\n",
       "    </tr>\n",
       "    <tr>\n",
       "      <th>Phoenix</th>\n",
       "      <td>370619</td>\n",
       "      <td>3.654606</td>\n",
       "    </tr>\n",
       "    <tr>\n",
       "      <th>Toronto</th>\n",
       "      <td>261768</td>\n",
       "      <td>3.452714</td>\n",
       "    </tr>\n",
       "    <tr>\n",
       "      <th>Scottsdale</th>\n",
       "      <td>198070</td>\n",
       "      <td>3.939168</td>\n",
       "    </tr>\n",
       "    <tr>\n",
       "      <th>Charlotte</th>\n",
       "      <td>151622</td>\n",
       "      <td>3.537373</td>\n",
       "    </tr>\n",
       "    <tr>\n",
       "      <th>Pittsburgh</th>\n",
       "      <td>112247</td>\n",
       "      <td>3.601552</td>\n",
       "    </tr>\n",
       "    <tr>\n",
       "      <th>Henderson</th>\n",
       "      <td>109139</td>\n",
       "      <td>3.776608</td>\n",
       "    </tr>\n",
       "    <tr>\n",
       "      <th>Tempe</th>\n",
       "      <td>100737</td>\n",
       "      <td>3.690415</td>\n",
       "    </tr>\n",
       "    <tr>\n",
       "      <th>Chandler</th>\n",
       "      <td>81895</td>\n",
       "      <td>3.759349</td>\n",
       "    </tr>\n",
       "    <tr>\n",
       "      <th>Mesa</th>\n",
       "      <td>81095</td>\n",
       "      <td>3.609815</td>\n",
       "    </tr>\n",
       "  </tbody>\n",
       "</table>\n",
       "</div>"
      ],
      "text/plain": [
       "            review_count     stars\n",
       "city                              \n",
       "Las Vegas        1015183  3.689025\n",
       "Phoenix           370619  3.654606\n",
       "Toronto           261768  3.452714\n",
       "Scottsdale        198070  3.939168\n",
       "Charlotte         151622  3.537373\n",
       "Pittsburgh        112247  3.601552\n",
       "Henderson         109139  3.776608\n",
       "Tempe             100737  3.690415\n",
       "Chandler           81895  3.759349\n",
       "Mesa               81095  3.609815"
      ]
     },
     "execution_count": 32,
     "metadata": {
      "tags": []
     },
     "output_type": "execute_result"
    }
   ],
   "source": [
    "# Cities with most reviews and best ratings for their business\n",
    "city_business_reviews = business_ds[['city', 'review_count', 'stars']].groupby(['city']).\\\n",
    "agg({'review_count': 'sum', 'stars': 'mean'}).sort_values(by='review_count', ascending=False)\n",
    "city_business_reviews.head(10)"
   ]
  },
  {
   "cell_type": "code",
   "execution_count": 0,
   "metadata": {
    "colab": {
     "base_uri": "https://localhost:8080/",
     "height": 710
    },
    "colab_type": "code",
    "executionInfo": {
     "elapsed": 1564,
     "status": "ok",
     "timestamp": 1574708063910,
     "user": {
      "displayName": "Abhi Patodi",
      "photoUrl": "",
      "userId": "08749657629535720878"
     },
     "user_tz": 300
    },
    "id": "gBimazn86fft",
    "outputId": "4a2184d0-05a7-4e42-e9fa-3de8d2910424"
   },
   "outputs": [
    {
     "data": {
      "text/plain": [
       "Text(0.5, 1.0, 'Top 20 cities by reviews')"
      ]
     },
     "execution_count": 33,
     "metadata": {
      "tags": []
     },
     "output_type": "execute_result"
    },
    {
     "data": {
      "image/png": "[encoded data removed]",
      "text/plain": [
       "<Figure size 720x720 with 1 Axes>"
      ]
     },
     "metadata": {
      "tags": []
     },
     "output_type": "display_data"
    }
   ],
   "source": [
    "# visualising the top 20 cities in terms of review counts\n",
    "city_business_reviews['review_count'][0:20].plot(kind='bar', stacked=False, figsize=[10,10], \\\n",
    "                                                 colormap='autumn')\n",
    "plt.title('Top 20 cities by reviews')"
   ]
  },
  {
   "cell_type": "code",
   "execution_count": 0,
   "metadata": {
    "colab": {
     "base_uri": "https://localhost:8080/",
     "height": 638
    },
    "colab_type": "code",
    "executionInfo": {
     "elapsed": 1617,
     "status": "ok",
     "timestamp": 1574708155899,
     "user": {
      "displayName": "Abhi Patodi",
      "photoUrl": "",
      "userId": "08749657629535720878"
     },
     "user_tz": 300
    },
    "id": "M5C7Wcb46mFT",
    "outputId": "01f67b4e-b65f-4cd0-bacd-147b709b1b78"
   },
   "outputs": [
    {
     "data": {
      "text/plain": [
       "Text(0.5, 1.0, 'Cities with greater than 20k reviews ranked by average stars')"
      ]
     },
     "execution_count": 34,
     "metadata": {
      "tags": []
     },
     "output_type": "execute_result"
    },
    {
     "data": {
      "image/png": "[encoded data removed]",
      "text/plain": [
       "<Figure size 720x720 with 1 Axes>"
      ]
     },
     "metadata": {
      "tags": []
     },
     "output_type": "display_data"
    }
   ],
   "source": [
    "# visualising cities with greater than 20k reviews ranked by stars\n",
    "city_business_reviews[city_business_reviews.review_count > 20000]['stars'].sort_values()\\\n",
    ".plot(kind='line', figsize=[10,10], colormap='spring')\n",
    "plt.title('Cities with greater than 20k reviews ranked by average stars')"
   ]
  },
  {
   "cell_type": "code",
   "execution_count": 0,
   "metadata": {
    "colab": {
     "base_uri": "https://localhost:8080/",
     "height": 390
    },
    "colab_type": "code",
    "executionInfo": {
     "elapsed": 1944,
     "status": "ok",
     "timestamp": 1574708181477,
     "user": {
      "displayName": "Abhi Patodi",
      "photoUrl": "",
      "userId": "08749657629535720878"
     },
     "user_tz": 300
    },
    "id": "TLQs4Iz069Oc",
    "outputId": "f3c3d3f7-419e-407a-dbc7-376f1c767770"
   },
   "outputs": [
    {
     "data": {
      "image/png": "[encoded data removed]",
      "text/plain": [
       "<Figure size 1152x288 with 1 Axes>"
      ]
     },
     "metadata": {
      "tags": []
     },
     "output_type": "display_data"
    },
    {
     "data": {
      "text/plain": [
       "6957"
      ]
     },
     "execution_count": 36,
     "metadata": {
      "tags": []
     },
     "output_type": "execute_result"
    }
   ],
   "source": [
    "# Get the distribution of the ratings\n",
    "x=business_ds['city'].value_counts().sort_values(ascending=False)\n",
    "x=x.iloc[0:20]\n",
    "plt.figure(figsize=(16,4))\n",
    "ax = sns.barplot(x.index, x.values, alpha=0.8)\n",
    "plt.title(\"Ttop 20 cities with most reviews\")\n",
    "locs, labels = plt.xticks()\n",
    "plt.setp(labels, rotation=45)\n",
    "plt.ylabel('# businesses', fontsize=12)\n",
    "plt.xlabel('City', fontsize=12)\n",
    "\n",
    "#adding the text labels\n",
    "rects = ax.patches\n",
    "labels = x.values\n",
    "for rect, label in zip(rects, labels):\n",
    "    height = rect.get_height()\n",
    "    ax.text(rect.get_x() + rect.get_width()/2, height + 5, label, ha='center', va='bottom')\n",
    "\n",
    "plt.show()\n",
    "gc.collect()"
   ]
  },
  {
   "cell_type": "code",
   "execution_count": 0,
   "metadata": {
    "colab": {
     "base_uri": "https://localhost:8080/",
     "height": 536
    },
    "colab_type": "code",
    "executionInfo": {
     "elapsed": 2967,
     "status": "ok",
     "timestamp": 1574708265288,
     "user": {
      "displayName": "Abhi Patodi",
      "photoUrl": "",
      "userId": "08749657629535720878"
     },
     "user_tz": 300
    },
    "id": "HWg8hER87NkC",
    "outputId": "bb63df5c-7f1c-4781-ac04-d7a5e1603ffc"
   },
   "outputs": [
    {
     "data": {
      "text/plain": [
       "95"
      ]
     },
     "execution_count": 37,
     "metadata": {
      "tags": []
     },
     "output_type": "execute_result"
    },
    {
     "data": {
      "image/png": "[encoded data removed]",
      "text/plain": [
       "<Figure size 1008x576 with 2 Axes>"
      ]
     },
     "metadata": {
      "tags": []
     },
     "output_type": "display_data"
    }
   ],
   "source": [
    "f,ax = plt.subplots(1,2, figsize=(14,8))\n",
    "ax1,ax2, = ax.flatten()\n",
    "\n",
    "cnt = business_ds['city'].value_counts()[:20].to_frame()\n",
    "sns.barplot(cnt['city'], cnt.index, palette = 'autumn', ax =ax1)\n",
    "ax1.set_xlabel('')\n",
    "ax1.set_title('Top cities listed in Yelp')\n",
    "\n",
    "cnt = business_ds['state'].value_counts()[:20].to_frame()\n",
    "sns.barplot(cnt['state'], cnt.index, palette = 'spring', ax =ax2)\n",
    "ax2.set_xlabel('')\n",
    "ax2.set_title('Top states listed in Yelp');\n",
    "gc.collect()"
   ]
  },
  {
   "cell_type": "markdown",
   "metadata": {
    "colab_type": "text",
    "id": "Fr5Ed58l7cZS"
   },
   "source": [
    "**OBSERVATION**\n",
    "\n",
    "City Las Vegas is top list in business listing in Yelp.com\n",
    "\n",
    "State AZ is top in the list of Yelp.com\n",
    "\n",
    "There are few states having very few business listing"
   ]
  },
  {
   "cell_type": "code",
   "execution_count": 0,
   "metadata": {
    "colab": {
     "base_uri": "https://localhost:8080/",
     "height": 298
    },
    "colab_type": "code",
    "executionInfo": {
     "elapsed": 1835,
     "status": "ok",
     "timestamp": 1574708338644,
     "user": {
      "displayName": "Abhi Patodi",
      "photoUrl": "",
      "userId": "08749657629535720878"
     },
     "user_tz": 300
    },
    "id": "5tdAsGA-7Nl2",
    "outputId": "0680dee8-6116-493c-b1b8-520b31d4f4c9"
   },
   "outputs": [
    {
     "data": {
      "text/plain": [
       "Text(0.5, 1.0, 'Top name of store in Yelp')"
      ]
     },
     "execution_count": 38,
     "metadata": {
      "tags": []
     },
     "output_type": "execute_result"
    },
    {
     "data": {
      "image/png": "[encoded data removed]",
      "text/plain": [
       "<Figure size 432x288 with 1 Axes>"
      ]
     },
     "metadata": {
      "tags": []
     },
     "output_type": "display_data"
    }
   ],
   "source": [
    "plt.plot(figsize=(20,20))\n",
    "#ax1 = ax.flatten()\n",
    "\n",
    "cnt = business_ds['name'].value_counts()[:20].to_frame()\n",
    "sns.barplot(cnt['name'], cnt.index, palette = 'rainbow')\n",
    "plt.xlabel('')\n",
    "plt.title('Top name of store in Yelp')"
   ]
  },
  {
   "cell_type": "markdown",
   "metadata": {
    "colab_type": "text",
    "id": "Kz2NeDR47piC"
   },
   "source": [
    "**OBSERVATION**\n",
    "\n",
    "'Starbucks' is top in list\n",
    "\n",
    "'Chase bank' and 'Bank of America' is in top 20"
   ]
  },
  {
   "cell_type": "code",
   "execution_count": 0,
   "metadata": {
    "colab": {
     "base_uri": "https://localhost:8080/",
     "height": 187
    },
    "colab_type": "code",
    "executionInfo": {
     "elapsed": 1656,
     "status": "ok",
     "timestamp": 1574708378181,
     "user": {
      "displayName": "Abhi Patodi",
      "photoUrl": "",
      "userId": "08749657629535720878"
     },
     "user_tz": 300
    },
    "id": "F5olnM6t7Noi",
    "outputId": "c37a50e4-4eac-42c3-cfe6-291e441ba875"
   },
   "outputs": [
    {
     "data": {
      "text/plain": [
       "4.0    18656\n",
       "3.5    18229\n",
       "5.0    14748\n",
       "4.5    14175\n",
       "3.0    13443\n",
       "2.5     9733\n",
       "2.0     5868\n",
       "1.5     2616\n",
       "1.0     2532\n",
       "Name: stars, dtype: int64"
      ]
     },
     "execution_count": 39,
     "metadata": {
      "tags": []
     },
     "output_type": "execute_result"
    }
   ],
   "source": [
    "# Distribution of stars in business data\n",
    "business_ds['stars'].value_counts()"
   ]
  },
  {
   "cell_type": "code",
   "execution_count": 0,
   "metadata": {
    "colab": {
     "base_uri": "https://localhost:8080/",
     "height": 370
    },
    "colab_type": "code",
    "executionInfo": {
     "elapsed": 1058,
     "status": "ok",
     "timestamp": 1574708388467,
     "user": {
      "displayName": "Abhi Patodi",
      "photoUrl": "",
      "userId": "08749657629535720878"
     },
     "user_tz": 300
    },
    "id": "A6eDc8CQ7Nsr",
    "outputId": "da0aa140-f345-494a-c97c-c2e38db8f445"
   },
   "outputs": [
    {
     "data": {
      "text/plain": [
       "Text(0.5, 0, 'Star Ratings ')"
      ]
     },
     "execution_count": 40,
     "metadata": {
      "tags": []
     },
     "output_type": "execute_result"
    },
    {
     "data": {
      "image/png": "[encoded data removed]",
      "text/plain": [
       "<Figure size 432x360 with 1 Axes>"
      ]
     },
     "metadata": {
      "tags": []
     },
     "output_type": "display_data"
    }
   ],
   "source": [
    "#plotting of stars in busines data\n",
    "x=business_ds['stars'].value_counts().sort_index()\n",
    "plt.figure(figsize=(6,5))\n",
    "ax= sns.barplot(x.index, x.values, alpha=0.8)\n",
    "plt.title(\"Ratings Distribution\")\n",
    "plt.ylabel('# of businesses', fontsize=12)\n",
    "plt.xlabel('Star Ratings ', fontsize=12)"
   ]
  },
  {
   "cell_type": "markdown",
   "metadata": {
    "colab_type": "text",
    "id": "XdjHtIvi74QC"
   },
   "source": [
    "**OBSERVATION**\n",
    "\n",
    "4 star rating is given by maximum users\n",
    "\n",
    "1 star rating to businessess are the least\n",
    "\n",
    "Majority of star rating given to businesses are above 3 stars which signifies that most businesses have got a positive feedback from users"
   ]
  },
  {
   "cell_type": "markdown",
   "metadata": {
    "colab_type": "text",
    "id": "Kz0XSTeF8fuB"
   },
   "source": [
    "# **Analysis On User Reviews**"
   ]
  },
  {
   "cell_type": "code",
   "execution_count": 0,
   "metadata": {
    "colab": {
     "base_uri": "https://localhost:8080/",
     "height": 683
    },
    "colab_type": "code",
    "executionInfo": {
     "elapsed": 1541,
     "status": "ok",
     "timestamp": 1574708608466,
     "user": {
      "displayName": "Abhi Patodi",
      "photoUrl": "",
      "userId": "08749657629535720878"
     },
     "user_tz": 300
    },
    "id": "r8ReqOLE7Nw_",
    "outputId": "74ff5a41-15a1-46d8-ed71-a12703ae0876"
   },
   "outputs": [
    {
     "data": {
      "text/html": [
       "<div>\n",
       "<style scoped>\n",
       "    .dataframe tbody tr th:only-of-type {\n",
       "        vertical-align: middle;\n",
       "    }\n",
       "\n",
       "    .dataframe tbody tr th {\n",
       "        vertical-align: top;\n",
       "    }\n",
       "\n",
       "    .dataframe thead th {\n",
       "        text-align: right;\n",
       "    }\n",
       "</style>\n",
       "<table border=\"1\" class=\"dataframe\">\n",
       "  <thead>\n",
       "    <tr style=\"text-align: right;\">\n",
       "      <th></th>\n",
       "      <th>business_id</th>\n",
       "      <th>cool</th>\n",
       "      <th>date</th>\n",
       "      <th>funny</th>\n",
       "      <th>review_id</th>\n",
       "      <th>stars</th>\n",
       "      <th>text</th>\n",
       "      <th>useful</th>\n",
       "      <th>user_id</th>\n",
       "    </tr>\n",
       "  </thead>\n",
       "  <tbody>\n",
       "    <tr>\n",
       "      <th>0</th>\n",
       "      <td>ujmEBvifdJM6h6RLv4wQIg</td>\n",
       "      <td>0</td>\n",
       "      <td>2013-05-07 04:34:36</td>\n",
       "      <td>1</td>\n",
       "      <td>Q1sbwvVQXV2734tPgoKj4Q</td>\n",
       "      <td>1</td>\n",
       "      <td>Total bill for this horrible service? Over $8G...</td>\n",
       "      <td>6</td>\n",
       "      <td>hG7b0MtEbXx5QzbzE6C_VA</td>\n",
       "    </tr>\n",
       "    <tr>\n",
       "      <th>1</th>\n",
       "      <td>NZnhc2sEQy3RmzKTZnqtwQ</td>\n",
       "      <td>0</td>\n",
       "      <td>2017-01-14 21:30:33</td>\n",
       "      <td>0</td>\n",
       "      <td>GJXCdrto3ASJOqKeVWPi6Q</td>\n",
       "      <td>5</td>\n",
       "      <td>I *adore* Travis at the Hard Rock's new Kelly ...</td>\n",
       "      <td>0</td>\n",
       "      <td>yXQM5uF2jS6es16SJzNHfg</td>\n",
       "    </tr>\n",
       "    <tr>\n",
       "      <th>2</th>\n",
       "      <td>WTqjgwHlXbSFevF32_DJVw</td>\n",
       "      <td>0</td>\n",
       "      <td>2016-11-09 20:09:03</td>\n",
       "      <td>0</td>\n",
       "      <td>2TzJjDVDEuAW6MR5Vuc1ug</td>\n",
       "      <td>5</td>\n",
       "      <td>I have to say that this office really has it t...</td>\n",
       "      <td>3</td>\n",
       "      <td>n6-Gk65cPZL6Uz8qRm3NYw</td>\n",
       "    </tr>\n",
       "    <tr>\n",
       "      <th>3</th>\n",
       "      <td>ikCg8xy5JIg_NGPx-MSIDA</td>\n",
       "      <td>0</td>\n",
       "      <td>2018-01-09 20:56:38</td>\n",
       "      <td>0</td>\n",
       "      <td>yi0R0Ugj_xUx_Nek0-_Qig</td>\n",
       "      <td>5</td>\n",
       "      <td>Went in for a lunch. Steak sandwich was delici...</td>\n",
       "      <td>0</td>\n",
       "      <td>dacAIZ6fTM6mqwW5uxkskg</td>\n",
       "    </tr>\n",
       "    <tr>\n",
       "      <th>4</th>\n",
       "      <td>b1b1eb3uo-w561D0ZfCEiQ</td>\n",
       "      <td>0</td>\n",
       "      <td>2018-01-30 23:07:38</td>\n",
       "      <td>0</td>\n",
       "      <td>11a8sVPMUFtaC7_ABRkmtw</td>\n",
       "      <td>1</td>\n",
       "      <td>Today was my second out of three sessions I ha...</td>\n",
       "      <td>7</td>\n",
       "      <td>ssoyf2_x0EQMed6fgHeMyQ</td>\n",
       "    </tr>\n",
       "  </tbody>\n",
       "</table>\n",
       "</div>"
      ],
      "text/plain": [
       "              business_id  cool  ... useful                 user_id\n",
       "0  ujmEBvifdJM6h6RLv4wQIg     0  ...      6  hG7b0MtEbXx5QzbzE6C_VA\n",
       "1  NZnhc2sEQy3RmzKTZnqtwQ     0  ...      0  yXQM5uF2jS6es16SJzNHfg\n",
       "2  WTqjgwHlXbSFevF32_DJVw     0  ...      3  n6-Gk65cPZL6Uz8qRm3NYw\n",
       "3  ikCg8xy5JIg_NGPx-MSIDA     0  ...      0  dacAIZ6fTM6mqwW5uxkskg\n",
       "4  b1b1eb3uo-w561D0ZfCEiQ     0  ...      7  ssoyf2_x0EQMed6fgHeMyQ\n",
       "\n",
       "[5 rows x 9 columns]"
      ]
     },
     "execution_count": 42,
     "metadata": {
      "tags": []
     },
     "output_type": "execute_result"
    }
   ],
   "source": [
    "review_ds.head(5)"
   ]
  },
  {
   "cell_type": "code",
   "execution_count": 0,
   "metadata": {
    "colab": {
     "base_uri": "https://localhost:8080/",
     "height": 255
    },
    "colab_type": "code",
    "executionInfo": {
     "elapsed": 1303,
     "status": "ok",
     "timestamp": 1574708620534,
     "user": {
      "displayName": "Abhi Patodi",
      "photoUrl": "",
      "userId": "08749657629535720878"
     },
     "user_tz": 300
    },
    "id": "pa70Qit57NzC",
    "outputId": "8a34d6ba-421f-4925-f8f4-2511a5b0c32a"
   },
   "outputs": [
    {
     "name": "stdout",
     "output_type": "stream",
     "text": [
      "<class 'pandas.core.frame.DataFrame'>\n",
      "Int64Index: 100000 entries, 0 to 99999\n",
      "Data columns (total 9 columns):\n",
      "business_id    100000 non-null object\n",
      "cool           100000 non-null int64\n",
      "date           100000 non-null datetime64[ns]\n",
      "funny          100000 non-null int64\n",
      "review_id      100000 non-null object\n",
      "stars          100000 non-null int64\n",
      "text           100000 non-null object\n",
      "useful         100000 non-null int64\n",
      "user_id        100000 non-null object\n",
      "dtypes: datetime64[ns](1), int64(4), object(4)\n",
      "memory usage: 7.6+ MB\n"
     ]
    }
   ],
   "source": [
    "review_ds.info()"
   ]
  },
  {
   "cell_type": "code",
   "execution_count": 0,
   "metadata": {
    "colab": {
     "base_uri": "https://localhost:8080/",
     "height": 297
    },
    "colab_type": "code",
    "executionInfo": {
     "elapsed": 2102,
     "status": "ok",
     "timestamp": 1574708633056,
     "user": {
      "displayName": "Abhi Patodi",
      "photoUrl": "",
      "userId": "08749657629535720878"
     },
     "user_tz": 300
    },
    "id": "oTq1MIJJ7NrB",
    "outputId": "2e4d14a0-4891-42c1-bafa-582850a9e807"
   },
   "outputs": [
    {
     "data": {
      "text/html": [
       "<div>\n",
       "<style scoped>\n",
       "    .dataframe tbody tr th:only-of-type {\n",
       "        vertical-align: middle;\n",
       "    }\n",
       "\n",
       "    .dataframe tbody tr th {\n",
       "        vertical-align: top;\n",
       "    }\n",
       "\n",
       "    .dataframe thead th {\n",
       "        text-align: right;\n",
       "    }\n",
       "</style>\n",
       "<table border=\"1\" class=\"dataframe\">\n",
       "  <thead>\n",
       "    <tr style=\"text-align: right;\">\n",
       "      <th></th>\n",
       "      <th>cool</th>\n",
       "      <th>funny</th>\n",
       "      <th>stars</th>\n",
       "      <th>useful</th>\n",
       "    </tr>\n",
       "  </thead>\n",
       "  <tbody>\n",
       "    <tr>\n",
       "      <th>count</th>\n",
       "      <td>100000.00000</td>\n",
       "      <td>100000.000000</td>\n",
       "      <td>100000.000000</td>\n",
       "      <td>100000.000000</td>\n",
       "    </tr>\n",
       "    <tr>\n",
       "      <th>mean</th>\n",
       "      <td>0.54412</td>\n",
       "      <td>0.442580</td>\n",
       "      <td>3.736920</td>\n",
       "      <td>1.279980</td>\n",
       "    </tr>\n",
       "    <tr>\n",
       "      <th>std</th>\n",
       "      <td>2.04579</td>\n",
       "      <td>1.648487</td>\n",
       "      <td>1.454589</td>\n",
       "      <td>2.919489</td>\n",
       "    </tr>\n",
       "    <tr>\n",
       "      <th>min</th>\n",
       "      <td>0.00000</td>\n",
       "      <td>0.000000</td>\n",
       "      <td>1.000000</td>\n",
       "      <td>0.000000</td>\n",
       "    </tr>\n",
       "    <tr>\n",
       "      <th>25%</th>\n",
       "      <td>0.00000</td>\n",
       "      <td>0.000000</td>\n",
       "      <td>3.000000</td>\n",
       "      <td>0.000000</td>\n",
       "    </tr>\n",
       "    <tr>\n",
       "      <th>50%</th>\n",
       "      <td>0.00000</td>\n",
       "      <td>0.000000</td>\n",
       "      <td>4.000000</td>\n",
       "      <td>0.000000</td>\n",
       "    </tr>\n",
       "    <tr>\n",
       "      <th>75%</th>\n",
       "      <td>0.00000</td>\n",
       "      <td>0.000000</td>\n",
       "      <td>5.000000</td>\n",
       "      <td>1.000000</td>\n",
       "    </tr>\n",
       "    <tr>\n",
       "      <th>max</th>\n",
       "      <td>94.00000</td>\n",
       "      <td>74.000000</td>\n",
       "      <td>5.000000</td>\n",
       "      <td>101.000000</td>\n",
       "    </tr>\n",
       "  </tbody>\n",
       "</table>\n",
       "</div>"
      ],
      "text/plain": [
       "               cool          funny          stars         useful\n",
       "count  100000.00000  100000.000000  100000.000000  100000.000000\n",
       "mean        0.54412       0.442580       3.736920       1.279980\n",
       "std         2.04579       1.648487       1.454589       2.919489\n",
       "min         0.00000       0.000000       1.000000       0.000000\n",
       "25%         0.00000       0.000000       3.000000       0.000000\n",
       "50%         0.00000       0.000000       4.000000       0.000000\n",
       "75%         0.00000       0.000000       5.000000       1.000000\n",
       "max        94.00000      74.000000       5.000000     101.000000"
      ]
     },
     "execution_count": 44,
     "metadata": {
      "tags": []
     },
     "output_type": "execute_result"
    }
   ],
   "source": [
    "review_ds.describe()"
   ]
  },
  {
   "cell_type": "code",
   "execution_count": 0,
   "metadata": {
    "colab": {
     "base_uri": "https://localhost:8080/",
     "height": 187
    },
    "colab_type": "code",
    "executionInfo": {
     "elapsed": 1481,
     "status": "ok",
     "timestamp": 1574708651492,
     "user": {
      "displayName": "Abhi Patodi",
      "photoUrl": "",
      "userId": "08749657629535720878"
     },
     "user_tz": 300
    },
    "id": "ObC-Xahr8w-I",
    "outputId": "299c3978-e286-431e-d5c0-4cbb3264dc27"
   },
   "outputs": [
    {
     "data": {
      "text/plain": [
       "business_id    0\n",
       "cool           0\n",
       "date           0\n",
       "funny          0\n",
       "review_id      0\n",
       "stars          0\n",
       "text           0\n",
       "useful         0\n",
       "user_id        0\n",
       "dtype: int64"
      ]
     },
     "execution_count": 45,
     "metadata": {
      "tags": []
     },
     "output_type": "execute_result"
    }
   ],
   "source": [
    "#Check null value\n",
    "review_ds.isnull().sum()"
   ]
  },
  {
   "cell_type": "code",
   "execution_count": 0,
   "metadata": {
    "colab": {
     "base_uri": "https://localhost:8080/",
     "height": 405
    },
    "colab_type": "code",
    "executionInfo": {
     "elapsed": 2105,
     "status": "ok",
     "timestamp": 1574708668051,
     "user": {
      "displayName": "Abhi Patodi",
      "photoUrl": "",
      "userId": "08749657629535720878"
     },
     "user_tz": 300
    },
    "id": "IeXJPiOX8xIm",
    "outputId": "186d9920-74cd-4714-dba4-e371264a0ff3"
   },
   "outputs": [
    {
     "data": {
      "text/plain": [
       "Text(0, 0.5, '')"
      ]
     },
     "execution_count": 46,
     "metadata": {
      "tags": []
     },
     "output_type": "execute_result"
    },
    {
     "data": {
      "image/png": "[encoded data removed]",
      "text/plain": [
       "<Figure size 576x432 with 1 Axes>"
      ]
     },
     "metadata": {
      "tags": []
     },
     "output_type": "display_data"
    }
   ],
   "source": [
    "# Review distribution according to the year and month\n",
    "review_ds['year'] = review_ds['date'].dt.year\n",
    "\n",
    "plt.figure(figsize = (8,6))\n",
    "cnt = review_ds.groupby('year').count()['stars'].to_frame()\n",
    "sns.barplot(cnt.index, cnt['stars'],palette = 'coolwarm')\n",
    "plt.ylabel('')"
   ]
  },
  {
   "cell_type": "markdown",
   "metadata": {
    "colab_type": "text",
    "id": "G10SLXb98585"
   },
   "source": [
    "**OBSERVATION**\n",
    "\n",
    "Number of user providing reviews on yelp are increasing every year and maximum reviews are in 2017"
   ]
  },
  {
   "cell_type": "markdown",
   "metadata": {
    "colab_type": "text",
    "id": "SIVsNuXy8-tU"
   },
   "source": [
    "# **Analysis On User Dataset**"
   ]
  },
  {
   "cell_type": "code",
   "execution_count": 0,
   "metadata": {
    "colab": {
     "base_uri": "https://localhost:8080/",
     "height": 309
    },
    "colab_type": "code",
    "executionInfo": {
     "elapsed": 1435,
     "status": "ok",
     "timestamp": 1574708740357,
     "user": {
      "displayName": "Abhi Patodi",
      "photoUrl": "",
      "userId": "08749657629535720878"
     },
     "user_tz": 300
    },
    "id": "OQXSF2WO8xNJ",
    "outputId": "290e67fe-93fa-4023-f771-52d00e93443e"
   },
   "outputs": [
    {
     "data": {
      "text/html": [
       "<div>\n",
       "<style scoped>\n",
       "    .dataframe tbody tr th:only-of-type {\n",
       "        vertical-align: middle;\n",
       "    }\n",
       "\n",
       "    .dataframe tbody tr th {\n",
       "        vertical-align: top;\n",
       "    }\n",
       "\n",
       "    .dataframe thead th {\n",
       "        text-align: right;\n",
       "    }\n",
       "</style>\n",
       "<table border=\"1\" class=\"dataframe\">\n",
       "  <thead>\n",
       "    <tr style=\"text-align: right;\">\n",
       "      <th></th>\n",
       "      <th>user_id</th>\n",
       "      <th>name</th>\n",
       "      <th>review_count</th>\n",
       "      <th>yelping_since</th>\n",
       "      <th>useful</th>\n",
       "      <th>funny</th>\n",
       "      <th>cool</th>\n",
       "      <th>elite</th>\n",
       "      <th>friends</th>\n",
       "      <th>fans</th>\n",
       "      <th>average_stars</th>\n",
       "      <th>compliment_hot</th>\n",
       "      <th>compliment_more</th>\n",
       "      <th>compliment_profile</th>\n",
       "      <th>compliment_cute</th>\n",
       "      <th>compliment_list</th>\n",
       "      <th>compliment_note</th>\n",
       "      <th>compliment_plain</th>\n",
       "      <th>compliment_cool</th>\n",
       "      <th>compliment_funny</th>\n",
       "      <th>compliment_writer</th>\n",
       "      <th>compliment_photos</th>\n",
       "    </tr>\n",
       "  </thead>\n",
       "  <tbody>\n",
       "    <tr>\n",
       "      <th>0</th>\n",
       "      <td>l6BmjZMeQD3rDxWUbiAiow</td>\n",
       "      <td>Rashmi</td>\n",
       "      <td>95</td>\n",
       "      <td>2013-10-08 23:11:33</td>\n",
       "      <td>84</td>\n",
       "      <td>17</td>\n",
       "      <td>25</td>\n",
       "      <td>2015,2016,2017</td>\n",
       "      <td>c78V-rj8NQcQjOI8KP3UEA, alRMgPcngYSCJ5naFRBz5g...</td>\n",
       "      <td>5</td>\n",
       "      <td>4.03</td>\n",
       "      <td>2</td>\n",
       "      <td>0</td>\n",
       "      <td>0</td>\n",
       "      <td>0</td>\n",
       "      <td>0</td>\n",
       "      <td>1</td>\n",
       "      <td>1</td>\n",
       "      <td>1</td>\n",
       "      <td>1</td>\n",
       "      <td>2</td>\n",
       "      <td>0</td>\n",
       "    </tr>\n",
       "    <tr>\n",
       "      <th>1</th>\n",
       "      <td>4XChL029mKr5hydo79Ljxg</td>\n",
       "      <td>Jenna</td>\n",
       "      <td>33</td>\n",
       "      <td>2013-02-21 22:29:06</td>\n",
       "      <td>48</td>\n",
       "      <td>22</td>\n",
       "      <td>16</td>\n",
       "      <td></td>\n",
       "      <td>kEBTgDvFX754S68FllfCaA, aB2DynOxNOJK9st2ZeGTPg...</td>\n",
       "      <td>4</td>\n",
       "      <td>3.63</td>\n",
       "      <td>1</td>\n",
       "      <td>0</td>\n",
       "      <td>0</td>\n",
       "      <td>0</td>\n",
       "      <td>0</td>\n",
       "      <td>0</td>\n",
       "      <td>0</td>\n",
       "      <td>1</td>\n",
       "      <td>1</td>\n",
       "      <td>0</td>\n",
       "      <td>0</td>\n",
       "    </tr>\n",
       "    <tr>\n",
       "      <th>2</th>\n",
       "      <td>bc8C_eETBWL0olvFSJJd0w</td>\n",
       "      <td>David</td>\n",
       "      <td>16</td>\n",
       "      <td>2013-10-04 00:16:10</td>\n",
       "      <td>28</td>\n",
       "      <td>8</td>\n",
       "      <td>10</td>\n",
       "      <td></td>\n",
       "      <td>4N-HU_T32hLENLntsNKNBg, pSY2vwWLgWfGVAAiKQzMng...</td>\n",
       "      <td>0</td>\n",
       "      <td>3.71</td>\n",
       "      <td>0</td>\n",
       "      <td>0</td>\n",
       "      <td>0</td>\n",
       "      <td>0</td>\n",
       "      <td>0</td>\n",
       "      <td>1</td>\n",
       "      <td>0</td>\n",
       "      <td>0</td>\n",
       "      <td>0</td>\n",
       "      <td>0</td>\n",
       "      <td>0</td>\n",
       "    </tr>\n",
       "    <tr>\n",
       "      <th>3</th>\n",
       "      <td>dD0gZpBctWGdWo9WlGuhlA</td>\n",
       "      <td>Angela</td>\n",
       "      <td>17</td>\n",
       "      <td>2014-05-22 15:57:30</td>\n",
       "      <td>30</td>\n",
       "      <td>4</td>\n",
       "      <td>14</td>\n",
       "      <td></td>\n",
       "      <td>RZ6wS38wnlXyj-OOdTzBxA, l5jxZh1KsgI8rMunm-GN6A...</td>\n",
       "      <td>5</td>\n",
       "      <td>4.85</td>\n",
       "      <td>1</td>\n",
       "      <td>0</td>\n",
       "      <td>0</td>\n",
       "      <td>0</td>\n",
       "      <td>0</td>\n",
       "      <td>0</td>\n",
       "      <td>2</td>\n",
       "      <td>0</td>\n",
       "      <td>0</td>\n",
       "      <td>1</td>\n",
       "      <td>0</td>\n",
       "    </tr>\n",
       "    <tr>\n",
       "      <th>4</th>\n",
       "      <td>MM4RJAeH6yuaN8oZDSt0RA</td>\n",
       "      <td>Nancy</td>\n",
       "      <td>361</td>\n",
       "      <td>2013-10-23 07:02:50</td>\n",
       "      <td>1114</td>\n",
       "      <td>279</td>\n",
       "      <td>665</td>\n",
       "      <td>2015,2016,2017,2018</td>\n",
       "      <td>mbwrZ-RS76V1HoJ0bF_Geg, g64lOV39xSLRZO0aQQ6DeQ...</td>\n",
       "      <td>39</td>\n",
       "      <td>4.08</td>\n",
       "      <td>28</td>\n",
       "      <td>1</td>\n",
       "      <td>0</td>\n",
       "      <td>0</td>\n",
       "      <td>1</td>\n",
       "      <td>16</td>\n",
       "      <td>57</td>\n",
       "      <td>80</td>\n",
       "      <td>80</td>\n",
       "      <td>25</td>\n",
       "      <td>5</td>\n",
       "    </tr>\n",
       "  </tbody>\n",
       "</table>\n",
       "</div>"
      ],
      "text/plain": [
       "                  user_id    name  ...  compliment_writer compliment_photos\n",
       "0  l6BmjZMeQD3rDxWUbiAiow  Rashmi  ...                  2                 0\n",
       "1  4XChL029mKr5hydo79Ljxg   Jenna  ...                  0                 0\n",
       "2  bc8C_eETBWL0olvFSJJd0w   David  ...                  0                 0\n",
       "3  dD0gZpBctWGdWo9WlGuhlA  Angela  ...                  1                 0\n",
       "4  MM4RJAeH6yuaN8oZDSt0RA   Nancy  ...                 25                 5\n",
       "\n",
       "[5 rows x 22 columns]"
      ]
     },
     "execution_count": 49,
     "metadata": {
      "tags": []
     },
     "output_type": "execute_result"
    }
   ],
   "source": [
    "user_ds.head(5)"
   ]
  },
  {
   "cell_type": "code",
   "execution_count": 0,
   "metadata": {
    "colab": {
     "base_uri": "https://localhost:8080/",
     "height": 476
    },
    "colab_type": "code",
    "executionInfo": {
     "elapsed": 1792,
     "status": "ok",
     "timestamp": 1574708736670,
     "user": {
      "displayName": "Abhi Patodi",
      "photoUrl": "",
      "userId": "08749657629535720878"
     },
     "user_tz": 300
    },
    "id": "xa4cpLfa8xPc",
    "outputId": "c2b861ea-5ce9-4f1c-e8eb-5e80bffe06eb"
   },
   "outputs": [
    {
     "name": "stdout",
     "output_type": "stream",
     "text": [
      "<class 'pandas.core.frame.DataFrame'>\n",
      "Int64Index: 100000 entries, 0 to 99999\n",
      "Data columns (total 22 columns):\n",
      "user_id               100000 non-null object\n",
      "name                  100000 non-null object\n",
      "review_count          100000 non-null int64\n",
      "yelping_since         100000 non-null object\n",
      "useful                100000 non-null int64\n",
      "funny                 100000 non-null int64\n",
      "cool                  100000 non-null int64\n",
      "elite                 100000 non-null object\n",
      "friends               100000 non-null object\n",
      "fans                  100000 non-null int64\n",
      "average_stars         100000 non-null float64\n",
      "compliment_hot        100000 non-null int64\n",
      "compliment_more       100000 non-null int64\n",
      "compliment_profile    100000 non-null int64\n",
      "compliment_cute       100000 non-null int64\n",
      "compliment_list       100000 non-null int64\n",
      "compliment_note       100000 non-null int64\n",
      "compliment_plain      100000 non-null int64\n",
      "compliment_cool       100000 non-null int64\n",
      "compliment_funny      100000 non-null int64\n",
      "compliment_writer     100000 non-null int64\n",
      "compliment_photos     100000 non-null int64\n",
      "dtypes: float64(1), int64(16), object(5)\n",
      "memory usage: 17.5+ MB\n"
     ]
    }
   ],
   "source": [
    "user_ds.info()"
   ]
  },
  {
   "cell_type": "code",
   "execution_count": 0,
   "metadata": {
    "colab": {
     "base_uri": "https://localhost:8080/",
     "height": 317
    },
    "colab_type": "code",
    "executionInfo": {
     "elapsed": 1419,
     "status": "ok",
     "timestamp": 1574708748609,
     "user": {
      "displayName": "Abhi Patodi",
      "photoUrl": "",
      "userId": "08749657629535720878"
     },
     "user_tz": 300
    },
    "id": "_-op99al8w80",
    "outputId": "7a4fde62-ae52-4358-f285-55a9ee384dc0"
   },
   "outputs": [
    {
     "data": {
      "text/html": [
       "<div>\n",
       "<style scoped>\n",
       "    .dataframe tbody tr th:only-of-type {\n",
       "        vertical-align: middle;\n",
       "    }\n",
       "\n",
       "    .dataframe tbody tr th {\n",
       "        vertical-align: top;\n",
       "    }\n",
       "\n",
       "    .dataframe thead th {\n",
       "        text-align: right;\n",
       "    }\n",
       "</style>\n",
       "<table border=\"1\" class=\"dataframe\">\n",
       "  <thead>\n",
       "    <tr style=\"text-align: right;\">\n",
       "      <th></th>\n",
       "      <th>review_count</th>\n",
       "      <th>useful</th>\n",
       "      <th>funny</th>\n",
       "      <th>cool</th>\n",
       "      <th>fans</th>\n",
       "      <th>average_stars</th>\n",
       "      <th>compliment_hot</th>\n",
       "      <th>compliment_more</th>\n",
       "      <th>compliment_profile</th>\n",
       "      <th>compliment_cute</th>\n",
       "      <th>compliment_list</th>\n",
       "      <th>compliment_note</th>\n",
       "      <th>compliment_plain</th>\n",
       "      <th>compliment_cool</th>\n",
       "      <th>compliment_funny</th>\n",
       "      <th>compliment_writer</th>\n",
       "      <th>compliment_photos</th>\n",
       "    </tr>\n",
       "  </thead>\n",
       "  <tbody>\n",
       "    <tr>\n",
       "      <th>count</th>\n",
       "      <td>100000.000000</td>\n",
       "      <td>100000.000000</td>\n",
       "      <td>100000.000000</td>\n",
       "      <td>100000.000000</td>\n",
       "      <td>100000.000000</td>\n",
       "      <td>100000.000000</td>\n",
       "      <td>100000.000000</td>\n",
       "      <td>100000.00000</td>\n",
       "      <td>100000.000000</td>\n",
       "      <td>100000.000000</td>\n",
       "      <td>100000.000000</td>\n",
       "      <td>100000.000000</td>\n",
       "      <td>100000.000000</td>\n",
       "      <td>100000.000000</td>\n",
       "      <td>100000.000000</td>\n",
       "      <td>100000.000000</td>\n",
       "      <td>100000.000000</td>\n",
       "    </tr>\n",
       "    <tr>\n",
       "      <th>mean</th>\n",
       "      <td>82.558470</td>\n",
       "      <td>211.546330</td>\n",
       "      <td>104.439670</td>\n",
       "      <td>133.010090</td>\n",
       "      <td>7.146770</td>\n",
       "      <td>3.798690</td>\n",
       "      <td>13.757830</td>\n",
       "      <td>1.73952</td>\n",
       "      <td>1.254500</td>\n",
       "      <td>1.005030</td>\n",
       "      <td>0.477890</td>\n",
       "      <td>8.135450</td>\n",
       "      <td>18.552510</td>\n",
       "      <td>18.771650</td>\n",
       "      <td>18.771650</td>\n",
       "      <td>7.094370</td>\n",
       "      <td>7.262320</td>\n",
       "    </tr>\n",
       "    <tr>\n",
       "      <th>std</th>\n",
       "      <td>201.292528</td>\n",
       "      <td>1353.683818</td>\n",
       "      <td>941.570493</td>\n",
       "      <td>1149.299821</td>\n",
       "      <td>38.507842</td>\n",
       "      <td>0.733975</td>\n",
       "      <td>216.503309</td>\n",
       "      <td>21.10247</td>\n",
       "      <td>27.541587</td>\n",
       "      <td>16.835325</td>\n",
       "      <td>10.529963</td>\n",
       "      <td>78.640364</td>\n",
       "      <td>215.653474</td>\n",
       "      <td>214.506727</td>\n",
       "      <td>214.506727</td>\n",
       "      <td>80.523743</td>\n",
       "      <td>188.018509</td>\n",
       "    </tr>\n",
       "    <tr>\n",
       "      <th>min</th>\n",
       "      <td>0.000000</td>\n",
       "      <td>0.000000</td>\n",
       "      <td>0.000000</td>\n",
       "      <td>0.000000</td>\n",
       "      <td>0.000000</td>\n",
       "      <td>1.000000</td>\n",
       "      <td>0.000000</td>\n",
       "      <td>0.00000</td>\n",
       "      <td>0.000000</td>\n",
       "      <td>0.000000</td>\n",
       "      <td>0.000000</td>\n",
       "      <td>0.000000</td>\n",
       "      <td>0.000000</td>\n",
       "      <td>0.000000</td>\n",
       "      <td>0.000000</td>\n",
       "      <td>0.000000</td>\n",
       "      <td>0.000000</td>\n",
       "    </tr>\n",
       "    <tr>\n",
       "      <th>25%</th>\n",
       "      <td>9.000000</td>\n",
       "      <td>6.000000</td>\n",
       "      <td>1.000000</td>\n",
       "      <td>1.000000</td>\n",
       "      <td>0.000000</td>\n",
       "      <td>3.450000</td>\n",
       "      <td>0.000000</td>\n",
       "      <td>0.00000</td>\n",
       "      <td>0.000000</td>\n",
       "      <td>0.000000</td>\n",
       "      <td>0.000000</td>\n",
       "      <td>0.000000</td>\n",
       "      <td>0.000000</td>\n",
       "      <td>0.000000</td>\n",
       "      <td>0.000000</td>\n",
       "      <td>0.000000</td>\n",
       "      <td>0.000000</td>\n",
       "    </tr>\n",
       "    <tr>\n",
       "      <th>50%</th>\n",
       "      <td>24.000000</td>\n",
       "      <td>23.000000</td>\n",
       "      <td>5.000000</td>\n",
       "      <td>6.000000</td>\n",
       "      <td>1.000000</td>\n",
       "      <td>3.860000</td>\n",
       "      <td>0.000000</td>\n",
       "      <td>0.00000</td>\n",
       "      <td>0.000000</td>\n",
       "      <td>0.000000</td>\n",
       "      <td>0.000000</td>\n",
       "      <td>0.000000</td>\n",
       "      <td>0.000000</td>\n",
       "      <td>0.000000</td>\n",
       "      <td>0.000000</td>\n",
       "      <td>0.000000</td>\n",
       "      <td>0.000000</td>\n",
       "    </tr>\n",
       "    <tr>\n",
       "      <th>75%</th>\n",
       "      <td>71.000000</td>\n",
       "      <td>85.000000</td>\n",
       "      <td>23.000000</td>\n",
       "      <td>27.000000</td>\n",
       "      <td>3.000000</td>\n",
       "      <td>4.250000</td>\n",
       "      <td>1.000000</td>\n",
       "      <td>0.00000</td>\n",
       "      <td>0.000000</td>\n",
       "      <td>0.000000</td>\n",
       "      <td>0.000000</td>\n",
       "      <td>2.000000</td>\n",
       "      <td>2.000000</td>\n",
       "      <td>2.000000</td>\n",
       "      <td>2.000000</td>\n",
       "      <td>1.000000</td>\n",
       "      <td>0.000000</td>\n",
       "    </tr>\n",
       "    <tr>\n",
       "      <th>max</th>\n",
       "      <td>12390.000000</td>\n",
       "      <td>89792.000000</td>\n",
       "      <td>86122.000000</td>\n",
       "      <td>83915.000000</td>\n",
       "      <td>2964.000000</td>\n",
       "      <td>5.000000</td>\n",
       "      <td>34167.000000</td>\n",
       "      <td>3575.00000</td>\n",
       "      <td>5660.000000</td>\n",
       "      <td>2254.000000</td>\n",
       "      <td>2261.000000</td>\n",
       "      <td>7579.000000</td>\n",
       "      <td>14888.000000</td>\n",
       "      <td>19348.000000</td>\n",
       "      <td>19348.000000</td>\n",
       "      <td>8341.000000</td>\n",
       "      <td>39055.000000</td>\n",
       "    </tr>\n",
       "  </tbody>\n",
       "</table>\n",
       "</div>"
      ],
      "text/plain": [
       "        review_count         useful  ...  compliment_writer  compliment_photos\n",
       "count  100000.000000  100000.000000  ...      100000.000000      100000.000000\n",
       "mean       82.558470     211.546330  ...           7.094370           7.262320\n",
       "std       201.292528    1353.683818  ...          80.523743         188.018509\n",
       "min         0.000000       0.000000  ...           0.000000           0.000000\n",
       "25%         9.000000       6.000000  ...           0.000000           0.000000\n",
       "50%        24.000000      23.000000  ...           0.000000           0.000000\n",
       "75%        71.000000      85.000000  ...           1.000000           0.000000\n",
       "max     12390.000000   89792.000000  ...        8341.000000       39055.000000\n",
       "\n",
       "[8 rows x 17 columns]"
      ]
     },
     "execution_count": 50,
     "metadata": {
      "tags": []
     },
     "output_type": "execute_result"
    }
   ],
   "source": [
    "user_ds.describe()"
   ]
  },
  {
   "cell_type": "markdown",
   "metadata": {
    "colab_type": "text",
    "id": "NSZ2Tba89MPc"
   },
   "source": [
    "**OBSERVATION**\n",
    "\n",
    "Minimum average_stars rating for a user is 1, maximum value of rating is 5 and minimum is 0\n",
    "\n",
    "The average of the average_star rating for a user is 3.79"
   ]
  },
  {
   "cell_type": "code",
   "execution_count": 0,
   "metadata": {
    "colab": {
     "base_uri": "https://localhost:8080/",
     "height": 549
    },
    "colab_type": "code",
    "executionInfo": {
     "elapsed": 1417,
     "status": "ok",
     "timestamp": 1574708825644,
     "user": {
      "displayName": "Abhi Patodi",
      "photoUrl": "",
      "userId": "08749657629535720878"
     },
     "user_tz": 300
    },
    "id": "3LgXl2Lm8w7S",
    "outputId": "a3684fd0-1016-407c-9763-27caad09814c"
   },
   "outputs": [
    {
     "data": {
      "text/html": [
       "<div>\n",
       "<style scoped>\n",
       "    .dataframe tbody tr th:only-of-type {\n",
       "        vertical-align: middle;\n",
       "    }\n",
       "\n",
       "    .dataframe tbody tr th {\n",
       "        vertical-align: top;\n",
       "    }\n",
       "\n",
       "    .dataframe thead th {\n",
       "        text-align: right;\n",
       "    }\n",
       "</style>\n",
       "<table border=\"1\" class=\"dataframe\">\n",
       "  <thead>\n",
       "    <tr style=\"text-align: right;\">\n",
       "      <th></th>\n",
       "      <th>user_id</th>\n",
       "      <th>name</th>\n",
       "      <th>review_count</th>\n",
       "      <th>yelping_since</th>\n",
       "      <th>useful</th>\n",
       "      <th>funny</th>\n",
       "      <th>cool</th>\n",
       "      <th>elite</th>\n",
       "      <th>friends</th>\n",
       "      <th>fans</th>\n",
       "      <th>average_stars</th>\n",
       "      <th>compliment_hot</th>\n",
       "      <th>compliment_more</th>\n",
       "      <th>compliment_profile</th>\n",
       "      <th>compliment_cute</th>\n",
       "      <th>compliment_list</th>\n",
       "      <th>compliment_note</th>\n",
       "      <th>compliment_plain</th>\n",
       "      <th>compliment_cool</th>\n",
       "      <th>compliment_funny</th>\n",
       "      <th>compliment_writer</th>\n",
       "      <th>compliment_photos</th>\n",
       "    </tr>\n",
       "  </thead>\n",
       "  <tbody>\n",
       "    <tr>\n",
       "      <th>1301</th>\n",
       "      <td>hizGc5W1tBHPghM5YKCAtg</td>\n",
       "      <td>Katie</td>\n",
       "      <td>1448</td>\n",
       "      <td>2009-05-22 20:19:55</td>\n",
       "      <td>37796</td>\n",
       "      <td>26881</td>\n",
       "      <td>31252</td>\n",
       "      <td>2009,2010,2011,2012,2013,2014,2015,2016,2017,2018</td>\n",
       "      <td>BsPTBl0_5rZXrfVP4HffqQ, _NNnlcRTDIYqejVEAZ5Fmw...</td>\n",
       "      <td>2964</td>\n",
       "      <td>4.19</td>\n",
       "      <td>6313</td>\n",
       "      <td>408</td>\n",
       "      <td>401</td>\n",
       "      <td>366</td>\n",
       "      <td>252</td>\n",
       "      <td>2881</td>\n",
       "      <td>14888</td>\n",
       "      <td>7268</td>\n",
       "      <td>7268</td>\n",
       "      <td>2446</td>\n",
       "      <td>1447</td>\n",
       "    </tr>\n",
       "    <tr>\n",
       "      <th>1271</th>\n",
       "      <td>eKUGKQRE-Ywi5dY55_zChg</td>\n",
       "      <td>Cherylynn</td>\n",
       "      <td>2190</td>\n",
       "      <td>2008-01-20 06:27:03</td>\n",
       "      <td>78888</td>\n",
       "      <td>64172</td>\n",
       "      <td>65573</td>\n",
       "      <td>2010,2011,2012,2013,2014,2015,2016,2017,2018</td>\n",
       "      <td>9meGsHGlIwf-W8VIh7-DVA, DHs8No90RxNP6EQHHNEZvg...</td>\n",
       "      <td>2434</td>\n",
       "      <td>3.67</td>\n",
       "      <td>21956</td>\n",
       "      <td>1981</td>\n",
       "      <td>2510</td>\n",
       "      <td>1195</td>\n",
       "      <td>397</td>\n",
       "      <td>7579</td>\n",
       "      <td>12650</td>\n",
       "      <td>19348</td>\n",
       "      <td>19348</td>\n",
       "      <td>8341</td>\n",
       "      <td>39055</td>\n",
       "    </tr>\n",
       "    <tr>\n",
       "      <th>1239</th>\n",
       "      <td>ITa3vh5ERI90G_WP4SmGUQ</td>\n",
       "      <td>Peter</td>\n",
       "      <td>2939</td>\n",
       "      <td>2008-05-06 01:30:13</td>\n",
       "      <td>41172</td>\n",
       "      <td>45625</td>\n",
       "      <td>31778</td>\n",
       "      <td>2008,2009,2010,2011,2012,2013,2014,2015,2016,2...</td>\n",
       "      <td>itEBF-wdxhHapBxT35XoMA, DYqujEDnSMgwL7sFTRSv8w...</td>\n",
       "      <td>2086</td>\n",
       "      <td>3.98</td>\n",
       "      <td>2317</td>\n",
       "      <td>362</td>\n",
       "      <td>335</td>\n",
       "      <td>338</td>\n",
       "      <td>340</td>\n",
       "      <td>2384</td>\n",
       "      <td>8654</td>\n",
       "      <td>4325</td>\n",
       "      <td>4325</td>\n",
       "      <td>1539</td>\n",
       "      <td>579</td>\n",
       "    </tr>\n",
       "    <tr>\n",
       "      <th>10806</th>\n",
       "      <td>m07sy7eLtOjVdZ8oN9JKag</td>\n",
       "      <td>Ed</td>\n",
       "      <td>4400</td>\n",
       "      <td>2006-07-22 01:22:26</td>\n",
       "      <td>51201</td>\n",
       "      <td>39114</td>\n",
       "      <td>44201</td>\n",
       "      <td>2006,2007,2008,2009,2010,2011,2012,2013,2014,2...</td>\n",
       "      <td>weI3gUj0DiKXkp8seBYKfw, iQCOko4X7KQrmHdLiV1o9A...</td>\n",
       "      <td>1780</td>\n",
       "      <td>3.66</td>\n",
       "      <td>2516</td>\n",
       "      <td>319</td>\n",
       "      <td>163</td>\n",
       "      <td>150</td>\n",
       "      <td>208</td>\n",
       "      <td>745</td>\n",
       "      <td>1175</td>\n",
       "      <td>2743</td>\n",
       "      <td>2743</td>\n",
       "      <td>2351</td>\n",
       "      <td>2158</td>\n",
       "    </tr>\n",
       "    <tr>\n",
       "      <th>4502</th>\n",
       "      <td>fgwI3rYHOv1ipfVfCSx7pg</td>\n",
       "      <td>Emi</td>\n",
       "      <td>1690</td>\n",
       "      <td>2009-09-17 09:11:14</td>\n",
       "      <td>37334</td>\n",
       "      <td>28125</td>\n",
       "      <td>32565</td>\n",
       "      <td>2009,2010,2011,2012,2013,2014,2015,2016,2017,2018</td>\n",
       "      <td>rGJQwYZNcmRrYQWlvhBBZQ, NgX6wFfGP8i8QZZwIZhZbw...</td>\n",
       "      <td>1698</td>\n",
       "      <td>4.29</td>\n",
       "      <td>3754</td>\n",
       "      <td>190</td>\n",
       "      <td>167</td>\n",
       "      <td>222</td>\n",
       "      <td>87</td>\n",
       "      <td>1606</td>\n",
       "      <td>9173</td>\n",
       "      <td>5505</td>\n",
       "      <td>5505</td>\n",
       "      <td>1255</td>\n",
       "      <td>1269</td>\n",
       "    </tr>\n",
       "    <tr>\n",
       "      <th>7023</th>\n",
       "      <td>Hi10sGSZNxQH3NLyWSZ1oA</td>\n",
       "      <td>Fox</td>\n",
       "      <td>6407</td>\n",
       "      <td>2009-05-26 11:33:58</td>\n",
       "      <td>89418</td>\n",
       "      <td>86122</td>\n",
       "      <td>82128</td>\n",
       "      <td>2014,2015,2016,2017,2018</td>\n",
       "      <td>2vFUeQGnG8zdLSQkwfChog, 6YDC4RNaAUdTSkhJ1WUC9w...</td>\n",
       "      <td>1574</td>\n",
       "      <td>3.83</td>\n",
       "      <td>3032</td>\n",
       "      <td>361</td>\n",
       "      <td>337</td>\n",
       "      <td>111</td>\n",
       "      <td>40</td>\n",
       "      <td>1861</td>\n",
       "      <td>4379</td>\n",
       "      <td>5429</td>\n",
       "      <td>5429</td>\n",
       "      <td>1371</td>\n",
       "      <td>2276</td>\n",
       "    </tr>\n",
       "    <tr>\n",
       "      <th>538</th>\n",
       "      <td>G9Vb6yQ047TC3O_-GG4WZA</td>\n",
       "      <td>Connie</td>\n",
       "      <td>1540</td>\n",
       "      <td>2005-10-05 21:46:41</td>\n",
       "      <td>24513</td>\n",
       "      <td>15949</td>\n",
       "      <td>22616</td>\n",
       "      <td>2006,2007,2008,2009,2010</td>\n",
       "      <td>wvo6CDYUY6gD6q_iLjmAOQ, cvp_9tPerFLdvSKlTnXKTQ...</td>\n",
       "      <td>1558</td>\n",
       "      <td>4.17</td>\n",
       "      <td>6849</td>\n",
       "      <td>217</td>\n",
       "      <td>230</td>\n",
       "      <td>1339</td>\n",
       "      <td>124</td>\n",
       "      <td>1135</td>\n",
       "      <td>4263</td>\n",
       "      <td>4527</td>\n",
       "      <td>4527</td>\n",
       "      <td>946</td>\n",
       "      <td>855</td>\n",
       "    </tr>\n",
       "    <tr>\n",
       "      <th>256</th>\n",
       "      <td>WG3w_73scm_JUWJ_3Lgn0Q</td>\n",
       "      <td>Jack</td>\n",
       "      <td>4534</td>\n",
       "      <td>2011-06-29 22:41:05</td>\n",
       "      <td>58513</td>\n",
       "      <td>27141</td>\n",
       "      <td>47149</td>\n",
       "      <td>2012,2013,2014,2015,2016,2017,2018</td>\n",
       "      <td>68XxoMUi-DFklQEWQlpMww, Dsb1QrODMkX-cU7vUhdCBg...</td>\n",
       "      <td>1500</td>\n",
       "      <td>3.85</td>\n",
       "      <td>1437</td>\n",
       "      <td>275</td>\n",
       "      <td>72</td>\n",
       "      <td>59</td>\n",
       "      <td>64</td>\n",
       "      <td>1675</td>\n",
       "      <td>5371</td>\n",
       "      <td>3455</td>\n",
       "      <td>3455</td>\n",
       "      <td>1504</td>\n",
       "      <td>1963</td>\n",
       "    </tr>\n",
       "    <tr>\n",
       "      <th>4587</th>\n",
       "      <td>ysCBsXWPB-LAiewVS3jZfQ</td>\n",
       "      <td>Jando</td>\n",
       "      <td>3517</td>\n",
       "      <td>2006-11-08 07:31:36</td>\n",
       "      <td>22159</td>\n",
       "      <td>11031</td>\n",
       "      <td>15866</td>\n",
       "      <td>2007,2008,2009,2010,2011,2012,2013,2014,2015,2...</td>\n",
       "      <td>hozuvS9opaptx-oVT3wDWg, NT5PIrm_5PMIvhKThayOIg...</td>\n",
       "      <td>1462</td>\n",
       "      <td>3.47</td>\n",
       "      <td>2912</td>\n",
       "      <td>336</td>\n",
       "      <td>354</td>\n",
       "      <td>127</td>\n",
       "      <td>222</td>\n",
       "      <td>3119</td>\n",
       "      <td>12022</td>\n",
       "      <td>5729</td>\n",
       "      <td>5729</td>\n",
       "      <td>1285</td>\n",
       "      <td>489</td>\n",
       "    </tr>\n",
       "    <tr>\n",
       "      <th>867</th>\n",
       "      <td>djxnI8Ux8ZYQJhiOQkrRhA</td>\n",
       "      <td>Abby</td>\n",
       "      <td>2158</td>\n",
       "      <td>2008-05-09 13:48:14</td>\n",
       "      <td>24367</td>\n",
       "      <td>13152</td>\n",
       "      <td>18359</td>\n",
       "      <td>2009,2010,2011,2012,2013,2014,2015,2016,2017,2018</td>\n",
       "      <td>Lu8y2ayxVlAzuJEVfVcH4w, wxX0rBrvY71iaDrvS_sMfQ...</td>\n",
       "      <td>1443</td>\n",
       "      <td>4.12</td>\n",
       "      <td>2549</td>\n",
       "      <td>225</td>\n",
       "      <td>209</td>\n",
       "      <td>259</td>\n",
       "      <td>102</td>\n",
       "      <td>1995</td>\n",
       "      <td>8962</td>\n",
       "      <td>3591</td>\n",
       "      <td>3591</td>\n",
       "      <td>911</td>\n",
       "      <td>535</td>\n",
       "    </tr>\n",
       "  </tbody>\n",
       "</table>\n",
       "</div>"
      ],
      "text/plain": [
       "                      user_id       name  ...  compliment_writer compliment_photos\n",
       "1301   hizGc5W1tBHPghM5YKCAtg      Katie  ...               2446              1447\n",
       "1271   eKUGKQRE-Ywi5dY55_zChg  Cherylynn  ...               8341             39055\n",
       "1239   ITa3vh5ERI90G_WP4SmGUQ      Peter  ...               1539               579\n",
       "10806  m07sy7eLtOjVdZ8oN9JKag         Ed  ...               2351              2158\n",
       "4502   fgwI3rYHOv1ipfVfCSx7pg        Emi  ...               1255              1269\n",
       "7023   Hi10sGSZNxQH3NLyWSZ1oA        Fox  ...               1371              2276\n",
       "538    G9Vb6yQ047TC3O_-GG4WZA     Connie  ...                946               855\n",
       "256    WG3w_73scm_JUWJ_3Lgn0Q       Jack  ...               1504              1963\n",
       "4587   ysCBsXWPB-LAiewVS3jZfQ      Jando  ...               1285               489\n",
       "867    djxnI8Ux8ZYQJhiOQkrRhA       Abby  ...                911               535\n",
       "\n",
       "[10 rows x 22 columns]"
      ]
     },
     "execution_count": 52,
     "metadata": {
      "tags": []
     },
     "output_type": "execute_result"
    }
   ],
   "source": [
    "# The 10 most popular user\n",
    "user_ds.sort_values('fans', ascending=False).head(10)"
   ]
  },
  {
   "cell_type": "code",
   "execution_count": 0,
   "metadata": {
    "colab": {
     "base_uri": "https://localhost:8080/",
     "height": 34
    },
    "colab_type": "code",
    "executionInfo": {
     "elapsed": 1462,
     "status": "ok",
     "timestamp": 1574708841660,
     "user": {
      "displayName": "Abhi Patodi",
      "photoUrl": "",
      "userId": "08749657629535720878"
     },
     "user_tz": 300
    },
    "id": "Rw-qrP9E9fX5",
    "outputId": "bbc49541-44e1-4f7f-8d06-805c3ca27cc9"
   },
   "outputs": [
    {
     "data": {
      "text/plain": [
       "True"
      ]
     },
     "execution_count": 53,
     "metadata": {
      "tags": []
     },
     "output_type": "execute_result"
    }
   ],
   "source": [
    "# All user_id's are unique or not\n",
    "user_ds['user_id'].is_unique"
   ]
  },
  {
   "cell_type": "markdown",
   "metadata": {
    "colab_type": "text",
    "id": "DT2zaw2j9l8C"
   },
   "source": [
    "# **Tip/ Feedback Analysis**"
   ]
  },
  {
   "cell_type": "code",
   "execution_count": 0,
   "metadata": {
    "colab": {
     "base_uri": "https://localhost:8080/",
     "height": 683
    },
    "colab_type": "code",
    "executionInfo": {
     "elapsed": 1726,
     "status": "ok",
     "timestamp": 1574708985251,
     "user": {
      "displayName": "Abhi Patodi",
      "photoUrl": "",
      "userId": "08749657629535720878"
     },
     "user_tz": 300
    },
    "id": "mSo7J9Ga9fgv",
    "outputId": "1b55dab4-a34f-4952-8973-2c5f8140e9b3"
   },
   "outputs": [
    {
     "data": {
      "text/html": [
       "<div>\n",
       "<style scoped>\n",
       "    .dataframe tbody tr th:only-of-type {\n",
       "        vertical-align: middle;\n",
       "    }\n",
       "\n",
       "    .dataframe tbody tr th {\n",
       "        vertical-align: top;\n",
       "    }\n",
       "\n",
       "    .dataframe thead th {\n",
       "        text-align: right;\n",
       "    }\n",
       "</style>\n",
       "<table border=\"1\" class=\"dataframe\">\n",
       "  <thead>\n",
       "    <tr style=\"text-align: right;\">\n",
       "      <th></th>\n",
       "      <th>user_id</th>\n",
       "      <th>business_id</th>\n",
       "      <th>text</th>\n",
       "      <th>date</th>\n",
       "      <th>compliment_count</th>\n",
       "    </tr>\n",
       "  </thead>\n",
       "  <tbody>\n",
       "    <tr>\n",
       "      <th>0</th>\n",
       "      <td>UPw5DWs_b-e2JRBS-t37Ag</td>\n",
       "      <td>VaKXUpmWTTWDKbpJ3aQdMw</td>\n",
       "      <td>Great for watching games, ufc, and whatever el...</td>\n",
       "      <td>2014-03-27 03:51:24</td>\n",
       "      <td>0</td>\n",
       "    </tr>\n",
       "    <tr>\n",
       "      <th>1</th>\n",
       "      <td>Ocha4kZBHb4JK0lOWvE0sg</td>\n",
       "      <td>OPiPeoJiv92rENwbq76orA</td>\n",
       "      <td>Happy Hour 2-4 daily with 1/2 price drinks and...</td>\n",
       "      <td>2013-05-25 06:00:56</td>\n",
       "      <td>0</td>\n",
       "    </tr>\n",
       "    <tr>\n",
       "      <th>2</th>\n",
       "      <td>jRyO2V1pA4CdVVqCIOPc1Q</td>\n",
       "      <td>5KheTjYPu1HcQzQFtm4_vw</td>\n",
       "      <td>Good chips and salsa. Loud at times. Good serv...</td>\n",
       "      <td>2011-12-26 01:46:17</td>\n",
       "      <td>0</td>\n",
       "    </tr>\n",
       "    <tr>\n",
       "      <th>3</th>\n",
       "      <td>FuTJWFYm4UKqewaosss1KA</td>\n",
       "      <td>TkoyGi8J7YFjA6SbaRzrxg</td>\n",
       "      <td>The setting and decoration here is amazing. Co...</td>\n",
       "      <td>2014-03-23 21:32:49</td>\n",
       "      <td>0</td>\n",
       "    </tr>\n",
       "    <tr>\n",
       "      <th>4</th>\n",
       "      <td>LUlKtaM3nXd-E4N4uOk_fQ</td>\n",
       "      <td>AkL6Ous6A1atZejfZXn1Bg</td>\n",
       "      <td>Molly is definately taking a picture with Sant...</td>\n",
       "      <td>2012-10-06 00:19:27</td>\n",
       "      <td>0</td>\n",
       "    </tr>\n",
       "  </tbody>\n",
       "</table>\n",
       "</div>"
      ],
      "text/plain": [
       "                  user_id  ... compliment_count\n",
       "0  UPw5DWs_b-e2JRBS-t37Ag  ...                0\n",
       "1  Ocha4kZBHb4JK0lOWvE0sg  ...                0\n",
       "2  jRyO2V1pA4CdVVqCIOPc1Q  ...                0\n",
       "3  FuTJWFYm4UKqewaosss1KA  ...                0\n",
       "4  LUlKtaM3nXd-E4N4uOk_fQ  ...                0\n",
       "\n",
       "[5 rows x 5 columns]"
      ]
     },
     "execution_count": 54,
     "metadata": {
      "tags": []
     },
     "output_type": "execute_result"
    }
   ],
   "source": [
    "tip_ds.head(5)"
   ]
  },
  {
   "cell_type": "code",
   "execution_count": 0,
   "metadata": {
    "colab": {
     "base_uri": "https://localhost:8080/",
     "height": 187
    },
    "colab_type": "code",
    "executionInfo": {
     "elapsed": 1438,
     "status": "ok",
     "timestamp": 1574709009611,
     "user": {
      "displayName": "Abhi Patodi",
      "photoUrl": "",
      "userId": "08749657629535720878"
     },
     "user_tz": 300
    },
    "id": "5RikV8iz9flW",
    "outputId": "da278120-549f-4b87-c3aa-e66453b69baa"
   },
   "outputs": [
    {
     "name": "stdout",
     "output_type": "stream",
     "text": [
      "<class 'pandas.core.frame.DataFrame'>\n",
      "Int64Index: 100000 entries, 0 to 99999\n",
      "Data columns (total 5 columns):\n",
      "user_id             100000 non-null object\n",
      "business_id         100000 non-null object\n",
      "text                100000 non-null object\n",
      "date                100000 non-null datetime64[ns]\n",
      "compliment_count    100000 non-null int64\n",
      "dtypes: datetime64[ns](1), int64(1), object(3)\n",
      "memory usage: 4.6+ MB\n"
     ]
    }
   ],
   "source": [
    "tip_ds.info()"
   ]
  },
  {
   "cell_type": "code",
   "execution_count": 0,
   "metadata": {
    "colab": {
     "base_uri": "https://localhost:8080/",
     "height": 297
    },
    "colab_type": "code",
    "executionInfo": {
     "elapsed": 1425,
     "status": "ok",
     "timestamp": 1574709020013,
     "user": {
      "displayName": "Abhi Patodi",
      "photoUrl": "",
      "userId": "08749657629535720878"
     },
     "user_tz": 300
    },
    "id": "gwWhKkLz9fpl",
    "outputId": "c528001c-8132-4f19-956f-c34dc13187c8"
   },
   "outputs": [
    {
     "data": {
      "text/html": [
       "<div>\n",
       "<style scoped>\n",
       "    .dataframe tbody tr th:only-of-type {\n",
       "        vertical-align: middle;\n",
       "    }\n",
       "\n",
       "    .dataframe tbody tr th {\n",
       "        vertical-align: top;\n",
       "    }\n",
       "\n",
       "    .dataframe thead th {\n",
       "        text-align: right;\n",
       "    }\n",
       "</style>\n",
       "<table border=\"1\" class=\"dataframe\">\n",
       "  <thead>\n",
       "    <tr style=\"text-align: right;\">\n",
       "      <th></th>\n",
       "      <th>compliment_count</th>\n",
       "    </tr>\n",
       "  </thead>\n",
       "  <tbody>\n",
       "    <tr>\n",
       "      <th>count</th>\n",
       "      <td>100000.000000</td>\n",
       "    </tr>\n",
       "    <tr>\n",
       "      <th>mean</th>\n",
       "      <td>0.020250</td>\n",
       "    </tr>\n",
       "    <tr>\n",
       "      <th>std</th>\n",
       "      <td>0.160438</td>\n",
       "    </tr>\n",
       "    <tr>\n",
       "      <th>min</th>\n",
       "      <td>0.000000</td>\n",
       "    </tr>\n",
       "    <tr>\n",
       "      <th>25%</th>\n",
       "      <td>0.000000</td>\n",
       "    </tr>\n",
       "    <tr>\n",
       "      <th>50%</th>\n",
       "      <td>0.000000</td>\n",
       "    </tr>\n",
       "    <tr>\n",
       "      <th>75%</th>\n",
       "      <td>0.000000</td>\n",
       "    </tr>\n",
       "    <tr>\n",
       "      <th>max</th>\n",
       "      <td>6.000000</td>\n",
       "    </tr>\n",
       "  </tbody>\n",
       "</table>\n",
       "</div>"
      ],
      "text/plain": [
       "       compliment_count\n",
       "count     100000.000000\n",
       "mean           0.020250\n",
       "std            0.160438\n",
       "min            0.000000\n",
       "25%            0.000000\n",
       "50%            0.000000\n",
       "75%            0.000000\n",
       "max            6.000000"
      ]
     },
     "execution_count": 56,
     "metadata": {
      "tags": []
     },
     "output_type": "execute_result"
    }
   ],
   "source": [
    "tip_ds.describe()"
   ]
  },
  {
   "cell_type": "markdown",
   "metadata": {
    "colab_type": "text",
    "id": "vqKEx7c5-URX"
   },
   "source": [
    "# **Conclusion**\n",
    "\n",
    "In this jupyter notebook, we explored and analyzed the Yelp Dataset. Now we will predict the ratings of the user based on the review. After that we will recommend restaurants based on collaborative filtering and content.\n",
    "\n",
    "\n"
   ]
  },
  {
   "cell_type": "markdown",
   "metadata": {
    "colab_type": "text",
    "id": "sv-1BOQP-dJf"
   },
   "source": [
    "# **MIT License**\n",
    "\n",
    "Copyright (c) 2019 Rashika Moza, Abhi Patodi, Soumya Pandey\n",
    "\n",
    "Permission is hereby granted, free of charge, to any person obtaining a copy of this software and associated documentation files (the \"Software\"), to deal in the Software without restriction, including without limitation the rights to use, copy, modify, merge, publish, distribute, sublicense, and/or sell copies of the Software, and to permit persons to whom the Software is furnished to do so, subject to the following conditions:\n",
    "\n",
    "The above copyright notice and this permission notice shall be included in all copies or substantial portions of the Software.\n",
    "\n",
    "THE SOFTWARE IS PROVIDED \"AS IS\", WITHOUT WARRANTY OF ANY KIND, EXPRESS OR IMPLIED, INCLUDING BUT NOT LIMITED TO THE WARRANTIES OF MERCHANTABILITY, FITNESS FOR A PARTICULAR PURPOSE AND NONINFRINGEMENT. IN NO EVENT SHALL THE AUTHORS OR COPYRIGHT HOLDERS BE LIABLE FOR ANY CLAIM, DAMAGES OR OTHER LIABILITY, WHETHER IN AN ACTION OF CONTRACT, TORT OR OTHERWISE, ARISING FROM, OUT OF OR IN CONNECTION WITH THE SOFTWARE OR THE USE OR OTHER DEALINGS IN THE SOFTWARE\n",
    "\n"
   ]
  },
  {
   "cell_type": "markdown",
   "metadata": {
    "colab_type": "text",
    "id": "QD1ILBbZ-sNR"
   },
   "source": []
  },
  {
   "cell_type": "code",
   "execution_count": 0,
   "metadata": {
    "colab": {},
    "colab_type": "code",
    "id": "UEYAeHk39ftZ"
   },
   "outputs": [],
   "source": []
  },
  {
   "cell_type": "code",
   "execution_count": 0,
   "metadata": {
    "colab": {},
    "colab_type": "code",
    "id": "B4pIWSwl9fwM"
   },
   "outputs": [],
   "source": []
  },
  {
   "cell_type": "code",
   "execution_count": 0,
   "metadata": {
    "colab": {},
    "colab_type": "code",
    "id": "zGGjtLb79frz"
   },
   "outputs": [],
   "source": []
  },
  {
   "cell_type": "code",
   "execution_count": 0,
   "metadata": {
    "colab": {},
    "colab_type": "code",
    "id": "GiewUHH29fnv"
   },
   "outputs": [],
   "source": []
  },
  {
   "cell_type": "code",
   "execution_count": 0,
   "metadata": {
    "colab": {},
    "colab_type": "code",
    "id": "DK1MfgIV9fjZ"
   },
   "outputs": [],
   "source": []
  }
 ],
 "metadata": {
  "accelerator": "GPU",
  "colab": {
   "collapsed_sections": [],
   "name": "Yelp_Dataset_EDA.ipynb",
   "provenance": []
  },
  "kernelspec": {
   "display_name": "Python 3",
   "language": "python",
   "name": "python3"
  },
  "language_info": {
   "codemirror_mode": {
    "name": "ipython",
    "version": 3
   },
   "file_extension": ".py",
   "mimetype": "text/x-python",
   "name": "python",
   "nbconvert_exporter": "python",
   "pygments_lexer": "ipython3",
   "version": "3.7.3"
  }
 },
 "nbformat": 4,
 "nbformat_minor": 1
}
