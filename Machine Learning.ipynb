{
 "cells": [
  {
   "cell_type": "code",
   "execution_count": 0,
   "metadata": {
    "colab": {},
    "colab_type": "code",
    "id": "6QGtxFYl1HZK"
   },
   "outputs": [],
   "source": [
    "#imports \n",
    "from pydrive.auth import GoogleAuth\n",
    "from pydrive.drive import GoogleDrive\n",
    "from google.colab import auth\n",
    "from oauth2client.client import  GoogleCredentials"
   ]
  },
  {
   "cell_type": "code",
   "execution_count": 0,
   "metadata": {
    "colab": {},
    "colab_type": "code",
    "id": "_6k0H0U71m86"
   },
   "outputs": [],
   "source": [
    "auth.authenticate_user()\n",
    "gauth = GoogleAuth()\n",
    "gauth.credentials = GoogleCredentials.get_application_default()\n",
    "drive = GoogleDrive(gauth)"
   ]
  },
  {
   "cell_type": "code",
   "execution_count": 0,
   "metadata": {
    "colab": {},
    "colab_type": "code",
    "id": "gyJQdb_n1m_5"
   },
   "outputs": [],
   "source": [
    "file_id = '1q8cR7hj3xuZaVdKJUD2LOE-r5VI6YBk8'\n",
    "downloaded = drive.CreateFile({'id':file_id})\n",
    "#print('Downloaded content\"{}\"'.format(downloaded.GetContentString()))\n",
    "downloaded.GetContentFile('YelpDataset.zip')"
   ]
  },
  {
   "cell_type": "code",
   "execution_count": 4,
   "metadata": {
    "colab": {
     "base_uri": "https://localhost:8080/",
     "height": 34
    },
    "colab_type": "code",
    "executionInfo": {
     "elapsed": 47675,
     "status": "ok",
     "timestamp": 1575244636384,
     "user": {
      "displayName": "Abhi Patodi",
      "photoUrl": "",
      "userId": "08749657629535720878"
     },
     "user_tz": 300
    },
    "id": "KlZ5SCI41nCq",
    "outputId": "f722c9a4-80d3-40e7-efdc-9b6b4d3235f3"
   },
   "outputs": [
    {
     "name": "stdout",
     "output_type": "stream",
     "text": [
      "adc.json  \u001b[0m\u001b[01;34msample_data\u001b[0m/  YelpDataset.zip\n"
     ]
    }
   ],
   "source": [
    "ls"
   ]
  },
  {
   "cell_type": "code",
   "execution_count": 5,
   "metadata": {
    "colab": {
     "base_uri": "https://localhost:8080/",
     "height": 70
    },
    "colab_type": "code",
    "executionInfo": {
     "elapsed": 52608,
     "status": "ok",
     "timestamp": 1575244641331,
     "user": {
      "displayName": "Abhi Patodi",
      "photoUrl": "",
      "userId": "08749657629535720878"
     },
     "user_tz": 300
    },
    "id": "Gng2KrA41nEx",
    "outputId": "50900869-f91f-4a24-a0e1-ce7b184f2c81"
   },
   "outputs": [
    {
     "name": "stdout",
     "output_type": "stream",
     "text": [
      "extracting zip file\n",
      "CPU times: user 4.35 s, sys: 735 ms, total: 5.08 s\n",
      "Wall time: 5.18 s\n"
     ]
    }
   ],
   "source": [
    "%%time\n",
    "import zipfile\n",
    "with zipfile.ZipFile(\"YelpDataset.zip\",\"r\") as zip_ref:\n",
    "  print('extracting zip file')\n",
    "  zip_ref.extractall(\"targetdir\")"
   ]
  },
  {
   "cell_type": "code",
   "execution_count": 6,
   "metadata": {
    "colab": {
     "base_uri": "https://localhost:8080/",
     "height": 34
    },
    "colab_type": "code",
    "executionInfo": {
     "elapsed": 54515,
     "status": "ok",
     "timestamp": 1575244643255,
     "user": {
      "displayName": "Abhi Patodi",
      "photoUrl": "",
      "userId": "08749657629535720878"
     },
     "user_tz": 300
    },
    "id": "lJTkNbFa1nG7",
    "outputId": "cd68f268-6a26-42d3-d7c6-e761ce533123"
   },
   "outputs": [
    {
     "name": "stdout",
     "output_type": "stream",
     "text": [
      "adc.json  \u001b[0m\u001b[01;34msample_data\u001b[0m/  \u001b[01;34mtargetdir\u001b[0m/  YelpDataset.zip\n"
     ]
    }
   ],
   "source": [
    "ls\n"
   ]
  },
  {
   "cell_type": "code",
   "execution_count": 7,
   "metadata": {
    "colab": {
     "base_uri": "https://localhost:8080/",
     "height": 34
    },
    "colab_type": "code",
    "executionInfo": {
     "elapsed": 54951,
     "status": "ok",
     "timestamp": 1575244643708,
     "user": {
      "displayName": "Abhi Patodi",
      "photoUrl": "",
      "userId": "08749657629535720878"
     },
     "user_tz": 300
    },
    "id": "FxNhAFrV1nI5",
    "outputId": "d4901c43-74e5-44f6-adaf-e434a79d1829"
   },
   "outputs": [
    {
     "name": "stdout",
     "output_type": "stream",
     "text": [
      "/content/targetdir\n"
     ]
    }
   ],
   "source": [
    "cd targetdir/"
   ]
  },
  {
   "cell_type": "code",
   "execution_count": 8,
   "metadata": {
    "colab": {
     "base_uri": "https://localhost:8080/",
     "height": 34
    },
    "colab_type": "code",
    "executionInfo": {
     "elapsed": 60311,
     "status": "ok",
     "timestamp": 1575244649084,
     "user": {
      "displayName": "Abhi Patodi",
      "photoUrl": "",
      "userId": "08749657629535720878"
     },
     "user_tz": 300
    },
    "id": "vMbY166C1nK8",
    "outputId": "b9dade3b-70e9-4bbd-8a9e-ee36f70248ec"
   },
   "outputs": [
    {
     "name": "stdout",
     "output_type": "stream",
     "text": [
      "\u001b[0m\u001b[01;34m__MACOSX\u001b[0m/  \u001b[01;34mYelpDataset\u001b[0m/\n"
     ]
    }
   ],
   "source": [
    "ls"
   ]
  },
  {
   "cell_type": "code",
   "execution_count": 9,
   "metadata": {
    "colab": {
     "base_uri": "https://localhost:8080/",
     "height": 34
    },
    "colab_type": "code",
    "executionInfo": {
     "elapsed": 60295,
     "status": "ok",
     "timestamp": 1575244649085,
     "user": {
      "displayName": "Abhi Patodi",
      "photoUrl": "",
      "userId": "08749657629535720878"
     },
     "user_tz": 300
    },
    "id": "j-SXs36U1nNB",
    "outputId": "1f51d065-1ace-441b-d01d-81eb58001196"
   },
   "outputs": [
    {
     "name": "stdout",
     "output_type": "stream",
     "text": [
      "/content/targetdir/YelpDataset\n"
     ]
    }
   ],
   "source": [
    "cd YelpDataset/"
   ]
  },
  {
   "cell_type": "code",
   "execution_count": 10,
   "metadata": {
    "colab": {
     "base_uri": "https://localhost:8080/",
     "height": 34
    },
    "colab_type": "code",
    "executionInfo": {
     "elapsed": 64873,
     "status": "ok",
     "timestamp": 1575244653678,
     "user": {
      "displayName": "Abhi Patodi",
      "photoUrl": "",
      "userId": "08749657629535720878"
     },
     "user_tz": 300
    },
    "id": "rRLmyA3K1nPJ",
    "outputId": "d18c4273-517d-4899-92f6-1adc1dab7a97"
   },
   "outputs": [
    {
     "name": "stdout",
     "output_type": "stream",
     "text": [
      "business.json  checkin.json  tip.json  user.json  user_reviews.json\n"
     ]
    }
   ],
   "source": [
    "ls"
   ]
  },
  {
   "cell_type": "code",
   "execution_count": 11,
   "metadata": {
    "colab": {
     "base_uri": "https://localhost:8080/",
     "height": 318
    },
    "colab_type": "code",
    "executionInfo": {
     "elapsed": 93880,
     "status": "ok",
     "timestamp": 1575244682703,
     "user": {
      "displayName": "Abhi Patodi",
      "photoUrl": "",
      "userId": "08749657629535720878"
     },
     "user_tz": 300
    },
    "id": "X6nH3-GCD3Yu",
    "outputId": "ca76cb9c-2f16-401d-c555-81990792582a"
   },
   "outputs": [
    {
     "name": "stdout",
     "output_type": "stream",
     "text": [
      "Collecting surprise\n",
      "  Downloading https://files.pythonhosted.org/packages/61/de/e5cba8682201fcf9c3719a6fdda95693468ed061945493dea2dd37c5618b/surprise-0.1-py2.py3-none-any.whl\n",
      "Collecting scikit-surprise\n",
      "\u001b[?25l  Downloading https://files.pythonhosted.org/packages/f5/da/b5700d96495fb4f092be497f02492768a3d96a3f4fa2ae7dea46d4081cfa/scikit-surprise-1.1.0.tar.gz (6.4MB)\n",
      "\u001b[K     |████████████████████████████████| 6.5MB 4.4MB/s \n",
      "\u001b[?25hRequirement already satisfied: joblib>=0.11 in /usr/local/lib/python3.6/dist-packages (from scikit-surprise->surprise) (0.14.0)\n",
      "Requirement already satisfied: numpy>=1.11.2 in /usr/local/lib/python3.6/dist-packages (from scikit-surprise->surprise) (1.17.4)\n",
      "Requirement already satisfied: scipy>=1.0.0 in /usr/local/lib/python3.6/dist-packages (from scikit-surprise->surprise) (1.3.2)\n",
      "Requirement already satisfied: six>=1.10.0 in /usr/local/lib/python3.6/dist-packages (from scikit-surprise->surprise) (1.12.0)\n",
      "Building wheels for collected packages: scikit-surprise\n",
      "  Building wheel for scikit-surprise (setup.py) ... \u001b[?25l\u001b[?25hdone\n",
      "  Created wheel for scikit-surprise: filename=scikit_surprise-1.1.0-cp36-cp36m-linux_x86_64.whl size=1678274 sha256=a3705d36b091df416ebcd38456dbc12646793be3b8f9fb513885422daf784f25\n",
      "  Stored in directory: /root/.cache/pip/wheels/cc/fa/8c/16c93fccce688ae1bde7d979ff102f7bee980d9cfeb8641bcf\n",
      "Successfully built scikit-surprise\n",
      "Installing collected packages: scikit-surprise, surprise\n",
      "Successfully installed scikit-surprise-1.1.0 surprise-0.1\n"
     ]
    }
   ],
   "source": [
    "!pip install surprise\n"
   ]
  },
  {
   "cell_type": "code",
   "execution_count": 12,
   "metadata": {
    "colab": {
     "base_uri": "https://localhost:8080/",
     "height": 87
    },
    "colab_type": "code",
    "executionInfo": {
     "elapsed": 96935,
     "status": "ok",
     "timestamp": 1575244685774,
     "user": {
      "displayName": "Abhi Patodi",
      "photoUrl": "",
      "userId": "08749657629535720878"
     },
     "user_tz": 300
    },
    "id": "j_8SpolBEBfV",
    "outputId": "52f10195-4f29-42af-a3eb-c9564637669b"
   },
   "outputs": [
    {
     "name": "stdout",
     "output_type": "stream",
     "text": [
      "Requirement already satisfied: wordcloud in /usr/local/lib/python3.6/dist-packages (1.5.0)\n",
      "Requirement already satisfied: pillow in /usr/local/lib/python3.6/dist-packages (from wordcloud) (4.3.0)\n",
      "Requirement already satisfied: numpy>=1.6.1 in /usr/local/lib/python3.6/dist-packages (from wordcloud) (1.17.4)\n",
      "Requirement already satisfied: olefile in /usr/local/lib/python3.6/dist-packages (from pillow->wordcloud) (0.46)\n"
     ]
    }
   ],
   "source": [
    "!pip install wordcloud"
   ]
  },
  {
   "cell_type": "code",
   "execution_count": 13,
   "metadata": {
    "colab": {
     "base_uri": "https://localhost:8080/",
     "height": 52
    },
    "colab_type": "code",
    "executionInfo": {
     "elapsed": 99014,
     "status": "ok",
     "timestamp": 1575244687868,
     "user": {
      "displayName": "Abhi Patodi",
      "photoUrl": "",
      "userId": "08749657629535720878"
     },
     "user_tz": 300
    },
    "id": "qb23nDRq1nQ8",
    "outputId": "7b0941f0-1f70-400d-e6dd-c347dcbf1c61"
   },
   "outputs": [
    {
     "name": "stdout",
     "output_type": "stream",
     "text": [
      "CPU times: user 965 ms, sys: 272 ms, total: 1.24 s\n",
      "Wall time: 2.23 s\n"
     ]
    }
   ],
   "source": [
    "# Basic imports\n",
    "%%time\n",
    "import pandas as pd\n",
    "import os, sys\n",
    "import time\n",
    "import gc\n",
    "import numpy as np\n",
    "from math import sqrt\n",
    "import string\n",
    "import warnings\n",
    "import itertools\n",
    "import datetime\n",
    "warnings.filterwarnings('ignore')\n",
    "\n",
    "#imports for visualisations\n",
    "import matplotlib.pyplot as plt\n",
    "import seaborn as sns\n",
    "from plotly.offline import plot, iplot, init_notebook_mode\n",
    "import networkx as nx\n",
    "from wordcloud import WordCloud\n",
    "\n",
    "# importing libraries for NLP\n",
    "import nltk\n",
    "from nltk.corpus import stopwords, wordnet\n",
    "from sklearn.feature_extraction.text import TfidfVectorizer, CountVectorizer\n",
    "from textblob import TextBlob, Word\n",
    "from nltk.stem.wordnet import WordNetLemmatizer\n",
    "from collections import Counter\n",
    "\n",
    "#importing libraries for modelling\n",
    "import sklearn.metrics as metrics\n",
    "from sklearn.metrics.pairwise import linear_kernel, cosine_similarity\n",
    "from sklearn.metrics import mean_squared_error\n",
    "from sklearn.naive_bayes import MultinomialNB\n",
    "from sklearn.model_selection import train_test_split, GridSearchCV\n",
    "from sklearn.metrics import confusion_matrix, classification_report\n",
    "from sklearn.neighbors import NearestNeighbors\n",
    "from scipy.spatial.distance import correlation, cosine\n",
    "\n",
    "#importing libraries for recommendations\n",
    "from surprise import SVD, SVDpp, Dataset, accuracy, Reader, BaselineOnly, KNNBaseline\n",
    "from surprise.model_selection import train_test_split, GridSearchCV, cross_validate\n",
    "#import evaluate\n",
    "#from surprise import evaluate, print_perf\n",
    "#importing pickle library\n",
    "import pickle\n"
   ]
  },
  {
   "cell_type": "code",
   "execution_count": 14,
   "metadata": {
    "colab": {
     "base_uri": "https://localhost:8080/",
     "height": 1000
    },
    "colab_type": "code",
    "executionInfo": {
     "elapsed": 202644,
     "status": "ok",
     "timestamp": 1575244791513,
     "user": {
      "displayName": "Abhi Patodi",
      "photoUrl": "",
      "userId": "08749657629535720878"
     },
     "user_tz": 300
    },
    "id": "51y0wm15CKR5",
    "outputId": "1437b2af-999c-4515-b481-d0e15a411d23"
   },
   "outputs": [
    {
     "name": "stdout",
     "output_type": "stream",
     "text": [
      "NLTK Downloader\n",
      "---------------------------------------------------------------------------\n",
      "    d) Download   l) List    u) Update   c) Config   h) Help   q) Quit\n",
      "---------------------------------------------------------------------------\n",
      "Downloader> d\n",
      "\n",
      "Download which package (l=list; x=cancel)?\n",
      "  Identifier> all\n",
      "    Downloading collection 'all'\n",
      "       | \n",
      "       | Downloading package abc to /root/nltk_data...\n",
      "       |   Unzipping corpora/abc.zip.\n",
      "       | Downloading package alpino to /root/nltk_data...\n",
      "       |   Unzipping corpora/alpino.zip.\n",
      "       | Downloading package biocreative_ppi to /root/nltk_data...\n",
      "       |   Unzipping corpora/biocreative_ppi.zip.\n",
      "       | Downloading package brown to /root/nltk_data...\n",
      "       |   Unzipping corpora/brown.zip.\n",
      "       | Downloading package brown_tei to /root/nltk_data...\n",
      "       |   Unzipping corpora/brown_tei.zip.\n",
      "       | Downloading package cess_cat to /root/nltk_data...\n",
      "       |   Unzipping corpora/cess_cat.zip.\n",
      "       | Downloading package cess_esp to /root/nltk_data...\n",
      "       |   Unzipping corpora/cess_esp.zip.\n",
      "       | Downloading package chat80 to /root/nltk_data...\n",
      "       |   Unzipping corpora/chat80.zip.\n",
      "       | Downloading package city_database to /root/nltk_data...\n",
      "       |   Unzipping corpora/city_database.zip.\n",
      "       | Downloading package cmudict to /root/nltk_data...\n",
      "       |   Unzipping corpora/cmudict.zip.\n",
      "       | Downloading package comparative_sentences to\n",
      "       |     /root/nltk_data...\n",
      "       |   Unzipping corpora/comparative_sentences.zip.\n",
      "       | Downloading package comtrans to /root/nltk_data...\n",
      "       | Downloading package conll2000 to /root/nltk_data...\n",
      "       |   Unzipping corpora/conll2000.zip.\n",
      "       | Downloading package conll2002 to /root/nltk_data...\n",
      "       |   Unzipping corpora/conll2002.zip.\n",
      "       | Downloading package conll2007 to /root/nltk_data...\n",
      "       | Downloading package crubadan to /root/nltk_data...\n",
      "       |   Unzipping corpora/crubadan.zip.\n",
      "       | Downloading package dependency_treebank to /root/nltk_data...\n",
      "       |   Unzipping corpora/dependency_treebank.zip.\n",
      "       | Downloading package dolch to /root/nltk_data...\n",
      "       |   Unzipping corpora/dolch.zip.\n",
      "       | Downloading package europarl_raw to /root/nltk_data...\n",
      "       |   Unzipping corpora/europarl_raw.zip.\n",
      "       | Downloading package floresta to /root/nltk_data...\n",
      "       |   Unzipping corpora/floresta.zip.\n",
      "       | Downloading package framenet_v15 to /root/nltk_data...\n",
      "       |   Unzipping corpora/framenet_v15.zip.\n",
      "       | Downloading package framenet_v17 to /root/nltk_data...\n",
      "       |   Unzipping corpora/framenet_v17.zip.\n",
      "       | Downloading package gazetteers to /root/nltk_data...\n",
      "       |   Unzipping corpora/gazetteers.zip.\n",
      "       | Downloading package genesis to /root/nltk_data...\n",
      "       |   Unzipping corpora/genesis.zip.\n",
      "       | Downloading package gutenberg to /root/nltk_data...\n",
      "       |   Unzipping corpora/gutenberg.zip.\n",
      "       | Downloading package ieer to /root/nltk_data...\n",
      "       |   Unzipping corpora/ieer.zip.\n",
      "       | Downloading package inaugural to /root/nltk_data...\n",
      "       |   Unzipping corpora/inaugural.zip.\n",
      "       | Downloading package indian to /root/nltk_data...\n",
      "       |   Unzipping corpora/indian.zip.\n",
      "       | Downloading package jeita to /root/nltk_data...\n",
      "       | Downloading package kimmo to /root/nltk_data...\n",
      "       |   Unzipping corpora/kimmo.zip.\n",
      "       | Downloading package knbc to /root/nltk_data...\n",
      "       | Downloading package lin_thesaurus to /root/nltk_data...\n",
      "       |   Unzipping corpora/lin_thesaurus.zip.\n",
      "       | Downloading package mac_morpho to /root/nltk_data...\n",
      "       |   Unzipping corpora/mac_morpho.zip.\n",
      "       | Downloading package machado to /root/nltk_data...\n",
      "       | Downloading package masc_tagged to /root/nltk_data...\n",
      "       | Downloading package moses_sample to /root/nltk_data...\n",
      "       |   Unzipping models/moses_sample.zip.\n",
      "       | Downloading package movie_reviews to /root/nltk_data...\n",
      "       |   Unzipping corpora/movie_reviews.zip.\n",
      "       | Downloading package names to /root/nltk_data...\n",
      "       |   Unzipping corpora/names.zip.\n",
      "       | Downloading package nombank.1.0 to /root/nltk_data...\n",
      "       | Downloading package nps_chat to /root/nltk_data...\n",
      "       |   Unzipping corpora/nps_chat.zip.\n",
      "       | Downloading package omw to /root/nltk_data...\n",
      "       |   Unzipping corpora/omw.zip.\n",
      "       | Downloading package opinion_lexicon to /root/nltk_data...\n",
      "       |   Unzipping corpora/opinion_lexicon.zip.\n",
      "       | Downloading package paradigms to /root/nltk_data...\n",
      "       |   Unzipping corpora/paradigms.zip.\n",
      "       | Downloading package pil to /root/nltk_data...\n",
      "       |   Unzipping corpora/pil.zip.\n",
      "       | Downloading package pl196x to /root/nltk_data...\n",
      "       |   Unzipping corpora/pl196x.zip.\n",
      "       | Downloading package ppattach to /root/nltk_data...\n",
      "       |   Unzipping corpora/ppattach.zip.\n",
      "       | Downloading package problem_reports to /root/nltk_data...\n",
      "       |   Unzipping corpora/problem_reports.zip.\n",
      "       | Downloading package propbank to /root/nltk_data...\n",
      "       | Downloading package ptb to /root/nltk_data...\n",
      "       |   Unzipping corpora/ptb.zip.\n",
      "       | Downloading package product_reviews_1 to /root/nltk_data...\n",
      "       |   Unzipping corpora/product_reviews_1.zip.\n",
      "       | Downloading package product_reviews_2 to /root/nltk_data...\n",
      "       |   Unzipping corpora/product_reviews_2.zip.\n",
      "       | Downloading package pros_cons to /root/nltk_data...\n",
      "       |   Unzipping corpora/pros_cons.zip.\n",
      "       | Downloading package qc to /root/nltk_data...\n",
      "       |   Unzipping corpora/qc.zip.\n",
      "       | Downloading package reuters to /root/nltk_data...\n",
      "       | Downloading package rte to /root/nltk_data...\n",
      "       |   Unzipping corpora/rte.zip.\n",
      "       | Downloading package semcor to /root/nltk_data...\n",
      "       | Downloading package senseval to /root/nltk_data...\n",
      "       |   Unzipping corpora/senseval.zip.\n",
      "       | Downloading package sentiwordnet to /root/nltk_data...\n",
      "       |   Unzipping corpora/sentiwordnet.zip.\n",
      "       | Downloading package sentence_polarity to /root/nltk_data...\n",
      "       |   Unzipping corpora/sentence_polarity.zip.\n",
      "       | Downloading package shakespeare to /root/nltk_data...\n",
      "       |   Unzipping corpora/shakespeare.zip.\n",
      "       | Downloading package sinica_treebank to /root/nltk_data...\n",
      "       |   Unzipping corpora/sinica_treebank.zip.\n",
      "       | Downloading package smultron to /root/nltk_data...\n",
      "       |   Unzipping corpora/smultron.zip.\n",
      "       | Downloading package state_union to /root/nltk_data...\n",
      "       |   Unzipping corpora/state_union.zip.\n",
      "       | Downloading package stopwords to /root/nltk_data...\n",
      "       |   Unzipping corpora/stopwords.zip.\n",
      "       | Downloading package subjectivity to /root/nltk_data...\n",
      "       |   Unzipping corpora/subjectivity.zip.\n",
      "       | Downloading package swadesh to /root/nltk_data...\n",
      "       |   Unzipping corpora/swadesh.zip.\n",
      "       | Downloading package switchboard to /root/nltk_data...\n",
      "       |   Unzipping corpora/switchboard.zip.\n",
      "       | Downloading package timit to /root/nltk_data...\n",
      "       |   Unzipping corpora/timit.zip.\n",
      "       | Downloading package toolbox to /root/nltk_data...\n",
      "       |   Unzipping corpora/toolbox.zip.\n",
      "       | Downloading package treebank to /root/nltk_data...\n",
      "       |   Unzipping corpora/treebank.zip.\n",
      "       | Downloading package twitter_samples to /root/nltk_data...\n",
      "       |   Unzipping corpora/twitter_samples.zip.\n",
      "       | Downloading package udhr to /root/nltk_data...\n",
      "       |   Unzipping corpora/udhr.zip.\n",
      "       | Downloading package udhr2 to /root/nltk_data...\n",
      "       |   Unzipping corpora/udhr2.zip.\n",
      "       | Downloading package unicode_samples to /root/nltk_data...\n",
      "       |   Unzipping corpora/unicode_samples.zip.\n",
      "       | Downloading package universal_treebanks_v20 to\n",
      "       |     /root/nltk_data...\n",
      "       | Downloading package verbnet to /root/nltk_data...\n",
      "       |   Unzipping corpora/verbnet.zip.\n",
      "       | Downloading package verbnet3 to /root/nltk_data...\n",
      "       |   Unzipping corpora/verbnet3.zip.\n",
      "       | Downloading package webtext to /root/nltk_data...\n",
      "       |   Unzipping corpora/webtext.zip.\n",
      "       | Downloading package wordnet to /root/nltk_data...\n",
      "       |   Unzipping corpora/wordnet.zip.\n",
      "       | Downloading package wordnet_ic to /root/nltk_data...\n",
      "       |   Unzipping corpora/wordnet_ic.zip.\n",
      "       | Downloading package words to /root/nltk_data...\n",
      "       |   Unzipping corpora/words.zip.\n",
      "       | Downloading package ycoe to /root/nltk_data...\n",
      "       |   Unzipping corpora/ycoe.zip.\n",
      "       | Downloading package rslp to /root/nltk_data...\n",
      "       |   Unzipping stemmers/rslp.zip.\n",
      "       | Downloading package maxent_treebank_pos_tagger to\n",
      "       |     /root/nltk_data...\n",
      "       |   Unzipping taggers/maxent_treebank_pos_tagger.zip.\n",
      "       | Downloading package universal_tagset to /root/nltk_data...\n",
      "       |   Unzipping taggers/universal_tagset.zip.\n",
      "       | Downloading package maxent_ne_chunker to /root/nltk_data...\n",
      "       |   Unzipping chunkers/maxent_ne_chunker.zip.\n",
      "       | Downloading package punkt to /root/nltk_data...\n",
      "       |   Unzipping tokenizers/punkt.zip.\n",
      "       | Downloading package book_grammars to /root/nltk_data...\n",
      "       |   Unzipping grammars/book_grammars.zip.\n",
      "       | Downloading package sample_grammars to /root/nltk_data...\n",
      "       |   Unzipping grammars/sample_grammars.zip.\n",
      "       | Downloading package spanish_grammars to /root/nltk_data...\n",
      "       |   Unzipping grammars/spanish_grammars.zip.\n",
      "       | Downloading package basque_grammars to /root/nltk_data...\n",
      "       |   Unzipping grammars/basque_grammars.zip.\n",
      "       | Downloading package large_grammars to /root/nltk_data...\n",
      "       |   Unzipping grammars/large_grammars.zip.\n",
      "       | Downloading package tagsets to /root/nltk_data...\n",
      "       |   Unzipping help/tagsets.zip.\n",
      "       | Downloading package snowball_data to /root/nltk_data...\n",
      "       | Downloading package bllip_wsj_no_aux to /root/nltk_data...\n",
      "       |   Unzipping models/bllip_wsj_no_aux.zip.\n",
      "       | Downloading package word2vec_sample to /root/nltk_data...\n",
      "       |   Unzipping models/word2vec_sample.zip.\n",
      "       | Downloading package panlex_swadesh to /root/nltk_data...\n",
      "       | Downloading package mte_teip5 to /root/nltk_data...\n",
      "       |   Unzipping corpora/mte_teip5.zip.\n",
      "       | Downloading package averaged_perceptron_tagger to\n",
      "       |     /root/nltk_data...\n",
      "       |   Unzipping taggers/averaged_perceptron_tagger.zip.\n",
      "       | Downloading package averaged_perceptron_tagger_ru to\n",
      "       |     /root/nltk_data...\n",
      "       |   Unzipping taggers/averaged_perceptron_tagger_ru.zip.\n",
      "       | Downloading package perluniprops to /root/nltk_data...\n",
      "       |   Unzipping misc/perluniprops.zip.\n",
      "       | Downloading package nonbreaking_prefixes to\n",
      "       |     /root/nltk_data...\n",
      "       |   Unzipping corpora/nonbreaking_prefixes.zip.\n",
      "       | Downloading package vader_lexicon to /root/nltk_data...\n",
      "       | Downloading package porter_test to /root/nltk_data...\n",
      "       |   Unzipping stemmers/porter_test.zip.\n",
      "       | Downloading package wmt15_eval to /root/nltk_data...\n",
      "       |   Unzipping models/wmt15_eval.zip.\n",
      "       | Downloading package mwa_ppdb to /root/nltk_data...\n",
      "       |   Unzipping misc/mwa_ppdb.zip.\n",
      "       | \n",
      "     Done downloading collection all\n",
      "\n",
      "---------------------------------------------------------------------------\n",
      "    d) Download   l) List    u) Update   c) Config   h) Help   q) Quit\n",
      "---------------------------------------------------------------------------\n",
      "Downloader> q\n"
     ]
    },
    {
     "data": {
      "text/plain": [
       "True"
      ]
     },
     "execution_count": 14,
     "metadata": {
      "tags": []
     },
     "output_type": "execute_result"
    }
   ],
   "source": [
    "nltk.download()"
   ]
  },
  {
   "cell_type": "code",
   "execution_count": 0,
   "metadata": {
    "colab": {},
    "colab_type": "code",
    "id": "FQMjBGAmBxfP"
   },
   "outputs": [],
   "source": [
    "#reading data from all json files \n",
    "user_ds=pd.read_json('user.json')\n",
    "business_ds=pd.read_json('business.json')\n",
    "checkin_ds=pd.read_json('checkin.json')\n",
    "tip_ds=pd.read_json('tip.json')\n",
    "review_ds=pd.read_json('user_reviews.json')"
   ]
  },
  {
   "cell_type": "markdown",
   "metadata": {
    "colab_type": "text",
    "id": "dTBDoB2UIy_O"
   },
   "source": [
    "# **1. SENTIMENT ANALYSIS AND PREDICTION USING NAIVE BIAS ALGORITHM**\n",
    "\n",
    "The idea is to create a **baseline model** where we just pick the review text and remove the punctuations only and try to predict the rating on the review by using Naive Bias Algorithm. We then do all the text-preprocessing which involves removal of stopwords, applying lemmatization and bagOfWords technique to the reviews and then try to predict the rating again. The aim is to compare and analyse whether doing all the text preprocessing has an impact on the prediction or not. If so, how significant is the imapct on the reveiws. This is being evaluated by looking at the **confusion matrix** and **classification report consisting of precision, recall and f1-score**"
   ]
  },
  {
   "cell_type": "markdown",
   "metadata": {
    "colab_type": "text",
    "id": "5Khe0Ip7KCW7"
   },
   "source": [
    "**1.1 TEXT ANALYSIS OF REVIEW TEXT**\n"
   ]
  },
  {
   "cell_type": "code",
   "execution_count": 16,
   "metadata": {
    "colab": {
     "base_uri": "https://localhost:8080/",
     "height": 195
    },
    "colab_type": "code",
    "executionInfo": {
     "elapsed": 210841,
     "status": "ok",
     "timestamp": 1575244799730,
     "user": {
      "displayName": "Abhi Patodi",
      "photoUrl": "",
      "userId": "08749657629535720878"
     },
     "user_tz": 300
    },
    "id": "VFPZvRIPBxkR",
    "outputId": "f015b250-2f0d-45cf-f7e0-519fb507d247"
   },
   "outputs": [
    {
     "data": {
      "text/html": [
       "<div>\n",
       "<style scoped>\n",
       "    .dataframe tbody tr th:only-of-type {\n",
       "        vertical-align: middle;\n",
       "    }\n",
       "\n",
       "    .dataframe tbody tr th {\n",
       "        vertical-align: top;\n",
       "    }\n",
       "\n",
       "    .dataframe thead th {\n",
       "        text-align: right;\n",
       "    }\n",
       "</style>\n",
       "<table border=\"1\" class=\"dataframe\">\n",
       "  <thead>\n",
       "    <tr style=\"text-align: right;\">\n",
       "      <th></th>\n",
       "      <th>text</th>\n",
       "      <th>word_count</th>\n",
       "    </tr>\n",
       "  </thead>\n",
       "  <tbody>\n",
       "    <tr>\n",
       "      <th>0</th>\n",
       "      <td>Total bill for this horrible service? Over $8G...</td>\n",
       "      <td>39</td>\n",
       "    </tr>\n",
       "    <tr>\n",
       "      <th>1</th>\n",
       "      <td>I *adore* Travis at the Hard Rock's new Kelly ...</td>\n",
       "      <td>288</td>\n",
       "    </tr>\n",
       "    <tr>\n",
       "      <th>2</th>\n",
       "      <td>I have to say that this office really has it t...</td>\n",
       "      <td>113</td>\n",
       "    </tr>\n",
       "    <tr>\n",
       "      <th>3</th>\n",
       "      <td>Went in for a lunch. Steak sandwich was delici...</td>\n",
       "      <td>65</td>\n",
       "    </tr>\n",
       "    <tr>\n",
       "      <th>4</th>\n",
       "      <td>Today was my second out of three sessions I ha...</td>\n",
       "      <td>673</td>\n",
       "    </tr>\n",
       "  </tbody>\n",
       "</table>\n",
       "</div>"
      ],
      "text/plain": [
       "                                                text  word_count\n",
       "0  Total bill for this horrible service? Over $8G...          39\n",
       "1  I *adore* Travis at the Hard Rock's new Kelly ...         288\n",
       "2  I have to say that this office really has it t...         113\n",
       "3  Went in for a lunch. Steak sandwich was delici...          65\n",
       "4  Today was my second out of three sessions I ha...         673"
      ]
     },
     "execution_count": 16,
     "metadata": {
      "tags": []
     },
     "output_type": "execute_result"
    }
   ],
   "source": [
    "# Word count in the review text\n",
    "review_ds['word_count'] = review_ds['text'].apply(lambda x: len(str(x).split(\" \")))\n",
    "review_ds[['text','word_count']].head()\n"
   ]
  },
  {
   "cell_type": "code",
   "execution_count": 17,
   "metadata": {
    "colab": {
     "base_uri": "https://localhost:8080/",
     "height": 195
    },
    "colab_type": "code",
    "executionInfo": {
     "elapsed": 210826,
     "status": "ok",
     "timestamp": 1575244799731,
     "user": {
      "displayName": "Abhi Patodi",
      "photoUrl": "",
      "userId": "08749657629535720878"
     },
     "user_tz": 300
    },
    "id": "CyFoFHtCBxmx",
    "outputId": "7b324328-44bf-487c-a9bc-593660301ecc"
   },
   "outputs": [
    {
     "data": {
      "text/html": [
       "<div>\n",
       "<style scoped>\n",
       "    .dataframe tbody tr th:only-of-type {\n",
       "        vertical-align: middle;\n",
       "    }\n",
       "\n",
       "    .dataframe tbody tr th {\n",
       "        vertical-align: top;\n",
       "    }\n",
       "\n",
       "    .dataframe thead th {\n",
       "        text-align: right;\n",
       "    }\n",
       "</style>\n",
       "<table border=\"1\" class=\"dataframe\">\n",
       "  <thead>\n",
       "    <tr style=\"text-align: right;\">\n",
       "      <th></th>\n",
       "      <th>text</th>\n",
       "      <th>char_count</th>\n",
       "    </tr>\n",
       "  </thead>\n",
       "  <tbody>\n",
       "    <tr>\n",
       "      <th>0</th>\n",
       "      <td>Total bill for this horrible service? Over $8G...</td>\n",
       "      <td>204</td>\n",
       "    </tr>\n",
       "    <tr>\n",
       "      <th>1</th>\n",
       "      <td>I *adore* Travis at the Hard Rock's new Kelly ...</td>\n",
       "      <td>1561</td>\n",
       "    </tr>\n",
       "    <tr>\n",
       "      <th>2</th>\n",
       "      <td>I have to say that this office really has it t...</td>\n",
       "      <td>615</td>\n",
       "    </tr>\n",
       "    <tr>\n",
       "      <th>3</th>\n",
       "      <td>Went in for a lunch. Steak sandwich was delici...</td>\n",
       "      <td>407</td>\n",
       "    </tr>\n",
       "    <tr>\n",
       "      <th>4</th>\n",
       "      <td>Today was my second out of three sessions I ha...</td>\n",
       "      <td>3509</td>\n",
       "    </tr>\n",
       "  </tbody>\n",
       "</table>\n",
       "</div>"
      ],
      "text/plain": [
       "                                                text  char_count\n",
       "0  Total bill for this horrible service? Over $8G...         204\n",
       "1  I *adore* Travis at the Hard Rock's new Kelly ...        1561\n",
       "2  I have to say that this office really has it t...         615\n",
       "3  Went in for a lunch. Steak sandwich was delici...         407\n",
       "4  Today was my second out of three sessions I ha...        3509"
      ]
     },
     "execution_count": 17,
     "metadata": {
      "tags": []
     },
     "output_type": "execute_result"
    }
   ],
   "source": [
    "# Character count in the review text\n",
    "review_ds['char_count'] = review_ds['text'].str.len() ## this also includes spaces\n",
    "review_ds[['text','char_count']].head()"
   ]
  },
  {
   "cell_type": "code",
   "execution_count": 18,
   "metadata": {
    "colab": {
     "base_uri": "https://localhost:8080/",
     "height": 54
    },
    "colab_type": "code",
    "executionInfo": {
     "elapsed": 212041,
     "status": "ok",
     "timestamp": 1575244800961,
     "user": {
      "displayName": "Abhi Patodi",
      "photoUrl": "",
      "userId": "08749657629535720878"
     },
     "user_tz": 300
    },
    "id": "fUtKm7kwBxo_",
    "outputId": "b3189c24-3984-4e5b-9988-cea25fc888e0"
   },
   "outputs": [
    {
     "data": {
      "text/plain": [
       "\"I *adore* Travis at the Hard Rock's new Kelly Cardenas Salon!  I'm always a fan of a great blowout and no stranger to the chains that offer this service; however, Travis has taken the flawless blowout to a whole new level!  \\n\\nTravis's greets you with his perfectly green swoosh in his otherwise perfectly styled black hair and a Vegas-worthy rockstar outfit.  Next comes the most relaxing and incredible shampoo -- where you get a full head message that could cure even the very worst migraine in minutes --- and the scented shampoo room.  Travis has freakishly strong fingers (in a good way) and use the perfect amount of pressure.  That was superb!  Then starts the glorious blowout... where not one, not two, but THREE people were involved in doing the best round-brush action my hair has ever seen.  The team of stylists clearly gets along extremely well, as it's evident from the way they talk to and help one another that it's really genuine and not some corporate requirement.  It was so much fun to be there! \\n\\nNext Travis started with the flat iron.  The way he flipped his wrist to get volume all around without over-doing it and making me look like a Texas pagent girl was admirable.  It's also worth noting that he didn't fry my hair -- something that I've had happen before with less skilled stylists.  At the end of the blowout & style my hair was perfectly bouncey and looked terrific.  The only thing better?  That this awesome blowout lasted for days! \\n\\nTravis, I will see you every single time I'm out in Vegas.  You make me feel beauuuutiful!\""
      ]
     },
     "execution_count": 18,
     "metadata": {
      "tags": []
     },
     "output_type": "execute_result"
    }
   ],
   "source": [
    "# Average word length in the review text sentence\n",
    "def avg_word(sentence):\n",
    "  words = sentence.split()\n",
    "  return (sum(len(word) for word in words)/len(words))\n",
    "\n",
    "review_ds['avg_word'] = review_ds['text'].apply(lambda x: avg_word(x))\n",
    "review_ds[['text','avg_word']].head()\n",
    "review_ds['text'][1]"
   ]
  },
  {
   "cell_type": "code",
   "execution_count": 19,
   "metadata": {
    "colab": {
     "base_uri": "https://localhost:8080/",
     "height": 195
    },
    "colab_type": "code",
    "executionInfo": {
     "elapsed": 213589,
     "status": "ok",
     "timestamp": 1575244802526,
     "user": {
      "displayName": "Abhi Patodi",
      "photoUrl": "",
      "userId": "08749657629535720878"
     },
     "user_tz": 300
    },
    "id": "95YgEG-2BxrH",
    "outputId": "5ed8efa2-33df-44b6-e5ba-86669ec5791c"
   },
   "outputs": [
    {
     "data": {
      "text/html": [
       "<div>\n",
       "<style scoped>\n",
       "    .dataframe tbody tr th:only-of-type {\n",
       "        vertical-align: middle;\n",
       "    }\n",
       "\n",
       "    .dataframe tbody tr th {\n",
       "        vertical-align: top;\n",
       "    }\n",
       "\n",
       "    .dataframe thead th {\n",
       "        text-align: right;\n",
       "    }\n",
       "</style>\n",
       "<table border=\"1\" class=\"dataframe\">\n",
       "  <thead>\n",
       "    <tr style=\"text-align: right;\">\n",
       "      <th></th>\n",
       "      <th>text</th>\n",
       "      <th>hashtags</th>\n",
       "    </tr>\n",
       "  </thead>\n",
       "  <tbody>\n",
       "    <tr>\n",
       "      <th>0</th>\n",
       "      <td>Total bill for this horrible service? Over $8G...</td>\n",
       "      <td>0</td>\n",
       "    </tr>\n",
       "    <tr>\n",
       "      <th>1</th>\n",
       "      <td>I *adore* Travis at the Hard Rock's new Kelly ...</td>\n",
       "      <td>0</td>\n",
       "    </tr>\n",
       "    <tr>\n",
       "      <th>2</th>\n",
       "      <td>I have to say that this office really has it t...</td>\n",
       "      <td>0</td>\n",
       "    </tr>\n",
       "    <tr>\n",
       "      <th>3</th>\n",
       "      <td>Went in for a lunch. Steak sandwich was delici...</td>\n",
       "      <td>0</td>\n",
       "    </tr>\n",
       "    <tr>\n",
       "      <th>4</th>\n",
       "      <td>Today was my second out of three sessions I ha...</td>\n",
       "      <td>0</td>\n",
       "    </tr>\n",
       "  </tbody>\n",
       "</table>\n",
       "</div>"
      ],
      "text/plain": [
       "                                                text  hashtags\n",
       "0  Total bill for this horrible service? Over $8G...         0\n",
       "1  I *adore* Travis at the Hard Rock's new Kelly ...         0\n",
       "2  I have to say that this office really has it t...         0\n",
       "3  Went in for a lunch. Steak sandwich was delici...         0\n",
       "4  Today was my second out of three sessions I ha...         0"
      ]
     },
     "execution_count": 19,
     "metadata": {
      "tags": []
     },
     "output_type": "execute_result"
    }
   ],
   "source": [
    "# Checking texts that starts with hashtags\n",
    "review_ds['hashtags'] = review_ds['text'].apply(lambda x: len([x for x in x.split() if x.startswith('#')]))\n",
    "review_ds[['text','hashtags']].head()"
   ]
  },
  {
   "cell_type": "code",
   "execution_count": 20,
   "metadata": {
    "colab": {
     "base_uri": "https://localhost:8080/",
     "height": 195
    },
    "colab_type": "code",
    "executionInfo": {
     "elapsed": 226935,
     "status": "ok",
     "timestamp": 1575244815887,
     "user": {
      "displayName": "Abhi Patodi",
      "photoUrl": "",
      "userId": "08749657629535720878"
     },
     "user_tz": 300
    },
    "id": "pzpf0dtxLcWZ",
    "outputId": "58dba343-685b-4fc3-babd-ed1234e03da0"
   },
   "outputs": [
    {
     "data": {
      "text/html": [
       "<div>\n",
       "<style scoped>\n",
       "    .dataframe tbody tr th:only-of-type {\n",
       "        vertical-align: middle;\n",
       "    }\n",
       "\n",
       "    .dataframe tbody tr th {\n",
       "        vertical-align: top;\n",
       "    }\n",
       "\n",
       "    .dataframe thead th {\n",
       "        text-align: right;\n",
       "    }\n",
       "</style>\n",
       "<table border=\"1\" class=\"dataframe\">\n",
       "  <thead>\n",
       "    <tr style=\"text-align: right;\">\n",
       "      <th></th>\n",
       "      <th>text</th>\n",
       "      <th>stopwords</th>\n",
       "    </tr>\n",
       "  </thead>\n",
       "  <tbody>\n",
       "    <tr>\n",
       "      <th>0</th>\n",
       "      <td>Total bill for this horrible service? Over $8G...</td>\n",
       "      <td>13</td>\n",
       "    </tr>\n",
       "    <tr>\n",
       "      <th>1</th>\n",
       "      <td>I *adore* Travis at the Hard Rock's new Kelly ...</td>\n",
       "      <td>101</td>\n",
       "    </tr>\n",
       "    <tr>\n",
       "      <th>2</th>\n",
       "      <td>I have to say that this office really has it t...</td>\n",
       "      <td>52</td>\n",
       "    </tr>\n",
       "    <tr>\n",
       "      <th>3</th>\n",
       "      <td>Went in for a lunch. Steak sandwich was delici...</td>\n",
       "      <td>23</td>\n",
       "    </tr>\n",
       "    <tr>\n",
       "      <th>4</th>\n",
       "      <td>Today was my second out of three sessions I ha...</td>\n",
       "      <td>308</td>\n",
       "    </tr>\n",
       "  </tbody>\n",
       "</table>\n",
       "</div>"
      ],
      "text/plain": [
       "                                                text  stopwords\n",
       "0  Total bill for this horrible service? Over $8G...         13\n",
       "1  I *adore* Travis at the Hard Rock's new Kelly ...        101\n",
       "2  I have to say that this office really has it t...         52\n",
       "3  Went in for a lunch. Steak sandwich was delici...         23\n",
       "4  Today was my second out of three sessions I ha...        308"
      ]
     },
     "execution_count": 20,
     "metadata": {
      "tags": []
     },
     "output_type": "execute_result"
    }
   ],
   "source": [
    "# Count of stopwords present in the review text\n",
    "stop = stopwords.words('english')\n",
    "\n",
    "review_ds['stopwords'] = review_ds['text'].apply(lambda x: len([x for x in x.split() if x in stop]))\n",
    "review_ds[['text','stopwords']].head()"
   ]
  },
  {
   "cell_type": "code",
   "execution_count": 21,
   "metadata": {
    "colab": {
     "base_uri": "https://localhost:8080/",
     "height": 195
    },
    "colab_type": "code",
    "executionInfo": {
     "elapsed": 228097,
     "status": "ok",
     "timestamp": 1575244817065,
     "user": {
      "displayName": "Abhi Patodi",
      "photoUrl": "",
      "userId": "08749657629535720878"
     },
     "user_tz": 300
    },
    "id": "K3S4tybILcm5",
    "outputId": "c4e81863-96bd-4c9f-b020-f773e6f2af86"
   },
   "outputs": [
    {
     "data": {
      "text/html": [
       "<div>\n",
       "<style scoped>\n",
       "    .dataframe tbody tr th:only-of-type {\n",
       "        vertical-align: middle;\n",
       "    }\n",
       "\n",
       "    .dataframe tbody tr th {\n",
       "        vertical-align: top;\n",
       "    }\n",
       "\n",
       "    .dataframe thead th {\n",
       "        text-align: right;\n",
       "    }\n",
       "</style>\n",
       "<table border=\"1\" class=\"dataframe\">\n",
       "  <thead>\n",
       "    <tr style=\"text-align: right;\">\n",
       "      <th></th>\n",
       "      <th>text</th>\n",
       "      <th>numerics</th>\n",
       "    </tr>\n",
       "  </thead>\n",
       "  <tbody>\n",
       "    <tr>\n",
       "      <th>0</th>\n",
       "      <td>Total bill for this horrible service? Over $8G...</td>\n",
       "      <td>2</td>\n",
       "    </tr>\n",
       "    <tr>\n",
       "      <th>1</th>\n",
       "      <td>I *adore* Travis at the Hard Rock's new Kelly ...</td>\n",
       "      <td>0</td>\n",
       "    </tr>\n",
       "    <tr>\n",
       "      <th>2</th>\n",
       "      <td>I have to say that this office really has it t...</td>\n",
       "      <td>0</td>\n",
       "    </tr>\n",
       "    <tr>\n",
       "      <th>3</th>\n",
       "      <td>Went in for a lunch. Steak sandwich was delici...</td>\n",
       "      <td>0</td>\n",
       "    </tr>\n",
       "    <tr>\n",
       "      <th>4</th>\n",
       "      <td>Today was my second out of three sessions I ha...</td>\n",
       "      <td>6</td>\n",
       "    </tr>\n",
       "  </tbody>\n",
       "</table>\n",
       "</div>"
      ],
      "text/plain": [
       "                                                text  numerics\n",
       "0  Total bill for this horrible service? Over $8G...         2\n",
       "1  I *adore* Travis at the Hard Rock's new Kelly ...         0\n",
       "2  I have to say that this office really has it t...         0\n",
       "3  Went in for a lunch. Steak sandwich was delici...         0\n",
       "4  Today was my second out of three sessions I ha...         6"
      ]
     },
     "execution_count": 21,
     "metadata": {
      "tags": []
     },
     "output_type": "execute_result"
    }
   ],
   "source": [
    "# Count of numerics present in the review text\n",
    "review_ds['numerics'] = review_ds['text'].apply(lambda x: len([x for x in x.split() if x.isdigit()]))\n",
    "review_ds[['text','numerics']].head()"
   ]
  },
  {
   "cell_type": "code",
   "execution_count": 22,
   "metadata": {
    "colab": {
     "base_uri": "https://localhost:8080/",
     "height": 210
    },
    "colab_type": "code",
    "executionInfo": {
     "elapsed": 231989,
     "status": "ok",
     "timestamp": 1575244820973,
     "user": {
      "displayName": "Abhi Patodi",
      "photoUrl": "",
      "userId": "08749657629535720878"
     },
     "user_tz": 300
    },
    "id": "pRIMWKMPL5oY",
    "outputId": "c1f967d9-176a-4ea3-dcc1-e582ed9b84b5"
   },
   "outputs": [
    {
     "data": {
      "text/plain": [
       "the    438333\n",
       "and    367823\n",
       "I      277006\n",
       "a      265334\n",
       "to     258979\n",
       "was    188121\n",
       "of     152624\n",
       "is     127496\n",
       "for    122749\n",
       "in     111121\n",
       "dtype: int64"
      ]
     },
     "execution_count": 22,
     "metadata": {
      "tags": []
     },
     "output_type": "execute_result"
    }
   ],
   "source": [
    "# Top 10 frequent words\n",
    "freq_top = pd.Series(' '.join(review_ds['text']).split()).value_counts()[:10]\n",
    "freq_top\n"
   ]
  },
  {
   "cell_type": "code",
   "execution_count": 23,
   "metadata": {
    "colab": {
     "base_uri": "https://localhost:8080/",
     "height": 210
    },
    "colab_type": "code",
    "executionInfo": {
     "elapsed": 235787,
     "status": "ok",
     "timestamp": 1575244824786,
     "user": {
      "displayName": "Abhi Patodi",
      "photoUrl": "",
      "userId": "08749657629535720878"
     },
     "user_tz": 300
    },
    "id": "HjhDAVUfL5sa",
    "outputId": "0d21bc99-f495-4df7-b69a-50287122fdc6"
   },
   "outputs": [
    {
     "data": {
      "text/plain": [
       "calimari...      1\n",
       "\"ouch\"           1\n",
       "\"all-dressed\"    1\n",
       "Foresthill       1\n",
       "matiinee,        1\n",
       "lactose-free     1\n",
       "convenable       1\n",
       "tursday          1\n",
       "dissappoints.    1\n",
       "JPL              1\n",
       "dtype: int64"
      ]
     },
     "execution_count": 23,
     "metadata": {
      "tags": []
     },
     "output_type": "execute_result"
    }
   ],
   "source": [
    "# Least 10 frequent words\n",
    "freq_least = pd.Series(' '.join(review_ds['text']).split()).value_counts()[-10:]\n",
    "freq_least"
   ]
  },
  {
   "cell_type": "code",
   "execution_count": 24,
   "metadata": {
    "colab": {
     "base_uri": "https://localhost:8080/",
     "height": 686
    },
    "colab_type": "code",
    "executionInfo": {
     "elapsed": 235773,
     "status": "ok",
     "timestamp": 1575244824787,
     "user": {
      "displayName": "Abhi Patodi",
      "photoUrl": "",
      "userId": "08749657629535720878"
     },
     "user_tz": 300
    },
    "id": "5-kDFm6hL5vd",
    "outputId": "de9e59b8-20df-44bb-b0a1-90631ea63b29"
   },
   "outputs": [
    {
     "data": {
      "text/html": [
       "<div>\n",
       "<style scoped>\n",
       "    .dataframe tbody tr th:only-of-type {\n",
       "        vertical-align: middle;\n",
       "    }\n",
       "\n",
       "    .dataframe tbody tr th {\n",
       "        vertical-align: top;\n",
       "    }\n",
       "\n",
       "    .dataframe thead th {\n",
       "        text-align: right;\n",
       "    }\n",
       "</style>\n",
       "<table border=\"1\" class=\"dataframe\">\n",
       "  <thead>\n",
       "    <tr style=\"text-align: right;\">\n",
       "      <th></th>\n",
       "      <th>business_id</th>\n",
       "      <th>cool</th>\n",
       "      <th>date</th>\n",
       "      <th>funny</th>\n",
       "      <th>review_id</th>\n",
       "      <th>stars</th>\n",
       "      <th>text</th>\n",
       "      <th>useful</th>\n",
       "      <th>user_id</th>\n",
       "      <th>word_count</th>\n",
       "      <th>char_count</th>\n",
       "      <th>avg_word</th>\n",
       "      <th>hashtags</th>\n",
       "      <th>stopwords</th>\n",
       "      <th>numerics</th>\n",
       "      <th>text length</th>\n",
       "    </tr>\n",
       "  </thead>\n",
       "  <tbody>\n",
       "    <tr>\n",
       "      <th>0</th>\n",
       "      <td>ujmEBvifdJM6h6RLv4wQIg</td>\n",
       "      <td>0</td>\n",
       "      <td>2013-05-07 04:34:36</td>\n",
       "      <td>1</td>\n",
       "      <td>Q1sbwvVQXV2734tPgoKj4Q</td>\n",
       "      <td>1</td>\n",
       "      <td>Total bill for this horrible service? Over $8G...</td>\n",
       "      <td>6</td>\n",
       "      <td>hG7b0MtEbXx5QzbzE6C_VA</td>\n",
       "      <td>39</td>\n",
       "      <td>204</td>\n",
       "      <td>4.256410</td>\n",
       "      <td>0</td>\n",
       "      <td>13</td>\n",
       "      <td>2</td>\n",
       "      <td>204</td>\n",
       "    </tr>\n",
       "    <tr>\n",
       "      <th>1</th>\n",
       "      <td>NZnhc2sEQy3RmzKTZnqtwQ</td>\n",
       "      <td>0</td>\n",
       "      <td>2017-01-14 21:30:33</td>\n",
       "      <td>0</td>\n",
       "      <td>GJXCdrto3ASJOqKeVWPi6Q</td>\n",
       "      <td>5</td>\n",
       "      <td>I *adore* Travis at the Hard Rock's new Kelly ...</td>\n",
       "      <td>0</td>\n",
       "      <td>yXQM5uF2jS6es16SJzNHfg</td>\n",
       "      <td>288</td>\n",
       "      <td>1561</td>\n",
       "      <td>4.627737</td>\n",
       "      <td>0</td>\n",
       "      <td>101</td>\n",
       "      <td>0</td>\n",
       "      <td>1561</td>\n",
       "    </tr>\n",
       "    <tr>\n",
       "      <th>2</th>\n",
       "      <td>WTqjgwHlXbSFevF32_DJVw</td>\n",
       "      <td>0</td>\n",
       "      <td>2016-11-09 20:09:03</td>\n",
       "      <td>0</td>\n",
       "      <td>2TzJjDVDEuAW6MR5Vuc1ug</td>\n",
       "      <td>5</td>\n",
       "      <td>I have to say that this office really has it t...</td>\n",
       "      <td>3</td>\n",
       "      <td>n6-Gk65cPZL6Uz8qRm3NYw</td>\n",
       "      <td>113</td>\n",
       "      <td>615</td>\n",
       "      <td>4.614679</td>\n",
       "      <td>0</td>\n",
       "      <td>52</td>\n",
       "      <td>0</td>\n",
       "      <td>615</td>\n",
       "    </tr>\n",
       "    <tr>\n",
       "      <th>3</th>\n",
       "      <td>ikCg8xy5JIg_NGPx-MSIDA</td>\n",
       "      <td>0</td>\n",
       "      <td>2018-01-09 20:56:38</td>\n",
       "      <td>0</td>\n",
       "      <td>yi0R0Ugj_xUx_Nek0-_Qig</td>\n",
       "      <td>5</td>\n",
       "      <td>Went in for a lunch. Steak sandwich was delici...</td>\n",
       "      <td>0</td>\n",
       "      <td>dacAIZ6fTM6mqwW5uxkskg</td>\n",
       "      <td>65</td>\n",
       "      <td>407</td>\n",
       "      <td>4.955882</td>\n",
       "      <td>0</td>\n",
       "      <td>23</td>\n",
       "      <td>0</td>\n",
       "      <td>407</td>\n",
       "    </tr>\n",
       "    <tr>\n",
       "      <th>4</th>\n",
       "      <td>b1b1eb3uo-w561D0ZfCEiQ</td>\n",
       "      <td>0</td>\n",
       "      <td>2018-01-30 23:07:38</td>\n",
       "      <td>0</td>\n",
       "      <td>11a8sVPMUFtaC7_ABRkmtw</td>\n",
       "      <td>1</td>\n",
       "      <td>Today was my second out of three sessions I ha...</td>\n",
       "      <td>7</td>\n",
       "      <td>ssoyf2_x0EQMed6fgHeMyQ</td>\n",
       "      <td>673</td>\n",
       "      <td>3509</td>\n",
       "      <td>4.215453</td>\n",
       "      <td>0</td>\n",
       "      <td>308</td>\n",
       "      <td>6</td>\n",
       "      <td>3509</td>\n",
       "    </tr>\n",
       "  </tbody>\n",
       "</table>\n",
       "</div>"
      ],
      "text/plain": [
       "              business_id  cool  ... numerics  text length\n",
       "0  ujmEBvifdJM6h6RLv4wQIg     0  ...        2          204\n",
       "1  NZnhc2sEQy3RmzKTZnqtwQ     0  ...        0         1561\n",
       "2  WTqjgwHlXbSFevF32_DJVw     0  ...        0          615\n",
       "3  ikCg8xy5JIg_NGPx-MSIDA     0  ...        0          407\n",
       "4  b1b1eb3uo-w561D0ZfCEiQ     0  ...        6         3509\n",
       "\n",
       "[5 rows x 16 columns]"
      ]
     },
     "execution_count": 24,
     "metadata": {
      "tags": []
     },
     "output_type": "execute_result"
    }
   ],
   "source": [
    "# Includig the text length column in review dataset\n",
    "review_ds['text length'] = review_ds['text'].apply(len)\n",
    "review_ds.head()"
   ]
  },
  {
   "cell_type": "code",
   "execution_count": 25,
   "metadata": {
    "colab": {
     "base_uri": "https://localhost:8080/",
     "height": 406
    },
    "colab_type": "code",
    "executionInfo": {
     "elapsed": 237188,
     "status": "ok",
     "timestamp": 1575244826217,
     "user": {
      "displayName": "Abhi Patodi",
      "photoUrl": "",
      "userId": "08749657629535720878"
     },
     "user_tz": 300
    },
    "id": "WK1_XROWL5zK",
    "outputId": "2833a28b-1be2-48c8-a5b5-9908e4680677"
   },
   "outputs": [
    {
     "data": {
      "text/plain": [
       "<seaborn.axisgrid.FacetGrid at 0x7f3e5127b278>"
      ]
     },
     "execution_count": 25,
     "metadata": {
      "tags": []
     },
     "output_type": "execute_result"
    },
    {
     "data": {
      "image/png": "[encoded data removed]",
      "text/plain": [
       "<Figure size 1800x360 with 5 Axes>"
      ]
     },
     "metadata": {
      "tags": []
     },
     "output_type": "display_data"
    }
   ],
   "source": [
    "# Visualising the review text and stars for a business\n",
    "\n",
    "graph = sns.FacetGrid(data=review_ds, col='stars',height=5)\n",
    "\n",
    "graph.map(plt.hist, 'text length', bins=10)\n"
   ]
  },
  {
   "cell_type": "markdown",
   "metadata": {
    "colab_type": "text",
    "id": "NwGaHEwhMxp3"
   },
   "source": [
    "### **1.2 BASELINE MODEL AND PREDICTION USING NAIVE BIAS ALGORITHM**\n",
    "\n",
    "In this model, we take into consideration the review text where we only remove the punctuations in the text and perform text analysis to predict the user ratings on the basis of review text using Naive Bias algorithm. The result is evaluated by the confusion matrix and classification report consisting of recall, precision and f1-score\n"
   ]
  },
  {
   "cell_type": "code",
   "execution_count": 0,
   "metadata": {
    "colab": {},
    "colab_type": "code",
    "id": "yY_qOzWIMjwP"
   },
   "outputs": [],
   "source": [
    "# separating our features and target\n",
    "X = review_ds['text']\n",
    "y = review_ds['stars']\n"
   ]
  },
  {
   "cell_type": "code",
   "execution_count": 0,
   "metadata": {
    "colab": {},
    "colab_type": "code",
    "id": "rOzTt_sgMj0X"
   },
   "outputs": [],
   "source": [
    "# function to remove only punctuations from the review text\n",
    "def text_process(text):\n",
    "\n",
    "    '''\n",
    "    Takes in a string of text, then performs the following:\n",
    "    1. Removes all punctuation\n",
    "    2. Return the text as a list of words\n",
    "    '''\n",
    "\n",
    "    nopunc = [char for char in text if char not in string.punctuation]\n",
    "\n",
    "    nopunc = ''.join(nopunc)\n",
    "    \n",
    "    return [word for word in nopunc.split()]"
   ]
  },
  {
   "cell_type": "code",
   "execution_count": 28,
   "metadata": {
    "colab": {
     "base_uri": "https://localhost:8080/",
     "height": 34
    },
    "colab_type": "code",
    "executionInfo": {
     "elapsed": 237163,
     "status": "ok",
     "timestamp": 1575244826220,
     "user": {
      "displayName": "Abhi Patodi",
      "photoUrl": "",
      "userId": "08749657629535720878"
     },
     "user_tz": 300
    },
    "id": "L798zrNzMj2v",
    "outputId": "63db0b6a-5821-4569-df43-db21256e191f"
   },
   "outputs": [
    {
     "name": "stdout",
     "output_type": "stream",
     "text": [
      "['Hey', 'there', 'This', 'is', 'a', 'sample', 'review', 'which', 'happens', 'to', 'contain', 'punctuations']\n"
     ]
    }
   ],
   "source": [
    "# Let us test if the above function worked correctly!\n",
    "sample_text = \"Hey there! This is a sample review, which happens to contain punctuations.\"\n",
    "\n",
    "print(text_process(sample_text))"
   ]
  },
  {
   "cell_type": "code",
   "execution_count": 0,
   "metadata": {
    "colab": {},
    "colab_type": "code",
    "id": "O1PtAX9ZMj9r"
   },
   "outputs": [],
   "source": [
    "# creating a bag of words which consist of entire text without punctuations and fiting it\n",
    "bow_transformer = CountVectorizer().fit(X)"
   ]
  },
  {
   "cell_type": "code",
   "execution_count": 30,
   "metadata": {
    "colab": {
     "base_uri": "https://localhost:8080/",
     "height": 34
    },
    "colab_type": "code",
    "executionInfo": {
     "elapsed": 243332,
     "status": "ok",
     "timestamp": 1575244832409,
     "user": {
      "displayName": "Abhi Patodi",
      "photoUrl": "",
      "userId": "08749657629535720878"
     },
     "user_tz": 300
    },
    "id": "0foQakrUPIlM",
    "outputId": "41fb1075-5708-44bc-d0c2-a48a8276c6e5"
   },
   "outputs": [
    {
     "data": {
      "text/plain": [
       "77548"
      ]
     },
     "execution_count": 30,
     "metadata": {
      "tags": []
     },
     "output_type": "execute_result"
    }
   ],
   "source": [
    "# Looking for the count of features\n",
    "len(bow_transformer.vocabulary_)"
   ]
  },
  {
   "cell_type": "code",
   "execution_count": 0,
   "metadata": {
    "colab": {},
    "colab_type": "code",
    "id": "Wzl5wvwVPIoj"
   },
   "outputs": [],
   "source": [
    "# Let us now transform our review text\n",
    "#%%time\n",
    "X = bow_transformer.transform(X)"
   ]
  },
  {
   "cell_type": "code",
   "execution_count": 32,
   "metadata": {
    "colab": {
     "base_uri": "https://localhost:8080/",
     "height": 70
    },
    "colab_type": "code",
    "executionInfo": {
     "elapsed": 250566,
     "status": "ok",
     "timestamp": 1575244839663,
     "user": {
      "displayName": "Abhi Patodi",
      "photoUrl": "",
      "userId": "08749657629535720878"
     },
     "user_tz": 300
    },
    "id": "s9yFJJrLPIvD",
    "outputId": "27ab2c84-1f1a-4bcf-97a7-5c492997d82c"
   },
   "outputs": [
    {
     "name": "stdout",
     "output_type": "stream",
     "text": [
      "Shape of Sparse Matrix:  (100000, 77548)\n",
      "Amount of Non-Zero occurrences:  6979135\n",
      "Density: 0.08999761438077061\n"
     ]
    }
   ],
   "source": [
    "print('Shape of Sparse Matrix: ', X.shape)\n",
    "print('Amount of Non-Zero occurrences: ', X.nnz)\n",
    "\n",
    "# Percentage of non-zero values\n",
    "density = (100.0 * X.nnz / (X.shape[0] * X.shape[1]))\n",
    "print('Density: {}'.format((density)))"
   ]
  },
  {
   "cell_type": "code",
   "execution_count": 33,
   "metadata": {
    "colab": {
     "base_uri": "https://localhost:8080/",
     "height": 178
    },
    "colab_type": "code",
    "executionInfo": {
     "elapsed": 250548,
     "status": "ok",
     "timestamp": 1575244839664,
     "user": {
      "displayName": "Abhi Patodi",
      "photoUrl": "",
      "userId": "08749657629535720878"
     },
     "user_tz": 300
    },
    "id": "U7QUMbKdPI3c",
    "outputId": "822b7ae2-fa42-4984-c481-43dfb617de70"
   },
   "outputs": [
    {
     "name": "stdout",
     "output_type": "stream",
     "text": [
      "Number transactions X_train dataset:  (70000, 77548)\n",
      "Number transactions y_train dataset:  (70000,)\n",
      "Number transactions X_test dataset:  (30000, 77548)\n",
      "Number transactions y_test dataset:  (30000,)\n"
     ]
    },
    {
     "name": "stderr",
     "output_type": "stream",
     "text": [
      "/usr/local/lib/python3.6/dist-packages/sklearn/externals/six.py:31: DeprecationWarning:\n",
      "\n",
      "The module is deprecated in version 0.21 and will be removed in version 0.23 since we've dropped support for Python 2.7. Please rely on the official version of six (https://pypi.org/project/six/).\n",
      "\n"
     ]
    }
   ],
   "source": [
    "from imblearn.over_sampling import SMOTE\n",
    "from sklearn.model_selection import train_test_split\n",
    "\n",
    "X_train, X_test, y_train, y_test = train_test_split(X, y, test_size=0.3, random_state=101)\n",
    "print(\"Number transactions X_train dataset: \", X_train.shape)\n",
    "print(\"Number transactions y_train dataset: \", y_train.shape)\n",
    "print(\"Number transactions X_test dataset: \", X_test.shape)\n",
    "print(\"Number transactions y_test dataset: \", y_test.shape)"
   ]
  },
  {
   "cell_type": "code",
   "execution_count": 34,
   "metadata": {
    "colab": {
     "base_uri": "https://localhost:8080/",
     "height": 263
    },
    "colab_type": "code",
    "executionInfo": {
     "elapsed": 332288,
     "status": "ok",
     "timestamp": 1575244921425,
     "user": {
      "displayName": "Abhi Patodi",
      "photoUrl": "",
      "userId": "08749657629535720878"
     },
     "user_tz": 300
    },
    "id": "DQV91lLAPhBU",
    "outputId": "f9315619-96e4-49bc-fc27-42ec2962e9f6"
   },
   "outputs": [
    {
     "name": "stdout",
     "output_type": "stream",
     "text": [
      "Before OverSampling, counts of label '1': 10162\n",
      "Before OverSampling, counts of label '2': 5593\n",
      "Before OverSampling, counts of label '3': 7762\n",
      "Before OverSampling, counts of label '4': 15361\n",
      "Before OverSampling, counts of label '5': 31122 \n",
      "\n",
      "After OverSampling, the shape of train_X: (155610, 77548)\n",
      "After OverSampling, the shape of train_y: (155610,) \n",
      "\n",
      "After OverSampling, counts of label '1': 31122\n",
      "After OverSampling, counts of label '2': 31122\n",
      "After OverSampling, counts of label '3': 31122\n",
      "After OverSampling, counts of label '4': 31122\n",
      "After OverSampling, counts of label '5': 31122\n"
     ]
    }
   ],
   "source": [
    "print(\"Before OverSampling, counts of label '1': {}\".format(sum(y_train==1)))\n",
    "print(\"Before OverSampling, counts of label '2': {}\".format(sum(y_train==2)))\n",
    "print(\"Before OverSampling, counts of label '3': {}\".format(sum(y_train==3)))\n",
    "print(\"Before OverSampling, counts of label '4': {}\".format(sum(y_train==4)))\n",
    "print(\"Before OverSampling, counts of label '5': {} \\n\".format(sum(y_train==5)))\n",
    "\n",
    "sm = SMOTE(random_state=2)\n",
    "X_train_res, y_train_res = sm.fit_sample(X_train, y_train.ravel())\n",
    "\n",
    "print('After OverSampling, the shape of train_X: {}'.format(X_train_res.shape))\n",
    "print('After OverSampling, the shape of train_y: {} \\n'.format(y_train_res.shape))\n",
    "\n",
    "print(\"After OverSampling, counts of label '1': {}\".format(sum(y_train_res==1)))\n",
    "print(\"After OverSampling, counts of label '2': {}\".format(sum(y_train_res==2)))\n",
    "print(\"After OverSampling, counts of label '3': {}\".format(sum(y_train_res==3)))\n",
    "print(\"After OverSampling, counts of label '4': {}\".format(sum(y_train_res==4)))\n",
    "print(\"After OverSampling, counts of label '5': {}\".format(sum(y_train_res==5)))"
   ]
  },
  {
   "cell_type": "code",
   "execution_count": 35,
   "metadata": {
    "colab": {
     "base_uri": "https://localhost:8080/",
     "height": 34
    },
    "colab_type": "code",
    "executionInfo": {
     "elapsed": 332272,
     "status": "ok",
     "timestamp": 1575244921426,
     "user": {
      "displayName": "Abhi Patodi",
      "photoUrl": "",
      "userId": "08749657629535720878"
     },
     "user_tz": 300
    },
    "id": "ucZNBxWKPhDp",
    "outputId": "945d29a2-10cc-4cf4-e81d-bfd6e6a9395d"
   },
   "outputs": [
    {
     "data": {
      "text/plain": [
       "MultinomialNB(alpha=1.0, class_prior=None, fit_prior=True)"
      ]
     },
     "execution_count": 35,
     "metadata": {
      "tags": []
     },
     "output_type": "execute_result"
    }
   ],
   "source": [
    "# Let us now train the model using Multinomial Naive Bais Algorithm\n",
    "from sklearn.naive_bayes import MultinomialNB\n",
    "\n",
    "nb = MultinomialNB()\n",
    "nb.fit(X_train, y_train)"
   ]
  },
  {
   "cell_type": "code",
   "execution_count": 0,
   "metadata": {
    "colab": {},
    "colab_type": "code",
    "id": "1tHpLuI2PhIU"
   },
   "outputs": [],
   "source": [
    "finalized_model = open(\"Naive_Bais_Model.pkl\", \"wb\")\n",
    "pickle.dump(nb, finalized_model)"
   ]
  },
  {
   "cell_type": "code",
   "execution_count": 0,
   "metadata": {
    "colab": {},
    "colab_type": "code",
    "id": "vJgR_N8sPhK0"
   },
   "outputs": [],
   "source": [
    "# Let us now predict on the test set\n",
    "nb_preds = nb.predict(X_test)\n",
    "nb_prob = nb.predict_proba(X_test)"
   ]
  },
  {
   "cell_type": "code",
   "execution_count": 130,
   "metadata": {
    "colab": {
     "base_uri": "https://localhost:8080/",
     "height": 659
    },
    "colab_type": "code",
    "executionInfo": {
     "elapsed": 854,
     "status": "ok",
     "timestamp": 1575246491769,
     "user": {
      "displayName": "Abhi Patodi",
      "photoUrl": "",
      "userId": "08749657629535720878"
     },
     "user_tz": 300
    },
    "id": "6rwn5DUGp0oG",
    "outputId": "eca1335c-82db-4d8c-a4d4-374920641746"
   },
   "outputs": [
    {
     "name": "stdout",
     "output_type": "stream",
     "text": [
      "Confusion Matrix of the Naive Bayes \n",
      "\n",
      " [[9392 3063   88   43  659]\n",
      " [1827 4243  376   73  223]\n",
      " [ 279 1430  963  194  342]\n",
      " [ 110  377  726  472  697]\n",
      " [ 103  177  349  574 3220]] \n",
      "\n"
     ]
    },
    {
     "data": {
      "image/png": "[encoded data removed]",
      "text/plain": [
       "<Figure size 1152x576 with 2 Axes>"
      ]
     },
     "metadata": {
      "tags": []
     },
     "output_type": "display_data"
    }
   ],
   "source": [
    "# Let us now evaluate and plot Confusion Matrix \n",
    "\n",
    "labels = [5,4,3,2,1]\n",
    "nb_cm = confusion_matrix(y_test, nb_preds, labels)\n",
    "print('Confusion Matrix of the Naive Bayes \\n\\n',nb_cm,'\\n')\n",
    "fig = plt.figure(figsize=(16,8))\n",
    "ax = fig.add_subplot(111)\n",
    "cax = ax.matshow(nb_cm)\n",
    "plt.title('Confusion matrix of the Naive Bayes')\n",
    "fig.colorbar(cax)\n",
    "ax.set_xticklabels([''] + labels)\n",
    "ax.set_yticklabels([''] + labels)\n",
    "plt.xlabel('Predicted')\n",
    "plt.ylabel('True')\n",
    "plt.show()"
   ]
  },
  {
   "cell_type": "code",
   "execution_count": 39,
   "metadata": {
    "colab": {
     "base_uri": "https://localhost:8080/",
     "height": 263
    },
    "colab_type": "code",
    "executionInfo": {
     "elapsed": 332884,
     "status": "ok",
     "timestamp": 1575244922083,
     "user": {
      "displayName": "Abhi Patodi",
      "photoUrl": "",
      "userId": "08749657629535720878"
     },
     "user_tz": 300
    },
    "id": "RP5Pyn6OPhNg",
    "outputId": "909b0582-bad9-4b26-cf7d-39ac1e0beb21"
   },
   "outputs": [
    {
     "name": "stdout",
     "output_type": "stream",
     "text": [
      "               Classification Report for Naive Bayes\n",
      "\n",
      "              precision    recall  f1-score   support\n",
      "\n",
      "           1       0.63      0.73      0.67      4423\n",
      "           2       0.35      0.20      0.25      2382\n",
      "           3       0.38      0.30      0.34      3208\n",
      "           4       0.46      0.63      0.53      6742\n",
      "           5       0.80      0.71      0.75     13245\n",
      "\n",
      "    accuracy                           0.61     30000\n",
      "   macro avg       0.52      0.51      0.51     30000\n",
      "weighted avg       0.62      0.61      0.61     30000\n",
      "\n"
     ]
    }
   ],
   "source": [
    "# Let us now evaluate our model using classification report\n",
    "nb_cr = classification_report(y_test, nb_preds)\n",
    "print('               Classification Report for Naive Bayes\\n')\n",
    "print(nb_cr)\n"
   ]
  },
  {
   "cell_type": "code",
   "execution_count": 131,
   "metadata": {
    "colab": {
     "base_uri": "https://localhost:8080/",
     "height": 70
    },
    "colab_type": "code",
    "executionInfo": {
     "elapsed": 457,
     "status": "ok",
     "timestamp": 1575246602082,
     "user": {
      "displayName": "Abhi Patodi",
      "photoUrl": "",
      "userId": "08749657629535720878"
     },
     "user_tz": 300
    },
    "id": "h5quKbBunUw6",
    "outputId": "c5c9be23-b4af-4d48-fbd4-11516f06d75f"
   },
   "outputs": [
    {
     "name": "stdout",
     "output_type": "stream",
     "text": [
      "Accuracy Score of Naive Bayes Model\n",
      "\n",
      "0.6096666666666667\n"
     ]
    }
   ],
   "source": [
    "# Let us now calculate accuracy score\n",
    "nb_acc = metrics.accuracy_score(y_test, nb_preds)\n",
    "print(\"Accuracy Score of Naive Bayes Model\\n\")\n",
    "print(nb_acc)"
   ]
  },
  {
   "cell_type": "markdown",
   "metadata": {
    "colab_type": "text",
    "id": "xeD2IWejQyJi"
   },
   "source": [
    "**Observation** :\n",
    "\n",
    "1) From above, we observe that the misclassification rate is quite high for each of the ratings. It is still better for 1 star and 5 star ratings.\n",
    "\n",
    "2) 2 star rating has a higher misclassified rating as compared to its true positives where it wrongly predicts it as a 1 star rating majority of the times.\n",
    "\n",
    "3) 3 star rating also has high misclassification rate where there is almost equal number of chances that it wrongly predicts the rating as a 2 star rating.\n",
    "\n",
    "4) Looking at the precision and recall for each of the ratings, we see that it is least for 2 star rating. The values for 3 star and 4 star ratings are also not very good which signifies that the model is not good and there is a higher probablity that it will wrongly predict the ratings.\n",
    "\n",
    "Some of the examples are shown below -"
   ]
  },
  {
   "cell_type": "markdown",
   "metadata": {
    "colab_type": "text",
    "id": "CBjOyEFARYhx"
   },
   "source": [
    "## **Predicting positive reviews :**\n"
   ]
  },
  {
   "cell_type": "code",
   "execution_count": 41,
   "metadata": {
    "colab": {
     "base_uri": "https://localhost:8080/",
     "height": 669
    },
    "colab_type": "code",
    "executionInfo": {
     "elapsed": 332780,
     "status": "ok",
     "timestamp": 1575244922085,
     "user": {
      "displayName": "Abhi Patodi",
      "photoUrl": "",
      "userId": "08749657629535720878"
     },
     "user_tz": 300
    },
    "id": "w66moK5URdto",
    "outputId": "46e9e8c9-c28f-4f75-bc24-3ce3fcc911c8"
   },
   "outputs": [
    {
     "data": {
      "text/html": [
       "<div>\n",
       "<style scoped>\n",
       "    .dataframe tbody tr th:only-of-type {\n",
       "        vertical-align: middle;\n",
       "    }\n",
       "\n",
       "    .dataframe tbody tr th {\n",
       "        vertical-align: top;\n",
       "    }\n",
       "\n",
       "    .dataframe thead th {\n",
       "        text-align: right;\n",
       "    }\n",
       "</style>\n",
       "<table border=\"1\" class=\"dataframe\">\n",
       "  <thead>\n",
       "    <tr style=\"text-align: right;\">\n",
       "      <th></th>\n",
       "      <th>business_id</th>\n",
       "      <th>cool</th>\n",
       "      <th>date</th>\n",
       "      <th>funny</th>\n",
       "      <th>review_id</th>\n",
       "      <th>stars</th>\n",
       "      <th>text</th>\n",
       "      <th>useful</th>\n",
       "      <th>user_id</th>\n",
       "      <th>word_count</th>\n",
       "      <th>char_count</th>\n",
       "      <th>avg_word</th>\n",
       "      <th>hashtags</th>\n",
       "      <th>stopwords</th>\n",
       "      <th>numerics</th>\n",
       "      <th>text length</th>\n",
       "    </tr>\n",
       "  </thead>\n",
       "  <tbody>\n",
       "    <tr>\n",
       "      <th>99995</th>\n",
       "      <td>PeU2rTATIarPVjOyzvY-Fg</td>\n",
       "      <td>2</td>\n",
       "      <td>2015-11-08 03:38:13</td>\n",
       "      <td>3</td>\n",
       "      <td>R3OQnzCBPtD6e3XJbm7vaw</td>\n",
       "      <td>3</td>\n",
       "      <td>I love the clothes in Aritzia. The service I c...</td>\n",
       "      <td>3</td>\n",
       "      <td>kZA-neTnGq6gzLt7k70kEQ</td>\n",
       "      <td>147</td>\n",
       "      <td>753</td>\n",
       "      <td>4.020134</td>\n",
       "      <td>0</td>\n",
       "      <td>66</td>\n",
       "      <td>0</td>\n",
       "      <td>753</td>\n",
       "    </tr>\n",
       "    <tr>\n",
       "      <th>99996</th>\n",
       "      <td>YRyYbOSwvHkZsZOLv98oQg</td>\n",
       "      <td>1</td>\n",
       "      <td>2012-03-05 22:16:28</td>\n",
       "      <td>11</td>\n",
       "      <td>C0M_WaqYfHZTuE4Y6t-imA</td>\n",
       "      <td>1</td>\n",
       "      <td>We went here to have a small dinner with famil...</td>\n",
       "      <td>9</td>\n",
       "      <td>7D4A_euL-c2-X9d51TnZtw</td>\n",
       "      <td>288</td>\n",
       "      <td>1375</td>\n",
       "      <td>3.927273</td>\n",
       "      <td>0</td>\n",
       "      <td>122</td>\n",
       "      <td>3</td>\n",
       "      <td>1375</td>\n",
       "    </tr>\n",
       "    <tr>\n",
       "      <th>99997</th>\n",
       "      <td>Der6cNgKbShEMR2jry1Tmg</td>\n",
       "      <td>0</td>\n",
       "      <td>2018-08-06 02:18:48</td>\n",
       "      <td>0</td>\n",
       "      <td>AYSWzH_46u-ZosyA-_z24A</td>\n",
       "      <td>5</td>\n",
       "      <td>Amazing!!! Our 2 boys never had this much fun ...</td>\n",
       "      <td>0</td>\n",
       "      <td>Mfn6rBrTZg1ysBoknKt1TQ</td>\n",
       "      <td>45</td>\n",
       "      <td>258</td>\n",
       "      <td>4.755556</td>\n",
       "      <td>0</td>\n",
       "      <td>12</td>\n",
       "      <td>1</td>\n",
       "      <td>258</td>\n",
       "    </tr>\n",
       "    <tr>\n",
       "      <th>99998</th>\n",
       "      <td>LVG3B79xZfjLcjfJUQId0A</td>\n",
       "      <td>0</td>\n",
       "      <td>2017-06-18 19:50:46</td>\n",
       "      <td>0</td>\n",
       "      <td>zn9SwnAilArrWHKZ8141Tg</td>\n",
       "      <td>5</td>\n",
       "      <td>Wanted a short hair cut but didn't have a regu...</td>\n",
       "      <td>2</td>\n",
       "      <td>_D9uaoR1I9o2aIEODh4r9A</td>\n",
       "      <td>114</td>\n",
       "      <td>613</td>\n",
       "      <td>4.385965</td>\n",
       "      <td>0</td>\n",
       "      <td>48</td>\n",
       "      <td>0</td>\n",
       "      <td>613</td>\n",
       "    </tr>\n",
       "    <tr>\n",
       "      <th>99999</th>\n",
       "      <td>e4h-sBBD70pn1RuAv_Q61w</td>\n",
       "      <td>4</td>\n",
       "      <td>2015-09-26 02:53:39</td>\n",
       "      <td>1</td>\n",
       "      <td>mOMTlXyIUF6v8n9yUgZDgA</td>\n",
       "      <td>5</td>\n",
       "      <td>This place is rad! Dueling pianos, happy hour ...</td>\n",
       "      <td>2</td>\n",
       "      <td>zemsVfzVyyJDPRg6742H4Q</td>\n",
       "      <td>90</td>\n",
       "      <td>491</td>\n",
       "      <td>4.466667</td>\n",
       "      <td>0</td>\n",
       "      <td>29</td>\n",
       "      <td>0</td>\n",
       "      <td>491</td>\n",
       "    </tr>\n",
       "  </tbody>\n",
       "</table>\n",
       "</div>"
      ],
      "text/plain": [
       "                  business_id  cool  ... numerics  text length\n",
       "99995  PeU2rTATIarPVjOyzvY-Fg     2  ...        0          753\n",
       "99996  YRyYbOSwvHkZsZOLv98oQg     1  ...        3         1375\n",
       "99997  Der6cNgKbShEMR2jry1Tmg     0  ...        1          258\n",
       "99998  LVG3B79xZfjLcjfJUQId0A     0  ...        0          613\n",
       "99999  e4h-sBBD70pn1RuAv_Q61w     4  ...        0          491\n",
       "\n",
       "[5 rows x 16 columns]"
      ]
     },
     "execution_count": 41,
     "metadata": {
      "tags": []
     },
     "output_type": "execute_result"
    }
   ],
   "source": [
    "review_ds.tail()\n"
   ]
  },
  {
   "cell_type": "code",
   "execution_count": 0,
   "metadata": {
    "colab": {},
    "colab_type": "code",
    "id": "s8ur8y20RrWQ"
   },
   "outputs": [],
   "source": [
    "from random import randint\n",
    "def predict_review_ds(n,bow_transformer,nb,review_ds):\n",
    "    value = randint(0,n)\n",
    "    print('The row that has been selected is', value)\n",
    "    review_verdict = review_ds['text'][value]\n",
    "    review_verdict_transformed = bow_transformer.transform([review_verdict])\n",
    "    predicted_rating = nb.predict(review_verdict_transformed)[0]\n",
    "    check_df = pd.DataFrame(columns=review_ds.columns)\n",
    "    check_df.loc[0] = review_ds.iloc[value]\n",
    "    check_df['Predicted'] = predicted_rating\n",
    "    return check_df"
   ]
  },
  {
   "cell_type": "code",
   "execution_count": 43,
   "metadata": {
    "colab": {
     "base_uri": "https://localhost:8080/",
     "height": 198
    },
    "colab_type": "code",
    "executionInfo": {
     "elapsed": 332759,
     "status": "ok",
     "timestamp": 1575244922087,
     "user": {
      "displayName": "Abhi Patodi",
      "photoUrl": "",
      "userId": "08749657629535720878"
     },
     "user_tz": 300
    },
    "id": "hjq_9SSARrar",
    "outputId": "90c8587d-d467-439e-eb6a-d49953fc3410"
   },
   "outputs": [
    {
     "name": "stdout",
     "output_type": "stream",
     "text": [
      "The row that has been selected is 47\n"
     ]
    },
    {
     "data": {
      "text/html": [
       "<div>\n",
       "<style scoped>\n",
       "    .dataframe tbody tr th:only-of-type {\n",
       "        vertical-align: middle;\n",
       "    }\n",
       "\n",
       "    .dataframe tbody tr th {\n",
       "        vertical-align: top;\n",
       "    }\n",
       "\n",
       "    .dataframe thead th {\n",
       "        text-align: right;\n",
       "    }\n",
       "</style>\n",
       "<table border=\"1\" class=\"dataframe\">\n",
       "  <thead>\n",
       "    <tr style=\"text-align: right;\">\n",
       "      <th></th>\n",
       "      <th>business_id</th>\n",
       "      <th>cool</th>\n",
       "      <th>date</th>\n",
       "      <th>funny</th>\n",
       "      <th>review_id</th>\n",
       "      <th>stars</th>\n",
       "      <th>text</th>\n",
       "      <th>useful</th>\n",
       "      <th>user_id</th>\n",
       "      <th>word_count</th>\n",
       "      <th>char_count</th>\n",
       "      <th>avg_word</th>\n",
       "      <th>hashtags</th>\n",
       "      <th>stopwords</th>\n",
       "      <th>numerics</th>\n",
       "      <th>text length</th>\n",
       "      <th>Predicted</th>\n",
       "    </tr>\n",
       "  </thead>\n",
       "  <tbody>\n",
       "    <tr>\n",
       "      <th>0</th>\n",
       "      <td>jzveTy7ogH7cg9axZ78ENg</td>\n",
       "      <td>0</td>\n",
       "      <td>2015-04-01 13:31:35</td>\n",
       "      <td>0</td>\n",
       "      <td>0NRNA8qIq9nKw5FcwyOxcQ</td>\n",
       "      <td>4</td>\n",
       "      <td>Very nice eating environment and the food are ...</td>\n",
       "      <td>0</td>\n",
       "      <td>54kpqrxF9DEPpwa51hO_Bw</td>\n",
       "      <td>14</td>\n",
       "      <td>85</td>\n",
       "      <td>5.142857</td>\n",
       "      <td>0</td>\n",
       "      <td>3</td>\n",
       "      <td>0</td>\n",
       "      <td>85</td>\n",
       "      <td>4</td>\n",
       "    </tr>\n",
       "  </tbody>\n",
       "</table>\n",
       "</div>"
      ],
      "text/plain": [
       "              business_id cool  ... text length Predicted\n",
       "0  jzveTy7ogH7cg9axZ78ENg    0  ...          85         4\n",
       "\n",
       "[1 rows x 17 columns]"
      ]
     },
     "execution_count": 43,
     "metadata": {
      "tags": []
     },
     "output_type": "execute_result"
    }
   ],
   "source": [
    "predict_review_ds(55,bow_transformer,nb,review_ds)\n"
   ]
  },
  {
   "cell_type": "markdown",
   "metadata": {
    "colab_type": "text",
    "id": "mi6y3tv6SuuH"
   },
   "source": [
    "Thus, we see that the actual rating was 4 for the reveiw and our model very well predicted that rating.We shall test for another positive reveiw.\n",
    "\n",
    "\n",
    "Now, let us try to create another model where we remove all the stopwords and perform lemmatisation and other text processing. We will then try to predict the ratings using Naive Baised Model and test for our predictions."
   ]
  },
  {
   "cell_type": "markdown",
   "metadata": {
    "colab_type": "text",
    "id": "t5KQs_6WTIxO"
   },
   "source": [
    "## **1.3 ADVANCE MODEL AFTER REMOVAL OF STOPWORDS AND OTHER PRE-PROCESSING TECHNIQUE TO PREDICT RATINGS USING MULTINOMIAL NAIVE BIAS**\n",
    "\n"
   ]
  },
  {
   "cell_type": "code",
   "execution_count": 0,
   "metadata": {
    "colab": {},
    "colab_type": "code",
    "id": "yqGCAWDqRrdh"
   },
   "outputs": [],
   "source": [
    "# function to segregate the Part Of Speech in the review text\n",
    "# n - noun, v - verb, a - adverb, r - adverb\n",
    "from nltk.corpus import wordnet\n",
    "from collections import Counter\n",
    "def get_pos( word ):\n",
    "    w_synsets = wordnet.synsets(word)\n",
    "\n",
    "    pos_counts = Counter()\n",
    "    pos_counts[\"n\"] = len(  [ item for item in w_synsets if item.pos()==\"n\"]  )\n",
    "    pos_counts[\"v\"] = len(  [ item for item in w_synsets if item.pos()==\"v\"]  )\n",
    "    pos_counts[\"a\"] = len(  [ item for item in w_synsets if item.pos()==\"a\"]  )\n",
    "    pos_counts[\"r\"] = len(  [ item for item in w_synsets if item.pos()==\"r\"]  )\n",
    "    \n",
    "    most_common_pos_list = pos_counts.most_common(4)\n",
    "    return most_common_pos_list[0][0]"
   ]
  },
  {
   "cell_type": "code",
   "execution_count": 0,
   "metadata": {
    "colab": {},
    "colab_type": "code",
    "id": "GmhNDV1gRrhJ"
   },
   "outputs": [],
   "source": [
    "# function to perform text preprocessing on the review text\n",
    "def preprocessing(text):\n",
    "    \n",
    "    # tokenize into words\n",
    "    tokens = [word for sent in nltk.sent_tokenize(text) for word in nltk.word_tokenize(sent)]\n",
    "\n",
    "    # lower capitalization\n",
    "    tokens = [word.lower() for word in tokens]\n",
    "    \n",
    "    # remove stopwords\n",
    "    stop = stopwords.words('english')\n",
    "    tokens = [token for token in tokens if token not in stop]\n",
    "    \n",
    "    # remove punctuations\n",
    "    tokens = [char for char in tokens if char not in string.punctuation]\n",
    "\n",
    "    # lemmatize\n",
    "    lmtzr = WordNetLemmatizer()\n",
    "    tokens = [lmtzr.lemmatize(x, get_pos(x)) for x in tokens]\n",
    "    #tokens = [lmtzr.lemmatize(word, pos='v') for word in tokens]\n",
    "    preprocessed_text= ' '.join(tokens)\n",
    "\n",
    "    return preprocessed_text\n"
   ]
  },
  {
   "cell_type": "code",
   "execution_count": 46,
   "metadata": {
    "colab": {
     "base_uri": "https://localhost:8080/",
     "height": 34
    },
    "colab_type": "code",
    "executionInfo": {
     "elapsed": 334547,
     "status": "ok",
     "timestamp": 1575244923908,
     "user": {
      "displayName": "Abhi Patodi",
      "photoUrl": "",
      "userId": "08749657629535720878"
     },
     "user_tz": 300
    },
    "id": "wx6UP2THRrjz",
    "outputId": "b549cfb8-cdef-48ef-c06c-e9053e01e2ce"
   },
   "outputs": [
    {
     "name": "stdout",
     "output_type": "stream",
     "text": [
      "hey many cat run like cat sample review happen contain punctuation\n"
     ]
    }
   ],
   "source": [
    "# sample text to check if the above function worked\n",
    "sample_text = \"Hey there! There are many cats running but I like just I cat!! This is a sample reviews, which happens to contain punctuations.\"\n",
    "\n",
    "print(preprocessing(sample_text))"
   ]
  },
  {
   "cell_type": "code",
   "execution_count": 0,
   "metadata": {
    "colab": {},
    "colab_type": "code",
    "id": "tV0shrNiRrmb"
   },
   "outputs": [],
   "source": [
    "# separating our features and target \n",
    "X = review_ds['text']\n",
    "y = review_ds['stars']"
   ]
  },
  {
   "cell_type": "code",
   "execution_count": 0,
   "metadata": {
    "colab": {},
    "colab_type": "code",
    "id": "ZsNrNjOpRrpS"
   },
   "outputs": [],
   "source": [
    "# creating a bag of words which consist of entire preprocessed review text and fiting it\n",
    "#%%time\n",
    "from sklearn.feature_extraction.text import CountVectorizer\n",
    "bow_transformer = CountVectorizer(analyzer=preprocessing).fit(X)"
   ]
  },
  {
   "cell_type": "code",
   "execution_count": 49,
   "metadata": {
    "colab": {
     "base_uri": "https://localhost:8080/",
     "height": 34
    },
    "colab_type": "code",
    "executionInfo": {
     "elapsed": 668966,
     "status": "ok",
     "timestamp": 1575245258359,
     "user": {
      "displayName": "Abhi Patodi",
      "photoUrl": "",
      "userId": "08749657629535720878"
     },
     "user_tz": 300
    },
    "id": "MUN6acLlRrrt",
    "outputId": "36d3ef9a-4c23-4941-bae7-6a690c1c4bef"
   },
   "outputs": [
    {
     "data": {
      "text/plain": [
       "1229"
      ]
     },
     "execution_count": 49,
     "metadata": {
      "tags": []
     },
     "output_type": "execute_result"
    }
   ],
   "source": [
    "# Looking at the count of features in the model\n",
    "len(bow_transformer.vocabulary_)"
   ]
  },
  {
   "cell_type": "code",
   "execution_count": 0,
   "metadata": {
    "colab": {},
    "colab_type": "code",
    "id": "CFBrDdVxUSSg"
   },
   "outputs": [],
   "source": [
    "# Transforming our features in the model\n",
    "#%%time\n",
    "X = bow_transformer.transform(X)"
   ]
  },
  {
   "cell_type": "code",
   "execution_count": 51,
   "metadata": {
    "colab": {
     "base_uri": "https://localhost:8080/",
     "height": 70
    },
    "colab_type": "code",
    "executionInfo": {
     "elapsed": 988243,
     "status": "ok",
     "timestamp": 1575245577658,
     "user": {
      "displayName": "Abhi Patodi",
      "photoUrl": "",
      "userId": "08749657629535720878"
     },
     "user_tz": 300
    },
    "id": "82fNqIp3USVU",
    "outputId": "9210ea4f-8108-43db-e258-7af87426ab9c"
   },
   "outputs": [
    {
     "name": "stdout",
     "output_type": "stream",
     "text": [
      "Shape of Sparse Matrix:  (100000, 1229)\n",
      "Amount of Non-Zero occurrences:  2640194\n",
      "Density: 2.148245728234337\n"
     ]
    }
   ],
   "source": [
    "print('Shape of Sparse Matrix: ', X.shape)\n",
    "print('Amount of Non-Zero occurrences: ', X.nnz)\n",
    "\n",
    "# Percentage of non-zero values\n",
    "density = (100.0 * X.nnz / (X.shape[0] * X.shape[1]))\n",
    "print('Density: {}'.format((density)))"
   ]
  },
  {
   "cell_type": "code",
   "execution_count": 52,
   "metadata": {
    "colab": {
     "base_uri": "https://localhost:8080/",
     "height": 87
    },
    "colab_type": "code",
    "executionInfo": {
     "elapsed": 988228,
     "status": "ok",
     "timestamp": 1575245577660,
     "user": {
      "displayName": "Abhi Patodi",
      "photoUrl": "",
      "userId": "08749657629535720878"
     },
     "user_tz": 300
    },
    "id": "rCICHaE0USXw",
    "outputId": "2ea9d96c-f028-43c8-f6ec-bba1cf7914a9"
   },
   "outputs": [
    {
     "name": "stdout",
     "output_type": "stream",
     "text": [
      "Number transactions X_train dataset:  (70000, 1229)\n",
      "Number transactions y_train dataset:  (70000,)\n",
      "Number transactions X_test dataset:  (30000, 1229)\n",
      "Number transactions y_test dataset:  (30000,)\n"
     ]
    }
   ],
   "source": [
    "from imblearn.over_sampling import SMOTE\n",
    "from sklearn.model_selection import train_test_split\n",
    "\n",
    "X_train, X_test, y_train, y_test = train_test_split(X, y, test_size=0.3, random_state=101)\n",
    "print(\"Number transactions X_train dataset: \", X_train.shape)\n",
    "print(\"Number transactions y_train dataset: \", y_train.shape)\n",
    "print(\"Number transactions X_test dataset: \", X_test.shape)\n",
    "print(\"Number transactions y_test dataset: \", y_test.shape)"
   ]
  },
  {
   "cell_type": "code",
   "execution_count": 53,
   "metadata": {
    "colab": {
     "base_uri": "https://localhost:8080/",
     "height": 263
    },
    "colab_type": "code",
    "executionInfo": {
     "elapsed": 1064529,
     "status": "ok",
     "timestamp": 1575245653978,
     "user": {
      "displayName": "Abhi Patodi",
      "photoUrl": "",
      "userId": "08749657629535720878"
     },
     "user_tz": 300
    },
    "id": "HS5Y9R6bUSdu",
    "outputId": "aa540020-cc09-423f-d4dd-1d0ed26c9f4e"
   },
   "outputs": [
    {
     "name": "stdout",
     "output_type": "stream",
     "text": [
      "Before OverSampling, counts of label '1': 10162\n",
      "Before OverSampling, counts of label '2': 5593\n",
      "Before OverSampling, counts of label '3': 7762\n",
      "Before OverSampling, counts of label '4': 15361\n",
      "Before OverSampling, counts of label '5': 31122 \n",
      "\n",
      "After OverSampling, the shape of train_X: (155610, 1229)\n",
      "After OverSampling, the shape of train_y: (155610,) \n",
      "\n",
      "After OverSampling, counts of label '1': 31122\n",
      "After OverSampling, counts of label '2': 31122\n",
      "After OverSampling, counts of label '3': 31122\n",
      "After OverSampling, counts of label '4': 31122\n",
      "After OverSampling, counts of label '5': 31122\n"
     ]
    }
   ],
   "source": [
    "print(\"Before OverSampling, counts of label '1': {}\".format(sum(y_train==1)))\n",
    "print(\"Before OverSampling, counts of label '2': {}\".format(sum(y_train==2)))\n",
    "print(\"Before OverSampling, counts of label '3': {}\".format(sum(y_train==3)))\n",
    "print(\"Before OverSampling, counts of label '4': {}\".format(sum(y_train==4)))\n",
    "print(\"Before OverSampling, counts of label '5': {} \\n\".format(sum(y_train==5)))\n",
    "\n",
    "sm = SMOTE(random_state=2)\n",
    "X_train_res, y_train_res = sm.fit_sample(X_train, y_train.ravel())\n",
    "\n",
    "print('After OverSampling, the shape of train_X: {}'.format(X_train_res.shape))\n",
    "print('After OverSampling, the shape of train_y: {} \\n'.format(y_train_res.shape))\n",
    "\n",
    "print(\"After OverSampling, counts of label '1': {}\".format(sum(y_train_res==1)))\n",
    "print(\"After OverSampling, counts of label '2': {}\".format(sum(y_train_res==2)))\n",
    "print(\"After OverSampling, counts of label '3': {}\".format(sum(y_train_res==3)))\n",
    "print(\"After OverSampling, counts of label '4': {}\".format(sum(y_train_res==4)))\n",
    "print(\"After OverSampling, counts of label '5': {}\".format(sum(y_train_res==5)))"
   ]
  },
  {
   "cell_type": "code",
   "execution_count": 54,
   "metadata": {
    "colab": {
     "base_uri": "https://localhost:8080/",
     "height": 34
    },
    "colab_type": "code",
    "executionInfo": {
     "elapsed": 1064514,
     "status": "ok",
     "timestamp": 1575245653979,
     "user": {
      "displayName": "Abhi Patodi",
      "photoUrl": "",
      "userId": "08749657629535720878"
     },
     "user_tz": 300
    },
    "id": "9xI5Lb6YZ6c1",
    "outputId": "94a614bb-cf93-4f6e-ce15-0501bef883b2"
   },
   "outputs": [
    {
     "data": {
      "text/plain": [
       "MultinomialNB(alpha=1.0, class_prior=None, fit_prior=True)"
      ]
     },
     "execution_count": 54,
     "metadata": {
      "tags": []
     },
     "output_type": "execute_result"
    }
   ],
   "source": [
    "# Training our model using Multinomial Naive Bais Algorithm\n",
    "from sklearn.naive_bayes import MultinomialNB\n",
    "\n",
    "nb = MultinomialNB()\n",
    "nb.fit(X_train, y_train)"
   ]
  },
  {
   "cell_type": "code",
   "execution_count": 0,
   "metadata": {
    "colab": {},
    "colab_type": "code",
    "id": "crkkeIXEZ6ff"
   },
   "outputs": [],
   "source": [
    "# Predict on the test set\n",
    "adv_nb_preds = nb.predict(X_test)"
   ]
  },
  {
   "cell_type": "code",
   "execution_count": 56,
   "metadata": {
    "colab": {
     "base_uri": "https://localhost:8080/",
     "height": 642
    },
    "colab_type": "code",
    "executionInfo": {
     "elapsed": 1064719,
     "status": "ok",
     "timestamp": 1575245654206,
     "user": {
      "displayName": "Abhi Patodi",
      "photoUrl": "",
      "userId": "08749657629535720878"
     },
     "user_tz": 300
    },
    "id": "6xDCUpxZZ6h-",
    "outputId": "fd8b4d14-db07-41d6-f197-5e055a5b5bc6"
   },
   "outputs": [
    {
     "name": "stdout",
     "output_type": "stream",
     "text": [
      "Confusion Matrix\n",
      " [[11066   553   157   150  1319]\n",
      " [ 4829   705   203   149   856]\n",
      " [ 1963   342   164   128   611]\n",
      " [ 1360   185    91    88   658]\n",
      " [ 2193   162    88   132  1848]] \n",
      "\n"
     ]
    },
    {
     "data": {
      "image/png": "[encoded data removed]",
      "text/plain": [
       "<Figure size 1152x576 with 2 Axes>"
      ]
     },
     "metadata": {
      "tags": []
     },
     "output_type": "display_data"
    }
   ],
   "source": [
    "from sklearn.metrics import confusion_matrix, classification_report\n",
    "# Let us now evaluate and plot Confusion Matrix \n",
    "\n",
    "labels = [5,4,3,2,1]\n",
    "adv_nb_cm = confusion_matrix(y_test, adv_nb_preds, labels)\n",
    "print('Confusion Matrix\\n',adv_nb_cm,'\\n')\n",
    "fig = plt.figure(figsize=(16,8))\n",
    "ax = fig.add_subplot(111)\n",
    "cax = ax.matshow(adv_nb_cm)\n",
    "plt.title('Confusion matrix of the classifier')\n",
    "fig.colorbar(cax)\n",
    "ax.set_xticklabels([''] + labels)\n",
    "ax.set_yticklabels([''] + labels)\n",
    "plt.xlabel('Predicted')\n",
    "plt.ylabel('True')\n",
    "plt.show()"
   ]
  },
  {
   "cell_type": "code",
   "execution_count": 57,
   "metadata": {
    "colab": {
     "base_uri": "https://localhost:8080/",
     "height": 228
    },
    "colab_type": "code",
    "executionInfo": {
     "elapsed": 1064876,
     "status": "ok",
     "timestamp": 1575245654383,
     "user": {
      "displayName": "Abhi Patodi",
      "photoUrl": "",
      "userId": "08749657629535720878"
     },
     "user_tz": 300
    },
    "id": "v7Dz-PAKCqAN",
    "outputId": "2bad9f1d-bdfc-4160-cf4d-695c134aefc8"
   },
   "outputs": [
    {
     "name": "stdout",
     "output_type": "stream",
     "text": [
      "              precision    recall  f1-score   support\n",
      "\n",
      "           1       0.35      0.42      0.38      4423\n",
      "           2       0.14      0.04      0.06      2382\n",
      "           3       0.23      0.05      0.08      3208\n",
      "           4       0.36      0.10      0.16      6742\n",
      "           5       0.52      0.84      0.64     13245\n",
      "\n",
      "    accuracy                           0.46     30000\n",
      "   macro avg       0.32      0.29      0.26     30000\n",
      "weighted avg       0.40      0.46      0.39     30000\n",
      "\n"
     ]
    }
   ],
   "source": [
    "# Let us now evaluate our model using classification report\n",
    "adv_nb_cm = classification_report(y_test, adv_nb_preds)\n",
    "print(adv_nb_cm)"
   ]
  },
  {
   "cell_type": "code",
   "execution_count": 58,
   "metadata": {
    "colab": {
     "base_uri": "https://localhost:8080/",
     "height": 34
    },
    "colab_type": "code",
    "executionInfo": {
     "elapsed": 1064859,
     "status": "ok",
     "timestamp": 1575245654384,
     "user": {
      "displayName": "Abhi Patodi",
      "photoUrl": "",
      "userId": "08749657629535720878"
     },
     "user_tz": 300
    },
    "id": "f2M0sSs3Cp7V",
    "outputId": "fb50c1b6-3171-4dbb-d719-fa13839f3a23"
   },
   "outputs": [
    {
     "name": "stdout",
     "output_type": "stream",
     "text": [
      "0.46236666666666665\n"
     ]
    }
   ],
   "source": [
    "# Let us now calculate accuracy score\n",
    "adv_nb_acc = metrics.accuracy_score(y_test, adv_nb_preds)\n",
    "print(adv_nb_acc)"
   ]
  },
  {
   "cell_type": "markdown",
   "metadata": {
    "colab_type": "text",
    "id": "eEUTB2ssaKkv"
   },
   "source": [
    "Observation :\n",
    "\n",
    "From above, we observe that the misclassification rate is still high for each of the ratings. 2 star rating is poorly predicted whereas a 5 star rating as much better prediction results compared to other ratings.\n",
    "\n",
    "2 star rating has a higher misclassified rating as compared to its true positives where it wrongly predicts it as a 5 star rating majority of the times.\n",
    "\n",
    "3 star rating also has high misclassification rate where there is almost equal number of chances that it wrongly predicts the rating as a 5 star rating.\n",
    "\n",
    "Looking at the precision, recall and f1-score for each of the ratings, we see that it is least for 3 star rating. The values for 2 star and 4 star ratings are also not very good which signifies that the model is not good and there is a higher probablity that it will wrongly predict the ratings.\n",
    "\n",
    "Also, in comparison to the baseline model we observe that this model under-performed after performing text preprocessing. The reason behind high misclassification rate while our modelling is due to the biased nature of reveiws and stars given by the users. As we had seen above while performing the exploratory data analysis, majority of the users have given more than 3 star rating to the business which is why our model turned bias towards positive reviews and predicts ratings which is more than 3 for most of the scenarios.\n",
    "\n",
    "Some of the examples are shown below -"
   ]
  },
  {
   "cell_type": "markdown",
   "metadata": {
    "colab_type": "text",
    "id": "3ajHDrG0aV4N"
   },
   "source": [
    "## **Prediction of Positive Reviews**"
   ]
  },
  {
   "cell_type": "code",
   "execution_count": 0,
   "metadata": {
    "colab": {},
    "colab_type": "code",
    "id": "QQUQIi7OZ6rF"
   },
   "outputs": [],
   "source": [
    "from random import randint\n",
    "def predict_review(n,bow_transformer,nb,review):\n",
    "    value = randint(0,n)\n",
    "    print('The row that has been selected is', value)\n",
    "    review_verdict = review_ds['text'][value]\n",
    "    review_verdict_transformed = bow_transformer.transform([review_verdict])\n",
    "    predicted_rating = nb.predict(review_verdict_transformed)[0]\n",
    "    check_df = pd.DataFrame(columns=review.columns)\n",
    "    check_df.loc[0] = review_ds.iloc[value]\n",
    "    check_df['Predicted'] = predicted_rating\n",
    "    return check_df\n"
   ]
  },
  {
   "cell_type": "code",
   "execution_count": 60,
   "metadata": {
    "colab": {
     "base_uri": "https://localhost:8080/",
     "height": 232
    },
    "colab_type": "code",
    "executionInfo": {
     "elapsed": 1064836,
     "status": "ok",
     "timestamp": 1575245654385,
     "user": {
      "displayName": "Abhi Patodi",
      "photoUrl": "",
      "userId": "08749657629535720878"
     },
     "user_tz": 300
    },
    "id": "APaHdEm4ao3x",
    "outputId": "f33bec06-2e4e-406f-e5fe-7f8726945909"
   },
   "outputs": [
    {
     "name": "stdout",
     "output_type": "stream",
     "text": [
      "The row that has been selected is 68\n"
     ]
    },
    {
     "data": {
      "text/html": [
       "<div>\n",
       "<style scoped>\n",
       "    .dataframe tbody tr th:only-of-type {\n",
       "        vertical-align: middle;\n",
       "    }\n",
       "\n",
       "    .dataframe tbody tr th {\n",
       "        vertical-align: top;\n",
       "    }\n",
       "\n",
       "    .dataframe thead th {\n",
       "        text-align: right;\n",
       "    }\n",
       "</style>\n",
       "<table border=\"1\" class=\"dataframe\">\n",
       "  <thead>\n",
       "    <tr style=\"text-align: right;\">\n",
       "      <th></th>\n",
       "      <th>business_id</th>\n",
       "      <th>cool</th>\n",
       "      <th>date</th>\n",
       "      <th>funny</th>\n",
       "      <th>review_id</th>\n",
       "      <th>stars</th>\n",
       "      <th>text</th>\n",
       "      <th>useful</th>\n",
       "      <th>user_id</th>\n",
       "      <th>word_count</th>\n",
       "      <th>char_count</th>\n",
       "      <th>avg_word</th>\n",
       "      <th>hashtags</th>\n",
       "      <th>stopwords</th>\n",
       "      <th>numerics</th>\n",
       "      <th>text length</th>\n",
       "      <th>Predicted</th>\n",
       "    </tr>\n",
       "  </thead>\n",
       "  <tbody>\n",
       "    <tr>\n",
       "      <th>0</th>\n",
       "      <td>CZKkoMlqu0N0zCFK-3T_Fg</td>\n",
       "      <td>0</td>\n",
       "      <td>2013-02-21 21:25:07</td>\n",
       "      <td>0</td>\n",
       "      <td>dcKpWjwqKl0ImVKEru6Q1A</td>\n",
       "      <td>4</td>\n",
       "      <td>Great cocktails and very good food.  Overall f...</td>\n",
       "      <td>1</td>\n",
       "      <td>X-5IICsYwqImns4WxHi91Q</td>\n",
       "      <td>11</td>\n",
       "      <td>68</td>\n",
       "      <td>5.8</td>\n",
       "      <td>0</td>\n",
       "      <td>2</td>\n",
       "      <td>0</td>\n",
       "      <td>68</td>\n",
       "      <td>5</td>\n",
       "    </tr>\n",
       "  </tbody>\n",
       "</table>\n",
       "</div>"
      ],
      "text/plain": [
       "              business_id cool  ... text length Predicted\n",
       "0  CZKkoMlqu0N0zCFK-3T_Fg    0  ...          68         5\n",
       "\n",
       "[1 rows x 17 columns]"
      ]
     },
     "execution_count": 60,
     "metadata": {
      "tags": []
     },
     "output_type": "execute_result"
    }
   ],
   "source": [
    "predict_review(100,bow_transformer,nb,review_ds)\n"
   ]
  },
  {
   "cell_type": "markdown",
   "metadata": {
    "colab_type": "text",
    "id": "tGqrA5Sua8zc"
   },
   "source": [
    "From above we see that the actual rating was 4 and our model misclassified it as a 5 star rating for the business\n"
   ]
  },
  {
   "cell_type": "markdown",
   "metadata": {
    "colab_type": "text",
    "id": "Yue2m2K5snJ3"
   },
   "source": [
    "# **2. SENTIMENT ANALYSIS AND PREDICTION USING SVM CLASSIFIER**\n",
    "\n"
   ]
  },
  {
   "cell_type": "code",
   "execution_count": 0,
   "metadata": {
    "colab": {},
    "colab_type": "code",
    "id": "2EDJzyyrnuhe"
   },
   "outputs": [],
   "source": [
    "from sklearn.svm import LinearSVC\n",
    "from sklearn.calibration import CalibratedClassifierCV"
   ]
  },
  {
   "cell_type": "code",
   "execution_count": 62,
   "metadata": {
    "colab": {
     "base_uri": "https://localhost:8080/",
     "height": 175
    },
    "colab_type": "code",
    "executionInfo": {
     "elapsed": 1214903,
     "status": "ok",
     "timestamp": 1575245804474,
     "user": {
      "displayName": "Abhi Patodi",
      "photoUrl": "",
      "userId": "08749657629535720878"
     },
     "user_tz": 300
    },
    "id": "wJUv2K06nuka",
    "outputId": "12a31813-1baa-4ff2-d9ad-b1bb607da3fa"
   },
   "outputs": [
    {
     "data": {
      "text/plain": [
       "CalibratedClassifierCV(base_estimator=LinearSVC(C=1.0, class_weight=None,\n",
       "                                                dual=True, fit_intercept=True,\n",
       "                                                intercept_scaling=1,\n",
       "                                                loss='squared_hinge',\n",
       "                                                max_iter=1000,\n",
       "                                                multi_class='ovr', penalty='l2',\n",
       "                                                random_state=None, tol=0.0001,\n",
       "                                                verbose=0),\n",
       "                       cv='warn', method='sigmoid')"
      ]
     },
     "execution_count": 62,
     "metadata": {
      "tags": []
     },
     "output_type": "execute_result"
    }
   ],
   "source": [
    "classifier = LinearSVC()\n",
    "clf = CalibratedClassifierCV(classifier) \n",
    "\n",
    "clf.fit(X_train,y_train)\n"
   ]
  },
  {
   "cell_type": "code",
   "execution_count": 0,
   "metadata": {
    "colab": {},
    "colab_type": "code",
    "id": "bE3RRWwcnuo9"
   },
   "outputs": [],
   "source": [
    "finalized_model = open(\"SVM_Classifier.pkl\", \"wb\")\n",
    "pickle.dump(classifier, finalized_model)"
   ]
  },
  {
   "cell_type": "code",
   "execution_count": 0,
   "metadata": {
    "colab": {},
    "colab_type": "code",
    "id": "F_w8cOj0nuwu"
   },
   "outputs": [],
   "source": [
    "# Let us now predict on the test set\n",
    "svm_preds = clf.predict(X_test)\n",
    "svm_prob = clf.predict_proba(X_test)"
   ]
  },
  {
   "cell_type": "code",
   "execution_count": 132,
   "metadata": {
    "colab": {
     "base_uri": "https://localhost:8080/",
     "height": 659
    },
    "colab_type": "code",
    "executionInfo": {
     "elapsed": 722,
     "status": "ok",
     "timestamp": 1575246751640,
     "user": {
      "displayName": "Abhi Patodi",
      "photoUrl": "",
      "userId": "08749657629535720878"
     },
     "user_tz": 300
    },
    "id": "UBSgRUB7OUCk",
    "outputId": "7acabb6a-3d39-4a9b-c50d-80a212bd79a8"
   },
   "outputs": [
    {
     "name": "stdout",
     "output_type": "stream",
     "text": [
      "Confusion matrix of the SVM Classifier \n",
      "\n",
      " [[12907   174     3     0   161]\n",
      " [ 6260   318    11     0   153]\n",
      " [ 2849   208    15     0   136]\n",
      " [ 2052    95     9     0   226]\n",
      " [ 3745    99     5     1   573]] \n",
      "\n"
     ]
    },
    {
     "data": {
      "image/png": "[encoded data removed]",
      "text/plain": [
       "<Figure size 1152x576 with 2 Axes>"
      ]
     },
     "metadata": {
      "tags": []
     },
     "output_type": "display_data"
    }
   ],
   "source": [
    "from sklearn.metrics import confusion_matrix, classification_report\n",
    "# Let us now evaluate and plot Confusion Matrix \n",
    "\n",
    "labels = [5,4,3,2,1]\n",
    "svm_cm = confusion_matrix(y_test, svm_preds, labels)\n",
    "print('Confusion matrix of the SVM Classifier \\n\\n',svm_cm,'\\n')\n",
    "fig = plt.figure(figsize=(16,8))\n",
    "ax = fig.add_subplot(111)\n",
    "cax = ax.matshow(svm_cm)\n",
    "plt.title('Confusion matrix of the SVM Classifier')\n",
    "fig.colorbar(cax)\n",
    "ax.set_xticklabels([''] + labels)\n",
    "ax.set_yticklabels([''] + labels)\n",
    "plt.xlabel('Predicted')\n",
    "plt.ylabel('True')\n",
    "plt.show()"
   ]
  },
  {
   "cell_type": "code",
   "execution_count": 66,
   "metadata": {
    "colab": {
     "base_uri": "https://localhost:8080/",
     "height": 263
    },
    "colab_type": "code",
    "executionInfo": {
     "elapsed": 1214863,
     "status": "ok",
     "timestamp": 1575245804479,
     "user": {
      "displayName": "Abhi Patodi",
      "photoUrl": "",
      "userId": "08749657629535720878"
     },
     "user_tz": 300
    },
    "id": "1jADWk1QELjU",
    "outputId": "34d2620f-ec0c-4f56-85c3-c34f2e09f102"
   },
   "outputs": [
    {
     "name": "stdout",
     "output_type": "stream",
     "text": [
      "               Classification Report for SVM Classifier \n",
      "\n",
      "              precision    recall  f1-score   support\n",
      "\n",
      "           1       0.46      0.13      0.20      4423\n",
      "           2       0.00      0.00      0.00      2382\n",
      "           3       0.35      0.00      0.01      3208\n",
      "           4       0.36      0.05      0.08      6742\n",
      "           5       0.46      0.97      0.63     13245\n",
      "\n",
      "    accuracy                           0.46     30000\n",
      "   macro avg       0.33      0.23      0.18     30000\n",
      "weighted avg       0.39      0.46      0.33     30000\n",
      "\n"
     ]
    }
   ],
   "source": [
    "# Let us now evaluate our model using classification report\n",
    "svm_cr = classification_report(y_test, svm_preds)\n",
    "print('               Classification Report for SVM Classifier \\n')\n",
    "\n",
    "print(svm_cr)"
   ]
  },
  {
   "cell_type": "code",
   "execution_count": 134,
   "metadata": {
    "colab": {
     "base_uri": "https://localhost:8080/",
     "height": 70
    },
    "colab_type": "code",
    "executionInfo": {
     "elapsed": 490,
     "status": "ok",
     "timestamp": 1575246830108,
     "user": {
      "displayName": "Abhi Patodi",
      "photoUrl": "",
      "userId": "08749657629535720878"
     },
     "user_tz": 300
    },
    "id": "1Tq4a9Q7Oby1",
    "outputId": "b88c058b-4fbe-412c-db48-0194bc322b18"
   },
   "outputs": [
    {
     "name": "stdout",
     "output_type": "stream",
     "text": [
      "Accuracy Score of SVM Classifier\n",
      "\n",
      "0.4604333333333333\n"
     ]
    }
   ],
   "source": [
    "# Let us now calculate accuracy score\n",
    "svm_acc = metrics.accuracy_score(y_test, svm_preds)\n",
    "print(\"Accuracy Score of SVM Classifier\\n\")\n",
    "print(svm_acc)"
   ]
  },
  {
   "cell_type": "markdown",
   "metadata": {
    "colab_type": "text",
    "id": "3WGSN29Htrlw"
   },
   "source": [
    "## **Prediction of Positive Reviews**\n"
   ]
  },
  {
   "cell_type": "code",
   "execution_count": 0,
   "metadata": {
    "colab": {},
    "colab_type": "code",
    "id": "Uj3aWPPOnuzO"
   },
   "outputs": [],
   "source": [
    "from random import randint\n",
    "def predict_review_ds(n,bow_transformer,classifier,review_ds):\n",
    "    value = randint(0,n)\n",
    "    print('The row that has been selected is', value)\n",
    "    review_verdict = review_ds['text'][value]\n",
    "    review_verdict_transformed = bow_transformer.transform([review_verdict])\n",
    "    predicted_rating = clf.predict(review_verdict_transformed)[0]\n",
    "    check_df = pd.DataFrame(columns=review_ds.columns)\n",
    "    check_df.loc[0] = review_ds.iloc[value]\n",
    "    check_df['Predicted'] = predicted_rating\n",
    "    return check_df"
   ]
  },
  {
   "cell_type": "code",
   "execution_count": 69,
   "metadata": {
    "colab": {
     "base_uri": "https://localhost:8080/",
     "height": 232
    },
    "colab_type": "code",
    "executionInfo": {
     "elapsed": 1215243,
     "status": "ok",
     "timestamp": 1575245804900,
     "user": {
      "displayName": "Abhi Patodi",
      "photoUrl": "",
      "userId": "08749657629535720878"
     },
     "user_tz": 300
    },
    "id": "WBazMzNOnuuP",
    "outputId": "53afd9ec-8001-4744-b9e4-a0a6dc3e774a"
   },
   "outputs": [
    {
     "name": "stdout",
     "output_type": "stream",
     "text": [
      "The row that has been selected is 70\n"
     ]
    },
    {
     "data": {
      "text/html": [
       "<div>\n",
       "<style scoped>\n",
       "    .dataframe tbody tr th:only-of-type {\n",
       "        vertical-align: middle;\n",
       "    }\n",
       "\n",
       "    .dataframe tbody tr th {\n",
       "        vertical-align: top;\n",
       "    }\n",
       "\n",
       "    .dataframe thead th {\n",
       "        text-align: right;\n",
       "    }\n",
       "</style>\n",
       "<table border=\"1\" class=\"dataframe\">\n",
       "  <thead>\n",
       "    <tr style=\"text-align: right;\">\n",
       "      <th></th>\n",
       "      <th>business_id</th>\n",
       "      <th>cool</th>\n",
       "      <th>date</th>\n",
       "      <th>funny</th>\n",
       "      <th>review_id</th>\n",
       "      <th>stars</th>\n",
       "      <th>text</th>\n",
       "      <th>useful</th>\n",
       "      <th>user_id</th>\n",
       "      <th>word_count</th>\n",
       "      <th>char_count</th>\n",
       "      <th>avg_word</th>\n",
       "      <th>hashtags</th>\n",
       "      <th>stopwords</th>\n",
       "      <th>numerics</th>\n",
       "      <th>text length</th>\n",
       "      <th>Predicted</th>\n",
       "    </tr>\n",
       "  </thead>\n",
       "  <tbody>\n",
       "    <tr>\n",
       "      <th>0</th>\n",
       "      <td>KjicU7uxRt2KDEnO5cgxDQ</td>\n",
       "      <td>0</td>\n",
       "      <td>2017-06-27 23:17:40</td>\n",
       "      <td>0</td>\n",
       "      <td>4aX4qoetCm45i4Phut_sww</td>\n",
       "      <td>1</td>\n",
       "      <td>This company tried deliver flowers to our home...</td>\n",
       "      <td>0</td>\n",
       "      <td>gt9w3MAaBemQsUCS_xapMw</td>\n",
       "      <td>300</td>\n",
       "      <td>1515</td>\n",
       "      <td>4.29682</td>\n",
       "      <td>0</td>\n",
       "      <td>128</td>\n",
       "      <td>0</td>\n",
       "      <td>1515</td>\n",
       "      <td>5</td>\n",
       "    </tr>\n",
       "  </tbody>\n",
       "</table>\n",
       "</div>"
      ],
      "text/plain": [
       "              business_id cool  ... text length Predicted\n",
       "0  KjicU7uxRt2KDEnO5cgxDQ    0  ...        1515         5\n",
       "\n",
       "[1 rows x 17 columns]"
      ]
     },
     "execution_count": 69,
     "metadata": {
      "tags": []
     },
     "output_type": "execute_result"
    }
   ],
   "source": [
    "predict_review(100,bow_transformer,clf,review_ds)\n"
   ]
  },
  {
   "cell_type": "markdown",
   "metadata": {
    "colab_type": "text",
    "id": "KtyBGvK11JNv"
   },
   "source": [
    "# **3. SENTIMENT ANALYSIS AND PREDICTION USING RANDOM FOREST CLASSIFIER**\n",
    "\n"
   ]
  },
  {
   "cell_type": "code",
   "execution_count": 0,
   "metadata": {
    "colab": {},
    "colab_type": "code",
    "id": "7twmONFQnunF"
   },
   "outputs": [],
   "source": [
    "# Load scikit's random forest classifier library\n",
    "from sklearn.ensemble import RandomForestClassifier\n"
   ]
  },
  {
   "cell_type": "code",
   "execution_count": 71,
   "metadata": {
    "colab": {
     "base_uri": "https://localhost:8080/",
     "height": 140
    },
    "colab_type": "code",
    "executionInfo": {
     "elapsed": 1228117,
     "status": "ok",
     "timestamp": 1575245817797,
     "user": {
      "displayName": "Abhi Patodi",
      "photoUrl": "",
      "userId": "08749657629535720878"
     },
     "user_tz": 300
    },
    "id": "HDxIiP-G1bpY",
    "outputId": "fa047e68-cacb-425a-c5c3-c56e9d25fc6a"
   },
   "outputs": [
    {
     "data": {
      "text/plain": [
       "RandomForestClassifier(bootstrap=True, class_weight=None, criterion='gini',\n",
       "                       max_depth=None, max_features='auto', max_leaf_nodes=None,\n",
       "                       min_impurity_decrease=0.0, min_impurity_split=None,\n",
       "                       min_samples_leaf=1, min_samples_split=2,\n",
       "                       min_weight_fraction_leaf=0.0, n_estimators=10, n_jobs=2,\n",
       "                       oob_score=False, random_state=0, verbose=0,\n",
       "                       warm_start=False)"
      ]
     },
     "execution_count": 71,
     "metadata": {
      "tags": []
     },
     "output_type": "execute_result"
    }
   ],
   "source": [
    "# Create a random forest Classifier. By convention, clf means 'Classifier'\n",
    "rand_clf = RandomForestClassifier(n_jobs=2, random_state=0)\n",
    "\n",
    "# Train the Classifier to take the training features and learn how they relate\n",
    "\n",
    "rand_clf.fit(X_train,y_train)"
   ]
  },
  {
   "cell_type": "code",
   "execution_count": 0,
   "metadata": {
    "colab": {},
    "colab_type": "code",
    "id": "dMGsGMPk1bsb"
   },
   "outputs": [],
   "source": [
    "finalized_model = open(\"RandomForest_Classifier.pkl\", \"wb\")\n",
    "pickle.dump(rand_clf, finalized_model)"
   ]
  },
  {
   "cell_type": "code",
   "execution_count": 0,
   "metadata": {
    "colab": {},
    "colab_type": "code",
    "id": "Xh8sdiGC1bxm"
   },
   "outputs": [],
   "source": [
    "# Let us now predict on the test set\n",
    "rmf_preds = rand_clf.predict(X_test)\n",
    "rmf_prob = rand_clf.predict_proba(X_test)"
   ]
  },
  {
   "cell_type": "code",
   "execution_count": 135,
   "metadata": {
    "colab": {
     "base_uri": "https://localhost:8080/",
     "height": 659
    },
    "colab_type": "code",
    "executionInfo": {
     "elapsed": 765,
     "status": "ok",
     "timestamp": 1575246890811,
     "user": {
      "displayName": "Abhi Patodi",
      "photoUrl": "",
      "userId": "08749657629535720878"
     },
     "user_tz": 300
    },
    "id": "gjUOPpTgE-mN",
    "outputId": "32ee8e5e-7140-4db1-fb1d-dd06fb21d066"
   },
   "outputs": [
    {
     "name": "stdout",
     "output_type": "stream",
     "text": [
      "Confusion matrix of the Random Forest Classifier \n",
      "\n",
      " [[9473 2028  499  254  991]\n",
      " [4056 1451  408  178  649]\n",
      " [1662  717  252  126  451]\n",
      " [1198  461  196  106  421]\n",
      " [2152  714  290  175 1092]] \n",
      "\n"
     ]
    },
    {
     "data": {
      "image/png": "[encoded data removed]",
      "text/plain": [
       "<Figure size 1152x576 with 2 Axes>"
      ]
     },
     "metadata": {
      "tags": []
     },
     "output_type": "display_data"
    }
   ],
   "source": [
    "from sklearn.metrics import confusion_matrix, classification_report\n",
    "# Let us now evaluate and plot Confusion Matrix \n",
    "\n",
    "labels = [5,4,3,2,1]\n",
    "rmf_cm = confusion_matrix(y_test, rmf_preds, labels)\n",
    "print('Confusion matrix of the Random Forest Classifier \\n\\n',rmf_cm,'\\n')\n",
    "fig = plt.figure(figsize=(16,8))\n",
    "ax = fig.add_subplot(111)\n",
    "cax = ax.matshow(rmf_cm)\n",
    "plt.title('Confusion matrix of the Random Forest Classifier')\n",
    "fig.colorbar(cax)\n",
    "ax.set_xticklabels([''] + labels)\n",
    "ax.set_yticklabels([''] + labels)\n",
    "plt.xlabel('Predicted')\n",
    "plt.ylabel('True')\n",
    "plt.show()"
   ]
  },
  {
   "cell_type": "code",
   "execution_count": 75,
   "metadata": {
    "colab": {
     "base_uri": "https://localhost:8080/",
     "height": 263
    },
    "colab_type": "code",
    "executionInfo": {
     "elapsed": 1228965,
     "status": "ok",
     "timestamp": 1575245818698,
     "user": {
      "displayName": "Abhi Patodi",
      "photoUrl": "",
      "userId": "08749657629535720878"
     },
     "user_tz": 300
    },
    "id": "vggi7NR3FVVT",
    "outputId": "8dd1b2d2-c8ac-4fd8-c8dc-db7ee873e2e0"
   },
   "outputs": [
    {
     "name": "stdout",
     "output_type": "stream",
     "text": [
      "          Classification Report for Random Forest Classifier \n",
      "\n",
      "              precision    recall  f1-score   support\n",
      "\n",
      "           1       0.30      0.25      0.27      4423\n",
      "           2       0.13      0.04      0.07      2382\n",
      "           3       0.15      0.08      0.10      3208\n",
      "           4       0.27      0.22      0.24      6742\n",
      "           5       0.51      0.72      0.60     13245\n",
      "\n",
      "    accuracy                           0.41     30000\n",
      "   macro avg       0.27      0.26      0.26     30000\n",
      "weighted avg       0.36      0.41      0.37     30000\n",
      "\n"
     ]
    }
   ],
   "source": [
    "# Let us now evaluate our model using classification report\n",
    "rmf_cr = classification_report(y_test, rmf_preds)\n",
    "print('          Classification Report for Random Forest Classifier \\n')\n",
    "print(rmf_cr)"
   ]
  },
  {
   "cell_type": "code",
   "execution_count": 136,
   "metadata": {
    "colab": {
     "base_uri": "https://localhost:8080/",
     "height": 70
    },
    "colab_type": "code",
    "executionInfo": {
     "elapsed": 482,
     "status": "ok",
     "timestamp": 1575246959837,
     "user": {
      "displayName": "Abhi Patodi",
      "photoUrl": "",
      "userId": "08749657629535720878"
     },
     "user_tz": 300
    },
    "id": "vGkqD8DoFdpC",
    "outputId": "6dbddf64-942d-4c04-f5d5-1ec9bc9f81b7"
   },
   "outputs": [
    {
     "name": "stdout",
     "output_type": "stream",
     "text": [
      "Acurracy Score of Random Forest Classifer \n",
      "\n",
      "0.41246666666666665\n"
     ]
    }
   ],
   "source": [
    "# Let us now calculate accuracy score\n",
    "rmf_acc = metrics.accuracy_score(y_test, rmf_preds)\n",
    "print(\"Acurracy Score of Random Forest Classifer \\n\")\n",
    "print(rmf_acc)"
   ]
  },
  {
   "cell_type": "markdown",
   "metadata": {
    "colab_type": "text",
    "id": "Qz0-X2GW2Eb3"
   },
   "source": [
    "## **Prediction of Positive Reviews**\n"
   ]
  },
  {
   "cell_type": "code",
   "execution_count": 0,
   "metadata": {
    "colab": {},
    "colab_type": "code",
    "id": "GO8VnREg2ANf"
   },
   "outputs": [],
   "source": [
    "from random import randint\n",
    "def predict_review_ds(n,bow_transformer,rand_clf,review_ds):\n",
    "    value = randint(0,n)\n",
    "    print('The row that has been selected is', value)\n",
    "    review_verdict = review_ds['text'][value]\n",
    "    review_verdict_transformed = bow_transformer.transform([review_verdict])\n",
    "    predicted_rating = ramd_clf.predict(review_verdict_transformed)[0]\n",
    "    check_df = pd.DataFrame(columns=review_ds.columns)\n",
    "    check_df.loc[0] = review_ds.iloc[value]\n",
    "    check_df['Predicted'] = predicted_rating\n",
    "    return check_df"
   ]
  },
  {
   "cell_type": "code",
   "execution_count": 78,
   "metadata": {
    "colab": {
     "base_uri": "https://localhost:8080/",
     "height": 232
    },
    "colab_type": "code",
    "executionInfo": {
     "elapsed": 1229285,
     "status": "ok",
     "timestamp": 1575245819062,
     "user": {
      "displayName": "Abhi Patodi",
      "photoUrl": "",
      "userId": "08749657629535720878"
     },
     "user_tz": 300
    },
    "id": "yQC3ZzTk2Hs6",
    "outputId": "0c7cc821-851e-4119-9568-1cc228d5b7e5"
   },
   "outputs": [
    {
     "name": "stdout",
     "output_type": "stream",
     "text": [
      "The row that has been selected is 24\n"
     ]
    },
    {
     "data": {
      "text/html": [
       "<div>\n",
       "<style scoped>\n",
       "    .dataframe tbody tr th:only-of-type {\n",
       "        vertical-align: middle;\n",
       "    }\n",
       "\n",
       "    .dataframe tbody tr th {\n",
       "        vertical-align: top;\n",
       "    }\n",
       "\n",
       "    .dataframe thead th {\n",
       "        text-align: right;\n",
       "    }\n",
       "</style>\n",
       "<table border=\"1\" class=\"dataframe\">\n",
       "  <thead>\n",
       "    <tr style=\"text-align: right;\">\n",
       "      <th></th>\n",
       "      <th>business_id</th>\n",
       "      <th>cool</th>\n",
       "      <th>date</th>\n",
       "      <th>funny</th>\n",
       "      <th>review_id</th>\n",
       "      <th>stars</th>\n",
       "      <th>text</th>\n",
       "      <th>useful</th>\n",
       "      <th>user_id</th>\n",
       "      <th>word_count</th>\n",
       "      <th>char_count</th>\n",
       "      <th>avg_word</th>\n",
       "      <th>hashtags</th>\n",
       "      <th>stopwords</th>\n",
       "      <th>numerics</th>\n",
       "      <th>text length</th>\n",
       "      <th>Predicted</th>\n",
       "    </tr>\n",
       "  </thead>\n",
       "  <tbody>\n",
       "    <tr>\n",
       "      <th>0</th>\n",
       "      <td>Sfc8Haz2Yri8Mo1L0E0TsA</td>\n",
       "      <td>0</td>\n",
       "      <td>2012-11-06 03:41:43</td>\n",
       "      <td>0</td>\n",
       "      <td>D_UvaenM25iNd6aehTZ0MA</td>\n",
       "      <td>5</td>\n",
       "      <td>Great food, great service. Obviously fried chi...</td>\n",
       "      <td>0</td>\n",
       "      <td>8NwU4TRsD3S6gIfBqFzDMQ</td>\n",
       "      <td>40</td>\n",
       "      <td>232</td>\n",
       "      <td>4.825</td>\n",
       "      <td>0</td>\n",
       "      <td>14</td>\n",
       "      <td>0</td>\n",
       "      <td>232</td>\n",
       "      <td>5</td>\n",
       "    </tr>\n",
       "  </tbody>\n",
       "</table>\n",
       "</div>"
      ],
      "text/plain": [
       "              business_id cool  ... text length Predicted\n",
       "0  Sfc8Haz2Yri8Mo1L0E0TsA    0  ...         232         5\n",
       "\n",
       "[1 rows x 17 columns]"
      ]
     },
     "execution_count": 78,
     "metadata": {
      "tags": []
     },
     "output_type": "execute_result"
    }
   ],
   "source": [
    "predict_review(100,bow_transformer,rand_clf,review_ds)\n"
   ]
  },
  {
   "cell_type": "code",
   "execution_count": 79,
   "metadata": {
    "colab": {
     "base_uri": "https://localhost:8080/",
     "height": 499
    },
    "colab_type": "code",
    "executionInfo": {
     "elapsed": 1229267,
     "status": "ok",
     "timestamp": 1575245819063,
     "user": {
      "displayName": "Abhi Patodi",
      "photoUrl": "",
      "userId": "08749657629535720878"
     },
     "user_tz": 300
    },
    "id": "gSp4TI85F5S-",
    "outputId": "a1baf869-5990-4b77-d32b-20d3483f556b"
   },
   "outputs": [
    {
     "data": {
      "image/png": "[encoded data removed]",
      "text/plain": [
       "<Figure size 1080x576 with 1 Axes>"
      ]
     },
     "metadata": {
      "tags": []
     },
     "output_type": "display_data"
    }
   ],
   "source": [
    "# Plotting all the three Alogritms Accuracy Score\n",
    "\n",
    "models = ('Naive Bayes', 'SVM Classifier', 'Random Forest Classifier' )\n",
    "y_pos = np.arange(len(models))\n",
    "performance = [nb_acc,svm_acc,rmf_acc]\n",
    "plt.figure(figsize=(15,8))\n",
    "plt.bar(y_pos, performance, align='center', alpha=0.5)\n",
    "plt.xticks(y_pos, models)\n",
    "plt.ylabel('Accuracy Score')\n",
    "plt.title('Comparasion of Accuracy Score for Algorithms')\n",
    "\n",
    "plt.show()\n",
    "\n"
   ]
  },
  {
   "cell_type": "markdown",
   "metadata": {
    "colab_type": "text",
    "id": "_taT6rRpbOB0"
   },
   "source": [
    "# **4. RECOMENDATION SYSTEM BASED ON USER RATING PREDICTION FOR DIFFERENT MODELS**"
   ]
  },
  {
   "cell_type": "markdown",
   "metadata": {
    "colab_type": "text",
    "id": "pqRRPQDObZds"
   },
   "source": [
    "Here, we are taking only food related business like restaurants, food delivery etc into consideration for implementing recommendation systems in order to predict the user ratings"
   ]
  },
  {
   "cell_type": "code",
   "execution_count": 0,
   "metadata": {
    "colab": {},
    "colab_type": "code",
    "id": "v0N-Ewmyao6t"
   },
   "outputs": [],
   "source": [
    "# taking only those businesses which contain 'Food' as a category \n",
    "# And then merging it with review on business_id and user dataset on user_id\n",
    "business_ds['categories'] = business_ds['categories'].astype(str)\n",
    "restaurant_df = business_ds[business_ds['categories'].str.contains('Food')==True]\n",
    "complete_df = restaurant_df.merge(review_ds,on='business_id').merge(user_ds,on='user_id')"
   ]
  },
  {
   "cell_type": "code",
   "execution_count": 81,
   "metadata": {
    "colab": {
     "base_uri": "https://localhost:8080/",
     "height": 635
    },
    "colab_type": "code",
    "executionInfo": {
     "elapsed": 1229926,
     "status": "ok",
     "timestamp": 1575245819745,
     "user": {
      "displayName": "Abhi Patodi",
      "photoUrl": "",
      "userId": "08749657629535720878"
     },
     "user_tz": 300
    },
    "id": "H91Q3ydMapAj",
    "outputId": "6524812d-e649-4a58-ce17-67a5b6a669fd"
   },
   "outputs": [
    {
     "data": {
      "text/html": [
       "<div>\n",
       "<style scoped>\n",
       "    .dataframe tbody tr th:only-of-type {\n",
       "        vertical-align: middle;\n",
       "    }\n",
       "\n",
       "    .dataframe tbody tr th {\n",
       "        vertical-align: top;\n",
       "    }\n",
       "\n",
       "    .dataframe thead th {\n",
       "        text-align: right;\n",
       "    }\n",
       "</style>\n",
       "<table border=\"1\" class=\"dataframe\">\n",
       "  <thead>\n",
       "    <tr style=\"text-align: right;\">\n",
       "      <th></th>\n",
       "      <th>business_id</th>\n",
       "      <th>name_x</th>\n",
       "      <th>address</th>\n",
       "      <th>city</th>\n",
       "      <th>state</th>\n",
       "      <th>postal_code</th>\n",
       "      <th>latitude</th>\n",
       "      <th>longitude</th>\n",
       "      <th>stars_x</th>\n",
       "      <th>review_count_x</th>\n",
       "      <th>is_open</th>\n",
       "      <th>attributes</th>\n",
       "      <th>categories</th>\n",
       "      <th>hours</th>\n",
       "      <th>cool_x</th>\n",
       "      <th>date</th>\n",
       "      <th>funny_x</th>\n",
       "      <th>review_id</th>\n",
       "      <th>stars_y</th>\n",
       "      <th>text</th>\n",
       "      <th>useful_x</th>\n",
       "      <th>user_id</th>\n",
       "      <th>word_count</th>\n",
       "      <th>char_count</th>\n",
       "      <th>avg_word</th>\n",
       "      <th>hashtags</th>\n",
       "      <th>stopwords</th>\n",
       "      <th>numerics</th>\n",
       "      <th>text length</th>\n",
       "      <th>name_y</th>\n",
       "      <th>review_count_y</th>\n",
       "      <th>yelping_since</th>\n",
       "      <th>useful_y</th>\n",
       "      <th>funny_y</th>\n",
       "      <th>cool_y</th>\n",
       "      <th>elite</th>\n",
       "      <th>friends</th>\n",
       "      <th>fans</th>\n",
       "      <th>average_stars</th>\n",
       "      <th>compliment_hot</th>\n",
       "      <th>compliment_more</th>\n",
       "      <th>compliment_profile</th>\n",
       "      <th>compliment_cute</th>\n",
       "      <th>compliment_list</th>\n",
       "      <th>compliment_note</th>\n",
       "      <th>compliment_plain</th>\n",
       "      <th>compliment_cool</th>\n",
       "      <th>compliment_funny</th>\n",
       "      <th>compliment_writer</th>\n",
       "      <th>compliment_photos</th>\n",
       "    </tr>\n",
       "  </thead>\n",
       "  <tbody>\n",
       "    <tr>\n",
       "      <th>0</th>\n",
       "      <td>QXAEGFB4oINsVuTFxEYKFQ</td>\n",
       "      <td>Emerald Chinese Restaurant</td>\n",
       "      <td>30 Eglinton Avenue W</td>\n",
       "      <td>Mississauga</td>\n",
       "      <td>ON</td>\n",
       "      <td>L5R 3E7</td>\n",
       "      <td>43.605499</td>\n",
       "      <td>-79.652289</td>\n",
       "      <td>2.5</td>\n",
       "      <td>128</td>\n",
       "      <td>1</td>\n",
       "      <td>{'RestaurantsReservations': 'True', 'GoodForMe...</td>\n",
       "      <td>Specialty Food, Restaurants, Dim Sum, Imported...</td>\n",
       "      <td>{'Monday': '9:0-0:0', 'Tuesday': '9:0-0:0', 'W...</td>\n",
       "      <td>0</td>\n",
       "      <td>2017-01-27 21:54:30</td>\n",
       "      <td>2</td>\n",
       "      <td>6W0MQHmasK0IsaoDo4bmkw</td>\n",
       "      <td>3</td>\n",
       "      <td>My girlfriend and I went for dinner at Emerald...</td>\n",
       "      <td>3</td>\n",
       "      <td>2K62MJ4CJ19L8Tp5pRfjfQ</td>\n",
       "      <td>238</td>\n",
       "      <td>1475</td>\n",
       "      <td>5.016529</td>\n",
       "      <td>0</td>\n",
       "      <td>84</td>\n",
       "      <td>1</td>\n",
       "      <td>1475</td>\n",
       "      <td>David</td>\n",
       "      <td>57</td>\n",
       "      <td>2014-11-27 22:36:00</td>\n",
       "      <td>58</td>\n",
       "      <td>22</td>\n",
       "      <td>20</td>\n",
       "      <td>2017,2018</td>\n",
       "      <td>ZJfwkdJMex21dGHfQ3YgTg, 603oDa3dGdJyfkq2RoH2Dw...</td>\n",
       "      <td>1</td>\n",
       "      <td>3.30</td>\n",
       "      <td>0</td>\n",
       "      <td>0</td>\n",
       "      <td>0</td>\n",
       "      <td>0</td>\n",
       "      <td>0</td>\n",
       "      <td>1</td>\n",
       "      <td>1</td>\n",
       "      <td>5</td>\n",
       "      <td>5</td>\n",
       "      <td>3</td>\n",
       "      <td>1</td>\n",
       "    </tr>\n",
       "    <tr>\n",
       "      <th>1</th>\n",
       "      <td>QXAEGFB4oINsVuTFxEYKFQ</td>\n",
       "      <td>Emerald Chinese Restaurant</td>\n",
       "      <td>30 Eglinton Avenue W</td>\n",
       "      <td>Mississauga</td>\n",
       "      <td>ON</td>\n",
       "      <td>L5R 3E7</td>\n",
       "      <td>43.605499</td>\n",
       "      <td>-79.652289</td>\n",
       "      <td>2.5</td>\n",
       "      <td>128</td>\n",
       "      <td>1</td>\n",
       "      <td>{'RestaurantsReservations': 'True', 'GoodForMe...</td>\n",
       "      <td>Specialty Food, Restaurants, Dim Sum, Imported...</td>\n",
       "      <td>{'Monday': '9:0-0:0', 'Tuesday': '9:0-0:0', 'W...</td>\n",
       "      <td>0</td>\n",
       "      <td>2013-06-24 23:11:30</td>\n",
       "      <td>0</td>\n",
       "      <td>BeeBfUxvzD4qNX4HxrgA5g</td>\n",
       "      <td>3</td>\n",
       "      <td>We've always been there on a Sunday so we were...</td>\n",
       "      <td>0</td>\n",
       "      <td>A0kENtCCoVT3m7T35zb2Vg</td>\n",
       "      <td>84</td>\n",
       "      <td>439</td>\n",
       "      <td>4.238095</td>\n",
       "      <td>0</td>\n",
       "      <td>47</td>\n",
       "      <td>0</td>\n",
       "      <td>439</td>\n",
       "      <td>Anastasia</td>\n",
       "      <td>348</td>\n",
       "      <td>2009-02-15 16:45:34</td>\n",
       "      <td>411</td>\n",
       "      <td>86</td>\n",
       "      <td>122</td>\n",
       "      <td>2016,2017,2018</td>\n",
       "      <td>BBY1Alonk5V0OLgk_G0rNQ, TY7QgNKJEhvo1zCULlT9Rg...</td>\n",
       "      <td>9</td>\n",
       "      <td>3.66</td>\n",
       "      <td>5</td>\n",
       "      <td>2</td>\n",
       "      <td>0</td>\n",
       "      <td>0</td>\n",
       "      <td>0</td>\n",
       "      <td>6</td>\n",
       "      <td>4</td>\n",
       "      <td>5</td>\n",
       "      <td>5</td>\n",
       "      <td>10</td>\n",
       "      <td>1</td>\n",
       "    </tr>\n",
       "    <tr>\n",
       "      <th>2</th>\n",
       "      <td>QXAEGFB4oINsVuTFxEYKFQ</td>\n",
       "      <td>Emerald Chinese Restaurant</td>\n",
       "      <td>30 Eglinton Avenue W</td>\n",
       "      <td>Mississauga</td>\n",
       "      <td>ON</td>\n",
       "      <td>L5R 3E7</td>\n",
       "      <td>43.605499</td>\n",
       "      <td>-79.652289</td>\n",
       "      <td>2.5</td>\n",
       "      <td>128</td>\n",
       "      <td>1</td>\n",
       "      <td>{'RestaurantsReservations': 'True', 'GoodForMe...</td>\n",
       "      <td>Specialty Food, Restaurants, Dim Sum, Imported...</td>\n",
       "      <td>{'Monday': '9:0-0:0', 'Tuesday': '9:0-0:0', 'W...</td>\n",
       "      <td>0</td>\n",
       "      <td>2016-01-04 12:59:22</td>\n",
       "      <td>0</td>\n",
       "      <td>A1D2kUnZ0HTroFreAheNSg</td>\n",
       "      <td>3</td>\n",
       "      <td>***No automatic doors, not baby friendly!*** I...</td>\n",
       "      <td>0</td>\n",
       "      <td>SuOLY03LW5ZcnynKhbTydA</td>\n",
       "      <td>43</td>\n",
       "      <td>252</td>\n",
       "      <td>4.883721</td>\n",
       "      <td>0</td>\n",
       "      <td>15</td>\n",
       "      <td>0</td>\n",
       "      <td>252</td>\n",
       "      <td>Jocelyn</td>\n",
       "      <td>105</td>\n",
       "      <td>2014-10-02 14:12:40</td>\n",
       "      <td>150</td>\n",
       "      <td>36</td>\n",
       "      <td>85</td>\n",
       "      <td>2015,2016,2017,2018</td>\n",
       "      <td>bg2-7AvWq-vJs54NN0X-yQ, 697iJkhX1mkVF9RNhn114Q...</td>\n",
       "      <td>6</td>\n",
       "      <td>3.72</td>\n",
       "      <td>3</td>\n",
       "      <td>0</td>\n",
       "      <td>0</td>\n",
       "      <td>0</td>\n",
       "      <td>0</td>\n",
       "      <td>3</td>\n",
       "      <td>4</td>\n",
       "      <td>8</td>\n",
       "      <td>8</td>\n",
       "      <td>10</td>\n",
       "      <td>1</td>\n",
       "    </tr>\n",
       "    <tr>\n",
       "      <th>3</th>\n",
       "      <td>QXAEGFB4oINsVuTFxEYKFQ</td>\n",
       "      <td>Emerald Chinese Restaurant</td>\n",
       "      <td>30 Eglinton Avenue W</td>\n",
       "      <td>Mississauga</td>\n",
       "      <td>ON</td>\n",
       "      <td>L5R 3E7</td>\n",
       "      <td>43.605499</td>\n",
       "      <td>-79.652289</td>\n",
       "      <td>2.5</td>\n",
       "      <td>128</td>\n",
       "      <td>1</td>\n",
       "      <td>{'RestaurantsReservations': 'True', 'GoodForMe...</td>\n",
       "      <td>Specialty Food, Restaurants, Dim Sum, Imported...</td>\n",
       "      <td>{'Monday': '9:0-0:0', 'Tuesday': '9:0-0:0', 'W...</td>\n",
       "      <td>2</td>\n",
       "      <td>2011-03-21 14:39:55</td>\n",
       "      <td>1</td>\n",
       "      <td>RHhlmL07evgAdPaXQV8Omg</td>\n",
       "      <td>4</td>\n",
       "      <td>One of the gauges of a good Chinese restaurant...</td>\n",
       "      <td>2</td>\n",
       "      <td>6vU0I5XgCv9OQHZ76rV6qw</td>\n",
       "      <td>318</td>\n",
       "      <td>1668</td>\n",
       "      <td>4.177570</td>\n",
       "      <td>0</td>\n",
       "      <td>130</td>\n",
       "      <td>2</td>\n",
       "      <td>1668</td>\n",
       "      <td>Marc</td>\n",
       "      <td>6</td>\n",
       "      <td>2011-03-05 23:31:39</td>\n",
       "      <td>11</td>\n",
       "      <td>4</td>\n",
       "      <td>6</td>\n",
       "      <td></td>\n",
       "      <td>yUNU1KTKs4gzxBEuZWQg8Q, zHrHUdxKq7FEURYHusrtIw...</td>\n",
       "      <td>0</td>\n",
       "      <td>3.29</td>\n",
       "      <td>0</td>\n",
       "      <td>0</td>\n",
       "      <td>0</td>\n",
       "      <td>1</td>\n",
       "      <td>0</td>\n",
       "      <td>0</td>\n",
       "      <td>0</td>\n",
       "      <td>1</td>\n",
       "      <td>1</td>\n",
       "      <td>0</td>\n",
       "      <td>0</td>\n",
       "    </tr>\n",
       "    <tr>\n",
       "      <th>4</th>\n",
       "      <td>QXAEGFB4oINsVuTFxEYKFQ</td>\n",
       "      <td>Emerald Chinese Restaurant</td>\n",
       "      <td>30 Eglinton Avenue W</td>\n",
       "      <td>Mississauga</td>\n",
       "      <td>ON</td>\n",
       "      <td>L5R 3E7</td>\n",
       "      <td>43.605499</td>\n",
       "      <td>-79.652289</td>\n",
       "      <td>2.5</td>\n",
       "      <td>128</td>\n",
       "      <td>1</td>\n",
       "      <td>{'RestaurantsReservations': 'True', 'GoodForMe...</td>\n",
       "      <td>Specialty Food, Restaurants, Dim Sum, Imported...</td>\n",
       "      <td>{'Monday': '9:0-0:0', 'Tuesday': '9:0-0:0', 'W...</td>\n",
       "      <td>0</td>\n",
       "      <td>2015-02-17 00:10:02</td>\n",
       "      <td>0</td>\n",
       "      <td>TD5E5NTFqgi1LPbTLlRCjQ</td>\n",
       "      <td>3</td>\n",
       "      <td>We chose this restaurant for our Chinese New Y...</td>\n",
       "      <td>0</td>\n",
       "      <td>-ga7pQvnJcMB1_pIapHQRQ</td>\n",
       "      <td>79</td>\n",
       "      <td>409</td>\n",
       "      <td>4.189873</td>\n",
       "      <td>0</td>\n",
       "      <td>33</td>\n",
       "      <td>0</td>\n",
       "      <td>409</td>\n",
       "      <td>Tracy</td>\n",
       "      <td>73</td>\n",
       "      <td>2014-02-23 15:07:46</td>\n",
       "      <td>58</td>\n",
       "      <td>18</td>\n",
       "      <td>12</td>\n",
       "      <td>2016,2017</td>\n",
       "      <td>aE8OTrgaYpPZoRmBghRVJA, 4bxhIKz9ePWqD93UkEjnbg...</td>\n",
       "      <td>7</td>\n",
       "      <td>3.32</td>\n",
       "      <td>1</td>\n",
       "      <td>3</td>\n",
       "      <td>0</td>\n",
       "      <td>2</td>\n",
       "      <td>0</td>\n",
       "      <td>5</td>\n",
       "      <td>3</td>\n",
       "      <td>1</td>\n",
       "      <td>1</td>\n",
       "      <td>3</td>\n",
       "      <td>0</td>\n",
       "    </tr>\n",
       "  </tbody>\n",
       "</table>\n",
       "</div>"
      ],
      "text/plain": [
       "              business_id  ... compliment_photos\n",
       "0  QXAEGFB4oINsVuTFxEYKFQ  ...                 1\n",
       "1  QXAEGFB4oINsVuTFxEYKFQ  ...                 1\n",
       "2  QXAEGFB4oINsVuTFxEYKFQ  ...                 1\n",
       "3  QXAEGFB4oINsVuTFxEYKFQ  ...                 0\n",
       "4  QXAEGFB4oINsVuTFxEYKFQ  ...                 0\n",
       "\n",
       "[5 rows x 50 columns]"
      ]
     },
     "execution_count": 81,
     "metadata": {
      "tags": []
     },
     "output_type": "execute_result"
    }
   ],
   "source": [
    "# let us look into the complete_df\n",
    "complete_df.head()"
   ]
  },
  {
   "cell_type": "code",
   "execution_count": 82,
   "metadata": {
    "colab": {
     "base_uri": "https://localhost:8080/",
     "height": 364
    },
    "colab_type": "code",
    "executionInfo": {
     "elapsed": 1229911,
     "status": "ok",
     "timestamp": 1575245819745,
     "user": {
      "displayName": "Abhi Patodi",
      "photoUrl": "",
      "userId": "08749657629535720878"
     },
     "user_tz": 300
    },
    "id": "ePn5zz28ao2x",
    "outputId": "2bfb6887-1026-40e6-af38-f050fa9006ad"
   },
   "outputs": [
    {
     "data": {
      "image/png": "[encoded data removed]",
      "text/plain": [
       "<Figure size 1080x360 with 1 Axes>"
      ]
     },
     "metadata": {
      "tags": []
     },
     "output_type": "display_data"
    }
   ],
   "source": [
    "# Distribution count of the restaurent rating !!\n",
    "fig, ax = plt.subplots(nrows=1, ncols=1, figsize=(15, 5))\n",
    "\n",
    "sns.distplot(restaurant_df.stars,kde=False,color = 'g',ax =ax,bins=20);\n",
    "ax.axvline(restaurant_df.stars.mean(), 0, 1, color='r', label='Mean')\n",
    "ax.legend();\n",
    "ax.set_ylabel('Count',size=20)\n",
    "ax.set_xlabel('Stars',size=20)\n",
    "ax.set_title('Distribution(count) of Restaurant rating',size=20);"
   ]
  },
  {
   "cell_type": "markdown",
   "metadata": {
    "colab_type": "text",
    "id": "2czzRnp9dTUw"
   },
   "source": [
    "From the above graph we can observe that most businesses have got 4 star rating and an average of over 3.5 rating.\n",
    "\n"
   ]
  },
  {
   "cell_type": "code",
   "execution_count": 83,
   "metadata": {
    "colab": {
     "base_uri": "https://localhost:8080/",
     "height": 382
    },
    "colab_type": "code",
    "executionInfo": {
     "elapsed": 1230586,
     "status": "ok",
     "timestamp": 1575245820435,
     "user": {
      "displayName": "Abhi Patodi",
      "photoUrl": "",
      "userId": "08749657629535720878"
     },
     "user_tz": 300
    },
    "id": "ZJFmHcPfdlvy",
    "outputId": "b75d2d61-034f-4f50-abe0-e6a4f63c66bb"
   },
   "outputs": [
    {
     "data": {
      "text/plain": [
       "Text(0.5, 1.0, 'Distribution(count) of different Reviews rating')"
      ]
     },
     "execution_count": 83,
     "metadata": {
      "tags": []
     },
     "output_type": "execute_result"
    },
    {
     "data": {
      "image/png": "[encoded data removed]",
      "text/plain": [
       "<Figure size 1080x360 with 1 Axes>"
      ]
     },
     "metadata": {
      "tags": []
     },
     "output_type": "display_data"
    }
   ],
   "source": [
    "# Distribution count of review ratings\n",
    "# Review just for business which are restautrants\n",
    "review_df_filter_df = review_ds.merge(restaurant_df,how='inner',on='business_id')\n",
    "\n",
    "fig, ax = plt.subplots(nrows=1, ncols=1, figsize=(15, 5))\n",
    "sns.distplot(review_df_filter_df.stars_x,kde=False,color = 'purple',ax =ax,bins=20);\n",
    "ax.axvline(review_df_filter_df.stars_x.mean(), 0, 1, color='r', label='Mean')\n",
    "ax.legend();\n",
    "ax.set_ylabel('Count',size=20)\n",
    "ax.set_xlabel('Stars',size=20)\n",
    "ax.set_title('Distribution(count) of different Reviews rating',size=20)"
   ]
  },
  {
   "cell_type": "markdown",
   "metadata": {
    "colab_type": "text",
    "id": "8OuPE7yVfKF1"
   },
   "source": [
    "From above we see that most of the reviews have got 5 star rating and and average of about 3.8 rating.\n",
    "\n"
   ]
  },
  {
   "cell_type": "code",
   "execution_count": 84,
   "metadata": {
    "colab": {
     "base_uri": "https://localhost:8080/",
     "height": 382
    },
    "colab_type": "code",
    "executionInfo": {
     "elapsed": 1230770,
     "status": "ok",
     "timestamp": 1575245820636,
     "user": {
      "displayName": "Abhi Patodi",
      "photoUrl": "",
      "userId": "08749657629535720878"
     },
     "user_tz": 300
    },
    "id": "DqqvRsJZdl0l",
    "outputId": "2d592c72-05e6-4ff4-f1d3-1e78cf2ad60c"
   },
   "outputs": [
    {
     "data": {
      "text/plain": [
       "Text(0.5, 1.0, 'Distribution(count) of User given rating')"
      ]
     },
     "execution_count": 84,
     "metadata": {
      "tags": []
     },
     "output_type": "execute_result"
    },
    {
     "data": {
      "image/png": "[encoded data removed]",
      "text/plain": [
       "<Figure size 1080x360 with 1 Axes>"
      ]
     },
     "metadata": {
      "tags": []
     },
     "output_type": "display_data"
    }
   ],
   "source": [
    "# Distribution count of user ratings just for the business which are restaurent !!\n",
    "user_df_filter_df = complete_df.groupby(['user_id'],as_index=False).mean()\n",
    "\n",
    "fig, ax = plt.subplots(nrows=1, ncols=1, figsize=(15, 5))\n",
    "sns.distplot(user_df_filter_df.average_stars,kde=False,color = 'navy',ax =ax,bins=20);\n",
    "ax.axvline(user_df_filter_df.average_stars.mean(), 0, 1, color='r', label='Mean')\n",
    "ax.legend();\n",
    "ax.set_ylabel('Count',size=20)\n",
    "ax.set_xlabel('Stars',size=20)\n",
    "ax.set_title('Distribution(count) of User given rating',size=20)"
   ]
  },
  {
   "cell_type": "markdown",
   "metadata": {
    "colab_type": "text",
    "id": "eVc1b6Z2fag8"
   },
   "source": [
    "From above we see that the average user ratings for a restaurent is around 3.7\n",
    "\n"
   ]
  },
  {
   "cell_type": "markdown",
   "metadata": {
    "colab_type": "text",
    "id": "C2TzLoBlfc3M"
   },
   "source": [
    "# **DATA SELECTION FOR USER RATING PREDICTION**\n"
   ]
  },
  {
   "cell_type": "code",
   "execution_count": 0,
   "metadata": {
    "colab": {},
    "colab_type": "code",
    "id": "4ZACMXsydlyY"
   },
   "outputs": [],
   "source": [
    "# taking only required parameters for baselienonly model where we need to predict the user rating for business\n",
    "baseline_df = complete_df[['user_id','business_id','stars_y']]"
   ]
  },
  {
   "cell_type": "code",
   "execution_count": 86,
   "metadata": {
    "colab": {
     "base_uri": "https://localhost:8080/",
     "height": 491
    },
    "colab_type": "code",
    "executionInfo": {
     "elapsed": 1230753,
     "status": "ok",
     "timestamp": 1575245820637,
     "user": {
      "displayName": "Abhi Patodi",
      "photoUrl": "",
      "userId": "08749657629535720878"
     },
     "user_tz": 300
    },
    "id": "jTmC9vh2ftTW",
    "outputId": "29da8c0b-521f-4f23-9f6d-fc019d40f29f"
   },
   "outputs": [
    {
     "data": {
      "text/html": [
       "<div>\n",
       "<style scoped>\n",
       "    .dataframe tbody tr th:only-of-type {\n",
       "        vertical-align: middle;\n",
       "    }\n",
       "\n",
       "    .dataframe tbody tr th {\n",
       "        vertical-align: top;\n",
       "    }\n",
       "\n",
       "    .dataframe thead th {\n",
       "        text-align: right;\n",
       "    }\n",
       "</style>\n",
       "<table border=\"1\" class=\"dataframe\">\n",
       "  <thead>\n",
       "    <tr style=\"text-align: right;\">\n",
       "      <th></th>\n",
       "      <th>user_id</th>\n",
       "      <th>business_id</th>\n",
       "      <th>stars_y</th>\n",
       "    </tr>\n",
       "  </thead>\n",
       "  <tbody>\n",
       "    <tr>\n",
       "      <th>16931</th>\n",
       "      <td>gk2tLQ6zRuSxdRDy5NIBZA</td>\n",
       "      <td>G0EJjh-dqJBmSEhQRog-hQ</td>\n",
       "      <td>5</td>\n",
       "    </tr>\n",
       "    <tr>\n",
       "      <th>16932</th>\n",
       "      <td>vFEHN7-NHrvWJ40Lgd7duA</td>\n",
       "      <td>6gjN17SOU28lAb8jGukLRg</td>\n",
       "      <td>5</td>\n",
       "    </tr>\n",
       "    <tr>\n",
       "      <th>16933</th>\n",
       "      <td>s1Fxb2D2e9cPmu9SucgFFA</td>\n",
       "      <td>JwYpz-K-kZxeWpM1_OEldQ</td>\n",
       "      <td>5</td>\n",
       "    </tr>\n",
       "    <tr>\n",
       "      <th>16934</th>\n",
       "      <td>IAlYZGVT_6B_BK8UrUYOkQ</td>\n",
       "      <td>JwYpz-K-kZxeWpM1_OEldQ</td>\n",
       "      <td>4</td>\n",
       "    </tr>\n",
       "    <tr>\n",
       "      <th>16935</th>\n",
       "      <td>LuYIMPQr0IeLVj2AQ36dzw</td>\n",
       "      <td>JwYpz-K-kZxeWpM1_OEldQ</td>\n",
       "      <td>4</td>\n",
       "    </tr>\n",
       "    <tr>\n",
       "      <th>16936</th>\n",
       "      <td>LuYIMPQr0IeLVj2AQ36dzw</td>\n",
       "      <td>JwYpz-K-kZxeWpM1_OEldQ</td>\n",
       "      <td>4</td>\n",
       "    </tr>\n",
       "    <tr>\n",
       "      <th>16937</th>\n",
       "      <td>-HMryuf0scfllObkYFF0hg</td>\n",
       "      <td>JwYpz-K-kZxeWpM1_OEldQ</td>\n",
       "      <td>3</td>\n",
       "    </tr>\n",
       "    <tr>\n",
       "      <th>16938</th>\n",
       "      <td>1ViT_LzrNbbrheWgIvT5Tw</td>\n",
       "      <td>JwYpz-K-kZxeWpM1_OEldQ</td>\n",
       "      <td>4</td>\n",
       "    </tr>\n",
       "    <tr>\n",
       "      <th>16939</th>\n",
       "      <td>0rEGb1hmK_Br4UGOfOBHpg</td>\n",
       "      <td>JwYpz-K-kZxeWpM1_OEldQ</td>\n",
       "      <td>4</td>\n",
       "    </tr>\n",
       "    <tr>\n",
       "      <th>16940</th>\n",
       "      <td>pF7cTPM1wBAJV4us8AjfrA</td>\n",
       "      <td>JwYpz-K-kZxeWpM1_OEldQ</td>\n",
       "      <td>5</td>\n",
       "    </tr>\n",
       "    <tr>\n",
       "      <th>16941</th>\n",
       "      <td>QC4iwAt4o1SnLua_NEo3uA</td>\n",
       "      <td>JwYpz-K-kZxeWpM1_OEldQ</td>\n",
       "      <td>3</td>\n",
       "    </tr>\n",
       "    <tr>\n",
       "      <th>16942</th>\n",
       "      <td>KUzSS0uiCIlQIcJT63pjGw</td>\n",
       "      <td>JwYpz-K-kZxeWpM1_OEldQ</td>\n",
       "      <td>4</td>\n",
       "    </tr>\n",
       "    <tr>\n",
       "      <th>16943</th>\n",
       "      <td>U95wccXN_J8JwA5Ktlu8tw</td>\n",
       "      <td>JwYpz-K-kZxeWpM1_OEldQ</td>\n",
       "      <td>4</td>\n",
       "    </tr>\n",
       "    <tr>\n",
       "      <th>16944</th>\n",
       "      <td>0tf14Cq5NU3PBINpEDXZdQ</td>\n",
       "      <td>JwYpz-K-kZxeWpM1_OEldQ</td>\n",
       "      <td>3</td>\n",
       "    </tr>\n",
       "    <tr>\n",
       "      <th>16945</th>\n",
       "      <td>oiiKev23rHdVwZMnXFDcxQ</td>\n",
       "      <td>3-VNuBWX45rcQz5ZRK0scg</td>\n",
       "      <td>5</td>\n",
       "    </tr>\n",
       "  </tbody>\n",
       "</table>\n",
       "</div>"
      ],
      "text/plain": [
       "                      user_id             business_id  stars_y\n",
       "16931  gk2tLQ6zRuSxdRDy5NIBZA  G0EJjh-dqJBmSEhQRog-hQ        5\n",
       "16932  vFEHN7-NHrvWJ40Lgd7duA  6gjN17SOU28lAb8jGukLRg        5\n",
       "16933  s1Fxb2D2e9cPmu9SucgFFA  JwYpz-K-kZxeWpM1_OEldQ        5\n",
       "16934  IAlYZGVT_6B_BK8UrUYOkQ  JwYpz-K-kZxeWpM1_OEldQ        4\n",
       "16935  LuYIMPQr0IeLVj2AQ36dzw  JwYpz-K-kZxeWpM1_OEldQ        4\n",
       "16936  LuYIMPQr0IeLVj2AQ36dzw  JwYpz-K-kZxeWpM1_OEldQ        4\n",
       "16937  -HMryuf0scfllObkYFF0hg  JwYpz-K-kZxeWpM1_OEldQ        3\n",
       "16938  1ViT_LzrNbbrheWgIvT5Tw  JwYpz-K-kZxeWpM1_OEldQ        4\n",
       "16939  0rEGb1hmK_Br4UGOfOBHpg  JwYpz-K-kZxeWpM1_OEldQ        4\n",
       "16940  pF7cTPM1wBAJV4us8AjfrA  JwYpz-K-kZxeWpM1_OEldQ        5\n",
       "16941  QC4iwAt4o1SnLua_NEo3uA  JwYpz-K-kZxeWpM1_OEldQ        3\n",
       "16942  KUzSS0uiCIlQIcJT63pjGw  JwYpz-K-kZxeWpM1_OEldQ        4\n",
       "16943  U95wccXN_J8JwA5Ktlu8tw  JwYpz-K-kZxeWpM1_OEldQ        4\n",
       "16944  0tf14Cq5NU3PBINpEDXZdQ  JwYpz-K-kZxeWpM1_OEldQ        3\n",
       "16945  oiiKev23rHdVwZMnXFDcxQ  3-VNuBWX45rcQz5ZRK0scg        5"
      ]
     },
     "execution_count": 86,
     "metadata": {
      "tags": []
     },
     "output_type": "execute_result"
    }
   ],
   "source": [
    "# let us look at the baseline_df\n",
    "baseline_df.tail(15)"
   ]
  },
  {
   "cell_type": "code",
   "execution_count": 0,
   "metadata": {
    "colab": {},
    "colab_type": "code",
    "id": "JEvV1497Qxrx"
   },
   "outputs": [],
   "source": [
    "from surprise import Reader, Dataset\n",
    "from surprise.model_selection import train_test_split\n",
    "from surprise import accuracy\n",
    "\n",
    "# creating a reader object to parse the dataframe which has rating_scale of 1-5\n",
    "reader = Reader(rating_scale=(1, 5))\n",
    "\n",
    "# Load the dataset and split it into 3 folds for cross-validation\n",
    "data = Dataset.load_from_df(baseline_df,reader)\n",
    "trainset, testset = train_test_split(data, test_size=0.25)\n"
   ]
  },
  {
   "cell_type": "markdown",
   "metadata": {
    "colab_type": "text",
    "id": "hfffKS8MgEHM"
   },
   "source": [
    "# **2.1 BASELINEONLY MODELLING FOR USER RATING PREDICTION**"
   ]
  },
  {
   "cell_type": "markdown",
   "metadata": {
    "colab_type": "text",
    "id": "q2rwqcrDgUnv"
   },
   "source": [
    "BaselineOnly is an algorithm predicting the baseline estimate for given user and item Ym = μ + su + sm where the unknown parameters su and sm indicate the deviations, or biases, of user u and item m respectively from some intercept parameter. It is one of the built-in algorithm which focus on user rating prediction for a particular business."
   ]
  },
  {
   "cell_type": "code",
   "execution_count": 88,
   "metadata": {
    "colab": {
     "base_uri": "https://localhost:8080/",
     "height": 70
    },
    "colab_type": "code",
    "executionInfo": {
     "elapsed": 1230736,
     "status": "ok",
     "timestamp": 1575245820639,
     "user": {
      "displayName": "Abhi Patodi",
      "photoUrl": "",
      "userId": "08749657629535720878"
     },
     "user_tz": 300
    },
    "id": "vh8k4QShScq8",
    "outputId": "f4e31dfd-71c9-48c5-c3cc-35980b845bac"
   },
   "outputs": [
    {
     "name": "stdout",
     "output_type": "stream",
     "text": [
      "Estimating biases using als...\n",
      "MSE: 1.5335\n"
     ]
    },
    {
     "data": {
      "text/plain": [
       "1.533463913152323"
      ]
     },
     "execution_count": 88,
     "metadata": {
      "tags": []
     },
     "output_type": "execute_result"
    }
   ],
   "source": [
    "\n",
    "# Baselineonly model\n",
    "algo = BaselineOnly()\n",
    "# Performance evaluation on the basis of RMSE and MAE metric where we pass the object of BaselineOnly model\n",
    "algo.fit(trainset)\n",
    "\n",
    "predictions_suprs = algo.test(testset)\n",
    "accuracy.mse(predictions_suprs)\n",
    "\n",
    "# print_perf(perf_baseline)"
   ]
  },
  {
   "cell_type": "code",
   "execution_count": 89,
   "metadata": {
    "colab": {
     "base_uri": "https://localhost:8080/",
     "height": 34
    },
    "colab_type": "code",
    "executionInfo": {
     "elapsed": 1230723,
     "status": "ok",
     "timestamp": 1575245820639,
     "user": {
      "displayName": "Abhi Patodi",
      "photoUrl": "",
      "userId": "08749657629535720878"
     },
     "user_tz": 300
    },
    "id": "LuHoJrDQScmP",
    "outputId": "64ffb7cd-f211-4499-c120-1fb609c910f9"
   },
   "outputs": [
    {
     "name": "stdout",
     "output_type": "stream",
     "text": [
      "user: gk2tLQ6zRuSxdRDy5NIBZA item: JwYpz-K-kZxeWpM1_OEldQ r_ui = 3.00   est = 3.91   {'was_impossible': False}\n"
     ]
    }
   ],
   "source": [
    "# predict the user ratings for business id : JwYpz-K-kZxeWpM1_OEldQ\n",
    "pred = algo.predict(str('gk2tLQ6zRuSxdRDy5NIBZA'),str('JwYpz-K-kZxeWpM1_OEldQ'),r_ui=3,verbose=True)"
   ]
  },
  {
   "cell_type": "code",
   "execution_count": 90,
   "metadata": {
    "colab": {
     "base_uri": "https://localhost:8080/",
     "height": 34
    },
    "colab_type": "code",
    "executionInfo": {
     "elapsed": 1230708,
     "status": "ok",
     "timestamp": 1575245820640,
     "user": {
      "displayName": "Abhi Patodi",
      "photoUrl": "",
      "userId": "08749657629535720878"
     },
     "user_tz": 300
    },
    "id": "9XkCH3Y9Schp",
    "outputId": "3ee6ae4e-1fe0-4194-977a-3a75997e9dc8"
   },
   "outputs": [
    {
     "name": "stdout",
     "output_type": "stream",
     "text": [
      "user: gk2tLQ6zRuSxdRDy5NIBZA item: 6gjN17SOU28lAb8jGukLRg r_ui = 4.00   est = 3.74   {'was_impossible': False}\n"
     ]
    }
   ],
   "source": [
    "# predict the user ratings for business id : 6gjN17SOU28lAb8jGukLRg\n",
    "pred = algo.predict(str('gk2tLQ6zRuSxdRDy5NIBZA'),str('6gjN17SOU28lAb8jGukLRg'),r_ui=4,verbose=True)"
   ]
  },
  {
   "cell_type": "code",
   "execution_count": 91,
   "metadata": {
    "colab": {
     "base_uri": "https://localhost:8080/",
     "height": 125
    },
    "colab_type": "code",
    "executionInfo": {
     "elapsed": 1551295,
     "status": "ok",
     "timestamp": 1575246141231,
     "user": {
      "displayName": "Abhi Patodi",
      "photoUrl": "",
      "userId": "08749657629535720878"
     },
     "user_tz": 300
    },
    "id": "PvK7ul6unFQs",
    "outputId": "f00f7bee-0757-4a35-a7ef-9066df3c7ac6"
   },
   "outputs": [
    {
     "name": "stdout",
     "output_type": "stream",
     "text": [
      "Go to this URL in a browser: https://accounts.google.com/o/oauth2/auth?client_id=947318989803-6bn6qk8qdgf4n4g3pfee6491hc0brc4i.apps.googleusercontent.com&redirect_uri=urn%3aietf%3awg%3aoauth%3a2.0%3aoob&response_type=code&scope=email%20https%3a%2f%2fwww.googleapis.com%2fauth%2fdocs.test%20https%3a%2f%2fwww.googleapis.com%2fauth%2fdrive%20https%3a%2f%2fwww.googleapis.com%2fauth%2fdrive.photos.readonly%20https%3a%2f%2fwww.googleapis.com%2fauth%2fpeopleapi.readonly\n",
      "\n",
      "Enter your authorization code:\n",
      "··········\n",
      "Mounted at /content/drive\n"
     ]
    }
   ],
   "source": [
    "from google.colab import drive\n",
    "drive.mount('/content/drive')"
   ]
  },
  {
   "cell_type": "markdown",
   "metadata": {
    "colab_type": "text",
    "id": "FHWJHbrYhTci"
   },
   "source": [
    "# **2.2.1 KNNBaseline MODEL FOR USER RATING PREDICTION USING PEARSON_BASELINE SIMILARITY**"
   ]
  },
  {
   "cell_type": "markdown",
   "metadata": {
    "colab_type": "text",
    "id": "WKBedFbVhTop"
   },
   "source": [
    "This algorithm is directly derived from the basic nearest neighbors approach. A basic collaborative filtering algorithm taking into account a baseline rating"
   ]
  },
  {
   "cell_type": "code",
   "execution_count": 92,
   "metadata": {
    "colab": {
     "base_uri": "https://localhost:8080/",
     "height": 442
    },
    "colab_type": "code",
    "executionInfo": {
     "elapsed": 1588607,
     "status": "ok",
     "timestamp": 1575246178546,
     "user": {
      "displayName": "Abhi Patodi",
      "photoUrl": "",
      "userId": "08749657629535720878"
     },
     "user_tz": 300
    },
    "id": "y3OCoISyhvSC",
    "outputId": "2b5c29f6-b2aa-4bba-e714-a290cbd203a0"
   },
   "outputs": [
    {
     "name": "stdout",
     "output_type": "stream",
     "text": [
      "Estimating biases using als...\n",
      "Computing the pearson_baseline similarity matrix...\n",
      "Done computing similarity matrix.\n",
      "Estimating biases using als...\n",
      "Computing the pearson_baseline similarity matrix...\n",
      "Done computing similarity matrix.\n",
      "Estimating biases using als...\n",
      "Computing the pearson_baseline similarity matrix...\n",
      "Done computing similarity matrix.\n",
      "Estimating biases using als...\n",
      "Computing the pearson_baseline similarity matrix...\n",
      "Done computing similarity matrix.\n",
      "Estimating biases using als...\n",
      "Computing the pearson_baseline similarity matrix...\n",
      "Done computing similarity matrix.\n",
      "Evaluating RMSE, MAE of algorithm KNNBaseline on 5 split(s).\n",
      "\n",
      "                  Fold 1  Fold 2  Fold 3  Fold 4  Fold 5  Mean    Std     \n",
      "RMSE (testset)    1.2489  1.2557  1.2447  1.2235  1.2074  1.2360  0.0179  \n",
      "MAE (testset)     0.9885  0.9961  0.9923  0.9800  0.9678  0.9849  0.0101  \n",
      "Fit time          7.84    8.04    6.04    7.03    7.42    7.27    0.71    \n",
      "Test time         0.04    0.04    0.04    0.04    0.04    0.04    0.00    \n",
      "{'test_rmse': array([1.24887954, 1.25566708, 1.24467148, 1.22354675, 1.20739726]), 'test_mae': array([0.98848553, 0.99613043, 0.99227612, 0.98002727, 0.96780095]), 'fit_time': (7.8375866413116455, 8.035275936126709, 6.044463634490967, 7.030768156051636, 7.415035247802734), 'test_time': (0.03662371635437012, 0.041168928146362305, 0.03797292709350586, 0.0376744270324707, 0.0381927490234375)}\n"
     ]
    }
   ],
   "source": [
    "# KNNBaseline model with pearson_baseline similarity metric\n",
    "sim_options = {'name': 'pearson_baseline',\n",
    "               'shrinkage': 0  # no shrinkage\n",
    "               }\n",
    "algo = KNNBaseline(k=40, verbose= True, sim_options = sim_options) #default values passed to KNNBaseline\n",
    "\n",
    "# Performance evaluation by calculating RMSE and MAE\n",
    "\n",
    "perf_knn_baseline = cross_validate(algo, data, measures=['RMSE', 'MAE'], cv=5, verbose=True)\n",
    "print(perf_knn_baseline)\n"
   ]
  },
  {
   "cell_type": "code",
   "execution_count": 93,
   "metadata": {
    "colab": {
     "base_uri": "https://localhost:8080/",
     "height": 34
    },
    "colab_type": "code",
    "executionInfo": {
     "elapsed": 1588604,
     "status": "ok",
     "timestamp": 1575246178548,
     "user": {
      "displayName": "Abhi Patodi",
      "photoUrl": "",
      "userId": "08749657629535720878"
     },
     "user_tz": 300
    },
    "id": "OVfjLTLYCsGQ",
    "outputId": "4b70ca6f-6067-4723-d4c0-54688a3ee1d1"
   },
   "outputs": [
    {
     "name": "stdout",
     "output_type": "stream",
     "text": [
      "user: AVVEFYHmFUa9oUhy2DIQFA item: Gu-xs3NIQTj3Mj2xYoN2aw r_ui = 3.00   est = 3.71   {'was_impossible': False}\n"
     ]
    }
   ],
   "source": [
    "# predict the user ratings for business id : Gu-xs3NIQTj3Mj2xYoN2aw\n",
    "knn_pred = algo.predict(str('AVVEFYHmFUa9oUhy2DIQFA'),str('Gu-xs3NIQTj3Mj2xYoN2aw'),r_ui=3,verbose=True)"
   ]
  },
  {
   "cell_type": "code",
   "execution_count": 94,
   "metadata": {
    "colab": {
     "base_uri": "https://localhost:8080/",
     "height": 34
    },
    "colab_type": "code",
    "executionInfo": {
     "elapsed": 1588601,
     "status": "ok",
     "timestamp": 1575246178549,
     "user": {
      "displayName": "Abhi Patodi",
      "photoUrl": "",
      "userId": "08749657629535720878"
     },
     "user_tz": 300
    },
    "id": "kb78jCtRCyhN",
    "outputId": "e02fe610-5663-4ad5-c3da-d83af7363c8e"
   },
   "outputs": [
    {
     "name": "stdout",
     "output_type": "stream",
     "text": [
      "user: AVVEFYHmFUa9oUhy2DIQFA item: 6gjN17SOU28lAb8jGukLRg r_ui = 4.00   est = 3.81   {'actual_k': 0, 'was_impossible': False}\n"
     ]
    }
   ],
   "source": [
    "# predict the user ratings for business id : 6gjN17SOU28lAb8jGukLRg\n",
    "knn_pred_2 = algo.predict(str('AVVEFYHmFUa9oUhy2DIQFA'),str('6gjN17SOU28lAb8jGukLRg'),r_ui=4,verbose=True)"
   ]
  },
  {
   "cell_type": "markdown",
   "metadata": {
    "colab_type": "text",
    "id": "0V1YjQ9yiXqc"
   },
   "source": [
    "# **2.2.2 KNNBaseline MODEL FOR USER RATING PREDICTION USING COSINE SIMILARITY**\n"
   ]
  },
  {
   "cell_type": "code",
   "execution_count": 95,
   "metadata": {
    "colab": {
     "base_uri": "https://localhost:8080/",
     "height": 442
    },
    "colab_type": "code",
    "executionInfo": {
     "elapsed": 1625986,
     "status": "ok",
     "timestamp": 1575246215938,
     "user": {
      "displayName": "Abhi Patodi",
      "photoUrl": "",
      "userId": "08749657629535720878"
     },
     "user_tz": 300
    },
    "id": "ylMecJlwiTWD",
    "outputId": "ea8e102f-a210-41ad-babc-bef4fba30819"
   },
   "outputs": [
    {
     "name": "stdout",
     "output_type": "stream",
     "text": [
      "Estimating biases using als...\n",
      "Computing the cosine similarity matrix...\n",
      "Done computing similarity matrix.\n",
      "Estimating biases using als...\n",
      "Computing the cosine similarity matrix...\n",
      "Done computing similarity matrix.\n",
      "Estimating biases using als...\n",
      "Computing the cosine similarity matrix...\n",
      "Done computing similarity matrix.\n",
      "Estimating biases using als...\n",
      "Computing the cosine similarity matrix...\n",
      "Done computing similarity matrix.\n",
      "Estimating biases using als...\n",
      "Computing the cosine similarity matrix...\n",
      "Done computing similarity matrix.\n",
      "Evaluating RMSE, MAE of algorithm KNNBaseline on 5 split(s).\n",
      "\n",
      "                  Fold 1  Fold 2  Fold 3  Fold 4  Fold 5  Mean    Std     \n",
      "RMSE (testset)    1.2595  1.2303  1.2363  1.2354  1.2341  1.2391  0.0104  \n",
      "MAE (testset)     1.0034  0.9883  0.9850  0.9877  0.9830  0.9895  0.0072  \n",
      "Fit time          6.87    7.26    8.17    7.91    7.01    7.44    0.51    \n",
      "Test time         0.04    0.04    0.04    0.04    0.04    0.04    0.00    \n",
      "{'test_rmse': array([1.25947915, 1.23029308, 1.23628423, 1.23541601, 1.23412182]), 'test_mae': array([1.00336192, 0.98825284, 0.98502808, 0.98769384, 0.98302756]), 'fit_time': (6.869491100311279, 7.257680654525757, 8.166665077209473, 7.911547660827637, 7.014643669128418), 'test_time': (0.04383492469787598, 0.036649465560913086, 0.03732490539550781, 0.039862632751464844, 0.03578448295593262)}\n"
     ]
    }
   ],
   "source": [
    "# KNNBaseline model with cosine similarity metric\n",
    "sim_options = {'name': 'cosine',\n",
    "               'user_based': True  # compute  similarities between users\n",
    "              }\n",
    "algo = KNNBaseline(k=40, verbose= True, sim_options = sim_options)\n",
    "\n",
    "# Performance\n",
    "\n",
    "perf_knn_baseline = cross_validate(algo, data, measures=['RMSE', 'MAE'], cv=5, verbose=True)\n",
    "print(perf_knn_baseline)"
   ]
  },
  {
   "cell_type": "code",
   "execution_count": 96,
   "metadata": {
    "colab": {
     "base_uri": "https://localhost:8080/",
     "height": 34
    },
    "colab_type": "code",
    "executionInfo": {
     "elapsed": 1625981,
     "status": "ok",
     "timestamp": 1575246215938,
     "user": {
      "displayName": "Abhi Patodi",
      "photoUrl": "",
      "userId": "08749657629535720878"
     },
     "user_tz": 300
    },
    "id": "bC59Ac4XA9BE",
    "outputId": "02f798fa-8607-4756-9974-ac9c4509e4db"
   },
   "outputs": [
    {
     "name": "stdout",
     "output_type": "stream",
     "text": [
      "user: AVVEFYHmFUa9oUhy2DIQFA item: Gu-xs3NIQTj3Mj2xYoN2aw r_ui = 3.00   est = 3.70   {'was_impossible': False}\n"
     ]
    }
   ],
   "source": [
    "# predict the user ratings for business id : Gu-xs3NIQTj3Mj2xYoN2aw\n",
    "knn_cosine_pred = algo.predict(str('AVVEFYHmFUa9oUhy2DIQFA'),str('Gu-xs3NIQTj3Mj2xYoN2aw'),r_ui=3,verbose=True)"
   ]
  },
  {
   "cell_type": "code",
   "execution_count": 97,
   "metadata": {
    "colab": {
     "base_uri": "https://localhost:8080/",
     "height": 34
    },
    "colab_type": "code",
    "executionInfo": {
     "elapsed": 1625978,
     "status": "ok",
     "timestamp": 1575246215939,
     "user": {
      "displayName": "Abhi Patodi",
      "photoUrl": "",
      "userId": "08749657629535720878"
     },
     "user_tz": 300
    },
    "id": "r5H2TzFlBHTX",
    "outputId": "b8f37385-ba34-4334-bc08-a9e1a59867f1"
   },
   "outputs": [
    {
     "name": "stdout",
     "output_type": "stream",
     "text": [
      "user: AVVEFYHmFUa9oUhy2DIQFA item: RwRNR4z3kY-4OsFqigY5sw r_ui = 4.00   est = 3.70   {'was_impossible': False}\n"
     ]
    }
   ],
   "source": [
    "# predict the user ratings for business id : RwRNR4z3kY-4OsFqigY5sw\n",
    "knn_cosine_pred2 = algo.predict(str('AVVEFYHmFUa9oUhy2DIQFA'),str('RwRNR4z3kY-4OsFqigY5sw'),r_ui=4,verbose=True)"
   ]
  },
  {
   "cell_type": "code",
   "execution_count": 98,
   "metadata": {
    "colab": {
     "base_uri": "https://localhost:8080/",
     "height": 442
    },
    "colab_type": "code",
    "executionInfo": {
     "elapsed": 1627810,
     "status": "ok",
     "timestamp": 1575246217775,
     "user": {
      "displayName": "Abhi Patodi",
      "photoUrl": "",
      "userId": "08749657629535720878"
     },
     "user_tz": 300
    },
    "id": "KiCQ6d4CDliS",
    "outputId": "1015e1cf-2b3b-4279-db02-2b6388f28fa9"
   },
   "outputs": [
    {
     "name": "stdout",
     "output_type": "stream",
     "text": [
      "Estimating biases using als...\n",
      "Computing the cosine similarity matrix...\n",
      "Done computing similarity matrix.\n",
      "Estimating biases using als...\n",
      "Computing the cosine similarity matrix...\n",
      "Done computing similarity matrix.\n",
      "Estimating biases using als...\n",
      "Computing the cosine similarity matrix...\n",
      "Done computing similarity matrix.\n",
      "Estimating biases using als...\n",
      "Computing the cosine similarity matrix...\n",
      "Done computing similarity matrix.\n",
      "Estimating biases using als...\n",
      "Computing the cosine similarity matrix...\n",
      "Done computing similarity matrix.\n",
      "Evaluating RMSE, MAE of algorithm KNNBaseline on 5 split(s).\n",
      "\n",
      "                  Fold 1  Fold 2  Fold 3  Fold 4  Fold 5  Mean    Std     \n",
      "RMSE (testset)    1.2554  1.2303  1.2430  1.2492  1.2182  1.2392  0.0134  \n",
      "MAE (testset)     1.0048  0.9775  0.9868  0.9948  0.9690  0.9866  0.0126  \n",
      "Fit time          0.37    0.30    0.27    0.29    0.25    0.30    0.04    \n",
      "Test time         0.02    0.03    0.03    0.03    0.02    0.03    0.00    \n",
      "{'test_rmse': array([1.25535949, 1.2302594 , 1.24304204, 1.24924844, 1.21816888]), 'test_mae': array([1.0047642 , 0.97751998, 0.98681357, 0.99480096, 0.96900331]), 'fit_time': (0.3717052936553955, 0.29917430877685547, 0.26610708236694336, 0.2949714660644531, 0.24787497520446777), 'test_time': (0.02398204803466797, 0.025294780731201172, 0.02708601951599121, 0.02792501449584961, 0.024779796600341797)}\n"
     ]
    }
   ],
   "source": [
    "\n",
    "# KNNBaseline model with cosine similarity metric\n",
    "sim_options = {'name': 'cosine',\n",
    "               'user_based': False  # compute  similarities between Items\n",
    "              }\n",
    "algo = KNNBaseline(k=40, verbose= True, sim_options = sim_options)\n",
    "\n",
    "# Performance\n",
    "perf_knn_baseline = cross_validate(algo, data, measures=['RMSE', 'MAE'], cv=5, verbose=True)\n",
    "print(perf_knn_baseline)"
   ]
  },
  {
   "cell_type": "code",
   "execution_count": 99,
   "metadata": {
    "colab": {
     "base_uri": "https://localhost:8080/",
     "height": 34
    },
    "colab_type": "code",
    "executionInfo": {
     "elapsed": 1627807,
     "status": "ok",
     "timestamp": 1575246217776,
     "user": {
      "displayName": "Abhi Patodi",
      "photoUrl": "",
      "userId": "08749657629535720878"
     },
     "user_tz": 300
    },
    "id": "b6EfdPQxEZyO",
    "outputId": "fd051638-0f27-4283-8dc2-187759b22bc6"
   },
   "outputs": [
    {
     "name": "stdout",
     "output_type": "stream",
     "text": [
      "user: AVVEFYHmFUa9oUhy2DIQFA item: Gu-xs3NIQTj3Mj2xYoN2aw r_ui = 3.00   est = 3.78   {'was_impossible': False}\n"
     ]
    }
   ],
   "source": [
    "# predict the user ratings for business id : Gu-xs3NIQTj3Mj2xYoN2aw\n",
    "knn_cosine_pred3 = algo.predict(str('AVVEFYHmFUa9oUhy2DIQFA'),str('Gu-xs3NIQTj3Mj2xYoN2aw'),r_ui=3,verbose=True)"
   ]
  },
  {
   "cell_type": "code",
   "execution_count": 100,
   "metadata": {
    "colab": {
     "base_uri": "https://localhost:8080/",
     "height": 34
    },
    "colab_type": "code",
    "executionInfo": {
     "elapsed": 1627803,
     "status": "ok",
     "timestamp": 1575246217777,
     "user": {
      "displayName": "Abhi Patodi",
      "photoUrl": "",
      "userId": "08749657629535720878"
     },
     "user_tz": 300
    },
    "id": "D1IqPmLpEZ6a",
    "outputId": "a88bea65-4847-408f-a76f-54d0298cf8ff"
   },
   "outputs": [
    {
     "name": "stdout",
     "output_type": "stream",
     "text": [
      "user: AVVEFYHmFUa9oUhy2DIQFA item: RwRNR4z3kY-4OsFqigY5sw r_ui = 4.00   est = 3.78   {'was_impossible': False}\n"
     ]
    }
   ],
   "source": [
    "\n",
    "# predict the user ratings for business id : RwRNR4z3kY-4OsFqigY5sw\n",
    "knn_cosine_pred2 = algo.predict(str('AVVEFYHmFUa9oUhy2DIQFA'),str('RwRNR4z3kY-4OsFqigY5sw'),r_ui=4,verbose=True)"
   ]
  },
  {
   "cell_type": "markdown",
   "metadata": {
    "colab_type": "text",
    "id": "Qnh1Ds-LioXS"
   },
   "source": [
    "# **2.3 COLLABORATIVE FILTERING**"
   ]
  },
  {
   "cell_type": "markdown",
   "metadata": {
    "colab_type": "text",
    "id": "RyPOdVBNjU63"
   },
   "source": [
    "In this section, we will use a technique called Collaborative Filtering to make recommendations to Yelp users. Collaborative Filtering is based on the idea that users similar to me can be used to predict how much I will like a particular restaurent those users have experienced but I have not.\n",
    "\n",
    "We are using the Surprise library that has extremely powerful algorithms like Singular Value Decomposition (SVD) and SVDpp to minimise RMSE (Root Mean Square Error) and give great recommendations"
   ]
  },
  {
   "cell_type": "markdown",
   "metadata": {
    "colab_type": "text",
    "id": "17ZHhgokjlVt"
   },
   "source": [
    "# **2.3.1 SINGULAR-VALUE DECOMPOSITION (SVD)**\n",
    "\n",
    "\n",
    "The two primary areas of collaborative filtering are the neighborhood methods and latent factor models.\n",
    "\n",
    "Neighborhood methods are centered on computing the relationships between items or, alternatively, between users. The item oriented approach evaluates a user’s preference for an item based on ratings of “neighboring” items by the same user. A product’s neighbors are other products that tend to get similar ratings when rated by the same user."
   ]
  },
  {
   "cell_type": "code",
   "execution_count": 101,
   "metadata": {
    "colab": {
     "base_uri": "https://localhost:8080/",
     "height": 52
    },
    "colab_type": "code",
    "executionInfo": {
     "elapsed": 1627800,
     "status": "ok",
     "timestamp": 1575246217778,
     "user": {
      "displayName": "Abhi Patodi",
      "photoUrl": "",
      "userId": "08749657629535720878"
     },
     "user_tz": 300
    },
    "id": "B9da5XkojOiW",
    "outputId": "27253163-c29e-41b7-ebf3-cfd0d9f4152e"
   },
   "outputs": [
    {
     "name": "stdout",
     "output_type": "stream",
     "text": [
      "Number of Unique Users:  14473\n",
      "Number of Restaurant:  2567\n"
     ]
    }
   ],
   "source": [
    "# Let us check the number of unique users and restaurants\n",
    "n_users = complete_df['user_id'].nunique()\n",
    "n_restaurants = complete_df['business_id'].nunique()\n",
    "\n",
    "print('Number of Unique Users: ', n_users)\n",
    "print('Number of Restaurant: ',n_restaurants)"
   ]
  },
  {
   "cell_type": "code",
   "execution_count": 0,
   "metadata": {
    "colab": {},
    "colab_type": "code",
    "id": "x1pbhoXdjfaB"
   },
   "outputs": [],
   "source": [
    "# Creating the nominal variable for  user_id\n",
    "unique_user_id = pd.DataFrame(complete_df['user_id'].unique(),columns =['user_id']).reset_index()\n",
    "unique_user_id['new_user_id'] = unique_user_id['index']\n",
    "del unique_user_id['index']\n",
    "\n",
    "# Creating the nominal variable for  restaurant_id\n",
    "unique_business_id = pd.DataFrame(complete_df['business_id'].unique(),columns =['business_id']).reset_index()\n",
    "unique_business_id['new_business_id'] = unique_business_id['index']\n",
    "del unique_business_id['index']"
   ]
  },
  {
   "cell_type": "code",
   "execution_count": 0,
   "metadata": {
    "colab": {},
    "colab_type": "code",
    "id": "B3v8qZJfj5mB"
   },
   "outputs": [],
   "source": [
    "# Let us now join the nominal user_id and restaurant_id main dataframe with all the data\n",
    "new_complete_df = complete_df.merge(unique_user_id,on='user_id',how ='left')\n",
    "new_complete_df = new_complete_df.merge(unique_business_id,on='business_id',how ='left')"
   ]
  },
  {
   "cell_type": "code",
   "execution_count": 104,
   "metadata": {
    "colab": {
     "base_uri": "https://localhost:8080/",
     "height": 246
    },
    "colab_type": "code",
    "executionInfo": {
     "elapsed": 1628180,
     "status": "ok",
     "timestamp": 1575246218170,
     "user": {
      "displayName": "Abhi Patodi",
      "photoUrl": "",
      "userId": "08749657629535720878"
     },
     "user_tz": 300
    },
    "id": "-0AdnjIsj5pt",
    "outputId": "1d94e8a7-7bda-4c9c-a6b9-22e5e92a5aa8"
   },
   "outputs": [
    {
     "data": {
      "text/plain": [
       "Index(['business_id', 'name_x', 'address', 'city', 'state', 'postal_code',\n",
       "       'latitude', 'longitude', 'stars_x', 'review_count_x', 'is_open',\n",
       "       'attributes', 'categories', 'hours', 'cool_x', 'date', 'funny_x',\n",
       "       'review_id', 'stars_y', 'text', 'useful_x', 'user_id', 'word_count',\n",
       "       'char_count', 'avg_word', 'hashtags', 'stopwords', 'numerics',\n",
       "       'text length', 'name_y', 'review_count_y', 'yelping_since', 'useful_y',\n",
       "       'funny_y', 'cool_y', 'elite', 'friends', 'fans', 'average_stars',\n",
       "       'compliment_hot', 'compliment_more', 'compliment_profile',\n",
       "       'compliment_cute', 'compliment_list', 'compliment_note',\n",
       "       'compliment_plain', 'compliment_cool', 'compliment_funny',\n",
       "       'compliment_writer', 'compliment_photos', 'new_user_id',\n",
       "       'new_business_id'],\n",
       "      dtype='object')"
      ]
     },
     "execution_count": 104,
     "metadata": {
      "tags": []
     },
     "output_type": "execute_result"
    }
   ],
   "source": [
    "# Let us peek into the new_complete_df\n",
    "new_complete_df.columns\n"
   ]
  },
  {
   "cell_type": "code",
   "execution_count": 0,
   "metadata": {
    "colab": {},
    "colab_type": "code",
    "id": "G477oHY5kAeh"
   },
   "outputs": [],
   "source": [
    "df = new_complete_df[['new_user_id','new_business_id','stars_y']]"
   ]
  },
  {
   "cell_type": "code",
   "execution_count": 106,
   "metadata": {
    "colab": {
     "base_uri": "https://localhost:8080/",
     "height": 343
    },
    "colab_type": "code",
    "executionInfo": {
     "elapsed": 1628172,
     "status": "ok",
     "timestamp": 1575246218172,
     "user": {
      "displayName": "Abhi Patodi",
      "photoUrl": "",
      "userId": "08749657629535720878"
     },
     "user_tz": 300
    },
    "id": "Mu_NyyCWkAhX",
    "outputId": "6fbe3a5c-aeec-4fa1-92f4-8ca2dc6e9f8c"
   },
   "outputs": [
    {
     "data": {
      "text/html": [
       "<div>\n",
       "<style scoped>\n",
       "    .dataframe tbody tr th:only-of-type {\n",
       "        vertical-align: middle;\n",
       "    }\n",
       "\n",
       "    .dataframe tbody tr th {\n",
       "        vertical-align: top;\n",
       "    }\n",
       "\n",
       "    .dataframe thead th {\n",
       "        text-align: right;\n",
       "    }\n",
       "</style>\n",
       "<table border=\"1\" class=\"dataframe\">\n",
       "  <thead>\n",
       "    <tr style=\"text-align: right;\">\n",
       "      <th></th>\n",
       "      <th>new_user_id</th>\n",
       "      <th>new_business_id</th>\n",
       "      <th>stars_y</th>\n",
       "    </tr>\n",
       "  </thead>\n",
       "  <tbody>\n",
       "    <tr>\n",
       "      <th>0</th>\n",
       "      <td>0</td>\n",
       "      <td>0</td>\n",
       "      <td>3</td>\n",
       "    </tr>\n",
       "    <tr>\n",
       "      <th>1</th>\n",
       "      <td>1</td>\n",
       "      <td>0</td>\n",
       "      <td>3</td>\n",
       "    </tr>\n",
       "    <tr>\n",
       "      <th>2</th>\n",
       "      <td>2</td>\n",
       "      <td>0</td>\n",
       "      <td>3</td>\n",
       "    </tr>\n",
       "    <tr>\n",
       "      <th>3</th>\n",
       "      <td>3</td>\n",
       "      <td>0</td>\n",
       "      <td>4</td>\n",
       "    </tr>\n",
       "    <tr>\n",
       "      <th>4</th>\n",
       "      <td>4</td>\n",
       "      <td>0</td>\n",
       "      <td>3</td>\n",
       "    </tr>\n",
       "    <tr>\n",
       "      <th>5</th>\n",
       "      <td>5</td>\n",
       "      <td>0</td>\n",
       "      <td>1</td>\n",
       "    </tr>\n",
       "    <tr>\n",
       "      <th>6</th>\n",
       "      <td>6</td>\n",
       "      <td>0</td>\n",
       "      <td>3</td>\n",
       "    </tr>\n",
       "    <tr>\n",
       "      <th>7</th>\n",
       "      <td>7</td>\n",
       "      <td>0</td>\n",
       "      <td>4</td>\n",
       "    </tr>\n",
       "    <tr>\n",
       "      <th>8</th>\n",
       "      <td>8</td>\n",
       "      <td>0</td>\n",
       "      <td>3</td>\n",
       "    </tr>\n",
       "    <tr>\n",
       "      <th>9</th>\n",
       "      <td>9</td>\n",
       "      <td>0</td>\n",
       "      <td>4</td>\n",
       "    </tr>\n",
       "  </tbody>\n",
       "</table>\n",
       "</div>"
      ],
      "text/plain": [
       "   new_user_id  new_business_id  stars_y\n",
       "0            0                0        3\n",
       "1            1                0        3\n",
       "2            2                0        3\n",
       "3            3                0        4\n",
       "4            4                0        3\n",
       "5            5                0        1\n",
       "6            6                0        3\n",
       "7            7                0        4\n",
       "8            8                0        3\n",
       "9            9                0        4"
      ]
     },
     "execution_count": 106,
     "metadata": {
      "tags": []
     },
     "output_type": "execute_result"
    }
   ],
   "source": [
    "df.head(10)\n"
   ]
  },
  {
   "cell_type": "code",
   "execution_count": 0,
   "metadata": {
    "colab": {},
    "colab_type": "code",
    "id": "Bp6kY3C-kAwU"
   },
   "outputs": [],
   "source": [
    "# creating a reader object to parse the dataframe which has rating_scale of 1-5\n",
    "reader = Reader(rating_scale=(1, 5))\n",
    "# Load the dataset and split it into 5 folds for cross-validation\n",
    "data = Dataset.load_from_df(df,reader)\n",
    "trainset, testset = train_test_split(data, test_size=0.25)"
   ]
  },
  {
   "cell_type": "code",
   "execution_count": 108,
   "metadata": {
    "colab": {
     "base_uri": "https://localhost:8080/",
     "height": 178
    },
    "colab_type": "code",
    "executionInfo": {
     "elapsed": 1632156,
     "status": "ok",
     "timestamp": 1575246222168,
     "user": {
      "displayName": "Abhi Patodi",
      "photoUrl": "",
      "userId": "08749657629535720878"
     },
     "user_tz": 300
    },
    "id": "eo0ByaSIkonx",
    "outputId": "7a08180c-4e96-4209-e863-51f136d3aa14"
   },
   "outputs": [
    {
     "name": "stdout",
     "output_type": "stream",
     "text": [
      "Evaluating RMSE, MAE of algorithm SVD on 5 split(s).\n",
      "\n",
      "                  Fold 1  Fold 2  Fold 3  Fold 4  Fold 5  Mean    Std     \n",
      "RMSE (testset)    1.2395  1.2298  1.2039  1.2467  1.2502  1.2340  0.0166  \n",
      "MAE (testset)     0.9839  0.9819  0.9586  0.9901  1.0004  0.9830  0.0138  \n",
      "Fit time          0.78    0.72    0.72    0.71    0.73    0.73    0.02    \n",
      "Test time         0.02    0.02    0.02    0.02    0.02    0.02    0.00    \n",
      "{'test_rmse': array([1.23954353, 1.22976403, 1.2039014 , 1.24668542, 1.25023608]), 'test_mae': array([0.98389627, 0.98194052, 0.95856087, 0.99009641, 1.00038714]), 'fit_time': (0.7757363319396973, 0.7234151363372803, 0.7230370044708252, 0.7137389183044434, 0.7315587997436523), 'test_time': (0.018604516983032227, 0.01875782012939453, 0.01927328109741211, 0.018525123596191406, 0.01853322982788086)}\n"
     ]
    }
   ],
   "source": [
    "# SVD Modelling\n",
    "algo = SVD()\n",
    "# Performance evaluation on the basis of RMSE and MAE\n",
    "perf_knn_baseline = cross_validate(algo, data, measures=['RMSE', 'MAE'], cv=5, verbose=True)\n",
    "print(perf_knn_baseline)\n"
   ]
  },
  {
   "cell_type": "code",
   "execution_count": 109,
   "metadata": {
    "colab": {
     "base_uri": "https://localhost:8080/",
     "height": 34
    },
    "colab_type": "code",
    "executionInfo": {
     "elapsed": 1633146,
     "status": "ok",
     "timestamp": 1575246223163,
     "user": {
      "displayName": "Abhi Patodi",
      "photoUrl": "",
      "userId": "08749657629535720878"
     },
     "user_tz": 300
    },
    "id": "KGTfJQ28korF",
    "outputId": "d45c6214-dc4b-4e0a-fd5f-6119dd8eaffe"
   },
   "outputs": [
    {
     "data": {
      "text/plain": [
       "<surprise.prediction_algorithms.matrix_factorization.SVD at 0x7f3e5197f2b0>"
      ]
     },
     "execution_count": 109,
     "metadata": {
      "tags": []
     },
     "output_type": "execute_result"
    }
   ],
   "source": [
    "# train the dataset and find the predictions\n",
    "trainset = data.build_full_trainset()\n",
    "algo.fit(trainset)"
   ]
  },
  {
   "cell_type": "code",
   "execution_count": 110,
   "metadata": {
    "colab": {
     "base_uri": "https://localhost:8080/",
     "height": 34
    },
    "colab_type": "code",
    "executionInfo": {
     "elapsed": 1633143,
     "status": "ok",
     "timestamp": 1575246223164,
     "user": {
      "displayName": "Abhi Patodi",
      "photoUrl": "",
      "userId": "08749657629535720878"
     },
     "user_tz": 300
    },
    "id": "JOhsHdnZkouI",
    "outputId": "d2c6e482-9df7-4883-9ea1-7ed55cbed267"
   },
   "outputs": [
    {
     "name": "stdout",
     "output_type": "stream",
     "text": [
      "user: 1          item: 0          r_ui = 3.00   est = 3.81   {'was_impossible': False}\n"
     ]
    }
   ],
   "source": [
    "# predict the user ratings for business id : 0\n",
    "svd_pred = algo.predict(str('1'),str('0'),r_ui=3,verbose=True)"
   ]
  },
  {
   "cell_type": "code",
   "execution_count": 111,
   "metadata": {
    "colab": {
     "base_uri": "https://localhost:8080/",
     "height": 34
    },
    "colab_type": "code",
    "executionInfo": {
     "elapsed": 1633139,
     "status": "ok",
     "timestamp": 1575246223165,
     "user": {
      "displayName": "Abhi Patodi",
      "photoUrl": "",
      "userId": "08749657629535720878"
     },
     "user_tz": 300
    },
    "id": "Yt0fImQuko1Q",
    "outputId": "2010bd9d-9519-4af2-a1a2-879e0da05603"
   },
   "outputs": [
    {
     "name": "stdout",
     "output_type": "stream",
     "text": [
      "user: 0          item: 1          r_ui = 3.00   est = 3.81   {'was_impossible': False}\n"
     ]
    }
   ],
   "source": [
    "# predict the user ratings for business id : 1\n",
    "svd_pred1 = algo.predict(str('0'),str('1'),r_ui=3,verbose=True)"
   ]
  },
  {
   "cell_type": "markdown",
   "metadata": {
    "colab_type": "text",
    "id": "Uqz3rRGElP3U"
   },
   "source": [
    "For business id 0 and 1, we get an estimated prediction of 3.81.\n",
    "One startling feature of this recommender system is that it doesn't care what the business is. It works purely on the basis of an assigned business ID and tries to predict ratings based on how the other users have predicted the business\n"
   ]
  },
  {
   "cell_type": "markdown",
   "metadata": {
    "colab_type": "text",
    "id": "v6FoX009leCF"
   },
   "source": [
    "# **2.3.2 SINGULAR-VALUE DECOMPOSITION PLUS PLUS (SVDpp)**\n",
    "This also works purely on the basis of an assigned business ID and tries to predict ratings based on how the other users have predicted the business. The only difference between SVD and SVDpp is that SVDpp algorithm considers implicit user ratings into account."
   ]
  },
  {
   "cell_type": "code",
   "execution_count": 112,
   "metadata": {
    "colab": {
     "base_uri": "https://localhost:8080/",
     "height": 178
    },
    "colab_type": "code",
    "executionInfo": {
     "elapsed": 1640402,
     "status": "ok",
     "timestamp": 1575246230432,
     "user": {
      "displayName": "Abhi Patodi",
      "photoUrl": "",
      "userId": "08749657629535720878"
     },
     "user_tz": 300
    },
    "id": "Au3Q-HoVlkVl",
    "outputId": "3df055be-a12e-4474-896c-dea75cefaa31"
   },
   "outputs": [
    {
     "name": "stdout",
     "output_type": "stream",
     "text": [
      "Evaluating RMSE, MAE of algorithm SVDpp on 5 split(s).\n",
      "\n",
      "                  Fold 1  Fold 2  Fold 3  Fold 4  Fold 5  Mean    Std     \n",
      "RMSE (testset)    1.2312  1.2488  1.1920  1.2462  1.2340  1.2304  0.0204  \n",
      "MAE (testset)     0.9780  0.9943  0.9589  1.0171  0.9793  0.9855  0.0194  \n",
      "Fit time          1.30    1.27    1.25    1.32    1.31    1.29    0.03    \n",
      "Test time         0.02    0.02    0.02    0.02    0.02    0.02    0.00    \n",
      "{'test_rmse': array([1.23118559, 1.24878904, 1.19201584, 1.24622929, 1.2340216 ]), 'test_mae': array([0.97800159, 0.99430245, 0.95888601, 1.01712932, 0.97928784]), 'fit_time': (1.29616117477417, 1.265038251876831, 1.2535171508789062, 1.3193020820617676, 1.3105201721191406), 'test_time': (0.0243222713470459, 0.024932861328125, 0.024831295013427734, 0.024875164031982422, 0.024760007858276367)}\n"
     ]
    }
   ],
   "source": [
    "# SVDpp Modelling\n",
    "algo = SVDpp()\n",
    "\n",
    "# Performance\n",
    "perf_knn_baseline = cross_validate(algo, data, measures=['RMSE', 'MAE'], cv=5, verbose=True)\n",
    "print(perf_knn_baseline)"
   ]
  },
  {
   "cell_type": "code",
   "execution_count": 113,
   "metadata": {
    "colab": {
     "base_uri": "https://localhost:8080/",
     "height": 34
    },
    "colab_type": "code",
    "executionInfo": {
     "elapsed": 1640398,
     "status": "ok",
     "timestamp": 1575246230432,
     "user": {
      "displayName": "Abhi Patodi",
      "photoUrl": "",
      "userId": "08749657629535720878"
     },
     "user_tz": 300
    },
    "id": "mAfnnuKQlkZP",
    "outputId": "bb7428f0-7381-4984-d305-42510032ce98"
   },
   "outputs": [
    {
     "name": "stdout",
     "output_type": "stream",
     "text": [
      "user: 1          item: 0          r_ui = 3.00   est = 3.82   {'was_impossible': False}\n"
     ]
    }
   ],
   "source": [
    "# predict the user ratings for business id : 0\n",
    "svdpp_pred = algo.predict(str('1'),str('0'),r_ui=3,verbose=True)"
   ]
  },
  {
   "cell_type": "code",
   "execution_count": 114,
   "metadata": {
    "colab": {
     "base_uri": "https://localhost:8080/",
     "height": 34
    },
    "colab_type": "code",
    "executionInfo": {
     "elapsed": 1640395,
     "status": "ok",
     "timestamp": 1575246230433,
     "user": {
      "displayName": "Abhi Patodi",
      "photoUrl": "",
      "userId": "08749657629535720878"
     },
     "user_tz": 300
    },
    "id": "VTETzxLalkb7",
    "outputId": "fd13952d-7624-4b1d-cd84-84b1d3f9a4f2"
   },
   "outputs": [
    {
     "name": "stdout",
     "output_type": "stream",
     "text": [
      "user: 0          item: 1          r_ui = 3.00   est = 3.82   {'was_impossible': False}\n"
     ]
    }
   ],
   "source": [
    "# predict the user ratings for business id : 1\n",
    "svdpp_pred1 = algo.predict(str('0'),str('1'),r_ui=3,verbose=True)"
   ]
  },
  {
   "cell_type": "markdown",
   "metadata": {
    "colab_type": "text",
    "id": "fSsANuoAl4YJ"
   },
   "source": [
    "For business id 0 and 1, we get an estimated prediction of 3.82\n",
    "As we see the difference in the predicted rating for both SVD and SVDpp is not much"
   ]
  },
  {
   "cell_type": "markdown",
   "metadata": {
    "colab_type": "text",
    "id": "ur9UGGKgl91s"
   },
   "source": [
    "# **2.4 REVIEWS BASED RESTAURENT RECOMMENDER (CONTENT BASED RECOMMENDATION)**"
   ]
  },
  {
   "cell_type": "code",
   "execution_count": 115,
   "metadata": {
    "colab": {
     "base_uri": "https://localhost:8080/",
     "height": 1000
    },
    "colab_type": "code",
    "executionInfo": {
     "elapsed": 1640392,
     "status": "ok",
     "timestamp": 1575246230434,
     "user": {
      "displayName": "Abhi Patodi",
      "photoUrl": "",
      "userId": "08749657629535720878"
     },
     "user_tz": 300
    },
    "id": "rteMIwdSmIeC",
    "outputId": "f8d0d355-3923-4cb9-e387-3d439f2a4098"
   },
   "outputs": [
    {
     "data": {
      "text/html": [
       "<div>\n",
       "<style scoped>\n",
       "    .dataframe tbody tr th:only-of-type {\n",
       "        vertical-align: middle;\n",
       "    }\n",
       "\n",
       "    .dataframe tbody tr th {\n",
       "        vertical-align: top;\n",
       "    }\n",
       "\n",
       "    .dataframe thead th {\n",
       "        text-align: right;\n",
       "    }\n",
       "</style>\n",
       "<table border=\"1\" class=\"dataframe\">\n",
       "  <thead>\n",
       "    <tr style=\"text-align: right;\">\n",
       "      <th></th>\n",
       "      <th>0</th>\n",
       "      <th>1</th>\n",
       "      <th>2</th>\n",
       "      <th>3</th>\n",
       "      <th>4</th>\n",
       "    </tr>\n",
       "  </thead>\n",
       "  <tbody>\n",
       "    <tr>\n",
       "      <th>business_id</th>\n",
       "      <td>QXAEGFB4oINsVuTFxEYKFQ</td>\n",
       "      <td>QXAEGFB4oINsVuTFxEYKFQ</td>\n",
       "      <td>QXAEGFB4oINsVuTFxEYKFQ</td>\n",
       "      <td>QXAEGFB4oINsVuTFxEYKFQ</td>\n",
       "      <td>QXAEGFB4oINsVuTFxEYKFQ</td>\n",
       "    </tr>\n",
       "    <tr>\n",
       "      <th>name_x</th>\n",
       "      <td>Emerald Chinese Restaurant</td>\n",
       "      <td>Emerald Chinese Restaurant</td>\n",
       "      <td>Emerald Chinese Restaurant</td>\n",
       "      <td>Emerald Chinese Restaurant</td>\n",
       "      <td>Emerald Chinese Restaurant</td>\n",
       "    </tr>\n",
       "    <tr>\n",
       "      <th>address</th>\n",
       "      <td>30 Eglinton Avenue W</td>\n",
       "      <td>30 Eglinton Avenue W</td>\n",
       "      <td>30 Eglinton Avenue W</td>\n",
       "      <td>30 Eglinton Avenue W</td>\n",
       "      <td>30 Eglinton Avenue W</td>\n",
       "    </tr>\n",
       "    <tr>\n",
       "      <th>city</th>\n",
       "      <td>Mississauga</td>\n",
       "      <td>Mississauga</td>\n",
       "      <td>Mississauga</td>\n",
       "      <td>Mississauga</td>\n",
       "      <td>Mississauga</td>\n",
       "    </tr>\n",
       "    <tr>\n",
       "      <th>state</th>\n",
       "      <td>ON</td>\n",
       "      <td>ON</td>\n",
       "      <td>ON</td>\n",
       "      <td>ON</td>\n",
       "      <td>ON</td>\n",
       "    </tr>\n",
       "    <tr>\n",
       "      <th>postal_code</th>\n",
       "      <td>L5R 3E7</td>\n",
       "      <td>L5R 3E7</td>\n",
       "      <td>L5R 3E7</td>\n",
       "      <td>L5R 3E7</td>\n",
       "      <td>L5R 3E7</td>\n",
       "    </tr>\n",
       "    <tr>\n",
       "      <th>latitude</th>\n",
       "      <td>43.6055</td>\n",
       "      <td>43.6055</td>\n",
       "      <td>43.6055</td>\n",
       "      <td>43.6055</td>\n",
       "      <td>43.6055</td>\n",
       "    </tr>\n",
       "    <tr>\n",
       "      <th>longitude</th>\n",
       "      <td>-79.6523</td>\n",
       "      <td>-79.6523</td>\n",
       "      <td>-79.6523</td>\n",
       "      <td>-79.6523</td>\n",
       "      <td>-79.6523</td>\n",
       "    </tr>\n",
       "    <tr>\n",
       "      <th>stars_x</th>\n",
       "      <td>2.5</td>\n",
       "      <td>2.5</td>\n",
       "      <td>2.5</td>\n",
       "      <td>2.5</td>\n",
       "      <td>2.5</td>\n",
       "    </tr>\n",
       "    <tr>\n",
       "      <th>review_count_x</th>\n",
       "      <td>128</td>\n",
       "      <td>128</td>\n",
       "      <td>128</td>\n",
       "      <td>128</td>\n",
       "      <td>128</td>\n",
       "    </tr>\n",
       "    <tr>\n",
       "      <th>is_open</th>\n",
       "      <td>1</td>\n",
       "      <td>1</td>\n",
       "      <td>1</td>\n",
       "      <td>1</td>\n",
       "      <td>1</td>\n",
       "    </tr>\n",
       "    <tr>\n",
       "      <th>attributes</th>\n",
       "      <td>{'RestaurantsReservations': 'True', 'GoodForMe...</td>\n",
       "      <td>{'RestaurantsReservations': 'True', 'GoodForMe...</td>\n",
       "      <td>{'RestaurantsReservations': 'True', 'GoodForMe...</td>\n",
       "      <td>{'RestaurantsReservations': 'True', 'GoodForMe...</td>\n",
       "      <td>{'RestaurantsReservations': 'True', 'GoodForMe...</td>\n",
       "    </tr>\n",
       "    <tr>\n",
       "      <th>categories</th>\n",
       "      <td>Specialty Food, Restaurants, Dim Sum, Imported...</td>\n",
       "      <td>Specialty Food, Restaurants, Dim Sum, Imported...</td>\n",
       "      <td>Specialty Food, Restaurants, Dim Sum, Imported...</td>\n",
       "      <td>Specialty Food, Restaurants, Dim Sum, Imported...</td>\n",
       "      <td>Specialty Food, Restaurants, Dim Sum, Imported...</td>\n",
       "    </tr>\n",
       "    <tr>\n",
       "      <th>hours</th>\n",
       "      <td>{'Monday': '9:0-0:0', 'Tuesday': '9:0-0:0', 'W...</td>\n",
       "      <td>{'Monday': '9:0-0:0', 'Tuesday': '9:0-0:0', 'W...</td>\n",
       "      <td>{'Monday': '9:0-0:0', 'Tuesday': '9:0-0:0', 'W...</td>\n",
       "      <td>{'Monday': '9:0-0:0', 'Tuesday': '9:0-0:0', 'W...</td>\n",
       "      <td>{'Monday': '9:0-0:0', 'Tuesday': '9:0-0:0', 'W...</td>\n",
       "    </tr>\n",
       "    <tr>\n",
       "      <th>cool_x</th>\n",
       "      <td>0</td>\n",
       "      <td>0</td>\n",
       "      <td>0</td>\n",
       "      <td>2</td>\n",
       "      <td>0</td>\n",
       "    </tr>\n",
       "    <tr>\n",
       "      <th>date</th>\n",
       "      <td>2017-01-27 21:54:30</td>\n",
       "      <td>2013-06-24 23:11:30</td>\n",
       "      <td>2016-01-04 12:59:22</td>\n",
       "      <td>2011-03-21 14:39:55</td>\n",
       "      <td>2015-02-17 00:10:02</td>\n",
       "    </tr>\n",
       "    <tr>\n",
       "      <th>funny_x</th>\n",
       "      <td>2</td>\n",
       "      <td>0</td>\n",
       "      <td>0</td>\n",
       "      <td>1</td>\n",
       "      <td>0</td>\n",
       "    </tr>\n",
       "    <tr>\n",
       "      <th>review_id</th>\n",
       "      <td>6W0MQHmasK0IsaoDo4bmkw</td>\n",
       "      <td>BeeBfUxvzD4qNX4HxrgA5g</td>\n",
       "      <td>A1D2kUnZ0HTroFreAheNSg</td>\n",
       "      <td>RHhlmL07evgAdPaXQV8Omg</td>\n",
       "      <td>TD5E5NTFqgi1LPbTLlRCjQ</td>\n",
       "    </tr>\n",
       "    <tr>\n",
       "      <th>stars_y</th>\n",
       "      <td>3</td>\n",
       "      <td>3</td>\n",
       "      <td>3</td>\n",
       "      <td>4</td>\n",
       "      <td>3</td>\n",
       "    </tr>\n",
       "    <tr>\n",
       "      <th>text</th>\n",
       "      <td>My girlfriend and I went for dinner at Emerald...</td>\n",
       "      <td>We've always been there on a Sunday so we were...</td>\n",
       "      <td>***No automatic doors, not baby friendly!*** I...</td>\n",
       "      <td>One of the gauges of a good Chinese restaurant...</td>\n",
       "      <td>We chose this restaurant for our Chinese New Y...</td>\n",
       "    </tr>\n",
       "    <tr>\n",
       "      <th>useful_x</th>\n",
       "      <td>3</td>\n",
       "      <td>0</td>\n",
       "      <td>0</td>\n",
       "      <td>2</td>\n",
       "      <td>0</td>\n",
       "    </tr>\n",
       "    <tr>\n",
       "      <th>user_id</th>\n",
       "      <td>2K62MJ4CJ19L8Tp5pRfjfQ</td>\n",
       "      <td>A0kENtCCoVT3m7T35zb2Vg</td>\n",
       "      <td>SuOLY03LW5ZcnynKhbTydA</td>\n",
       "      <td>6vU0I5XgCv9OQHZ76rV6qw</td>\n",
       "      <td>-ga7pQvnJcMB1_pIapHQRQ</td>\n",
       "    </tr>\n",
       "    <tr>\n",
       "      <th>word_count</th>\n",
       "      <td>238</td>\n",
       "      <td>84</td>\n",
       "      <td>43</td>\n",
       "      <td>318</td>\n",
       "      <td>79</td>\n",
       "    </tr>\n",
       "    <tr>\n",
       "      <th>char_count</th>\n",
       "      <td>1475</td>\n",
       "      <td>439</td>\n",
       "      <td>252</td>\n",
       "      <td>1668</td>\n",
       "      <td>409</td>\n",
       "    </tr>\n",
       "    <tr>\n",
       "      <th>avg_word</th>\n",
       "      <td>5.01653</td>\n",
       "      <td>4.2381</td>\n",
       "      <td>4.88372</td>\n",
       "      <td>4.17757</td>\n",
       "      <td>4.18987</td>\n",
       "    </tr>\n",
       "    <tr>\n",
       "      <th>hashtags</th>\n",
       "      <td>0</td>\n",
       "      <td>0</td>\n",
       "      <td>0</td>\n",
       "      <td>0</td>\n",
       "      <td>0</td>\n",
       "    </tr>\n",
       "    <tr>\n",
       "      <th>stopwords</th>\n",
       "      <td>84</td>\n",
       "      <td>47</td>\n",
       "      <td>15</td>\n",
       "      <td>130</td>\n",
       "      <td>33</td>\n",
       "    </tr>\n",
       "    <tr>\n",
       "      <th>numerics</th>\n",
       "      <td>1</td>\n",
       "      <td>0</td>\n",
       "      <td>0</td>\n",
       "      <td>2</td>\n",
       "      <td>0</td>\n",
       "    </tr>\n",
       "    <tr>\n",
       "      <th>text length</th>\n",
       "      <td>1475</td>\n",
       "      <td>439</td>\n",
       "      <td>252</td>\n",
       "      <td>1668</td>\n",
       "      <td>409</td>\n",
       "    </tr>\n",
       "    <tr>\n",
       "      <th>name_y</th>\n",
       "      <td>David</td>\n",
       "      <td>Anastasia</td>\n",
       "      <td>Jocelyn</td>\n",
       "      <td>Marc</td>\n",
       "      <td>Tracy</td>\n",
       "    </tr>\n",
       "    <tr>\n",
       "      <th>review_count_y</th>\n",
       "      <td>57</td>\n",
       "      <td>348</td>\n",
       "      <td>105</td>\n",
       "      <td>6</td>\n",
       "      <td>73</td>\n",
       "    </tr>\n",
       "    <tr>\n",
       "      <th>yelping_since</th>\n",
       "      <td>2014-11-27 22:36:00</td>\n",
       "      <td>2009-02-15 16:45:34</td>\n",
       "      <td>2014-10-02 14:12:40</td>\n",
       "      <td>2011-03-05 23:31:39</td>\n",
       "      <td>2014-02-23 15:07:46</td>\n",
       "    </tr>\n",
       "    <tr>\n",
       "      <th>useful_y</th>\n",
       "      <td>58</td>\n",
       "      <td>411</td>\n",
       "      <td>150</td>\n",
       "      <td>11</td>\n",
       "      <td>58</td>\n",
       "    </tr>\n",
       "    <tr>\n",
       "      <th>funny_y</th>\n",
       "      <td>22</td>\n",
       "      <td>86</td>\n",
       "      <td>36</td>\n",
       "      <td>4</td>\n",
       "      <td>18</td>\n",
       "    </tr>\n",
       "    <tr>\n",
       "      <th>cool_y</th>\n",
       "      <td>20</td>\n",
       "      <td>122</td>\n",
       "      <td>85</td>\n",
       "      <td>6</td>\n",
       "      <td>12</td>\n",
       "    </tr>\n",
       "    <tr>\n",
       "      <th>elite</th>\n",
       "      <td>2017,2018</td>\n",
       "      <td>2016,2017,2018</td>\n",
       "      <td>2015,2016,2017,2018</td>\n",
       "      <td></td>\n",
       "      <td>2016,2017</td>\n",
       "    </tr>\n",
       "    <tr>\n",
       "      <th>friends</th>\n",
       "      <td>ZJfwkdJMex21dGHfQ3YgTg, 603oDa3dGdJyfkq2RoH2Dw...</td>\n",
       "      <td>BBY1Alonk5V0OLgk_G0rNQ, TY7QgNKJEhvo1zCULlT9Rg...</td>\n",
       "      <td>bg2-7AvWq-vJs54NN0X-yQ, 697iJkhX1mkVF9RNhn114Q...</td>\n",
       "      <td>yUNU1KTKs4gzxBEuZWQg8Q, zHrHUdxKq7FEURYHusrtIw...</td>\n",
       "      <td>aE8OTrgaYpPZoRmBghRVJA, 4bxhIKz9ePWqD93UkEjnbg...</td>\n",
       "    </tr>\n",
       "    <tr>\n",
       "      <th>fans</th>\n",
       "      <td>1</td>\n",
       "      <td>9</td>\n",
       "      <td>6</td>\n",
       "      <td>0</td>\n",
       "      <td>7</td>\n",
       "    </tr>\n",
       "    <tr>\n",
       "      <th>average_stars</th>\n",
       "      <td>3.3</td>\n",
       "      <td>3.66</td>\n",
       "      <td>3.72</td>\n",
       "      <td>3.29</td>\n",
       "      <td>3.32</td>\n",
       "    </tr>\n",
       "    <tr>\n",
       "      <th>compliment_hot</th>\n",
       "      <td>0</td>\n",
       "      <td>5</td>\n",
       "      <td>3</td>\n",
       "      <td>0</td>\n",
       "      <td>1</td>\n",
       "    </tr>\n",
       "    <tr>\n",
       "      <th>compliment_more</th>\n",
       "      <td>0</td>\n",
       "      <td>2</td>\n",
       "      <td>0</td>\n",
       "      <td>0</td>\n",
       "      <td>3</td>\n",
       "    </tr>\n",
       "    <tr>\n",
       "      <th>compliment_profile</th>\n",
       "      <td>0</td>\n",
       "      <td>0</td>\n",
       "      <td>0</td>\n",
       "      <td>0</td>\n",
       "      <td>0</td>\n",
       "    </tr>\n",
       "    <tr>\n",
       "      <th>compliment_cute</th>\n",
       "      <td>0</td>\n",
       "      <td>0</td>\n",
       "      <td>0</td>\n",
       "      <td>1</td>\n",
       "      <td>2</td>\n",
       "    </tr>\n",
       "    <tr>\n",
       "      <th>compliment_list</th>\n",
       "      <td>0</td>\n",
       "      <td>0</td>\n",
       "      <td>0</td>\n",
       "      <td>0</td>\n",
       "      <td>0</td>\n",
       "    </tr>\n",
       "    <tr>\n",
       "      <th>compliment_note</th>\n",
       "      <td>1</td>\n",
       "      <td>6</td>\n",
       "      <td>3</td>\n",
       "      <td>0</td>\n",
       "      <td>5</td>\n",
       "    </tr>\n",
       "    <tr>\n",
       "      <th>compliment_plain</th>\n",
       "      <td>1</td>\n",
       "      <td>4</td>\n",
       "      <td>4</td>\n",
       "      <td>0</td>\n",
       "      <td>3</td>\n",
       "    </tr>\n",
       "    <tr>\n",
       "      <th>compliment_cool</th>\n",
       "      <td>5</td>\n",
       "      <td>5</td>\n",
       "      <td>8</td>\n",
       "      <td>1</td>\n",
       "      <td>1</td>\n",
       "    </tr>\n",
       "    <tr>\n",
       "      <th>compliment_funny</th>\n",
       "      <td>5</td>\n",
       "      <td>5</td>\n",
       "      <td>8</td>\n",
       "      <td>1</td>\n",
       "      <td>1</td>\n",
       "    </tr>\n",
       "    <tr>\n",
       "      <th>compliment_writer</th>\n",
       "      <td>3</td>\n",
       "      <td>10</td>\n",
       "      <td>10</td>\n",
       "      <td>0</td>\n",
       "      <td>3</td>\n",
       "    </tr>\n",
       "    <tr>\n",
       "      <th>compliment_photos</th>\n",
       "      <td>1</td>\n",
       "      <td>1</td>\n",
       "      <td>1</td>\n",
       "      <td>0</td>\n",
       "      <td>0</td>\n",
       "    </tr>\n",
       "  </tbody>\n",
       "</table>\n",
       "</div>"
      ],
      "text/plain": [
       "                                                                    0  ...                                                  4\n",
       "business_id                                    QXAEGFB4oINsVuTFxEYKFQ  ...                             QXAEGFB4oINsVuTFxEYKFQ\n",
       "name_x                                     Emerald Chinese Restaurant  ...                         Emerald Chinese Restaurant\n",
       "address                                          30 Eglinton Avenue W  ...                               30 Eglinton Avenue W\n",
       "city                                                      Mississauga  ...                                        Mississauga\n",
       "state                                                              ON  ...                                                 ON\n",
       "postal_code                                                   L5R 3E7  ...                                            L5R 3E7\n",
       "latitude                                                      43.6055  ...                                            43.6055\n",
       "longitude                                                    -79.6523  ...                                           -79.6523\n",
       "stars_x                                                           2.5  ...                                                2.5\n",
       "review_count_x                                                    128  ...                                                128\n",
       "is_open                                                             1  ...                                                  1\n",
       "attributes          {'RestaurantsReservations': 'True', 'GoodForMe...  ...  {'RestaurantsReservations': 'True', 'GoodForMe...\n",
       "categories          Specialty Food, Restaurants, Dim Sum, Imported...  ...  Specialty Food, Restaurants, Dim Sum, Imported...\n",
       "hours               {'Monday': '9:0-0:0', 'Tuesday': '9:0-0:0', 'W...  ...  {'Monday': '9:0-0:0', 'Tuesday': '9:0-0:0', 'W...\n",
       "cool_x                                                              0  ...                                                  0\n",
       "date                                              2017-01-27 21:54:30  ...                                2015-02-17 00:10:02\n",
       "funny_x                                                             2  ...                                                  0\n",
       "review_id                                      6W0MQHmasK0IsaoDo4bmkw  ...                             TD5E5NTFqgi1LPbTLlRCjQ\n",
       "stars_y                                                             3  ...                                                  3\n",
       "text                My girlfriend and I went for dinner at Emerald...  ...  We chose this restaurant for our Chinese New Y...\n",
       "useful_x                                                            3  ...                                                  0\n",
       "user_id                                        2K62MJ4CJ19L8Tp5pRfjfQ  ...                             -ga7pQvnJcMB1_pIapHQRQ\n",
       "word_count                                                        238  ...                                                 79\n",
       "char_count                                                       1475  ...                                                409\n",
       "avg_word                                                      5.01653  ...                                            4.18987\n",
       "hashtags                                                            0  ...                                                  0\n",
       "stopwords                                                          84  ...                                                 33\n",
       "numerics                                                            1  ...                                                  0\n",
       "text length                                                      1475  ...                                                409\n",
       "name_y                                                          David  ...                                              Tracy\n",
       "review_count_y                                                     57  ...                                                 73\n",
       "yelping_since                                     2014-11-27 22:36:00  ...                                2014-02-23 15:07:46\n",
       "useful_y                                                           58  ...                                                 58\n",
       "funny_y                                                            22  ...                                                 18\n",
       "cool_y                                                             20  ...                                                 12\n",
       "elite                                                       2017,2018  ...                                          2016,2017\n",
       "friends             ZJfwkdJMex21dGHfQ3YgTg, 603oDa3dGdJyfkq2RoH2Dw...  ...  aE8OTrgaYpPZoRmBghRVJA, 4bxhIKz9ePWqD93UkEjnbg...\n",
       "fans                                                                1  ...                                                  7\n",
       "average_stars                                                     3.3  ...                                               3.32\n",
       "compliment_hot                                                      0  ...                                                  1\n",
       "compliment_more                                                     0  ...                                                  3\n",
       "compliment_profile                                                  0  ...                                                  0\n",
       "compliment_cute                                                     0  ...                                                  2\n",
       "compliment_list                                                     0  ...                                                  0\n",
       "compliment_note                                                     1  ...                                                  5\n",
       "compliment_plain                                                    1  ...                                                  3\n",
       "compliment_cool                                                     5  ...                                                  1\n",
       "compliment_funny                                                    5  ...                                                  1\n",
       "compliment_writer                                                   3  ...                                                  3\n",
       "compliment_photos                                                   1  ...                                                  0\n",
       "\n",
       "[50 rows x 5 columns]"
      ]
     },
     "execution_count": 115,
     "metadata": {
      "tags": []
     },
     "output_type": "execute_result"
    }
   ],
   "source": [
    "complete_df.head().T\n"
   ]
  },
  {
   "cell_type": "code",
   "execution_count": 116,
   "metadata": {
    "colab": {
     "base_uri": "https://localhost:8080/",
     "height": 787
    },
    "colab_type": "code",
    "executionInfo": {
     "elapsed": 1640388,
     "status": "ok",
     "timestamp": 1575246230434,
     "user": {
      "displayName": "Abhi Patodi",
      "photoUrl": "",
      "userId": "08749657629535720878"
     },
     "user_tz": 300
    },
    "id": "joprPmfwmlKr",
    "outputId": "9f8670a7-4e6e-4b8d-fe96-1fd30f2a05d5"
   },
   "outputs": [
    {
     "data": {
      "text/html": [
       "<div>\n",
       "<style scoped>\n",
       "    .dataframe tbody tr th:only-of-type {\n",
       "        vertical-align: middle;\n",
       "    }\n",
       "\n",
       "    .dataframe tbody tr th {\n",
       "        vertical-align: top;\n",
       "    }\n",
       "\n",
       "    .dataframe thead th {\n",
       "        text-align: right;\n",
       "    }\n",
       "</style>\n",
       "<table border=\"1\" class=\"dataframe\">\n",
       "  <thead>\n",
       "    <tr style=\"text-align: right;\">\n",
       "      <th></th>\n",
       "      <th>name_x</th>\n",
       "      <th>business_id</th>\n",
       "      <th>categories</th>\n",
       "      <th>text</th>\n",
       "    </tr>\n",
       "  </thead>\n",
       "  <tbody>\n",
       "    <tr>\n",
       "      <th>0</th>\n",
       "      <td>Emerald Chinese Restaurant</td>\n",
       "      <td>QXAEGFB4oINsVuTFxEYKFQ</td>\n",
       "      <td>Specialty Food, Restaurants, Dim Sum, Imported...</td>\n",
       "      <td>My girlfriend and I went for dinner at Emerald...</td>\n",
       "    </tr>\n",
       "    <tr>\n",
       "      <th>1</th>\n",
       "      <td>Emerald Chinese Restaurant</td>\n",
       "      <td>QXAEGFB4oINsVuTFxEYKFQ</td>\n",
       "      <td>Specialty Food, Restaurants, Dim Sum, Imported...</td>\n",
       "      <td>We've always been there on a Sunday so we were...</td>\n",
       "    </tr>\n",
       "    <tr>\n",
       "      <th>2</th>\n",
       "      <td>Emerald Chinese Restaurant</td>\n",
       "      <td>QXAEGFB4oINsVuTFxEYKFQ</td>\n",
       "      <td>Specialty Food, Restaurants, Dim Sum, Imported...</td>\n",
       "      <td>***No automatic doors, not baby friendly!*** I...</td>\n",
       "    </tr>\n",
       "    <tr>\n",
       "      <th>3</th>\n",
       "      <td>Emerald Chinese Restaurant</td>\n",
       "      <td>QXAEGFB4oINsVuTFxEYKFQ</td>\n",
       "      <td>Specialty Food, Restaurants, Dim Sum, Imported...</td>\n",
       "      <td>One of the gauges of a good Chinese restaurant...</td>\n",
       "    </tr>\n",
       "    <tr>\n",
       "      <th>4</th>\n",
       "      <td>Emerald Chinese Restaurant</td>\n",
       "      <td>QXAEGFB4oINsVuTFxEYKFQ</td>\n",
       "      <td>Specialty Food, Restaurants, Dim Sum, Imported...</td>\n",
       "      <td>We chose this restaurant for our Chinese New Y...</td>\n",
       "    </tr>\n",
       "    <tr>\n",
       "      <th>5</th>\n",
       "      <td>Emerald Chinese Restaurant</td>\n",
       "      <td>QXAEGFB4oINsVuTFxEYKFQ</td>\n",
       "      <td>Specialty Food, Restaurants, Dim Sum, Imported...</td>\n",
       "      <td>I went at 230 on a Monday. It was dimsum \\n\\nI...</td>\n",
       "    </tr>\n",
       "    <tr>\n",
       "      <th>6</th>\n",
       "      <td>Emerald Chinese Restaurant</td>\n",
       "      <td>QXAEGFB4oINsVuTFxEYKFQ</td>\n",
       "      <td>Specialty Food, Restaurants, Dim Sum, Imported...</td>\n",
       "      <td>My family and I were at Emerald yesterday duri...</td>\n",
       "    </tr>\n",
       "    <tr>\n",
       "      <th>7</th>\n",
       "      <td>Emerald Chinese Restaurant</td>\n",
       "      <td>QXAEGFB4oINsVuTFxEYKFQ</td>\n",
       "      <td>Specialty Food, Restaurants, Dim Sum, Imported...</td>\n",
       "      <td>Because we are in Mississauga, I think this pl...</td>\n",
       "    </tr>\n",
       "    <tr>\n",
       "      <th>8</th>\n",
       "      <td>Emerald Chinese Restaurant</td>\n",
       "      <td>QXAEGFB4oINsVuTFxEYKFQ</td>\n",
       "      <td>Specialty Food, Restaurants, Dim Sum, Imported...</td>\n",
       "      <td>Whenever I go here on the weekend, this place ...</td>\n",
       "    </tr>\n",
       "    <tr>\n",
       "      <th>9</th>\n",
       "      <td>Emerald Chinese Restaurant</td>\n",
       "      <td>QXAEGFB4oINsVuTFxEYKFQ</td>\n",
       "      <td>Specialty Food, Restaurants, Dim Sum, Imported...</td>\n",
       "      <td>Came on a weekday morning with bf to avoid the...</td>\n",
       "    </tr>\n",
       "    <tr>\n",
       "      <th>10</th>\n",
       "      <td>Emerald Chinese Restaurant</td>\n",
       "      <td>QXAEGFB4oINsVuTFxEYKFQ</td>\n",
       "      <td>Specialty Food, Restaurants, Dim Sum, Imported...</td>\n",
       "      <td>Despite the poor service here, my family comes...</td>\n",
       "    </tr>\n",
       "    <tr>\n",
       "      <th>11</th>\n",
       "      <td>Emerald Chinese Restaurant</td>\n",
       "      <td>QXAEGFB4oINsVuTFxEYKFQ</td>\n",
       "      <td>Specialty Food, Restaurants, Dim Sum, Imported...</td>\n",
       "      <td>The dimsum here is actually alright. Food was ...</td>\n",
       "    </tr>\n",
       "    <tr>\n",
       "      <th>12</th>\n",
       "      <td>Emerald Chinese Restaurant</td>\n",
       "      <td>QXAEGFB4oINsVuTFxEYKFQ</td>\n",
       "      <td>Specialty Food, Restaurants, Dim Sum, Imported...</td>\n",
       "      <td>This is one of the few bigger chinese restaura...</td>\n",
       "    </tr>\n",
       "    <tr>\n",
       "      <th>13</th>\n",
       "      <td>Emerald Chinese Restaurant</td>\n",
       "      <td>QXAEGFB4oINsVuTFxEYKFQ</td>\n",
       "      <td>Specialty Food, Restaurants, Dim Sum, Imported...</td>\n",
       "      <td>Good dim sum, not too expensive, out in Missis...</td>\n",
       "    </tr>\n",
       "    <tr>\n",
       "      <th>14</th>\n",
       "      <td>Rowe Farms</td>\n",
       "      <td>ye1gbuPLx4eJSSzpPOUMfQ</td>\n",
       "      <td>Specialty Food, Grocery, Meat Shops, Food</td>\n",
       "      <td>This review is just for the bacon... I love th...</td>\n",
       "    </tr>\n",
       "    <tr>\n",
       "      <th>15</th>\n",
       "      <td>Emerald Chinese Restaurant</td>\n",
       "      <td>QXAEGFB4oINsVuTFxEYKFQ</td>\n",
       "      <td>Specialty Food, Restaurants, Dim Sum, Imported...</td>\n",
       "      <td>Traditional and authentic Dim Sum!!! I couldn'...</td>\n",
       "    </tr>\n",
       "    <tr>\n",
       "      <th>16</th>\n",
       "      <td>Emerald Chinese Restaurant</td>\n",
       "      <td>QXAEGFB4oINsVuTFxEYKFQ</td>\n",
       "      <td>Specialty Food, Restaurants, Dim Sum, Imported...</td>\n",
       "      <td>This is the second time I've ever been here an...</td>\n",
       "    </tr>\n",
       "    <tr>\n",
       "      <th>17</th>\n",
       "      <td>Emerald Chinese Restaurant</td>\n",
       "      <td>QXAEGFB4oINsVuTFxEYKFQ</td>\n",
       "      <td>Specialty Food, Restaurants, Dim Sum, Imported...</td>\n",
       "      <td>Food is really good, the place is super busy d...</td>\n",
       "    </tr>\n",
       "    <tr>\n",
       "      <th>18</th>\n",
       "      <td>Emerald Chinese Restaurant</td>\n",
       "      <td>QXAEGFB4oINsVuTFxEYKFQ</td>\n",
       "      <td>Specialty Food, Restaurants, Dim Sum, Imported...</td>\n",
       "      <td>We saw that the rating was not that high, but ...</td>\n",
       "    </tr>\n",
       "    <tr>\n",
       "      <th>19</th>\n",
       "      <td>Emerald Chinese Restaurant</td>\n",
       "      <td>QXAEGFB4oINsVuTFxEYKFQ</td>\n",
       "      <td>Specialty Food, Restaurants, Dim Sum, Imported...</td>\n",
       "      <td>My family(15+ ppl) and I came yesterday to cel...</td>\n",
       "    </tr>\n",
       "    <tr>\n",
       "      <th>20</th>\n",
       "      <td>Emerald Chinese Restaurant</td>\n",
       "      <td>QXAEGFB4oINsVuTFxEYKFQ</td>\n",
       "      <td>Specialty Food, Restaurants, Dim Sum, Imported...</td>\n",
       "      <td>I would say Emeralds has worsen over a period ...</td>\n",
       "    </tr>\n",
       "    <tr>\n",
       "      <th>21</th>\n",
       "      <td>Taco Bell</td>\n",
       "      <td>1Dfx3zM-rW4n-31KeC8sJg</td>\n",
       "      <td>Restaurants, Breakfast &amp; Brunch, Mexican, Taco...</td>\n",
       "      <td>I mean it's Taco Bell, so it is what it is. Ho...</td>\n",
       "    </tr>\n",
       "    <tr>\n",
       "      <th>22</th>\n",
       "      <td>32 Shea</td>\n",
       "      <td>qQCsLGMncJp1xWUGnOKCQA</td>\n",
       "      <td>Nightlife, Food, Restaurants, Beer, Wine &amp; Spi...</td>\n",
       "      <td>The restaurant has been sold, so I will reserv...</td>\n",
       "    </tr>\n",
       "    <tr>\n",
       "      <th>23</th>\n",
       "      <td>Taco Bell</td>\n",
       "      <td>1Dfx3zM-rW4n-31KeC8sJg</td>\n",
       "      <td>Restaurants, Breakfast &amp; Brunch, Mexican, Taco...</td>\n",
       "      <td>1 star for service, but the food is not ok :( ...</td>\n",
       "    </tr>\n",
       "    <tr>\n",
       "      <th>24</th>\n",
       "      <td>Marathon Diner</td>\n",
       "      <td>1RHY4K3BD22FK7Cfftn8Mg</td>\n",
       "      <td>Sandwiches, Salad, Restaurants, Burgers, Comfo...</td>\n",
       "      <td>Marathon Diner may not look fancy, but I had t...</td>\n",
       "    </tr>\n",
       "  </tbody>\n",
       "</table>\n",
       "</div>"
      ],
      "text/plain": [
       "                        name_x  ...                                               text\n",
       "0   Emerald Chinese Restaurant  ...  My girlfriend and I went for dinner at Emerald...\n",
       "1   Emerald Chinese Restaurant  ...  We've always been there on a Sunday so we were...\n",
       "2   Emerald Chinese Restaurant  ...  ***No automatic doors, not baby friendly!*** I...\n",
       "3   Emerald Chinese Restaurant  ...  One of the gauges of a good Chinese restaurant...\n",
       "4   Emerald Chinese Restaurant  ...  We chose this restaurant for our Chinese New Y...\n",
       "5   Emerald Chinese Restaurant  ...  I went at 230 on a Monday. It was dimsum \\n\\nI...\n",
       "6   Emerald Chinese Restaurant  ...  My family and I were at Emerald yesterday duri...\n",
       "7   Emerald Chinese Restaurant  ...  Because we are in Mississauga, I think this pl...\n",
       "8   Emerald Chinese Restaurant  ...  Whenever I go here on the weekend, this place ...\n",
       "9   Emerald Chinese Restaurant  ...  Came on a weekday morning with bf to avoid the...\n",
       "10  Emerald Chinese Restaurant  ...  Despite the poor service here, my family comes...\n",
       "11  Emerald Chinese Restaurant  ...  The dimsum here is actually alright. Food was ...\n",
       "12  Emerald Chinese Restaurant  ...  This is one of the few bigger chinese restaura...\n",
       "13  Emerald Chinese Restaurant  ...  Good dim sum, not too expensive, out in Missis...\n",
       "14                  Rowe Farms  ...  This review is just for the bacon... I love th...\n",
       "15  Emerald Chinese Restaurant  ...  Traditional and authentic Dim Sum!!! I couldn'...\n",
       "16  Emerald Chinese Restaurant  ...  This is the second time I've ever been here an...\n",
       "17  Emerald Chinese Restaurant  ...  Food is really good, the place is super busy d...\n",
       "18  Emerald Chinese Restaurant  ...  We saw that the rating was not that high, but ...\n",
       "19  Emerald Chinese Restaurant  ...  My family(15+ ppl) and I came yesterday to cel...\n",
       "20  Emerald Chinese Restaurant  ...  I would say Emeralds has worsen over a period ...\n",
       "21                   Taco Bell  ...  I mean it's Taco Bell, so it is what it is. Ho...\n",
       "22                     32 Shea  ...  The restaurant has been sold, so I will reserv...\n",
       "23                   Taco Bell  ...  1 star for service, but the food is not ok :( ...\n",
       "24              Marathon Diner  ...  Marathon Diner may not look fancy, but I had t...\n",
       "\n",
       "[25 rows x 4 columns]"
      ]
     },
     "execution_count": 116,
     "metadata": {
      "tags": []
     },
     "output_type": "execute_result"
    }
   ],
   "source": [
    "# taking only required columns\n",
    "new_df = complete_df[['name_x', 'business_id', 'categories', 'text']]\n",
    "new_df.head(25)"
   ]
  },
  {
   "cell_type": "code",
   "execution_count": 117,
   "metadata": {
    "colab": {
     "base_uri": "https://localhost:8080/",
     "height": 70
    },
    "colab_type": "code",
    "executionInfo": {
     "elapsed": 1640385,
     "status": "ok",
     "timestamp": 1575246230435,
     "user": {
      "displayName": "Abhi Patodi",
      "photoUrl": "",
      "userId": "08749657629535720878"
     },
     "user_tz": 300
    },
    "id": "h1j2_uq9mqaK",
    "outputId": "2d6a367f-d8e2-401e-ad81-76f5fcfd7378"
   },
   "outputs": [
    {
     "data": {
      "text/plain": [
       "array(['Emerald Chinese Restaurant', 'Rowe Farms', 'Taco Bell', ...,\n",
       "       'Wine Warehouse', 'Kneaders Bakery and Cafe Chandler',\n",
       "       'Les Thés David'], dtype=object)"
      ]
     },
     "execution_count": 117,
     "metadata": {
      "tags": []
     },
     "output_type": "execute_result"
    }
   ],
   "source": [
    "new_df['name_x'].unique()"
   ]
  },
  {
   "cell_type": "code",
   "execution_count": 0,
   "metadata": {
    "colab": {},
    "colab_type": "code",
    "id": "__RUiX4omqeM"
   },
   "outputs": [],
   "source": [
    "# Computing the vectorisation of review text by fitting and transforming it\n",
    "tf = TfidfVectorizer(analyzer='word',ngram_range=(1, 2),min_df=0, stop_words='english')\n",
    "tfidf_matrix = tf.fit_transform(new_df['text'])"
   ]
  },
  {
   "cell_type": "code",
   "execution_count": 119,
   "metadata": {
    "colab": {
     "base_uri": "https://localhost:8080/",
     "height": 34
    },
    "colab_type": "code",
    "executionInfo": {
     "elapsed": 1644673,
     "status": "ok",
     "timestamp": 1575246234731,
     "user": {
      "displayName": "Abhi Patodi",
      "photoUrl": "",
      "userId": "08749657629535720878"
     },
     "user_tz": 300
    },
    "id": "XHyTueWMmqjR",
    "outputId": "bd13a5f0-6564-4d04-ba73-1b17a220ae66"
   },
   "outputs": [
    {
     "data": {
      "text/plain": [
       "(16946, 539667)"
      ]
     },
     "execution_count": 119,
     "metadata": {
      "tags": []
     },
     "output_type": "execute_result"
    }
   ],
   "source": [
    "# Let us look at the shape of the matrix\n",
    "tfidf_matrix.shape"
   ]
  },
  {
   "cell_type": "code",
   "execution_count": 0,
   "metadata": {
    "colab": {},
    "colab_type": "code",
    "id": "jcAcdcZ6m-CD"
   },
   "outputs": [],
   "source": [
    "# Let us now compute the cosine similarity for the computed matrix consisting of businesses\n",
    "cosine_sim = linear_kernel(tfidf_matrix, tfidf_matrix)"
   ]
  },
  {
   "cell_type": "code",
   "execution_count": 121,
   "metadata": {
    "colab": {
     "base_uri": "https://localhost:8080/",
     "height": 52
    },
    "colab_type": "code",
    "executionInfo": {
     "elapsed": 1654391,
     "status": "ok",
     "timestamp": 1575246244457,
     "user": {
      "displayName": "Abhi Patodi",
      "photoUrl": "",
      "userId": "08749657629535720878"
     },
     "user_tz": 300
    },
    "id": "OTfUVuE8m-Eh",
    "outputId": "81d85722-4d6b-4d6a-d3fa-bae8daadba3a"
   },
   "outputs": [
    {
     "data": {
      "text/plain": [
       "array([1.        , 0.00708426, 0.02453538, ..., 0.00165362, 0.0079861 ,\n",
       "       0.00339356])"
      ]
     },
     "execution_count": 121,
     "metadata": {
      "tags": []
     },
     "output_type": "execute_result"
    }
   ],
   "source": [
    "# Let us look for the similarity score for first business\n",
    "cosine_sim[0]"
   ]
  },
  {
   "cell_type": "markdown",
   "metadata": {
    "colab_type": "text",
    "id": "RZG-b8UdnIId"
   },
   "source": [
    "We now have a pairwise cosine similarity matrix for all the businesses in our dataset. The next step is to write a function that returns the 10 most similar businesses based on the cosine similarity score."
   ]
  },
  {
   "cell_type": "code",
   "execution_count": 0,
   "metadata": {
    "colab": {},
    "colab_type": "code",
    "id": "52Cyni-SnHWX"
   },
   "outputs": [],
   "source": [
    "# function that returns top 10 most similar businesses based on cosine similarity scores\n",
    "new_df = new_df.reset_index()\n",
    "name_x = new_df['name_x']\n",
    "indices = pd.Series(new_df.index, index=new_df['name_x'])"
   ]
  },
  {
   "cell_type": "code",
   "execution_count": 123,
   "metadata": {
    "colab": {
     "base_uri": "https://localhost:8080/",
     "height": 34
    },
    "colab_type": "code",
    "executionInfo": {
     "elapsed": 1654384,
     "status": "ok",
     "timestamp": 1575246244458,
     "user": {
      "displayName": "Abhi Patodi",
      "photoUrl": "",
      "userId": "08749657629535720878"
     },
     "user_tz": 300
    },
    "id": "3RsnTyHNQkiC",
    "outputId": "5cd49206-81bd-4d68-fcfe-9d2ed7f31858"
   },
   "outputs": [
    {
     "data": {
      "text/plain": [
       "['a', 'Andrew', 'from', 'is', 'string', 'string', 'test', 'This']"
      ]
     },
     "execution_count": 123,
     "metadata": {
      "tags": []
     },
     "output_type": "execute_result"
    }
   ],
   "source": [
    "# val = lambda x: x[1]\n",
    "# print(val('Taco Bell'))\n",
    "\n",
    "sorted(\"This is a test string string from Andrew\".split(), key=str.lower)"
   ]
  },
  {
   "cell_type": "code",
   "execution_count": 0,
   "metadata": {
    "colab": {},
    "colab_type": "code",
    "id": "lSpLYWOFm-Ia"
   },
   "outputs": [],
   "source": [
    "def get_recommendations(name_x,cosine_sim=cosine_sim):\n",
    "    idx = indices[name_x]\n",
    "    # print(idx)\n",
    "    sim_scores = list(enumerate(cosine_sim[idx]))\n",
    "    # print(sim_scores)\n",
    "    # sim_scores = sorted(sim_scores, key=lambda x: x[1], reverse=True)\n",
    "    # print(sim_scores)\n",
    "    sim_scores = sim_scores[:-1]\n",
    "    # print(sim_scores)\n",
    "    restaurent_indices = [i[0] for i in sim_scores]\n",
    "    return new_df['name_x'].iloc[restaurent_indices]"
   ]
  },
  {
   "cell_type": "code",
   "execution_count": 125,
   "metadata": {
    "colab": {
     "base_uri": "https://localhost:8080/",
     "height": 70
    },
    "colab_type": "code",
    "executionInfo": {
     "elapsed": 1654379,
     "status": "ok",
     "timestamp": 1575246244460,
     "user": {
      "displayName": "Abhi Patodi",
      "photoUrl": "",
      "userId": "08749657629535720878"
     },
     "user_tz": 300
    },
    "id": "jcCXkmGZTEkk",
    "outputId": "d3fa843a-2f39-4cbf-f411-dae54bac1f19"
   },
   "outputs": [
    {
     "name": "stdout",
     "output_type": "stream",
     "text": [
      "------ Recommend Other Restaurant ------\n"
     ]
    },
    {
     "data": {
      "text/plain": [
       "0    Emerald Chinese Restaurant\n",
       "Name: name_x, dtype: object"
      ]
     },
     "execution_count": 125,
     "metadata": {
      "tags": []
     },
     "output_type": "execute_result"
    }
   ],
   "source": [
    "print(\"------ Recommend Other Restaurant ------\")\n",
    "get_recommendations('Wine Warehouse').head(10)"
   ]
  },
  {
   "cell_type": "markdown",
   "metadata": {
    "colab_type": "text",
    "id": "O069zV35oJm9"
   },
   "source": [
    "# **3. CONCLUSION**\n",
    "In the above notebook, we have researched about the user rating prediction using Natural Language Processing on the review text by training our model using Naive Bias Algorithm, SVM Classifier and Random Forest Classifier. \n",
    "\n",
    "We have also implemented recommendation system using user rating prediction on various models and recommendation techniques by computing both pearson_baseline and cosine similarity metrics."
   ]
  },
  {
   "cell_type": "markdown",
   "metadata": {
    "colab_type": "text",
    "id": "IVv1ptnjodUi"
   },
   "source": [
    "The MIT License\n",
    "Copyright 2019 Soumya Pandey, Abhi Patodi, Rashika Moza\n",
    "\n",
    "Permission is hereby granted, free of charge, to any person obtaining a copy of this software and associated documentation files (the \"Software\"), to deal in the Software without restriction, including without limitation the rights to use, copy, modify, merge, publish, distribute, sublicense, and/or sell copies of the Software, and to permit persons to whom the Software is furnished to do so, subject to the following conditions:\n",
    "\n",
    "The above copyright notice and this permission notice shall be included in all copies or substantial portions of the Software.\n",
    "\n",
    "THE SOFTWARE IS PROVIDED \"AS IS\", WITHOUT WARRANTY OF ANY KIND, EXPRESS OR IMPLIED, INCLUDING BUT NOT LIMITED TO THE WARRANTIES OF MERCHANTABILITY, FITNESS FOR A PARTICULAR PURPOSE AND NONINFRINGEMENT. IN NO EVENT SHALL THE AUTHORS OR COPYRIGHT HOLDERS BE LIABLE FOR ANY CLAIM, DAMAGES OR OTHER LIABILITY, WHETHER IN AN ACTION OF CONTRACT, TORT OR OTHERWISE, ARISING FROM, OUT OF OR IN CONNECTION WITH THE SOFTWARE OR THE USE OR OTHER DEALINGS IN THE SOFTWARE."
   ]
  }
 ],
 "metadata": {
  "accelerator": "GPU",
  "colab": {
   "collapsed_sections": [],
   "name": "Machine Learning.ipynb",
   "provenance": [],
   "toc_visible": true
  },
  "kernelspec": {
   "display_name": "Python 3",
   "language": "python",
   "name": "python3"
  },
  "language_info": {
   "codemirror_mode": {
    "name": "ipython",
    "version": 3
   },
   "file_extension": ".py",
   "mimetype": "text/x-python",
   "name": "python",
   "nbconvert_exporter": "python",
   "pygments_lexer": "ipython3",
   "version": "3.7.3"
  }
 },
 "nbformat": 4,
 "nbformat_minor": 1
}
